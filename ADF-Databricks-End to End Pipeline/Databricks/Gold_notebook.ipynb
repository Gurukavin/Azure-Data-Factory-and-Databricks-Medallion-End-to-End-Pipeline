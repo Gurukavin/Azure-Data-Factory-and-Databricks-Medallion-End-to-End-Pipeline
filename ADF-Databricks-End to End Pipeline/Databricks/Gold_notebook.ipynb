{
 "cells": [
  {
   "cell_type": "code",
   "execution_count": 0,
   "metadata": {
    "application/vnd.databricks.v1+cell": {
     "cellMetadata": {
      "byteLimit": 2048000,
      "rowLimit": 10000
     },
     "inputWidgets": {},
     "nuid": "3c4fd56d-a01e-4a83-a65f-d7f6f2d75f4b",
     "showTitle": false,
     "tableResultSettingsMap": {},
     "title": ""
    }
   },
   "outputs": [],
   "source": [
    "from pyspark.sql.functions import *"
   ]
  },
  {
   "cell_type": "code",
   "execution_count": 0,
   "metadata": {
    "application/vnd.databricks.v1+cell": {
     "cellMetadata": {
      "byteLimit": 2048000,
      "rowLimit": 10000
     },
     "inputWidgets": {},
     "nuid": "0d88dd04-b39b-4877-887c-00e0b4230b27",
     "showTitle": false,
     "tableResultSettingsMap": {},
     "title": ""
    }
   },
   "outputs": [],
   "source": []
  },
  {
   "cell_type": "code",
   "execution_count": 0,
   "metadata": {
    "application/vnd.databricks.v1+cell": {
     "cellMetadata": {
      "byteLimit": 2048000,
      "rowLimit": 10000
     },
     "inputWidgets": {},
     "nuid": "30836b9b-c742-44a6-a5bd-1c03e38d17a0",
     "showTitle": false,
     "tableResultSettingsMap": {},
     "title": ""
    }
   },
   "outputs": [],
   "source": [
    "dbutils.widgets.text(\"incremental_flag\",'0')"
   ]
  },
  {
   "cell_type": "code",
   "execution_count": 0,
   "metadata": {
    "application/vnd.databricks.v1+cell": {
     "cellMetadata": {
      "byteLimit": 2048000,
      "rowLimit": 10000
     },
     "inputWidgets": {},
     "nuid": "d9a4e1a3-1cd5-4418-9679-50095ace3518",
     "showTitle": false,
     "tableResultSettingsMap": {},
     "title": ""
    }
   },
   "outputs": [],
   "source": [
    "incremental_flag=(dbutils.widgets.get(\"incremental_flag\"))\n"
   ]
  },
  {
   "cell_type": "code",
   "execution_count": 0,
   "metadata": {
    "application/vnd.databricks.v1+cell": {
     "cellMetadata": {
      "byteLimit": 2048000,
      "implicitDf": true,
      "rowLimit": 10000
     },
     "inputWidgets": {},
     "nuid": "76ef4676-6d1c-4c33-830a-c44ab3187d03",
     "showTitle": false,
     "tableResultSettingsMap": {},
     "title": ""
    }
   },
   "outputs": [
    {
     "data": {
      "text/html": [
       "<style scoped>\n",
       "  .table-result-container {\n",
       "    max-height: 300px;\n",
       "    overflow: auto;\n",
       "  }\n",
       "  table, th, td {\n",
       "    border: 1px solid black;\n",
       "    border-collapse: collapse;\n",
       "  }\n",
       "  th, td {\n",
       "    padding: 5px;\n",
       "  }\n",
       "  th {\n",
       "    text-align: left;\n",
       "  }\n",
       "</style><div class='table-result-container'><table class='table-result'><thead style='background-color: white'><tr><th>Model_ID</th><th>Product_Name</th></tr></thead><tbody><tr><td>Mar-M137</td><td>Maruti Suzuki</td></tr><tr><td>BMW-M249</td><td>BMW</td></tr><tr><td>Lin-M27</td><td>Lincoln</td></tr><tr><td>Mer-M8</td><td>Mercedes-Benz</td></tr><tr><td>Che-M42</td><td>Chevrolet</td></tr><tr><td>Che-M48</td><td>Chevrolet</td></tr><tr><td>Tat-M190</td><td>Tata</td></tr><tr><td>Mit-M277</td><td>Mitsubishi</td></tr><tr><td>Che-M49</td><td>Chevrolet</td></tr><tr><td>Tat-M181</td><td>Tata</td></tr><tr><td>Hyu-M157</td><td>Hyundai</td></tr><tr><td>Cad-M34</td><td>Cadillac</td></tr><tr><td>Aud-M235</td><td>Audi</td></tr><tr><td>Mah-M166</td><td>Mahindra</td></tr><tr><td>Hon-M70</td><td>Honda</td></tr><tr><td>Ram-M14</td><td>Ram</td></tr><tr><td>Nis-M268</td><td>Nissan</td></tr><tr><td>Toy-M204</td><td>Toyota</td></tr><tr><td>Ren-M127</td><td>Renault</td></tr><tr><td>Toy-M105</td><td>Toyota</td></tr><tr><td>Mar-M140</td><td>Maruti Suzuki</td></tr><tr><td>Tat-M189</td><td>Tata</td></tr><tr><td>BMW-M3</td><td>BMW</td></tr><tr><td>Ren-M129</td><td>Renault</td></tr><tr><td>For-M25</td><td>Ford</td></tr><tr><td>Hyu-M74</td><td>Hyundai</td></tr><tr><td>BMW-M250</td><td>BMW</td></tr><tr><td>Hyu-M153</td><td>Hyundai</td></tr><tr><td>Nis-M263</td><td>Nissan</td></tr><tr><td>Mah-M178</td><td>Mahindra</td></tr><tr><td>Toy-M195</td><td>Toyota</td></tr><tr><td>Lin-M29</td><td>Lincoln</td></tr><tr><td>Toy-M206</td><td>Toyota</td></tr><tr><td>Sub-M95</td><td>Subaru</td></tr><tr><td>Nis-M265</td><td>Nissan</td></tr><tr><td>Peu-M126</td><td>Peugeot</td></tr><tr><td>Mer-M123</td><td>Mercedes-Benz</td></tr><tr><td>Kia-M76</td><td>Kia</td></tr><tr><td>Che-M44</td><td>Chevrolet</td></tr><tr><td>Acu-M59</td><td>Acura</td></tr><tr><td>Hyu-M155</td><td>Hyundai</td></tr><tr><td>Tat-M192</td><td>Tata</td></tr><tr><td>Lex-M99</td><td>Lexus</td></tr><tr><td>Nis-M267</td><td>Nissan</td></tr><tr><td>Mar-M147</td><td>Maruti Suzuki</td></tr><tr><td>Aud-M241</td><td>Audi</td></tr><tr><td>Aud-M231</td><td>Audi</td></tr><tr><td>Tat-M187</td><td>Tata</td></tr><tr><td>Hon-M120</td><td>Honda</td></tr><tr><td>Tat-M184</td><td>Tata</td></tr><tr><td>Tat-M186</td><td>Tata</td></tr><tr><td>Mar-M148</td><td>Maruti Suzuki</td></tr><tr><td>Toy-M106</td><td>Toyota</td></tr><tr><td>Aud-M232</td><td>Audi</td></tr><tr><td>For-M26</td><td>Ford</td></tr><tr><td>BMW-M4</td><td>BMW</td></tr><tr><td>Sko-M271</td><td>Skoda</td></tr><tr><td>Mar-M149</td><td>Maruti Suzuki</td></tr><tr><td>Che-M114</td><td>Chevrolet</td></tr><tr><td>Hyu-M156</td><td>Hyundai</td></tr><tr><td>Mit-M276</td><td>Mitsubishi</td></tr><tr><td>Aud-M229</td><td>Audi</td></tr><tr><td>Toy-M196</td><td>Toyota</td></tr><tr><td>Hyu-M75</td><td>Hyundai</td></tr><tr><td>Tat-M188</td><td>Tata</td></tr><tr><td>Toy-M203</td><td>Toyota</td></tr><tr><td>Toy-M101</td><td>Toyota</td></tr><tr><td>For-M23</td><td>Ford</td></tr><tr><td>Mar-M151</td><td>Maruti Suzuki</td></tr><tr><td>Nis-M81</td><td>Nissan</td></tr><tr><td>BMW-M242</td><td>BMW</td></tr><tr><td>Toy-M198</td><td>Toyota</td></tr><tr><td>Ren-M211</td><td>Renault</td></tr><tr><td>Vol-M135</td><td>Volkswagen</td></tr><tr><td>Vol-M136</td><td>Volkswagen</td></tr><tr><td>Hyu-M161</td><td>Hyundai</td></tr><tr><td>Cad-M32</td><td>Cadillac</td></tr><tr><td>Toy-M197</td><td>Toyota</td></tr><tr><td>Kia-M77</td><td>Kia</td></tr><tr><td>Mah-M172</td><td>Mahindra</td></tr><tr><td>Vol-M110</td><td>Volvo</td></tr><tr><td>BMW-M248</td><td>BMW</td></tr><tr><td>For-M21</td><td>Ford</td></tr><tr><td>Tat-M180</td><td>Tata</td></tr><tr><td>Lin-M30</td><td>Lincoln</td></tr><tr><td>Mah-M177</td><td>Mahindra</td></tr><tr><td>Aud-M238</td><td>Audi</td></tr><tr><td>GMC-M53</td><td>GMC</td></tr><tr><td>Nis-M82</td><td>Nissan</td></tr><tr><td>Tat-M182</td><td>Tata</td></tr><tr><td>Aud-M239</td><td>Audi</td></tr><tr><td>Hon-M216</td><td>Honda</td></tr><tr><td>Ren-M209</td><td>Renault</td></tr><tr><td>Mar-M141</td><td>Maruti Suzuki</td></tr><tr><td>Agr-M113</td><td>Agrale</td></tr><tr><td>Sub-M92</td><td>Subaru</td></tr><tr><td>Mah-M169</td><td>Mahindra</td></tr><tr><td>GMC-M55</td><td>GMC</td></tr><tr><td>BMW-M244</td><td>BMW</td></tr><tr><td>Nis-M262</td><td>Nissan</td></tr><tr><td>Kia-M78</td><td>Kia</td></tr><tr><td>Mah-M176</td><td>Mahindra</td></tr><tr><td>Ram-M15</td><td>Ram</td></tr><tr><td>Ren-M131</td><td>Renault</td></tr><tr><td>Mah-M171</td><td>Mahindra</td></tr><tr><td>Dod-M9</td><td>Dodge</td></tr><tr><td>Mah-M175</td><td>Mahindra</td></tr><tr><td>Jee-M10</td><td>Jeep</td></tr><tr><td>Toy-M202</td><td>Toyota</td></tr><tr><td>Hyu-M154</td><td>Hyundai</td></tr><tr><td>Hon-M68</td><td>Honda</td></tr><tr><td>Che-M50</td><td>Chevrolet</td></tr><tr><td>Agr-M111</td><td>Agrale</td></tr><tr><td>Mer-M122</td><td>Mercedes-Benz</td></tr><tr><td>Tes-M98</td><td>Tesla</td></tr><tr><td>Cit-M115</td><td>Citroën</td></tr><tr><td>Hon-M71</td><td>Honda</td></tr><tr><td>Nis-M261</td><td>Nissan</td></tr><tr><td>Che-M51</td><td>Chevrolet</td></tr><tr><td>Vol-M108</td><td>Volkswagen</td></tr><tr><td>Hyu-M159</td><td>Hyundai</td></tr><tr><td>For-M225</td><td>Ford</td></tr><tr><td>Riv-M91</td><td>Rivian</td></tr><tr><td>Mer-M7</td><td>Mercedes-Benz</td></tr><tr><td>Cad-M37</td><td>Cadillac</td></tr><tr><td>Sko-M273</td><td>Skoda</td></tr><tr><td>Jee-M254</td><td>Jeep</td></tr><tr><td>Vol-M257</td><td>Volkswagen</td></tr><tr><td>Vol-M258</td><td>Volkswagen</td></tr><tr><td>Fia-M117</td><td>Fiat</td></tr><tr><td>For-M226</td><td>Ford</td></tr><tr><td>MG-M252</td><td>MG</td></tr><tr><td>Mah-M174</td><td>Mahindra</td></tr><tr><td>Aud-M227</td><td>Audi</td></tr><tr><td>For-M222</td><td>Ford</td></tr><tr><td>Jee-M12</td><td>Jeep</td></tr><tr><td>Kia-M213</td><td>Kia</td></tr><tr><td>Cad-M33</td><td>Cadillac</td></tr><tr><td>Hon-M65</td><td>Honda</td></tr><tr><td>BMW-M1</td><td>BMW</td></tr><tr><td>Hyu-M162</td><td>Hyundai</td></tr><tr><td>BMW-M246</td><td>BMW</td></tr><tr><td>Toy-M200</td><td>Toyota</td></tr><tr><td>Toy-M205</td><td>Toyota</td></tr><tr><td>GMC-M58</td><td>GMC</td></tr><tr><td>Nis-M266</td><td>Nissan</td></tr><tr><td>Mar-M152</td><td>Maruti Suzuki</td></tr><tr><td>Che-M43</td><td>Chevrolet</td></tr><tr><td>Vol-M255</td><td>Volkswagen</td></tr><tr><td>Ren-M208</td><td>Renault</td></tr><tr><td>Cad-M36</td><td>Cadillac</td></tr><tr><td>Nis-M269</td><td>Nissan</td></tr><tr><td>BMW-M243</td><td>BMW</td></tr><tr><td>Jee-M13</td><td>Jeep</td></tr><tr><td>Hon-M69</td><td>Honda</td></tr><tr><td>Hyu-M163</td><td>Hyundai</td></tr><tr><td>Toy-M134</td><td>Toyota</td></tr><tr><td>Nis-M270</td><td>Nissan</td></tr><tr><td>Vol-M256</td><td>Volkswagen</td></tr><tr><td>Mer-M121</td><td>Mercedes-Benz</td></tr><tr><td>Tat-M185</td><td>Tata</td></tr><tr><td>MG-M251</td><td>MG</td></tr><tr><td>GMC-M54</td><td>GMC</td></tr><tr><td>For-M119</td><td>Ford</td></tr><tr><td>Hon-M219</td><td>Honda</td></tr><tr><td>For-M20</td><td>Ford</td></tr><tr><td>Aud-M233</td><td>Audi</td></tr><tr><td>Acu-M60</td><td>Acura</td></tr><tr><td>Hon-M217</td><td>Honda</td></tr><tr><td>Tes-M97</td><td>Tesla</td></tr><tr><td>Mar-M138</td><td>Maruti Suzuki</td></tr><tr><td>Che-M41</td><td>Chevrolet</td></tr><tr><td>Tat-M191</td><td>Tata</td></tr><tr><td>Toy-M102</td><td>Toyota</td></tr><tr><td>Nis-M87</td><td>Nissan</td></tr><tr><td>BMW-M2</td><td>BMW</td></tr><tr><td>GMC-M57</td><td>GMC</td></tr><tr><td>Peu-M124</td><td>Peugeot</td></tr><tr><td>GMC-M52</td><td>GMC</td></tr><tr><td>Hyu-M158</td><td>Hyundai</td></tr><tr><td>Vol-M260</td><td>Volkswagen</td></tr><tr><td>Nis-M86</td><td>Nissan</td></tr><tr><td>Toy-M201</td><td>Toyota</td></tr><tr><td>Hon-M66</td><td>Honda</td></tr><tr><td>Ren-M132</td><td>Renault</td></tr><tr><td>BMW-M5</td><td>BMW</td></tr><tr><td>Ren-M210</td><td>Renault</td></tr><tr><td>Acu-M63</td><td>Acura</td></tr><tr><td>Mah-M173</td><td>Mahindra</td></tr><tr><td>Tes-M96</td><td>Tesla</td></tr><tr><td>Nis-M88</td><td>Nissan</td></tr><tr><td>Tat-M183</td><td>Tata</td></tr><tr><td>Cad-M35</td><td>Cadillac</td></tr><tr><td>Hon-M215</td><td>Honda</td></tr><tr><td>Aud-M236</td><td>Audi</td></tr><tr><td>Mit-M275</td><td>Mitsubishi</td></tr><tr><td>Peu-M125</td><td>Peugeot</td></tr><tr><td>Vol-M259</td><td>Volkswagen</td></tr><tr><td>Nis-M84</td><td>Nissan</td></tr><tr><td>Tat-M179</td><td>Tata</td></tr><tr><td>For-M17</td><td>Ford</td></tr><tr><td>Tat-M193</td><td>Tata</td></tr><tr><td>GMC-M56</td><td>GMC</td></tr><tr><td>Aud-M228</td><td>Audi</td></tr><tr><td>Inf-M79</td><td>Infiniti</td></tr><tr><td>Hon-M64</td><td>Honda</td></tr><tr><td>Che-M46</td><td>Chevrolet</td></tr><tr><td>Mar-M144</td><td>Maruti Suzuki</td></tr><tr><td>For-M16</td><td>Ford</td></tr><tr><td>Nis-M85</td><td>Nissan</td></tr><tr><td>Aud-M237</td><td>Audi</td></tr><tr><td>Sub-M94</td><td>Subaru</td></tr><tr><td>Cad-M38</td><td>Cadillac</td></tr><tr><td>Nis-M83</td><td>Nissan</td></tr><tr><td>Kia-M214</td><td>Kia</td></tr><tr><td>Hyu-M72</td><td>Hyundai</td></tr><tr><td>Che-M47</td><td>Chevrolet</td></tr><tr><td>Mar-M145</td><td>Maruti Suzuki</td></tr><tr><td>Acu-M62</td><td>Acura</td></tr><tr><td>Che-M45</td><td>Chevrolet</td></tr><tr><td>Aud-M230</td><td>Audi</td></tr><tr><td>Mar-M143</td><td>Maruti Suzuki</td></tr><tr><td>Agr-M112</td><td>Agrale</td></tr><tr><td>Hon-M67</td><td>Honda</td></tr><tr><td>Mar-M150</td><td>Maruti Suzuki</td></tr><tr><td>Jee-M11</td><td>Jeep</td></tr><tr><td>Ren-M128</td><td>Renault</td></tr><tr><td>For-M18</td><td>Ford</td></tr><tr><td>Mar-M146</td><td>Maruti Suzuki</td></tr><tr><td>For-M19</td><td>Ford</td></tr><tr><td>Nis-M80</td><td>Nissan</td></tr><tr><td>Mar-M139</td><td>Maruti Suzuki</td></tr><tr><td>Che-M40</td><td>Chevrolet</td></tr><tr><td>Mah-M165</td><td>Mahindra</td></tr><tr><td>Toy-M199</td><td>Toyota</td></tr><tr><td>Cit-M116</td><td>Citroën</td></tr><tr><td>Cad-M39</td><td>Cadillac</td></tr><tr><td>Nis-M89</td><td>Nissan</td></tr><tr><td>Aud-M240</td><td>Audi</td></tr><tr><td>For-M24</td><td>Ford</td></tr><tr><td>Nis-M264</td><td>Nissan</td></tr><tr><td>Mer-M6</td><td>Mercedes-Benz</td></tr><tr><td>Bui-M31</td><td>Buick</td></tr><tr><td>Toy-M103</td><td>Toyota</td></tr><tr><td>Mah-M170</td><td>Mahindra</td></tr><tr><td>Ren-M130</td><td>Renault</td></tr><tr><td>Toy-M100</td><td>Toyota</td></tr><tr><td>BMW-M247</td><td>BMW</td></tr><tr><td>Ren-M207</td><td>Renault</td></tr><tr><td>Hon-M218</td><td>Honda</td></tr><tr><td>Lin-M28</td><td>Lincoln</td></tr><tr><td>Kia-M212</td><td>Kia</td></tr><tr><td>Tat-M194</td><td>Tata</td></tr><tr><td>Mah-M167</td><td>Mahindra</td></tr><tr><td>Acu-M61</td><td>Acura</td></tr><tr><td>Riv-M90</td><td>Rivian</td></tr><tr><td>Mar-M142</td><td>Maruti Suzuki</td></tr><tr><td>For-M221</td><td>Ford</td></tr><tr><td>Sko-M274</td><td>Skoda</td></tr><tr><td>Sub-M93</td><td>Subaru</td></tr><tr><td>For-M223</td><td>Ford</td></tr><tr><td>For-M22</td><td>Ford</td></tr><tr><td>Vol-M109</td><td>Volkswagen</td></tr><tr><td>Toy-M133</td><td>Toyota</td></tr><tr><td>For-M224</td><td>Ford</td></tr><tr><td>Sko-M272</td><td>Skoda</td></tr><tr><td>Hon-M220</td><td>Honda</td></tr><tr><td>Hyu-M164</td><td>Hyundai</td></tr><tr><td>Toy-M107</td><td>Toyota</td></tr><tr><td>Hyu-M160</td><td>Hyundai</td></tr><tr><td>Aud-M234</td><td>Audi</td></tr><tr><td>Fia-M118</td><td>Fiat</td></tr><tr><td>BMW-M245</td><td>BMW</td></tr><tr><td>Hyu-M73</td><td>Hyundai</td></tr><tr><td>Toy-M104</td><td>Toyota</td></tr><tr><td>Mah-M168</td><td>Mahindra</td></tr><tr><td>Jee-M253</td><td>Jeep</td></tr></tbody></table></div>"
      ]
     },
     "metadata": {
      "application/vnd.databricks.v1+output": {
       "addedWidgets": {},
       "aggData": [],
       "aggError": "",
       "aggOverflow": false,
       "aggSchema": [],
       "aggSeriesLimitReached": false,
       "aggType": "",
       "arguments": {},
       "columnCustomDisplayInfos": {},
       "data": [
        [
         "Mar-M137",
         "Maruti Suzuki"
        ],
        [
         "BMW-M249",
         "BMW"
        ],
        [
         "Lin-M27",
         "Lincoln"
        ],
        [
         "Mer-M8",
         "Mercedes-Benz"
        ],
        [
         "Che-M42",
         "Chevrolet"
        ],
        [
         "Che-M48",
         "Chevrolet"
        ],
        [
         "Tat-M190",
         "Tata"
        ],
        [
         "Mit-M277",
         "Mitsubishi"
        ],
        [
         "Che-M49",
         "Chevrolet"
        ],
        [
         "Tat-M181",
         "Tata"
        ],
        [
         "Hyu-M157",
         "Hyundai"
        ],
        [
         "Cad-M34",
         "Cadillac"
        ],
        [
         "Aud-M235",
         "Audi"
        ],
        [
         "Mah-M166",
         "Mahindra"
        ],
        [
         "Hon-M70",
         "Honda"
        ],
        [
         "Ram-M14",
         "Ram"
        ],
        [
         "Nis-M268",
         "Nissan"
        ],
        [
         "Toy-M204",
         "Toyota"
        ],
        [
         "Ren-M127",
         "Renault"
        ],
        [
         "Toy-M105",
         "Toyota"
        ],
        [
         "Mar-M140",
         "Maruti Suzuki"
        ],
        [
         "Tat-M189",
         "Tata"
        ],
        [
         "BMW-M3",
         "BMW"
        ],
        [
         "Ren-M129",
         "Renault"
        ],
        [
         "For-M25",
         "Ford"
        ],
        [
         "Hyu-M74",
         "Hyundai"
        ],
        [
         "BMW-M250",
         "BMW"
        ],
        [
         "Hyu-M153",
         "Hyundai"
        ],
        [
         "Nis-M263",
         "Nissan"
        ],
        [
         "Mah-M178",
         "Mahindra"
        ],
        [
         "Toy-M195",
         "Toyota"
        ],
        [
         "Lin-M29",
         "Lincoln"
        ],
        [
         "Toy-M206",
         "Toyota"
        ],
        [
         "Sub-M95",
         "Subaru"
        ],
        [
         "Nis-M265",
         "Nissan"
        ],
        [
         "Peu-M126",
         "Peugeot"
        ],
        [
         "Mer-M123",
         "Mercedes-Benz"
        ],
        [
         "Kia-M76",
         "Kia"
        ],
        [
         "Che-M44",
         "Chevrolet"
        ],
        [
         "Acu-M59",
         "Acura"
        ],
        [
         "Hyu-M155",
         "Hyundai"
        ],
        [
         "Tat-M192",
         "Tata"
        ],
        [
         "Lex-M99",
         "Lexus"
        ],
        [
         "Nis-M267",
         "Nissan"
        ],
        [
         "Mar-M147",
         "Maruti Suzuki"
        ],
        [
         "Aud-M241",
         "Audi"
        ],
        [
         "Aud-M231",
         "Audi"
        ],
        [
         "Tat-M187",
         "Tata"
        ],
        [
         "Hon-M120",
         "Honda"
        ],
        [
         "Tat-M184",
         "Tata"
        ],
        [
         "Tat-M186",
         "Tata"
        ],
        [
         "Mar-M148",
         "Maruti Suzuki"
        ],
        [
         "Toy-M106",
         "Toyota"
        ],
        [
         "Aud-M232",
         "Audi"
        ],
        [
         "For-M26",
         "Ford"
        ],
        [
         "BMW-M4",
         "BMW"
        ],
        [
         "Sko-M271",
         "Skoda"
        ],
        [
         "Mar-M149",
         "Maruti Suzuki"
        ],
        [
         "Che-M114",
         "Chevrolet"
        ],
        [
         "Hyu-M156",
         "Hyundai"
        ],
        [
         "Mit-M276",
         "Mitsubishi"
        ],
        [
         "Aud-M229",
         "Audi"
        ],
        [
         "Toy-M196",
         "Toyota"
        ],
        [
         "Hyu-M75",
         "Hyundai"
        ],
        [
         "Tat-M188",
         "Tata"
        ],
        [
         "Toy-M203",
         "Toyota"
        ],
        [
         "Toy-M101",
         "Toyota"
        ],
        [
         "For-M23",
         "Ford"
        ],
        [
         "Mar-M151",
         "Maruti Suzuki"
        ],
        [
         "Nis-M81",
         "Nissan"
        ],
        [
         "BMW-M242",
         "BMW"
        ],
        [
         "Toy-M198",
         "Toyota"
        ],
        [
         "Ren-M211",
         "Renault"
        ],
        [
         "Vol-M135",
         "Volkswagen"
        ],
        [
         "Vol-M136",
         "Volkswagen"
        ],
        [
         "Hyu-M161",
         "Hyundai"
        ],
        [
         "Cad-M32",
         "Cadillac"
        ],
        [
         "Toy-M197",
         "Toyota"
        ],
        [
         "Kia-M77",
         "Kia"
        ],
        [
         "Mah-M172",
         "Mahindra"
        ],
        [
         "Vol-M110",
         "Volvo"
        ],
        [
         "BMW-M248",
         "BMW"
        ],
        [
         "For-M21",
         "Ford"
        ],
        [
         "Tat-M180",
         "Tata"
        ],
        [
         "Lin-M30",
         "Lincoln"
        ],
        [
         "Mah-M177",
         "Mahindra"
        ],
        [
         "Aud-M238",
         "Audi"
        ],
        [
         "GMC-M53",
         "GMC"
        ],
        [
         "Nis-M82",
         "Nissan"
        ],
        [
         "Tat-M182",
         "Tata"
        ],
        [
         "Aud-M239",
         "Audi"
        ],
        [
         "Hon-M216",
         "Honda"
        ],
        [
         "Ren-M209",
         "Renault"
        ],
        [
         "Mar-M141",
         "Maruti Suzuki"
        ],
        [
         "Agr-M113",
         "Agrale"
        ],
        [
         "Sub-M92",
         "Subaru"
        ],
        [
         "Mah-M169",
         "Mahindra"
        ],
        [
         "GMC-M55",
         "GMC"
        ],
        [
         "BMW-M244",
         "BMW"
        ],
        [
         "Nis-M262",
         "Nissan"
        ],
        [
         "Kia-M78",
         "Kia"
        ],
        [
         "Mah-M176",
         "Mahindra"
        ],
        [
         "Ram-M15",
         "Ram"
        ],
        [
         "Ren-M131",
         "Renault"
        ],
        [
         "Mah-M171",
         "Mahindra"
        ],
        [
         "Dod-M9",
         "Dodge"
        ],
        [
         "Mah-M175",
         "Mahindra"
        ],
        [
         "Jee-M10",
         "Jeep"
        ],
        [
         "Toy-M202",
         "Toyota"
        ],
        [
         "Hyu-M154",
         "Hyundai"
        ],
        [
         "Hon-M68",
         "Honda"
        ],
        [
         "Che-M50",
         "Chevrolet"
        ],
        [
         "Agr-M111",
         "Agrale"
        ],
        [
         "Mer-M122",
         "Mercedes-Benz"
        ],
        [
         "Tes-M98",
         "Tesla"
        ],
        [
         "Cit-M115",
         "Citroën"
        ],
        [
         "Hon-M71",
         "Honda"
        ],
        [
         "Nis-M261",
         "Nissan"
        ],
        [
         "Che-M51",
         "Chevrolet"
        ],
        [
         "Vol-M108",
         "Volkswagen"
        ],
        [
         "Hyu-M159",
         "Hyundai"
        ],
        [
         "For-M225",
         "Ford"
        ],
        [
         "Riv-M91",
         "Rivian"
        ],
        [
         "Mer-M7",
         "Mercedes-Benz"
        ],
        [
         "Cad-M37",
         "Cadillac"
        ],
        [
         "Sko-M273",
         "Skoda"
        ],
        [
         "Jee-M254",
         "Jeep"
        ],
        [
         "Vol-M257",
         "Volkswagen"
        ],
        [
         "Vol-M258",
         "Volkswagen"
        ],
        [
         "Fia-M117",
         "Fiat"
        ],
        [
         "For-M226",
         "Ford"
        ],
        [
         "MG-M252",
         "MG"
        ],
        [
         "Mah-M174",
         "Mahindra"
        ],
        [
         "Aud-M227",
         "Audi"
        ],
        [
         "For-M222",
         "Ford"
        ],
        [
         "Jee-M12",
         "Jeep"
        ],
        [
         "Kia-M213",
         "Kia"
        ],
        [
         "Cad-M33",
         "Cadillac"
        ],
        [
         "Hon-M65",
         "Honda"
        ],
        [
         "BMW-M1",
         "BMW"
        ],
        [
         "Hyu-M162",
         "Hyundai"
        ],
        [
         "BMW-M246",
         "BMW"
        ],
        [
         "Toy-M200",
         "Toyota"
        ],
        [
         "Toy-M205",
         "Toyota"
        ],
        [
         "GMC-M58",
         "GMC"
        ],
        [
         "Nis-M266",
         "Nissan"
        ],
        [
         "Mar-M152",
         "Maruti Suzuki"
        ],
        [
         "Che-M43",
         "Chevrolet"
        ],
        [
         "Vol-M255",
         "Volkswagen"
        ],
        [
         "Ren-M208",
         "Renault"
        ],
        [
         "Cad-M36",
         "Cadillac"
        ],
        [
         "Nis-M269",
         "Nissan"
        ],
        [
         "BMW-M243",
         "BMW"
        ],
        [
         "Jee-M13",
         "Jeep"
        ],
        [
         "Hon-M69",
         "Honda"
        ],
        [
         "Hyu-M163",
         "Hyundai"
        ],
        [
         "Toy-M134",
         "Toyota"
        ],
        [
         "Nis-M270",
         "Nissan"
        ],
        [
         "Vol-M256",
         "Volkswagen"
        ],
        [
         "Mer-M121",
         "Mercedes-Benz"
        ],
        [
         "Tat-M185",
         "Tata"
        ],
        [
         "MG-M251",
         "MG"
        ],
        [
         "GMC-M54",
         "GMC"
        ],
        [
         "For-M119",
         "Ford"
        ],
        [
         "Hon-M219",
         "Honda"
        ],
        [
         "For-M20",
         "Ford"
        ],
        [
         "Aud-M233",
         "Audi"
        ],
        [
         "Acu-M60",
         "Acura"
        ],
        [
         "Hon-M217",
         "Honda"
        ],
        [
         "Tes-M97",
         "Tesla"
        ],
        [
         "Mar-M138",
         "Maruti Suzuki"
        ],
        [
         "Che-M41",
         "Chevrolet"
        ],
        [
         "Tat-M191",
         "Tata"
        ],
        [
         "Toy-M102",
         "Toyota"
        ],
        [
         "Nis-M87",
         "Nissan"
        ],
        [
         "BMW-M2",
         "BMW"
        ],
        [
         "GMC-M57",
         "GMC"
        ],
        [
         "Peu-M124",
         "Peugeot"
        ],
        [
         "GMC-M52",
         "GMC"
        ],
        [
         "Hyu-M158",
         "Hyundai"
        ],
        [
         "Vol-M260",
         "Volkswagen"
        ],
        [
         "Nis-M86",
         "Nissan"
        ],
        [
         "Toy-M201",
         "Toyota"
        ],
        [
         "Hon-M66",
         "Honda"
        ],
        [
         "Ren-M132",
         "Renault"
        ],
        [
         "BMW-M5",
         "BMW"
        ],
        [
         "Ren-M210",
         "Renault"
        ],
        [
         "Acu-M63",
         "Acura"
        ],
        [
         "Mah-M173",
         "Mahindra"
        ],
        [
         "Tes-M96",
         "Tesla"
        ],
        [
         "Nis-M88",
         "Nissan"
        ],
        [
         "Tat-M183",
         "Tata"
        ],
        [
         "Cad-M35",
         "Cadillac"
        ],
        [
         "Hon-M215",
         "Honda"
        ],
        [
         "Aud-M236",
         "Audi"
        ],
        [
         "Mit-M275",
         "Mitsubishi"
        ],
        [
         "Peu-M125",
         "Peugeot"
        ],
        [
         "Vol-M259",
         "Volkswagen"
        ],
        [
         "Nis-M84",
         "Nissan"
        ],
        [
         "Tat-M179",
         "Tata"
        ],
        [
         "For-M17",
         "Ford"
        ],
        [
         "Tat-M193",
         "Tata"
        ],
        [
         "GMC-M56",
         "GMC"
        ],
        [
         "Aud-M228",
         "Audi"
        ],
        [
         "Inf-M79",
         "Infiniti"
        ],
        [
         "Hon-M64",
         "Honda"
        ],
        [
         "Che-M46",
         "Chevrolet"
        ],
        [
         "Mar-M144",
         "Maruti Suzuki"
        ],
        [
         "For-M16",
         "Ford"
        ],
        [
         "Nis-M85",
         "Nissan"
        ],
        [
         "Aud-M237",
         "Audi"
        ],
        [
         "Sub-M94",
         "Subaru"
        ],
        [
         "Cad-M38",
         "Cadillac"
        ],
        [
         "Nis-M83",
         "Nissan"
        ],
        [
         "Kia-M214",
         "Kia"
        ],
        [
         "Hyu-M72",
         "Hyundai"
        ],
        [
         "Che-M47",
         "Chevrolet"
        ],
        [
         "Mar-M145",
         "Maruti Suzuki"
        ],
        [
         "Acu-M62",
         "Acura"
        ],
        [
         "Che-M45",
         "Chevrolet"
        ],
        [
         "Aud-M230",
         "Audi"
        ],
        [
         "Mar-M143",
         "Maruti Suzuki"
        ],
        [
         "Agr-M112",
         "Agrale"
        ],
        [
         "Hon-M67",
         "Honda"
        ],
        [
         "Mar-M150",
         "Maruti Suzuki"
        ],
        [
         "Jee-M11",
         "Jeep"
        ],
        [
         "Ren-M128",
         "Renault"
        ],
        [
         "For-M18",
         "Ford"
        ],
        [
         "Mar-M146",
         "Maruti Suzuki"
        ],
        [
         "For-M19",
         "Ford"
        ],
        [
         "Nis-M80",
         "Nissan"
        ],
        [
         "Mar-M139",
         "Maruti Suzuki"
        ],
        [
         "Che-M40",
         "Chevrolet"
        ],
        [
         "Mah-M165",
         "Mahindra"
        ],
        [
         "Toy-M199",
         "Toyota"
        ],
        [
         "Cit-M116",
         "Citroën"
        ],
        [
         "Cad-M39",
         "Cadillac"
        ],
        [
         "Nis-M89",
         "Nissan"
        ],
        [
         "Aud-M240",
         "Audi"
        ],
        [
         "For-M24",
         "Ford"
        ],
        [
         "Nis-M264",
         "Nissan"
        ],
        [
         "Mer-M6",
         "Mercedes-Benz"
        ],
        [
         "Bui-M31",
         "Buick"
        ],
        [
         "Toy-M103",
         "Toyota"
        ],
        [
         "Mah-M170",
         "Mahindra"
        ],
        [
         "Ren-M130",
         "Renault"
        ],
        [
         "Toy-M100",
         "Toyota"
        ],
        [
         "BMW-M247",
         "BMW"
        ],
        [
         "Ren-M207",
         "Renault"
        ],
        [
         "Hon-M218",
         "Honda"
        ],
        [
         "Lin-M28",
         "Lincoln"
        ],
        [
         "Kia-M212",
         "Kia"
        ],
        [
         "Tat-M194",
         "Tata"
        ],
        [
         "Mah-M167",
         "Mahindra"
        ],
        [
         "Acu-M61",
         "Acura"
        ],
        [
         "Riv-M90",
         "Rivian"
        ],
        [
         "Mar-M142",
         "Maruti Suzuki"
        ],
        [
         "For-M221",
         "Ford"
        ],
        [
         "Sko-M274",
         "Skoda"
        ],
        [
         "Sub-M93",
         "Subaru"
        ],
        [
         "For-M223",
         "Ford"
        ],
        [
         "For-M22",
         "Ford"
        ],
        [
         "Vol-M109",
         "Volkswagen"
        ],
        [
         "Toy-M133",
         "Toyota"
        ],
        [
         "For-M224",
         "Ford"
        ],
        [
         "Sko-M272",
         "Skoda"
        ],
        [
         "Hon-M220",
         "Honda"
        ],
        [
         "Hyu-M164",
         "Hyundai"
        ],
        [
         "Toy-M107",
         "Toyota"
        ],
        [
         "Hyu-M160",
         "Hyundai"
        ],
        [
         "Aud-M234",
         "Audi"
        ],
        [
         "Fia-M118",
         "Fiat"
        ],
        [
         "BMW-M245",
         "BMW"
        ],
        [
         "Hyu-M73",
         "Hyundai"
        ],
        [
         "Toy-M104",
         "Toyota"
        ],
        [
         "Mah-M168",
         "Mahindra"
        ],
        [
         "Jee-M253",
         "Jeep"
        ]
       ],
       "datasetInfos": [],
       "dbfsResultPath": null,
       "isJsonSchema": true,
       "metadata": {},
       "overflow": false,
       "plotOptions": {
        "customPlotOptions": {},
        "displayType": "table",
        "pivotAggregation": null,
        "pivotColumns": null,
        "xColumns": null,
        "yColumns": null
       },
       "removedWidgets": [],
       "schema": [
        {
         "metadata": "{}",
         "name": "Model_ID",
         "type": "\"string\""
        },
        {
         "metadata": "{}",
         "name": "Product_Name",
         "type": "\"string\""
        }
       ],
       "type": "table"
      }
     },
     "output_type": "display_data"
    }
   ],
   "source": [
    "df=spark.sql(\"select distinct(Model_ID) as Model_ID, Product_Name from parquet.`abfss://silver@gurustorageadf.dfs.core.windows.net/Silverclean`\")\n",
    "df.display()"
   ]
  },
  {
   "cell_type": "code",
   "execution_count": 0,
   "metadata": {
    "application/vnd.databricks.v1+cell": {
     "cellMetadata": {
      "byteLimit": 2048000,
      "rowLimit": 10000
     },
     "inputWidgets": {},
     "nuid": "07af575a-9d23-4ef3-9b4d-d987f6929b59",
     "showTitle": false,
     "tableResultSettingsMap": {},
     "title": ""
    }
   },
   "outputs": [],
   "source": [
    "if spark.catalog.tableExists('hive_metastore.default.dim_model'):\n",
    "    df_schema=spark.sql(\"select dim_model,(Model_ID) as Model_ID, Product_Name from hive_metastore.default.dim_model\")\n",
    "else:\n",
    "    df_schema=spark.sql(\"select 1 as dim_model,Model_ID as Model_ID, Product_Name from parquet.`abfss://silver@gurustorageadf.dfs.core.windows.net/Silverclean/silver_clean` where 1=0\")"
   ]
  },
  {
   "cell_type": "code",
   "execution_count": 0,
   "metadata": {
    "application/vnd.databricks.v1+cell": {
     "cellMetadata": {
      "byteLimit": 2048000,
      "rowLimit": 10000
     },
     "inputWidgets": {},
     "nuid": "b7110df5-ae4b-45d4-9b17-467cf50fe6fd",
     "showTitle": false,
     "tableResultSettingsMap": {},
     "title": ""
    }
   },
   "outputs": [
    {
     "data": {
      "text/html": [
       "<style scoped>\n",
       "  .table-result-container {\n",
       "    max-height: 300px;\n",
       "    overflow: auto;\n",
       "  }\n",
       "  table, th, td {\n",
       "    border: 1px solid black;\n",
       "    border-collapse: collapse;\n",
       "  }\n",
       "  th, td {\n",
       "    padding: 5px;\n",
       "  }\n",
       "  th {\n",
       "    text-align: left;\n",
       "  }\n",
       "</style><div class='table-result-container'><table class='table-result'><thead style='background-color: white'><tr><th>dim_model</th><th>Model_ID</th><th>Product_Name</th></tr></thead><tbody></tbody></table></div>"
      ]
     },
     "metadata": {
      "application/vnd.databricks.v1+output": {
       "addedWidgets": {},
       "aggData": [],
       "aggError": "",
       "aggOverflow": false,
       "aggSchema": [],
       "aggSeriesLimitReached": false,
       "aggType": "",
       "arguments": {},
       "columnCustomDisplayInfos": {},
       "data": [],
       "datasetInfos": [],
       "dbfsResultPath": null,
       "isJsonSchema": true,
       "metadata": {},
       "overflow": false,
       "plotOptions": {
        "customPlotOptions": {},
        "displayType": "table",
        "pivotAggregation": null,
        "pivotColumns": null,
        "xColumns": null,
        "yColumns": null
       },
       "removedWidgets": [],
       "schema": [
        {
         "metadata": "{}",
         "name": "dim_model",
         "type": "\"integer\""
        },
        {
         "metadata": "{}",
         "name": "Model_ID",
         "type": "\"string\""
        },
        {
         "metadata": "{}",
         "name": "Product_Name",
         "type": "\"string\""
        }
       ],
       "type": "table"
      }
     },
     "output_type": "display_data"
    }
   ],
   "source": [
    "df_schema.display()"
   ]
  },
  {
   "cell_type": "code",
   "execution_count": 0,
   "metadata": {
    "application/vnd.databricks.v1+cell": {
     "cellMetadata": {
      "byteLimit": 2048000,
      "rowLimit": 10000
     },
     "inputWidgets": {},
     "nuid": "30968d31-1893-40fb-8ec3-0be962a5becb",
     "showTitle": false,
     "tableResultSettingsMap": {},
     "title": ""
    }
   },
   "outputs": [
    {
     "data": {
      "text/html": [
       "<style scoped>\n",
       "  .table-result-container {\n",
       "    max-height: 300px;\n",
       "    overflow: auto;\n",
       "  }\n",
       "  table, th, td {\n",
       "    border: 1px solid black;\n",
       "    border-collapse: collapse;\n",
       "  }\n",
       "  th, td {\n",
       "    padding: 5px;\n",
       "  }\n",
       "  th {\n",
       "    text-align: left;\n",
       "  }\n",
       "</style><div class='table-result-container'><table class='table-result'><thead style='background-color: white'><tr><th>Model_ID</th><th>Product_Name</th><th>dim_model</th></tr></thead><tbody><tr><td>Mar-M137</td><td>Maruti Suzuki</td><td>null</td></tr><tr><td>BMW-M249</td><td>BMW</td><td>null</td></tr><tr><td>Lin-M27</td><td>Lincoln</td><td>null</td></tr><tr><td>Mer-M8</td><td>Mercedes-Benz</td><td>null</td></tr><tr><td>Che-M42</td><td>Chevrolet</td><td>null</td></tr><tr><td>Che-M48</td><td>Chevrolet</td><td>null</td></tr><tr><td>Tat-M190</td><td>Tata</td><td>null</td></tr><tr><td>Mit-M277</td><td>Mitsubishi</td><td>null</td></tr><tr><td>Che-M49</td><td>Chevrolet</td><td>null</td></tr><tr><td>Tat-M181</td><td>Tata</td><td>null</td></tr><tr><td>Hyu-M157</td><td>Hyundai</td><td>null</td></tr><tr><td>Cad-M34</td><td>Cadillac</td><td>null</td></tr><tr><td>Aud-M235</td><td>Audi</td><td>null</td></tr><tr><td>Mah-M166</td><td>Mahindra</td><td>null</td></tr><tr><td>Hon-M70</td><td>Honda</td><td>null</td></tr><tr><td>Ram-M14</td><td>Ram</td><td>null</td></tr><tr><td>Nis-M268</td><td>Nissan</td><td>null</td></tr><tr><td>Toy-M204</td><td>Toyota</td><td>null</td></tr><tr><td>Ren-M127</td><td>Renault</td><td>null</td></tr><tr><td>Toy-M105</td><td>Toyota</td><td>null</td></tr><tr><td>Mar-M140</td><td>Maruti Suzuki</td><td>null</td></tr><tr><td>Tat-M189</td><td>Tata</td><td>null</td></tr><tr><td>BMW-M3</td><td>BMW</td><td>null</td></tr><tr><td>Ren-M129</td><td>Renault</td><td>null</td></tr><tr><td>For-M25</td><td>Ford</td><td>null</td></tr><tr><td>Hyu-M74</td><td>Hyundai</td><td>null</td></tr><tr><td>BMW-M250</td><td>BMW</td><td>null</td></tr><tr><td>Hyu-M153</td><td>Hyundai</td><td>null</td></tr><tr><td>Nis-M263</td><td>Nissan</td><td>null</td></tr><tr><td>Mah-M178</td><td>Mahindra</td><td>null</td></tr><tr><td>Toy-M195</td><td>Toyota</td><td>null</td></tr><tr><td>Lin-M29</td><td>Lincoln</td><td>null</td></tr><tr><td>Toy-M206</td><td>Toyota</td><td>null</td></tr><tr><td>Sub-M95</td><td>Subaru</td><td>null</td></tr><tr><td>Nis-M265</td><td>Nissan</td><td>null</td></tr><tr><td>Peu-M126</td><td>Peugeot</td><td>null</td></tr><tr><td>Mer-M123</td><td>Mercedes-Benz</td><td>null</td></tr><tr><td>Kia-M76</td><td>Kia</td><td>null</td></tr><tr><td>Che-M44</td><td>Chevrolet</td><td>null</td></tr><tr><td>Acu-M59</td><td>Acura</td><td>null</td></tr><tr><td>Hyu-M155</td><td>Hyundai</td><td>null</td></tr><tr><td>Tat-M192</td><td>Tata</td><td>null</td></tr><tr><td>Lex-M99</td><td>Lexus</td><td>null</td></tr><tr><td>Nis-M267</td><td>Nissan</td><td>null</td></tr><tr><td>Mar-M147</td><td>Maruti Suzuki</td><td>null</td></tr><tr><td>Aud-M241</td><td>Audi</td><td>null</td></tr><tr><td>Aud-M231</td><td>Audi</td><td>null</td></tr><tr><td>Tat-M187</td><td>Tata</td><td>null</td></tr><tr><td>Hon-M120</td><td>Honda</td><td>null</td></tr><tr><td>Tat-M184</td><td>Tata</td><td>null</td></tr><tr><td>Tat-M186</td><td>Tata</td><td>null</td></tr><tr><td>Mar-M148</td><td>Maruti Suzuki</td><td>null</td></tr><tr><td>Toy-M106</td><td>Toyota</td><td>null</td></tr><tr><td>Aud-M232</td><td>Audi</td><td>null</td></tr><tr><td>For-M26</td><td>Ford</td><td>null</td></tr><tr><td>BMW-M4</td><td>BMW</td><td>null</td></tr><tr><td>Sko-M271</td><td>Skoda</td><td>null</td></tr><tr><td>Mar-M149</td><td>Maruti Suzuki</td><td>null</td></tr><tr><td>Che-M114</td><td>Chevrolet</td><td>null</td></tr><tr><td>Hyu-M156</td><td>Hyundai</td><td>null</td></tr><tr><td>Mit-M276</td><td>Mitsubishi</td><td>null</td></tr><tr><td>Aud-M229</td><td>Audi</td><td>null</td></tr><tr><td>Toy-M196</td><td>Toyota</td><td>null</td></tr><tr><td>Hyu-M75</td><td>Hyundai</td><td>null</td></tr><tr><td>Tat-M188</td><td>Tata</td><td>null</td></tr><tr><td>Toy-M203</td><td>Toyota</td><td>null</td></tr><tr><td>Toy-M101</td><td>Toyota</td><td>null</td></tr><tr><td>For-M23</td><td>Ford</td><td>null</td></tr><tr><td>Mar-M151</td><td>Maruti Suzuki</td><td>null</td></tr><tr><td>Nis-M81</td><td>Nissan</td><td>null</td></tr><tr><td>BMW-M242</td><td>BMW</td><td>null</td></tr><tr><td>Toy-M198</td><td>Toyota</td><td>null</td></tr><tr><td>Ren-M211</td><td>Renault</td><td>null</td></tr><tr><td>Vol-M135</td><td>Volkswagen</td><td>null</td></tr><tr><td>Vol-M136</td><td>Volkswagen</td><td>null</td></tr><tr><td>Hyu-M161</td><td>Hyundai</td><td>null</td></tr><tr><td>Cad-M32</td><td>Cadillac</td><td>null</td></tr><tr><td>Toy-M197</td><td>Toyota</td><td>null</td></tr><tr><td>Kia-M77</td><td>Kia</td><td>null</td></tr><tr><td>Mah-M172</td><td>Mahindra</td><td>null</td></tr><tr><td>Vol-M110</td><td>Volvo</td><td>null</td></tr><tr><td>BMW-M248</td><td>BMW</td><td>null</td></tr><tr><td>For-M21</td><td>Ford</td><td>null</td></tr><tr><td>Tat-M180</td><td>Tata</td><td>null</td></tr><tr><td>Lin-M30</td><td>Lincoln</td><td>null</td></tr><tr><td>Mah-M177</td><td>Mahindra</td><td>null</td></tr><tr><td>Aud-M238</td><td>Audi</td><td>null</td></tr><tr><td>GMC-M53</td><td>GMC</td><td>null</td></tr><tr><td>Nis-M82</td><td>Nissan</td><td>null</td></tr><tr><td>Tat-M182</td><td>Tata</td><td>null</td></tr><tr><td>Aud-M239</td><td>Audi</td><td>null</td></tr><tr><td>Hon-M216</td><td>Honda</td><td>null</td></tr><tr><td>Ren-M209</td><td>Renault</td><td>null</td></tr><tr><td>Mar-M141</td><td>Maruti Suzuki</td><td>null</td></tr><tr><td>Agr-M113</td><td>Agrale</td><td>null</td></tr><tr><td>Sub-M92</td><td>Subaru</td><td>null</td></tr><tr><td>Mah-M169</td><td>Mahindra</td><td>null</td></tr><tr><td>GMC-M55</td><td>GMC</td><td>null</td></tr><tr><td>BMW-M244</td><td>BMW</td><td>null</td></tr><tr><td>Nis-M262</td><td>Nissan</td><td>null</td></tr><tr><td>Kia-M78</td><td>Kia</td><td>null</td></tr><tr><td>Mah-M176</td><td>Mahindra</td><td>null</td></tr><tr><td>Ram-M15</td><td>Ram</td><td>null</td></tr><tr><td>Ren-M131</td><td>Renault</td><td>null</td></tr><tr><td>Mah-M171</td><td>Mahindra</td><td>null</td></tr><tr><td>Dod-M9</td><td>Dodge</td><td>null</td></tr><tr><td>Mah-M175</td><td>Mahindra</td><td>null</td></tr><tr><td>Jee-M10</td><td>Jeep</td><td>null</td></tr><tr><td>Toy-M202</td><td>Toyota</td><td>null</td></tr><tr><td>Hyu-M154</td><td>Hyundai</td><td>null</td></tr><tr><td>Hon-M68</td><td>Honda</td><td>null</td></tr><tr><td>Che-M50</td><td>Chevrolet</td><td>null</td></tr><tr><td>Agr-M111</td><td>Agrale</td><td>null</td></tr><tr><td>Mer-M122</td><td>Mercedes-Benz</td><td>null</td></tr><tr><td>Tes-M98</td><td>Tesla</td><td>null</td></tr><tr><td>Cit-M115</td><td>Citroën</td><td>null</td></tr><tr><td>Hon-M71</td><td>Honda</td><td>null</td></tr><tr><td>Nis-M261</td><td>Nissan</td><td>null</td></tr><tr><td>Che-M51</td><td>Chevrolet</td><td>null</td></tr><tr><td>Vol-M108</td><td>Volkswagen</td><td>null</td></tr><tr><td>Hyu-M159</td><td>Hyundai</td><td>null</td></tr><tr><td>For-M225</td><td>Ford</td><td>null</td></tr><tr><td>Riv-M91</td><td>Rivian</td><td>null</td></tr><tr><td>Mer-M7</td><td>Mercedes-Benz</td><td>null</td></tr><tr><td>Cad-M37</td><td>Cadillac</td><td>null</td></tr><tr><td>Sko-M273</td><td>Skoda</td><td>null</td></tr><tr><td>Jee-M254</td><td>Jeep</td><td>null</td></tr><tr><td>Vol-M257</td><td>Volkswagen</td><td>null</td></tr><tr><td>Vol-M258</td><td>Volkswagen</td><td>null</td></tr><tr><td>Fia-M117</td><td>Fiat</td><td>null</td></tr><tr><td>For-M226</td><td>Ford</td><td>null</td></tr><tr><td>MG-M252</td><td>MG</td><td>null</td></tr><tr><td>Mah-M174</td><td>Mahindra</td><td>null</td></tr><tr><td>Aud-M227</td><td>Audi</td><td>null</td></tr><tr><td>For-M222</td><td>Ford</td><td>null</td></tr><tr><td>Jee-M12</td><td>Jeep</td><td>null</td></tr><tr><td>Kia-M213</td><td>Kia</td><td>null</td></tr><tr><td>Cad-M33</td><td>Cadillac</td><td>null</td></tr><tr><td>Hon-M65</td><td>Honda</td><td>null</td></tr><tr><td>BMW-M1</td><td>BMW</td><td>null</td></tr><tr><td>Hyu-M162</td><td>Hyundai</td><td>null</td></tr><tr><td>BMW-M246</td><td>BMW</td><td>null</td></tr><tr><td>Toy-M200</td><td>Toyota</td><td>null</td></tr><tr><td>Toy-M205</td><td>Toyota</td><td>null</td></tr><tr><td>GMC-M58</td><td>GMC</td><td>null</td></tr><tr><td>Nis-M266</td><td>Nissan</td><td>null</td></tr><tr><td>Mar-M152</td><td>Maruti Suzuki</td><td>null</td></tr><tr><td>Che-M43</td><td>Chevrolet</td><td>null</td></tr><tr><td>Vol-M255</td><td>Volkswagen</td><td>null</td></tr><tr><td>Ren-M208</td><td>Renault</td><td>null</td></tr><tr><td>Cad-M36</td><td>Cadillac</td><td>null</td></tr><tr><td>Nis-M269</td><td>Nissan</td><td>null</td></tr><tr><td>BMW-M243</td><td>BMW</td><td>null</td></tr><tr><td>Jee-M13</td><td>Jeep</td><td>null</td></tr><tr><td>Hon-M69</td><td>Honda</td><td>null</td></tr><tr><td>Hyu-M163</td><td>Hyundai</td><td>null</td></tr><tr><td>Toy-M134</td><td>Toyota</td><td>null</td></tr><tr><td>Nis-M270</td><td>Nissan</td><td>null</td></tr><tr><td>Vol-M256</td><td>Volkswagen</td><td>null</td></tr><tr><td>Mer-M121</td><td>Mercedes-Benz</td><td>null</td></tr><tr><td>Tat-M185</td><td>Tata</td><td>null</td></tr><tr><td>MG-M251</td><td>MG</td><td>null</td></tr><tr><td>GMC-M54</td><td>GMC</td><td>null</td></tr><tr><td>For-M119</td><td>Ford</td><td>null</td></tr><tr><td>Hon-M219</td><td>Honda</td><td>null</td></tr><tr><td>For-M20</td><td>Ford</td><td>null</td></tr><tr><td>Aud-M233</td><td>Audi</td><td>null</td></tr><tr><td>Acu-M60</td><td>Acura</td><td>null</td></tr><tr><td>Hon-M217</td><td>Honda</td><td>null</td></tr><tr><td>Tes-M97</td><td>Tesla</td><td>null</td></tr><tr><td>Mar-M138</td><td>Maruti Suzuki</td><td>null</td></tr><tr><td>Che-M41</td><td>Chevrolet</td><td>null</td></tr><tr><td>Tat-M191</td><td>Tata</td><td>null</td></tr><tr><td>Toy-M102</td><td>Toyota</td><td>null</td></tr><tr><td>Nis-M87</td><td>Nissan</td><td>null</td></tr><tr><td>BMW-M2</td><td>BMW</td><td>null</td></tr><tr><td>GMC-M57</td><td>GMC</td><td>null</td></tr><tr><td>Peu-M124</td><td>Peugeot</td><td>null</td></tr><tr><td>GMC-M52</td><td>GMC</td><td>null</td></tr><tr><td>Hyu-M158</td><td>Hyundai</td><td>null</td></tr><tr><td>Vol-M260</td><td>Volkswagen</td><td>null</td></tr><tr><td>Nis-M86</td><td>Nissan</td><td>null</td></tr><tr><td>Toy-M201</td><td>Toyota</td><td>null</td></tr><tr><td>Hon-M66</td><td>Honda</td><td>null</td></tr><tr><td>Ren-M132</td><td>Renault</td><td>null</td></tr><tr><td>BMW-M5</td><td>BMW</td><td>null</td></tr><tr><td>Ren-M210</td><td>Renault</td><td>null</td></tr><tr><td>Acu-M63</td><td>Acura</td><td>null</td></tr><tr><td>Mah-M173</td><td>Mahindra</td><td>null</td></tr><tr><td>Tes-M96</td><td>Tesla</td><td>null</td></tr><tr><td>Nis-M88</td><td>Nissan</td><td>null</td></tr><tr><td>Tat-M183</td><td>Tata</td><td>null</td></tr><tr><td>Cad-M35</td><td>Cadillac</td><td>null</td></tr><tr><td>Hon-M215</td><td>Honda</td><td>null</td></tr><tr><td>Aud-M236</td><td>Audi</td><td>null</td></tr><tr><td>Mit-M275</td><td>Mitsubishi</td><td>null</td></tr><tr><td>Peu-M125</td><td>Peugeot</td><td>null</td></tr><tr><td>Vol-M259</td><td>Volkswagen</td><td>null</td></tr><tr><td>Nis-M84</td><td>Nissan</td><td>null</td></tr><tr><td>Tat-M179</td><td>Tata</td><td>null</td></tr><tr><td>For-M17</td><td>Ford</td><td>null</td></tr><tr><td>Tat-M193</td><td>Tata</td><td>null</td></tr><tr><td>GMC-M56</td><td>GMC</td><td>null</td></tr><tr><td>Aud-M228</td><td>Audi</td><td>null</td></tr><tr><td>Inf-M79</td><td>Infiniti</td><td>null</td></tr><tr><td>Hon-M64</td><td>Honda</td><td>null</td></tr><tr><td>Che-M46</td><td>Chevrolet</td><td>null</td></tr><tr><td>Mar-M144</td><td>Maruti Suzuki</td><td>null</td></tr><tr><td>For-M16</td><td>Ford</td><td>null</td></tr><tr><td>Nis-M85</td><td>Nissan</td><td>null</td></tr><tr><td>Aud-M237</td><td>Audi</td><td>null</td></tr><tr><td>Sub-M94</td><td>Subaru</td><td>null</td></tr><tr><td>Cad-M38</td><td>Cadillac</td><td>null</td></tr><tr><td>Nis-M83</td><td>Nissan</td><td>null</td></tr><tr><td>Kia-M214</td><td>Kia</td><td>null</td></tr><tr><td>Hyu-M72</td><td>Hyundai</td><td>null</td></tr><tr><td>Che-M47</td><td>Chevrolet</td><td>null</td></tr><tr><td>Mar-M145</td><td>Maruti Suzuki</td><td>null</td></tr><tr><td>Acu-M62</td><td>Acura</td><td>null</td></tr><tr><td>Che-M45</td><td>Chevrolet</td><td>null</td></tr><tr><td>Aud-M230</td><td>Audi</td><td>null</td></tr><tr><td>Mar-M143</td><td>Maruti Suzuki</td><td>null</td></tr><tr><td>Agr-M112</td><td>Agrale</td><td>null</td></tr><tr><td>Hon-M67</td><td>Honda</td><td>null</td></tr><tr><td>Mar-M150</td><td>Maruti Suzuki</td><td>null</td></tr><tr><td>Jee-M11</td><td>Jeep</td><td>null</td></tr><tr><td>Ren-M128</td><td>Renault</td><td>null</td></tr><tr><td>For-M18</td><td>Ford</td><td>null</td></tr><tr><td>Mar-M146</td><td>Maruti Suzuki</td><td>null</td></tr><tr><td>For-M19</td><td>Ford</td><td>null</td></tr><tr><td>Nis-M80</td><td>Nissan</td><td>null</td></tr><tr><td>Mar-M139</td><td>Maruti Suzuki</td><td>null</td></tr><tr><td>Che-M40</td><td>Chevrolet</td><td>null</td></tr><tr><td>Mah-M165</td><td>Mahindra</td><td>null</td></tr><tr><td>Toy-M199</td><td>Toyota</td><td>null</td></tr><tr><td>Cit-M116</td><td>Citroën</td><td>null</td></tr><tr><td>Cad-M39</td><td>Cadillac</td><td>null</td></tr><tr><td>Nis-M89</td><td>Nissan</td><td>null</td></tr><tr><td>Aud-M240</td><td>Audi</td><td>null</td></tr><tr><td>For-M24</td><td>Ford</td><td>null</td></tr><tr><td>Nis-M264</td><td>Nissan</td><td>null</td></tr><tr><td>Mer-M6</td><td>Mercedes-Benz</td><td>null</td></tr><tr><td>Bui-M31</td><td>Buick</td><td>null</td></tr><tr><td>Toy-M103</td><td>Toyota</td><td>null</td></tr><tr><td>Mah-M170</td><td>Mahindra</td><td>null</td></tr><tr><td>Ren-M130</td><td>Renault</td><td>null</td></tr><tr><td>Toy-M100</td><td>Toyota</td><td>null</td></tr><tr><td>BMW-M247</td><td>BMW</td><td>null</td></tr><tr><td>Ren-M207</td><td>Renault</td><td>null</td></tr><tr><td>Hon-M218</td><td>Honda</td><td>null</td></tr><tr><td>Lin-M28</td><td>Lincoln</td><td>null</td></tr><tr><td>Kia-M212</td><td>Kia</td><td>null</td></tr><tr><td>Tat-M194</td><td>Tata</td><td>null</td></tr><tr><td>Mah-M167</td><td>Mahindra</td><td>null</td></tr><tr><td>Acu-M61</td><td>Acura</td><td>null</td></tr><tr><td>Riv-M90</td><td>Rivian</td><td>null</td></tr><tr><td>Mar-M142</td><td>Maruti Suzuki</td><td>null</td></tr><tr><td>For-M221</td><td>Ford</td><td>null</td></tr><tr><td>Sko-M274</td><td>Skoda</td><td>null</td></tr><tr><td>Sub-M93</td><td>Subaru</td><td>null</td></tr><tr><td>For-M223</td><td>Ford</td><td>null</td></tr><tr><td>For-M22</td><td>Ford</td><td>null</td></tr><tr><td>Vol-M109</td><td>Volkswagen</td><td>null</td></tr><tr><td>Toy-M133</td><td>Toyota</td><td>null</td></tr><tr><td>For-M224</td><td>Ford</td><td>null</td></tr><tr><td>Sko-M272</td><td>Skoda</td><td>null</td></tr><tr><td>Hon-M220</td><td>Honda</td><td>null</td></tr><tr><td>Hyu-M164</td><td>Hyundai</td><td>null</td></tr><tr><td>Toy-M107</td><td>Toyota</td><td>null</td></tr><tr><td>Hyu-M160</td><td>Hyundai</td><td>null</td></tr><tr><td>Aud-M234</td><td>Audi</td><td>null</td></tr><tr><td>Fia-M118</td><td>Fiat</td><td>null</td></tr><tr><td>BMW-M245</td><td>BMW</td><td>null</td></tr><tr><td>Hyu-M73</td><td>Hyundai</td><td>null</td></tr><tr><td>Toy-M104</td><td>Toyota</td><td>null</td></tr><tr><td>Mah-M168</td><td>Mahindra</td><td>null</td></tr><tr><td>Jee-M253</td><td>Jeep</td><td>null</td></tr></tbody></table></div>"
      ]
     },
     "metadata": {
      "application/vnd.databricks.v1+output": {
       "addedWidgets": {},
       "aggData": [],
       "aggError": "",
       "aggOverflow": false,
       "aggSchema": [],
       "aggSeriesLimitReached": false,
       "aggType": "",
       "arguments": {},
       "columnCustomDisplayInfos": {},
       "data": [
        [
         "Mar-M137",
         "Maruti Suzuki",
         null
        ],
        [
         "BMW-M249",
         "BMW",
         null
        ],
        [
         "Lin-M27",
         "Lincoln",
         null
        ],
        [
         "Mer-M8",
         "Mercedes-Benz",
         null
        ],
        [
         "Che-M42",
         "Chevrolet",
         null
        ],
        [
         "Che-M48",
         "Chevrolet",
         null
        ],
        [
         "Tat-M190",
         "Tata",
         null
        ],
        [
         "Mit-M277",
         "Mitsubishi",
         null
        ],
        [
         "Che-M49",
         "Chevrolet",
         null
        ],
        [
         "Tat-M181",
         "Tata",
         null
        ],
        [
         "Hyu-M157",
         "Hyundai",
         null
        ],
        [
         "Cad-M34",
         "Cadillac",
         null
        ],
        [
         "Aud-M235",
         "Audi",
         null
        ],
        [
         "Mah-M166",
         "Mahindra",
         null
        ],
        [
         "Hon-M70",
         "Honda",
         null
        ],
        [
         "Ram-M14",
         "Ram",
         null
        ],
        [
         "Nis-M268",
         "Nissan",
         null
        ],
        [
         "Toy-M204",
         "Toyota",
         null
        ],
        [
         "Ren-M127",
         "Renault",
         null
        ],
        [
         "Toy-M105",
         "Toyota",
         null
        ],
        [
         "Mar-M140",
         "Maruti Suzuki",
         null
        ],
        [
         "Tat-M189",
         "Tata",
         null
        ],
        [
         "BMW-M3",
         "BMW",
         null
        ],
        [
         "Ren-M129",
         "Renault",
         null
        ],
        [
         "For-M25",
         "Ford",
         null
        ],
        [
         "Hyu-M74",
         "Hyundai",
         null
        ],
        [
         "BMW-M250",
         "BMW",
         null
        ],
        [
         "Hyu-M153",
         "Hyundai",
         null
        ],
        [
         "Nis-M263",
         "Nissan",
         null
        ],
        [
         "Mah-M178",
         "Mahindra",
         null
        ],
        [
         "Toy-M195",
         "Toyota",
         null
        ],
        [
         "Lin-M29",
         "Lincoln",
         null
        ],
        [
         "Toy-M206",
         "Toyota",
         null
        ],
        [
         "Sub-M95",
         "Subaru",
         null
        ],
        [
         "Nis-M265",
         "Nissan",
         null
        ],
        [
         "Peu-M126",
         "Peugeot",
         null
        ],
        [
         "Mer-M123",
         "Mercedes-Benz",
         null
        ],
        [
         "Kia-M76",
         "Kia",
         null
        ],
        [
         "Che-M44",
         "Chevrolet",
         null
        ],
        [
         "Acu-M59",
         "Acura",
         null
        ],
        [
         "Hyu-M155",
         "Hyundai",
         null
        ],
        [
         "Tat-M192",
         "Tata",
         null
        ],
        [
         "Lex-M99",
         "Lexus",
         null
        ],
        [
         "Nis-M267",
         "Nissan",
         null
        ],
        [
         "Mar-M147",
         "Maruti Suzuki",
         null
        ],
        [
         "Aud-M241",
         "Audi",
         null
        ],
        [
         "Aud-M231",
         "Audi",
         null
        ],
        [
         "Tat-M187",
         "Tata",
         null
        ],
        [
         "Hon-M120",
         "Honda",
         null
        ],
        [
         "Tat-M184",
         "Tata",
         null
        ],
        [
         "Tat-M186",
         "Tata",
         null
        ],
        [
         "Mar-M148",
         "Maruti Suzuki",
         null
        ],
        [
         "Toy-M106",
         "Toyota",
         null
        ],
        [
         "Aud-M232",
         "Audi",
         null
        ],
        [
         "For-M26",
         "Ford",
         null
        ],
        [
         "BMW-M4",
         "BMW",
         null
        ],
        [
         "Sko-M271",
         "Skoda",
         null
        ],
        [
         "Mar-M149",
         "Maruti Suzuki",
         null
        ],
        [
         "Che-M114",
         "Chevrolet",
         null
        ],
        [
         "Hyu-M156",
         "Hyundai",
         null
        ],
        [
         "Mit-M276",
         "Mitsubishi",
         null
        ],
        [
         "Aud-M229",
         "Audi",
         null
        ],
        [
         "Toy-M196",
         "Toyota",
         null
        ],
        [
         "Hyu-M75",
         "Hyundai",
         null
        ],
        [
         "Tat-M188",
         "Tata",
         null
        ],
        [
         "Toy-M203",
         "Toyota",
         null
        ],
        [
         "Toy-M101",
         "Toyota",
         null
        ],
        [
         "For-M23",
         "Ford",
         null
        ],
        [
         "Mar-M151",
         "Maruti Suzuki",
         null
        ],
        [
         "Nis-M81",
         "Nissan",
         null
        ],
        [
         "BMW-M242",
         "BMW",
         null
        ],
        [
         "Toy-M198",
         "Toyota",
         null
        ],
        [
         "Ren-M211",
         "Renault",
         null
        ],
        [
         "Vol-M135",
         "Volkswagen",
         null
        ],
        [
         "Vol-M136",
         "Volkswagen",
         null
        ],
        [
         "Hyu-M161",
         "Hyundai",
         null
        ],
        [
         "Cad-M32",
         "Cadillac",
         null
        ],
        [
         "Toy-M197",
         "Toyota",
         null
        ],
        [
         "Kia-M77",
         "Kia",
         null
        ],
        [
         "Mah-M172",
         "Mahindra",
         null
        ],
        [
         "Vol-M110",
         "Volvo",
         null
        ],
        [
         "BMW-M248",
         "BMW",
         null
        ],
        [
         "For-M21",
         "Ford",
         null
        ],
        [
         "Tat-M180",
         "Tata",
         null
        ],
        [
         "Lin-M30",
         "Lincoln",
         null
        ],
        [
         "Mah-M177",
         "Mahindra",
         null
        ],
        [
         "Aud-M238",
         "Audi",
         null
        ],
        [
         "GMC-M53",
         "GMC",
         null
        ],
        [
         "Nis-M82",
         "Nissan",
         null
        ],
        [
         "Tat-M182",
         "Tata",
         null
        ],
        [
         "Aud-M239",
         "Audi",
         null
        ],
        [
         "Hon-M216",
         "Honda",
         null
        ],
        [
         "Ren-M209",
         "Renault",
         null
        ],
        [
         "Mar-M141",
         "Maruti Suzuki",
         null
        ],
        [
         "Agr-M113",
         "Agrale",
         null
        ],
        [
         "Sub-M92",
         "Subaru",
         null
        ],
        [
         "Mah-M169",
         "Mahindra",
         null
        ],
        [
         "GMC-M55",
         "GMC",
         null
        ],
        [
         "BMW-M244",
         "BMW",
         null
        ],
        [
         "Nis-M262",
         "Nissan",
         null
        ],
        [
         "Kia-M78",
         "Kia",
         null
        ],
        [
         "Mah-M176",
         "Mahindra",
         null
        ],
        [
         "Ram-M15",
         "Ram",
         null
        ],
        [
         "Ren-M131",
         "Renault",
         null
        ],
        [
         "Mah-M171",
         "Mahindra",
         null
        ],
        [
         "Dod-M9",
         "Dodge",
         null
        ],
        [
         "Mah-M175",
         "Mahindra",
         null
        ],
        [
         "Jee-M10",
         "Jeep",
         null
        ],
        [
         "Toy-M202",
         "Toyota",
         null
        ],
        [
         "Hyu-M154",
         "Hyundai",
         null
        ],
        [
         "Hon-M68",
         "Honda",
         null
        ],
        [
         "Che-M50",
         "Chevrolet",
         null
        ],
        [
         "Agr-M111",
         "Agrale",
         null
        ],
        [
         "Mer-M122",
         "Mercedes-Benz",
         null
        ],
        [
         "Tes-M98",
         "Tesla",
         null
        ],
        [
         "Cit-M115",
         "Citroën",
         null
        ],
        [
         "Hon-M71",
         "Honda",
         null
        ],
        [
         "Nis-M261",
         "Nissan",
         null
        ],
        [
         "Che-M51",
         "Chevrolet",
         null
        ],
        [
         "Vol-M108",
         "Volkswagen",
         null
        ],
        [
         "Hyu-M159",
         "Hyundai",
         null
        ],
        [
         "For-M225",
         "Ford",
         null
        ],
        [
         "Riv-M91",
         "Rivian",
         null
        ],
        [
         "Mer-M7",
         "Mercedes-Benz",
         null
        ],
        [
         "Cad-M37",
         "Cadillac",
         null
        ],
        [
         "Sko-M273",
         "Skoda",
         null
        ],
        [
         "Jee-M254",
         "Jeep",
         null
        ],
        [
         "Vol-M257",
         "Volkswagen",
         null
        ],
        [
         "Vol-M258",
         "Volkswagen",
         null
        ],
        [
         "Fia-M117",
         "Fiat",
         null
        ],
        [
         "For-M226",
         "Ford",
         null
        ],
        [
         "MG-M252",
         "MG",
         null
        ],
        [
         "Mah-M174",
         "Mahindra",
         null
        ],
        [
         "Aud-M227",
         "Audi",
         null
        ],
        [
         "For-M222",
         "Ford",
         null
        ],
        [
         "Jee-M12",
         "Jeep",
         null
        ],
        [
         "Kia-M213",
         "Kia",
         null
        ],
        [
         "Cad-M33",
         "Cadillac",
         null
        ],
        [
         "Hon-M65",
         "Honda",
         null
        ],
        [
         "BMW-M1",
         "BMW",
         null
        ],
        [
         "Hyu-M162",
         "Hyundai",
         null
        ],
        [
         "BMW-M246",
         "BMW",
         null
        ],
        [
         "Toy-M200",
         "Toyota",
         null
        ],
        [
         "Toy-M205",
         "Toyota",
         null
        ],
        [
         "GMC-M58",
         "GMC",
         null
        ],
        [
         "Nis-M266",
         "Nissan",
         null
        ],
        [
         "Mar-M152",
         "Maruti Suzuki",
         null
        ],
        [
         "Che-M43",
         "Chevrolet",
         null
        ],
        [
         "Vol-M255",
         "Volkswagen",
         null
        ],
        [
         "Ren-M208",
         "Renault",
         null
        ],
        [
         "Cad-M36",
         "Cadillac",
         null
        ],
        [
         "Nis-M269",
         "Nissan",
         null
        ],
        [
         "BMW-M243",
         "BMW",
         null
        ],
        [
         "Jee-M13",
         "Jeep",
         null
        ],
        [
         "Hon-M69",
         "Honda",
         null
        ],
        [
         "Hyu-M163",
         "Hyundai",
         null
        ],
        [
         "Toy-M134",
         "Toyota",
         null
        ],
        [
         "Nis-M270",
         "Nissan",
         null
        ],
        [
         "Vol-M256",
         "Volkswagen",
         null
        ],
        [
         "Mer-M121",
         "Mercedes-Benz",
         null
        ],
        [
         "Tat-M185",
         "Tata",
         null
        ],
        [
         "MG-M251",
         "MG",
         null
        ],
        [
         "GMC-M54",
         "GMC",
         null
        ],
        [
         "For-M119",
         "Ford",
         null
        ],
        [
         "Hon-M219",
         "Honda",
         null
        ],
        [
         "For-M20",
         "Ford",
         null
        ],
        [
         "Aud-M233",
         "Audi",
         null
        ],
        [
         "Acu-M60",
         "Acura",
         null
        ],
        [
         "Hon-M217",
         "Honda",
         null
        ],
        [
         "Tes-M97",
         "Tesla",
         null
        ],
        [
         "Mar-M138",
         "Maruti Suzuki",
         null
        ],
        [
         "Che-M41",
         "Chevrolet",
         null
        ],
        [
         "Tat-M191",
         "Tata",
         null
        ],
        [
         "Toy-M102",
         "Toyota",
         null
        ],
        [
         "Nis-M87",
         "Nissan",
         null
        ],
        [
         "BMW-M2",
         "BMW",
         null
        ],
        [
         "GMC-M57",
         "GMC",
         null
        ],
        [
         "Peu-M124",
         "Peugeot",
         null
        ],
        [
         "GMC-M52",
         "GMC",
         null
        ],
        [
         "Hyu-M158",
         "Hyundai",
         null
        ],
        [
         "Vol-M260",
         "Volkswagen",
         null
        ],
        [
         "Nis-M86",
         "Nissan",
         null
        ],
        [
         "Toy-M201",
         "Toyota",
         null
        ],
        [
         "Hon-M66",
         "Honda",
         null
        ],
        [
         "Ren-M132",
         "Renault",
         null
        ],
        [
         "BMW-M5",
         "BMW",
         null
        ],
        [
         "Ren-M210",
         "Renault",
         null
        ],
        [
         "Acu-M63",
         "Acura",
         null
        ],
        [
         "Mah-M173",
         "Mahindra",
         null
        ],
        [
         "Tes-M96",
         "Tesla",
         null
        ],
        [
         "Nis-M88",
         "Nissan",
         null
        ],
        [
         "Tat-M183",
         "Tata",
         null
        ],
        [
         "Cad-M35",
         "Cadillac",
         null
        ],
        [
         "Hon-M215",
         "Honda",
         null
        ],
        [
         "Aud-M236",
         "Audi",
         null
        ],
        [
         "Mit-M275",
         "Mitsubishi",
         null
        ],
        [
         "Peu-M125",
         "Peugeot",
         null
        ],
        [
         "Vol-M259",
         "Volkswagen",
         null
        ],
        [
         "Nis-M84",
         "Nissan",
         null
        ],
        [
         "Tat-M179",
         "Tata",
         null
        ],
        [
         "For-M17",
         "Ford",
         null
        ],
        [
         "Tat-M193",
         "Tata",
         null
        ],
        [
         "GMC-M56",
         "GMC",
         null
        ],
        [
         "Aud-M228",
         "Audi",
         null
        ],
        [
         "Inf-M79",
         "Infiniti",
         null
        ],
        [
         "Hon-M64",
         "Honda",
         null
        ],
        [
         "Che-M46",
         "Chevrolet",
         null
        ],
        [
         "Mar-M144",
         "Maruti Suzuki",
         null
        ],
        [
         "For-M16",
         "Ford",
         null
        ],
        [
         "Nis-M85",
         "Nissan",
         null
        ],
        [
         "Aud-M237",
         "Audi",
         null
        ],
        [
         "Sub-M94",
         "Subaru",
         null
        ],
        [
         "Cad-M38",
         "Cadillac",
         null
        ],
        [
         "Nis-M83",
         "Nissan",
         null
        ],
        [
         "Kia-M214",
         "Kia",
         null
        ],
        [
         "Hyu-M72",
         "Hyundai",
         null
        ],
        [
         "Che-M47",
         "Chevrolet",
         null
        ],
        [
         "Mar-M145",
         "Maruti Suzuki",
         null
        ],
        [
         "Acu-M62",
         "Acura",
         null
        ],
        [
         "Che-M45",
         "Chevrolet",
         null
        ],
        [
         "Aud-M230",
         "Audi",
         null
        ],
        [
         "Mar-M143",
         "Maruti Suzuki",
         null
        ],
        [
         "Agr-M112",
         "Agrale",
         null
        ],
        [
         "Hon-M67",
         "Honda",
         null
        ],
        [
         "Mar-M150",
         "Maruti Suzuki",
         null
        ],
        [
         "Jee-M11",
         "Jeep",
         null
        ],
        [
         "Ren-M128",
         "Renault",
         null
        ],
        [
         "For-M18",
         "Ford",
         null
        ],
        [
         "Mar-M146",
         "Maruti Suzuki",
         null
        ],
        [
         "For-M19",
         "Ford",
         null
        ],
        [
         "Nis-M80",
         "Nissan",
         null
        ],
        [
         "Mar-M139",
         "Maruti Suzuki",
         null
        ],
        [
         "Che-M40",
         "Chevrolet",
         null
        ],
        [
         "Mah-M165",
         "Mahindra",
         null
        ],
        [
         "Toy-M199",
         "Toyota",
         null
        ],
        [
         "Cit-M116",
         "Citroën",
         null
        ],
        [
         "Cad-M39",
         "Cadillac",
         null
        ],
        [
         "Nis-M89",
         "Nissan",
         null
        ],
        [
         "Aud-M240",
         "Audi",
         null
        ],
        [
         "For-M24",
         "Ford",
         null
        ],
        [
         "Nis-M264",
         "Nissan",
         null
        ],
        [
         "Mer-M6",
         "Mercedes-Benz",
         null
        ],
        [
         "Bui-M31",
         "Buick",
         null
        ],
        [
         "Toy-M103",
         "Toyota",
         null
        ],
        [
         "Mah-M170",
         "Mahindra",
         null
        ],
        [
         "Ren-M130",
         "Renault",
         null
        ],
        [
         "Toy-M100",
         "Toyota",
         null
        ],
        [
         "BMW-M247",
         "BMW",
         null
        ],
        [
         "Ren-M207",
         "Renault",
         null
        ],
        [
         "Hon-M218",
         "Honda",
         null
        ],
        [
         "Lin-M28",
         "Lincoln",
         null
        ],
        [
         "Kia-M212",
         "Kia",
         null
        ],
        [
         "Tat-M194",
         "Tata",
         null
        ],
        [
         "Mah-M167",
         "Mahindra",
         null
        ],
        [
         "Acu-M61",
         "Acura",
         null
        ],
        [
         "Riv-M90",
         "Rivian",
         null
        ],
        [
         "Mar-M142",
         "Maruti Suzuki",
         null
        ],
        [
         "For-M221",
         "Ford",
         null
        ],
        [
         "Sko-M274",
         "Skoda",
         null
        ],
        [
         "Sub-M93",
         "Subaru",
         null
        ],
        [
         "For-M223",
         "Ford",
         null
        ],
        [
         "For-M22",
         "Ford",
         null
        ],
        [
         "Vol-M109",
         "Volkswagen",
         null
        ],
        [
         "Toy-M133",
         "Toyota",
         null
        ],
        [
         "For-M224",
         "Ford",
         null
        ],
        [
         "Sko-M272",
         "Skoda",
         null
        ],
        [
         "Hon-M220",
         "Honda",
         null
        ],
        [
         "Hyu-M164",
         "Hyundai",
         null
        ],
        [
         "Toy-M107",
         "Toyota",
         null
        ],
        [
         "Hyu-M160",
         "Hyundai",
         null
        ],
        [
         "Aud-M234",
         "Audi",
         null
        ],
        [
         "Fia-M118",
         "Fiat",
         null
        ],
        [
         "BMW-M245",
         "BMW",
         null
        ],
        [
         "Hyu-M73",
         "Hyundai",
         null
        ],
        [
         "Toy-M104",
         "Toyota",
         null
        ],
        [
         "Mah-M168",
         "Mahindra",
         null
        ],
        [
         "Jee-M253",
         "Jeep",
         null
        ]
       ],
       "datasetInfos": [],
       "dbfsResultPath": null,
       "isJsonSchema": true,
       "metadata": {},
       "overflow": false,
       "plotOptions": {
        "customPlotOptions": {},
        "displayType": "table",
        "pivotAggregation": null,
        "pivotColumns": null,
        "xColumns": null,
        "yColumns": null
       },
       "removedWidgets": [],
       "schema": [
        {
         "metadata": "{}",
         "name": "Model_ID",
         "type": "\"string\""
        },
        {
         "metadata": "{}",
         "name": "Product_Name",
         "type": "\"string\""
        },
        {
         "metadata": "{}",
         "name": "dim_model",
         "type": "\"integer\""
        }
       ],
       "type": "table"
      }
     },
     "output_type": "display_data"
    }
   ],
   "source": [
    "df_filter=df.join(df_schema,df_schema.Model_ID==df.Model_ID,'left').select(df[\"Model_ID\"],df[\"Product_Name\"],df_schema[\"dim_model\"])\n",
    "df_filter.display()\n",
    "\n"
   ]
  },
  {
   "cell_type": "code",
   "execution_count": 0,
   "metadata": {
    "application/vnd.databricks.v1+cell": {
     "cellMetadata": {},
     "inputWidgets": {},
     "nuid": "d27f898f-6db5-4120-9565-039791b86620",
     "showTitle": false,
     "tableResultSettingsMap": {},
     "title": ""
    }
   },
   "outputs": [],
   "source": []
  },
  {
   "cell_type": "code",
   "execution_count": 0,
   "metadata": {
    "application/vnd.databricks.v1+cell": {
     "cellMetadata": {
      "byteLimit": 2048000,
      "rowLimit": 10000
     },
     "inputWidgets": {},
     "nuid": "8e5d53cb-7c4f-4701-878c-1ab8b48bea2c",
     "showTitle": false,
     "tableResultSettingsMap": {},
     "title": ""
    }
   },
   "outputs": [
    {
     "data": {
      "text/html": [
       "<style scoped>\n",
       "  .table-result-container {\n",
       "    max-height: 300px;\n",
       "    overflow: auto;\n",
       "  }\n",
       "  table, th, td {\n",
       "    border: 1px solid black;\n",
       "    border-collapse: collapse;\n",
       "  }\n",
       "  th, td {\n",
       "    padding: 5px;\n",
       "  }\n",
       "  th {\n",
       "    text-align: left;\n",
       "  }\n",
       "</style><div class='table-result-container'><table class='table-result'><thead style='background-color: white'><tr><th>Model_ID</th><th>Product_Name</th><th>dim_model</th></tr></thead><tbody></tbody></table></div>"
      ]
     },
     "metadata": {
      "application/vnd.databricks.v1+output": {
       "addedWidgets": {},
       "aggData": [],
       "aggError": "",
       "aggOverflow": false,
       "aggSchema": [],
       "aggSeriesLimitReached": false,
       "aggType": "",
       "arguments": {},
       "columnCustomDisplayInfos": {},
       "data": [],
       "datasetInfos": [],
       "dbfsResultPath": null,
       "isJsonSchema": true,
       "metadata": {},
       "overflow": false,
       "plotOptions": {
        "customPlotOptions": {},
        "displayType": "table",
        "pivotAggregation": null,
        "pivotColumns": null,
        "xColumns": null,
        "yColumns": null
       },
       "removedWidgets": [],
       "schema": [
        {
         "metadata": "{}",
         "name": "Model_ID",
         "type": "\"string\""
        },
        {
         "metadata": "{}",
         "name": "Product_Name",
         "type": "\"string\""
        },
        {
         "metadata": "{}",
         "name": "dim_model",
         "type": "\"integer\""
        }
       ],
       "type": "table"
      }
     },
     "output_type": "display_data"
    }
   ],
   "source": [
    "df_old=df_filter.filter(col(\"dim_model\").isNotNull())\n",
    "df_old.display()\n"
   ]
  },
  {
   "cell_type": "code",
   "execution_count": 0,
   "metadata": {
    "application/vnd.databricks.v1+cell": {
     "cellMetadata": {
      "byteLimit": 2048000,
      "rowLimit": 10000
     },
     "inputWidgets": {},
     "nuid": "d6af4d3d-1934-4598-b730-f9f21ed2efa5",
     "showTitle": false,
     "tableResultSettingsMap": {},
     "title": ""
    }
   },
   "outputs": [
    {
     "data": {
      "text/html": [
       "<style scoped>\n",
       "  .table-result-container {\n",
       "    max-height: 300px;\n",
       "    overflow: auto;\n",
       "  }\n",
       "  table, th, td {\n",
       "    border: 1px solid black;\n",
       "    border-collapse: collapse;\n",
       "  }\n",
       "  th, td {\n",
       "    padding: 5px;\n",
       "  }\n",
       "  th {\n",
       "    text-align: left;\n",
       "  }\n",
       "</style><div class='table-result-container'><table class='table-result'><thead style='background-color: white'><tr><th>Model_ID</th><th>Product_Name</th><th>dim_model</th></tr></thead><tbody><tr><td>Mar-M137</td><td>Maruti Suzuki</td><td>null</td></tr><tr><td>BMW-M249</td><td>BMW</td><td>null</td></tr><tr><td>Lin-M27</td><td>Lincoln</td><td>null</td></tr><tr><td>Mer-M8</td><td>Mercedes-Benz</td><td>null</td></tr><tr><td>Che-M42</td><td>Chevrolet</td><td>null</td></tr><tr><td>Che-M48</td><td>Chevrolet</td><td>null</td></tr><tr><td>Tat-M190</td><td>Tata</td><td>null</td></tr><tr><td>Mit-M277</td><td>Mitsubishi</td><td>null</td></tr><tr><td>Che-M49</td><td>Chevrolet</td><td>null</td></tr><tr><td>Tat-M181</td><td>Tata</td><td>null</td></tr><tr><td>Hyu-M157</td><td>Hyundai</td><td>null</td></tr><tr><td>Cad-M34</td><td>Cadillac</td><td>null</td></tr><tr><td>Aud-M235</td><td>Audi</td><td>null</td></tr><tr><td>Mah-M166</td><td>Mahindra</td><td>null</td></tr><tr><td>Hon-M70</td><td>Honda</td><td>null</td></tr><tr><td>Ram-M14</td><td>Ram</td><td>null</td></tr><tr><td>Nis-M268</td><td>Nissan</td><td>null</td></tr><tr><td>Toy-M204</td><td>Toyota</td><td>null</td></tr><tr><td>Ren-M127</td><td>Renault</td><td>null</td></tr><tr><td>Toy-M105</td><td>Toyota</td><td>null</td></tr><tr><td>Mar-M140</td><td>Maruti Suzuki</td><td>null</td></tr><tr><td>Tat-M189</td><td>Tata</td><td>null</td></tr><tr><td>BMW-M3</td><td>BMW</td><td>null</td></tr><tr><td>Ren-M129</td><td>Renault</td><td>null</td></tr><tr><td>For-M25</td><td>Ford</td><td>null</td></tr><tr><td>Hyu-M74</td><td>Hyundai</td><td>null</td></tr><tr><td>BMW-M250</td><td>BMW</td><td>null</td></tr><tr><td>Hyu-M153</td><td>Hyundai</td><td>null</td></tr><tr><td>Nis-M263</td><td>Nissan</td><td>null</td></tr><tr><td>Mah-M178</td><td>Mahindra</td><td>null</td></tr><tr><td>Toy-M195</td><td>Toyota</td><td>null</td></tr><tr><td>Lin-M29</td><td>Lincoln</td><td>null</td></tr><tr><td>Toy-M206</td><td>Toyota</td><td>null</td></tr><tr><td>Sub-M95</td><td>Subaru</td><td>null</td></tr><tr><td>Nis-M265</td><td>Nissan</td><td>null</td></tr><tr><td>Peu-M126</td><td>Peugeot</td><td>null</td></tr><tr><td>Mer-M123</td><td>Mercedes-Benz</td><td>null</td></tr><tr><td>Kia-M76</td><td>Kia</td><td>null</td></tr><tr><td>Che-M44</td><td>Chevrolet</td><td>null</td></tr><tr><td>Acu-M59</td><td>Acura</td><td>null</td></tr><tr><td>Hyu-M155</td><td>Hyundai</td><td>null</td></tr><tr><td>Tat-M192</td><td>Tata</td><td>null</td></tr><tr><td>Lex-M99</td><td>Lexus</td><td>null</td></tr><tr><td>Nis-M267</td><td>Nissan</td><td>null</td></tr><tr><td>Mar-M147</td><td>Maruti Suzuki</td><td>null</td></tr><tr><td>Aud-M241</td><td>Audi</td><td>null</td></tr><tr><td>Aud-M231</td><td>Audi</td><td>null</td></tr><tr><td>Tat-M187</td><td>Tata</td><td>null</td></tr><tr><td>Hon-M120</td><td>Honda</td><td>null</td></tr><tr><td>Tat-M184</td><td>Tata</td><td>null</td></tr><tr><td>Tat-M186</td><td>Tata</td><td>null</td></tr><tr><td>Mar-M148</td><td>Maruti Suzuki</td><td>null</td></tr><tr><td>Toy-M106</td><td>Toyota</td><td>null</td></tr><tr><td>Aud-M232</td><td>Audi</td><td>null</td></tr><tr><td>For-M26</td><td>Ford</td><td>null</td></tr><tr><td>BMW-M4</td><td>BMW</td><td>null</td></tr><tr><td>Sko-M271</td><td>Skoda</td><td>null</td></tr><tr><td>Mar-M149</td><td>Maruti Suzuki</td><td>null</td></tr><tr><td>Che-M114</td><td>Chevrolet</td><td>null</td></tr><tr><td>Hyu-M156</td><td>Hyundai</td><td>null</td></tr><tr><td>Mit-M276</td><td>Mitsubishi</td><td>null</td></tr><tr><td>Aud-M229</td><td>Audi</td><td>null</td></tr><tr><td>Toy-M196</td><td>Toyota</td><td>null</td></tr><tr><td>Hyu-M75</td><td>Hyundai</td><td>null</td></tr><tr><td>Tat-M188</td><td>Tata</td><td>null</td></tr><tr><td>Toy-M203</td><td>Toyota</td><td>null</td></tr><tr><td>Toy-M101</td><td>Toyota</td><td>null</td></tr><tr><td>For-M23</td><td>Ford</td><td>null</td></tr><tr><td>Mar-M151</td><td>Maruti Suzuki</td><td>null</td></tr><tr><td>Nis-M81</td><td>Nissan</td><td>null</td></tr><tr><td>BMW-M242</td><td>BMW</td><td>null</td></tr><tr><td>Toy-M198</td><td>Toyota</td><td>null</td></tr><tr><td>Ren-M211</td><td>Renault</td><td>null</td></tr><tr><td>Vol-M135</td><td>Volkswagen</td><td>null</td></tr><tr><td>Vol-M136</td><td>Volkswagen</td><td>null</td></tr><tr><td>Hyu-M161</td><td>Hyundai</td><td>null</td></tr><tr><td>Cad-M32</td><td>Cadillac</td><td>null</td></tr><tr><td>Toy-M197</td><td>Toyota</td><td>null</td></tr><tr><td>Kia-M77</td><td>Kia</td><td>null</td></tr><tr><td>Mah-M172</td><td>Mahindra</td><td>null</td></tr><tr><td>Vol-M110</td><td>Volvo</td><td>null</td></tr><tr><td>BMW-M248</td><td>BMW</td><td>null</td></tr><tr><td>For-M21</td><td>Ford</td><td>null</td></tr><tr><td>Tat-M180</td><td>Tata</td><td>null</td></tr><tr><td>Lin-M30</td><td>Lincoln</td><td>null</td></tr><tr><td>Mah-M177</td><td>Mahindra</td><td>null</td></tr><tr><td>Aud-M238</td><td>Audi</td><td>null</td></tr><tr><td>GMC-M53</td><td>GMC</td><td>null</td></tr><tr><td>Nis-M82</td><td>Nissan</td><td>null</td></tr><tr><td>Tat-M182</td><td>Tata</td><td>null</td></tr><tr><td>Aud-M239</td><td>Audi</td><td>null</td></tr><tr><td>Hon-M216</td><td>Honda</td><td>null</td></tr><tr><td>Ren-M209</td><td>Renault</td><td>null</td></tr><tr><td>Mar-M141</td><td>Maruti Suzuki</td><td>null</td></tr><tr><td>Agr-M113</td><td>Agrale</td><td>null</td></tr><tr><td>Sub-M92</td><td>Subaru</td><td>null</td></tr><tr><td>Mah-M169</td><td>Mahindra</td><td>null</td></tr><tr><td>GMC-M55</td><td>GMC</td><td>null</td></tr><tr><td>BMW-M244</td><td>BMW</td><td>null</td></tr><tr><td>Nis-M262</td><td>Nissan</td><td>null</td></tr><tr><td>Kia-M78</td><td>Kia</td><td>null</td></tr><tr><td>Mah-M176</td><td>Mahindra</td><td>null</td></tr><tr><td>Ram-M15</td><td>Ram</td><td>null</td></tr><tr><td>Ren-M131</td><td>Renault</td><td>null</td></tr><tr><td>Mah-M171</td><td>Mahindra</td><td>null</td></tr><tr><td>Dod-M9</td><td>Dodge</td><td>null</td></tr><tr><td>Mah-M175</td><td>Mahindra</td><td>null</td></tr><tr><td>Jee-M10</td><td>Jeep</td><td>null</td></tr><tr><td>Toy-M202</td><td>Toyota</td><td>null</td></tr><tr><td>Hyu-M154</td><td>Hyundai</td><td>null</td></tr><tr><td>Hon-M68</td><td>Honda</td><td>null</td></tr><tr><td>Che-M50</td><td>Chevrolet</td><td>null</td></tr><tr><td>Agr-M111</td><td>Agrale</td><td>null</td></tr><tr><td>Mer-M122</td><td>Mercedes-Benz</td><td>null</td></tr><tr><td>Tes-M98</td><td>Tesla</td><td>null</td></tr><tr><td>Cit-M115</td><td>Citroën</td><td>null</td></tr><tr><td>Hon-M71</td><td>Honda</td><td>null</td></tr><tr><td>Nis-M261</td><td>Nissan</td><td>null</td></tr><tr><td>Che-M51</td><td>Chevrolet</td><td>null</td></tr><tr><td>Vol-M108</td><td>Volkswagen</td><td>null</td></tr><tr><td>Hyu-M159</td><td>Hyundai</td><td>null</td></tr><tr><td>For-M225</td><td>Ford</td><td>null</td></tr><tr><td>Riv-M91</td><td>Rivian</td><td>null</td></tr><tr><td>Mer-M7</td><td>Mercedes-Benz</td><td>null</td></tr><tr><td>Cad-M37</td><td>Cadillac</td><td>null</td></tr><tr><td>Sko-M273</td><td>Skoda</td><td>null</td></tr><tr><td>Jee-M254</td><td>Jeep</td><td>null</td></tr><tr><td>Vol-M257</td><td>Volkswagen</td><td>null</td></tr><tr><td>Vol-M258</td><td>Volkswagen</td><td>null</td></tr><tr><td>Fia-M117</td><td>Fiat</td><td>null</td></tr><tr><td>For-M226</td><td>Ford</td><td>null</td></tr><tr><td>MG-M252</td><td>MG</td><td>null</td></tr><tr><td>Mah-M174</td><td>Mahindra</td><td>null</td></tr><tr><td>Aud-M227</td><td>Audi</td><td>null</td></tr><tr><td>For-M222</td><td>Ford</td><td>null</td></tr><tr><td>Jee-M12</td><td>Jeep</td><td>null</td></tr><tr><td>Kia-M213</td><td>Kia</td><td>null</td></tr><tr><td>Cad-M33</td><td>Cadillac</td><td>null</td></tr><tr><td>Hon-M65</td><td>Honda</td><td>null</td></tr><tr><td>BMW-M1</td><td>BMW</td><td>null</td></tr><tr><td>Hyu-M162</td><td>Hyundai</td><td>null</td></tr><tr><td>BMW-M246</td><td>BMW</td><td>null</td></tr><tr><td>Toy-M200</td><td>Toyota</td><td>null</td></tr><tr><td>Toy-M205</td><td>Toyota</td><td>null</td></tr><tr><td>GMC-M58</td><td>GMC</td><td>null</td></tr><tr><td>Nis-M266</td><td>Nissan</td><td>null</td></tr><tr><td>Mar-M152</td><td>Maruti Suzuki</td><td>null</td></tr><tr><td>Che-M43</td><td>Chevrolet</td><td>null</td></tr><tr><td>Vol-M255</td><td>Volkswagen</td><td>null</td></tr><tr><td>Ren-M208</td><td>Renault</td><td>null</td></tr><tr><td>Cad-M36</td><td>Cadillac</td><td>null</td></tr><tr><td>Nis-M269</td><td>Nissan</td><td>null</td></tr><tr><td>BMW-M243</td><td>BMW</td><td>null</td></tr><tr><td>Jee-M13</td><td>Jeep</td><td>null</td></tr><tr><td>Hon-M69</td><td>Honda</td><td>null</td></tr><tr><td>Hyu-M163</td><td>Hyundai</td><td>null</td></tr><tr><td>Toy-M134</td><td>Toyota</td><td>null</td></tr><tr><td>Nis-M270</td><td>Nissan</td><td>null</td></tr><tr><td>Vol-M256</td><td>Volkswagen</td><td>null</td></tr><tr><td>Mer-M121</td><td>Mercedes-Benz</td><td>null</td></tr><tr><td>Tat-M185</td><td>Tata</td><td>null</td></tr><tr><td>MG-M251</td><td>MG</td><td>null</td></tr><tr><td>GMC-M54</td><td>GMC</td><td>null</td></tr><tr><td>For-M119</td><td>Ford</td><td>null</td></tr><tr><td>Hon-M219</td><td>Honda</td><td>null</td></tr><tr><td>For-M20</td><td>Ford</td><td>null</td></tr><tr><td>Aud-M233</td><td>Audi</td><td>null</td></tr><tr><td>Acu-M60</td><td>Acura</td><td>null</td></tr><tr><td>Hon-M217</td><td>Honda</td><td>null</td></tr><tr><td>Tes-M97</td><td>Tesla</td><td>null</td></tr><tr><td>Mar-M138</td><td>Maruti Suzuki</td><td>null</td></tr><tr><td>Che-M41</td><td>Chevrolet</td><td>null</td></tr><tr><td>Tat-M191</td><td>Tata</td><td>null</td></tr><tr><td>Toy-M102</td><td>Toyota</td><td>null</td></tr><tr><td>Nis-M87</td><td>Nissan</td><td>null</td></tr><tr><td>BMW-M2</td><td>BMW</td><td>null</td></tr><tr><td>GMC-M57</td><td>GMC</td><td>null</td></tr><tr><td>Peu-M124</td><td>Peugeot</td><td>null</td></tr><tr><td>GMC-M52</td><td>GMC</td><td>null</td></tr><tr><td>Hyu-M158</td><td>Hyundai</td><td>null</td></tr><tr><td>Vol-M260</td><td>Volkswagen</td><td>null</td></tr><tr><td>Nis-M86</td><td>Nissan</td><td>null</td></tr><tr><td>Toy-M201</td><td>Toyota</td><td>null</td></tr><tr><td>Hon-M66</td><td>Honda</td><td>null</td></tr><tr><td>Ren-M132</td><td>Renault</td><td>null</td></tr><tr><td>BMW-M5</td><td>BMW</td><td>null</td></tr><tr><td>Ren-M210</td><td>Renault</td><td>null</td></tr><tr><td>Acu-M63</td><td>Acura</td><td>null</td></tr><tr><td>Mah-M173</td><td>Mahindra</td><td>null</td></tr><tr><td>Tes-M96</td><td>Tesla</td><td>null</td></tr><tr><td>Nis-M88</td><td>Nissan</td><td>null</td></tr><tr><td>Tat-M183</td><td>Tata</td><td>null</td></tr><tr><td>Cad-M35</td><td>Cadillac</td><td>null</td></tr><tr><td>Hon-M215</td><td>Honda</td><td>null</td></tr><tr><td>Aud-M236</td><td>Audi</td><td>null</td></tr><tr><td>Mit-M275</td><td>Mitsubishi</td><td>null</td></tr><tr><td>Peu-M125</td><td>Peugeot</td><td>null</td></tr><tr><td>Vol-M259</td><td>Volkswagen</td><td>null</td></tr><tr><td>Nis-M84</td><td>Nissan</td><td>null</td></tr><tr><td>Tat-M179</td><td>Tata</td><td>null</td></tr><tr><td>For-M17</td><td>Ford</td><td>null</td></tr><tr><td>Tat-M193</td><td>Tata</td><td>null</td></tr><tr><td>GMC-M56</td><td>GMC</td><td>null</td></tr><tr><td>Aud-M228</td><td>Audi</td><td>null</td></tr><tr><td>Inf-M79</td><td>Infiniti</td><td>null</td></tr><tr><td>Hon-M64</td><td>Honda</td><td>null</td></tr><tr><td>Che-M46</td><td>Chevrolet</td><td>null</td></tr><tr><td>Mar-M144</td><td>Maruti Suzuki</td><td>null</td></tr><tr><td>For-M16</td><td>Ford</td><td>null</td></tr><tr><td>Nis-M85</td><td>Nissan</td><td>null</td></tr><tr><td>Aud-M237</td><td>Audi</td><td>null</td></tr><tr><td>Sub-M94</td><td>Subaru</td><td>null</td></tr><tr><td>Cad-M38</td><td>Cadillac</td><td>null</td></tr><tr><td>Nis-M83</td><td>Nissan</td><td>null</td></tr><tr><td>Kia-M214</td><td>Kia</td><td>null</td></tr><tr><td>Hyu-M72</td><td>Hyundai</td><td>null</td></tr><tr><td>Che-M47</td><td>Chevrolet</td><td>null</td></tr><tr><td>Mar-M145</td><td>Maruti Suzuki</td><td>null</td></tr><tr><td>Acu-M62</td><td>Acura</td><td>null</td></tr><tr><td>Che-M45</td><td>Chevrolet</td><td>null</td></tr><tr><td>Aud-M230</td><td>Audi</td><td>null</td></tr><tr><td>Mar-M143</td><td>Maruti Suzuki</td><td>null</td></tr><tr><td>Agr-M112</td><td>Agrale</td><td>null</td></tr><tr><td>Hon-M67</td><td>Honda</td><td>null</td></tr><tr><td>Mar-M150</td><td>Maruti Suzuki</td><td>null</td></tr><tr><td>Jee-M11</td><td>Jeep</td><td>null</td></tr><tr><td>Ren-M128</td><td>Renault</td><td>null</td></tr><tr><td>For-M18</td><td>Ford</td><td>null</td></tr><tr><td>Mar-M146</td><td>Maruti Suzuki</td><td>null</td></tr><tr><td>For-M19</td><td>Ford</td><td>null</td></tr><tr><td>Nis-M80</td><td>Nissan</td><td>null</td></tr><tr><td>Mar-M139</td><td>Maruti Suzuki</td><td>null</td></tr><tr><td>Che-M40</td><td>Chevrolet</td><td>null</td></tr><tr><td>Mah-M165</td><td>Mahindra</td><td>null</td></tr><tr><td>Toy-M199</td><td>Toyota</td><td>null</td></tr><tr><td>Cit-M116</td><td>Citroën</td><td>null</td></tr><tr><td>Cad-M39</td><td>Cadillac</td><td>null</td></tr><tr><td>Nis-M89</td><td>Nissan</td><td>null</td></tr><tr><td>Aud-M240</td><td>Audi</td><td>null</td></tr><tr><td>For-M24</td><td>Ford</td><td>null</td></tr><tr><td>Nis-M264</td><td>Nissan</td><td>null</td></tr><tr><td>Mer-M6</td><td>Mercedes-Benz</td><td>null</td></tr><tr><td>Bui-M31</td><td>Buick</td><td>null</td></tr><tr><td>Toy-M103</td><td>Toyota</td><td>null</td></tr><tr><td>Mah-M170</td><td>Mahindra</td><td>null</td></tr><tr><td>Ren-M130</td><td>Renault</td><td>null</td></tr><tr><td>Toy-M100</td><td>Toyota</td><td>null</td></tr><tr><td>BMW-M247</td><td>BMW</td><td>null</td></tr><tr><td>Ren-M207</td><td>Renault</td><td>null</td></tr><tr><td>Hon-M218</td><td>Honda</td><td>null</td></tr><tr><td>Lin-M28</td><td>Lincoln</td><td>null</td></tr><tr><td>Kia-M212</td><td>Kia</td><td>null</td></tr><tr><td>Tat-M194</td><td>Tata</td><td>null</td></tr><tr><td>Mah-M167</td><td>Mahindra</td><td>null</td></tr><tr><td>Acu-M61</td><td>Acura</td><td>null</td></tr><tr><td>Riv-M90</td><td>Rivian</td><td>null</td></tr><tr><td>Mar-M142</td><td>Maruti Suzuki</td><td>null</td></tr><tr><td>For-M221</td><td>Ford</td><td>null</td></tr><tr><td>Sko-M274</td><td>Skoda</td><td>null</td></tr><tr><td>Sub-M93</td><td>Subaru</td><td>null</td></tr><tr><td>For-M223</td><td>Ford</td><td>null</td></tr><tr><td>For-M22</td><td>Ford</td><td>null</td></tr><tr><td>Vol-M109</td><td>Volkswagen</td><td>null</td></tr><tr><td>Toy-M133</td><td>Toyota</td><td>null</td></tr><tr><td>For-M224</td><td>Ford</td><td>null</td></tr><tr><td>Sko-M272</td><td>Skoda</td><td>null</td></tr><tr><td>Hon-M220</td><td>Honda</td><td>null</td></tr><tr><td>Hyu-M164</td><td>Hyundai</td><td>null</td></tr><tr><td>Toy-M107</td><td>Toyota</td><td>null</td></tr><tr><td>Hyu-M160</td><td>Hyundai</td><td>null</td></tr><tr><td>Aud-M234</td><td>Audi</td><td>null</td></tr><tr><td>Fia-M118</td><td>Fiat</td><td>null</td></tr><tr><td>BMW-M245</td><td>BMW</td><td>null</td></tr><tr><td>Hyu-M73</td><td>Hyundai</td><td>null</td></tr><tr><td>Toy-M104</td><td>Toyota</td><td>null</td></tr><tr><td>Mah-M168</td><td>Mahindra</td><td>null</td></tr><tr><td>Jee-M253</td><td>Jeep</td><td>null</td></tr></tbody></table></div>"
      ]
     },
     "metadata": {
      "application/vnd.databricks.v1+output": {
       "addedWidgets": {},
       "aggData": [],
       "aggError": "",
       "aggOverflow": false,
       "aggSchema": [],
       "aggSeriesLimitReached": false,
       "aggType": "",
       "arguments": {},
       "columnCustomDisplayInfos": {},
       "data": [
        [
         "Mar-M137",
         "Maruti Suzuki",
         null
        ],
        [
         "BMW-M249",
         "BMW",
         null
        ],
        [
         "Lin-M27",
         "Lincoln",
         null
        ],
        [
         "Mer-M8",
         "Mercedes-Benz",
         null
        ],
        [
         "Che-M42",
         "Chevrolet",
         null
        ],
        [
         "Che-M48",
         "Chevrolet",
         null
        ],
        [
         "Tat-M190",
         "Tata",
         null
        ],
        [
         "Mit-M277",
         "Mitsubishi",
         null
        ],
        [
         "Che-M49",
         "Chevrolet",
         null
        ],
        [
         "Tat-M181",
         "Tata",
         null
        ],
        [
         "Hyu-M157",
         "Hyundai",
         null
        ],
        [
         "Cad-M34",
         "Cadillac",
         null
        ],
        [
         "Aud-M235",
         "Audi",
         null
        ],
        [
         "Mah-M166",
         "Mahindra",
         null
        ],
        [
         "Hon-M70",
         "Honda",
         null
        ],
        [
         "Ram-M14",
         "Ram",
         null
        ],
        [
         "Nis-M268",
         "Nissan",
         null
        ],
        [
         "Toy-M204",
         "Toyota",
         null
        ],
        [
         "Ren-M127",
         "Renault",
         null
        ],
        [
         "Toy-M105",
         "Toyota",
         null
        ],
        [
         "Mar-M140",
         "Maruti Suzuki",
         null
        ],
        [
         "Tat-M189",
         "Tata",
         null
        ],
        [
         "BMW-M3",
         "BMW",
         null
        ],
        [
         "Ren-M129",
         "Renault",
         null
        ],
        [
         "For-M25",
         "Ford",
         null
        ],
        [
         "Hyu-M74",
         "Hyundai",
         null
        ],
        [
         "BMW-M250",
         "BMW",
         null
        ],
        [
         "Hyu-M153",
         "Hyundai",
         null
        ],
        [
         "Nis-M263",
         "Nissan",
         null
        ],
        [
         "Mah-M178",
         "Mahindra",
         null
        ],
        [
         "Toy-M195",
         "Toyota",
         null
        ],
        [
         "Lin-M29",
         "Lincoln",
         null
        ],
        [
         "Toy-M206",
         "Toyota",
         null
        ],
        [
         "Sub-M95",
         "Subaru",
         null
        ],
        [
         "Nis-M265",
         "Nissan",
         null
        ],
        [
         "Peu-M126",
         "Peugeot",
         null
        ],
        [
         "Mer-M123",
         "Mercedes-Benz",
         null
        ],
        [
         "Kia-M76",
         "Kia",
         null
        ],
        [
         "Che-M44",
         "Chevrolet",
         null
        ],
        [
         "Acu-M59",
         "Acura",
         null
        ],
        [
         "Hyu-M155",
         "Hyundai",
         null
        ],
        [
         "Tat-M192",
         "Tata",
         null
        ],
        [
         "Lex-M99",
         "Lexus",
         null
        ],
        [
         "Nis-M267",
         "Nissan",
         null
        ],
        [
         "Mar-M147",
         "Maruti Suzuki",
         null
        ],
        [
         "Aud-M241",
         "Audi",
         null
        ],
        [
         "Aud-M231",
         "Audi",
         null
        ],
        [
         "Tat-M187",
         "Tata",
         null
        ],
        [
         "Hon-M120",
         "Honda",
         null
        ],
        [
         "Tat-M184",
         "Tata",
         null
        ],
        [
         "Tat-M186",
         "Tata",
         null
        ],
        [
         "Mar-M148",
         "Maruti Suzuki",
         null
        ],
        [
         "Toy-M106",
         "Toyota",
         null
        ],
        [
         "Aud-M232",
         "Audi",
         null
        ],
        [
         "For-M26",
         "Ford",
         null
        ],
        [
         "BMW-M4",
         "BMW",
         null
        ],
        [
         "Sko-M271",
         "Skoda",
         null
        ],
        [
         "Mar-M149",
         "Maruti Suzuki",
         null
        ],
        [
         "Che-M114",
         "Chevrolet",
         null
        ],
        [
         "Hyu-M156",
         "Hyundai",
         null
        ],
        [
         "Mit-M276",
         "Mitsubishi",
         null
        ],
        [
         "Aud-M229",
         "Audi",
         null
        ],
        [
         "Toy-M196",
         "Toyota",
         null
        ],
        [
         "Hyu-M75",
         "Hyundai",
         null
        ],
        [
         "Tat-M188",
         "Tata",
         null
        ],
        [
         "Toy-M203",
         "Toyota",
         null
        ],
        [
         "Toy-M101",
         "Toyota",
         null
        ],
        [
         "For-M23",
         "Ford",
         null
        ],
        [
         "Mar-M151",
         "Maruti Suzuki",
         null
        ],
        [
         "Nis-M81",
         "Nissan",
         null
        ],
        [
         "BMW-M242",
         "BMW",
         null
        ],
        [
         "Toy-M198",
         "Toyota",
         null
        ],
        [
         "Ren-M211",
         "Renault",
         null
        ],
        [
         "Vol-M135",
         "Volkswagen",
         null
        ],
        [
         "Vol-M136",
         "Volkswagen",
         null
        ],
        [
         "Hyu-M161",
         "Hyundai",
         null
        ],
        [
         "Cad-M32",
         "Cadillac",
         null
        ],
        [
         "Toy-M197",
         "Toyota",
         null
        ],
        [
         "Kia-M77",
         "Kia",
         null
        ],
        [
         "Mah-M172",
         "Mahindra",
         null
        ],
        [
         "Vol-M110",
         "Volvo",
         null
        ],
        [
         "BMW-M248",
         "BMW",
         null
        ],
        [
         "For-M21",
         "Ford",
         null
        ],
        [
         "Tat-M180",
         "Tata",
         null
        ],
        [
         "Lin-M30",
         "Lincoln",
         null
        ],
        [
         "Mah-M177",
         "Mahindra",
         null
        ],
        [
         "Aud-M238",
         "Audi",
         null
        ],
        [
         "GMC-M53",
         "GMC",
         null
        ],
        [
         "Nis-M82",
         "Nissan",
         null
        ],
        [
         "Tat-M182",
         "Tata",
         null
        ],
        [
         "Aud-M239",
         "Audi",
         null
        ],
        [
         "Hon-M216",
         "Honda",
         null
        ],
        [
         "Ren-M209",
         "Renault",
         null
        ],
        [
         "Mar-M141",
         "Maruti Suzuki",
         null
        ],
        [
         "Agr-M113",
         "Agrale",
         null
        ],
        [
         "Sub-M92",
         "Subaru",
         null
        ],
        [
         "Mah-M169",
         "Mahindra",
         null
        ],
        [
         "GMC-M55",
         "GMC",
         null
        ],
        [
         "BMW-M244",
         "BMW",
         null
        ],
        [
         "Nis-M262",
         "Nissan",
         null
        ],
        [
         "Kia-M78",
         "Kia",
         null
        ],
        [
         "Mah-M176",
         "Mahindra",
         null
        ],
        [
         "Ram-M15",
         "Ram",
         null
        ],
        [
         "Ren-M131",
         "Renault",
         null
        ],
        [
         "Mah-M171",
         "Mahindra",
         null
        ],
        [
         "Dod-M9",
         "Dodge",
         null
        ],
        [
         "Mah-M175",
         "Mahindra",
         null
        ],
        [
         "Jee-M10",
         "Jeep",
         null
        ],
        [
         "Toy-M202",
         "Toyota",
         null
        ],
        [
         "Hyu-M154",
         "Hyundai",
         null
        ],
        [
         "Hon-M68",
         "Honda",
         null
        ],
        [
         "Che-M50",
         "Chevrolet",
         null
        ],
        [
         "Agr-M111",
         "Agrale",
         null
        ],
        [
         "Mer-M122",
         "Mercedes-Benz",
         null
        ],
        [
         "Tes-M98",
         "Tesla",
         null
        ],
        [
         "Cit-M115",
         "Citroën",
         null
        ],
        [
         "Hon-M71",
         "Honda",
         null
        ],
        [
         "Nis-M261",
         "Nissan",
         null
        ],
        [
         "Che-M51",
         "Chevrolet",
         null
        ],
        [
         "Vol-M108",
         "Volkswagen",
         null
        ],
        [
         "Hyu-M159",
         "Hyundai",
         null
        ],
        [
         "For-M225",
         "Ford",
         null
        ],
        [
         "Riv-M91",
         "Rivian",
         null
        ],
        [
         "Mer-M7",
         "Mercedes-Benz",
         null
        ],
        [
         "Cad-M37",
         "Cadillac",
         null
        ],
        [
         "Sko-M273",
         "Skoda",
         null
        ],
        [
         "Jee-M254",
         "Jeep",
         null
        ],
        [
         "Vol-M257",
         "Volkswagen",
         null
        ],
        [
         "Vol-M258",
         "Volkswagen",
         null
        ],
        [
         "Fia-M117",
         "Fiat",
         null
        ],
        [
         "For-M226",
         "Ford",
         null
        ],
        [
         "MG-M252",
         "MG",
         null
        ],
        [
         "Mah-M174",
         "Mahindra",
         null
        ],
        [
         "Aud-M227",
         "Audi",
         null
        ],
        [
         "For-M222",
         "Ford",
         null
        ],
        [
         "Jee-M12",
         "Jeep",
         null
        ],
        [
         "Kia-M213",
         "Kia",
         null
        ],
        [
         "Cad-M33",
         "Cadillac",
         null
        ],
        [
         "Hon-M65",
         "Honda",
         null
        ],
        [
         "BMW-M1",
         "BMW",
         null
        ],
        [
         "Hyu-M162",
         "Hyundai",
         null
        ],
        [
         "BMW-M246",
         "BMW",
         null
        ],
        [
         "Toy-M200",
         "Toyota",
         null
        ],
        [
         "Toy-M205",
         "Toyota",
         null
        ],
        [
         "GMC-M58",
         "GMC",
         null
        ],
        [
         "Nis-M266",
         "Nissan",
         null
        ],
        [
         "Mar-M152",
         "Maruti Suzuki",
         null
        ],
        [
         "Che-M43",
         "Chevrolet",
         null
        ],
        [
         "Vol-M255",
         "Volkswagen",
         null
        ],
        [
         "Ren-M208",
         "Renault",
         null
        ],
        [
         "Cad-M36",
         "Cadillac",
         null
        ],
        [
         "Nis-M269",
         "Nissan",
         null
        ],
        [
         "BMW-M243",
         "BMW",
         null
        ],
        [
         "Jee-M13",
         "Jeep",
         null
        ],
        [
         "Hon-M69",
         "Honda",
         null
        ],
        [
         "Hyu-M163",
         "Hyundai",
         null
        ],
        [
         "Toy-M134",
         "Toyota",
         null
        ],
        [
         "Nis-M270",
         "Nissan",
         null
        ],
        [
         "Vol-M256",
         "Volkswagen",
         null
        ],
        [
         "Mer-M121",
         "Mercedes-Benz",
         null
        ],
        [
         "Tat-M185",
         "Tata",
         null
        ],
        [
         "MG-M251",
         "MG",
         null
        ],
        [
         "GMC-M54",
         "GMC",
         null
        ],
        [
         "For-M119",
         "Ford",
         null
        ],
        [
         "Hon-M219",
         "Honda",
         null
        ],
        [
         "For-M20",
         "Ford",
         null
        ],
        [
         "Aud-M233",
         "Audi",
         null
        ],
        [
         "Acu-M60",
         "Acura",
         null
        ],
        [
         "Hon-M217",
         "Honda",
         null
        ],
        [
         "Tes-M97",
         "Tesla",
         null
        ],
        [
         "Mar-M138",
         "Maruti Suzuki",
         null
        ],
        [
         "Che-M41",
         "Chevrolet",
         null
        ],
        [
         "Tat-M191",
         "Tata",
         null
        ],
        [
         "Toy-M102",
         "Toyota",
         null
        ],
        [
         "Nis-M87",
         "Nissan",
         null
        ],
        [
         "BMW-M2",
         "BMW",
         null
        ],
        [
         "GMC-M57",
         "GMC",
         null
        ],
        [
         "Peu-M124",
         "Peugeot",
         null
        ],
        [
         "GMC-M52",
         "GMC",
         null
        ],
        [
         "Hyu-M158",
         "Hyundai",
         null
        ],
        [
         "Vol-M260",
         "Volkswagen",
         null
        ],
        [
         "Nis-M86",
         "Nissan",
         null
        ],
        [
         "Toy-M201",
         "Toyota",
         null
        ],
        [
         "Hon-M66",
         "Honda",
         null
        ],
        [
         "Ren-M132",
         "Renault",
         null
        ],
        [
         "BMW-M5",
         "BMW",
         null
        ],
        [
         "Ren-M210",
         "Renault",
         null
        ],
        [
         "Acu-M63",
         "Acura",
         null
        ],
        [
         "Mah-M173",
         "Mahindra",
         null
        ],
        [
         "Tes-M96",
         "Tesla",
         null
        ],
        [
         "Nis-M88",
         "Nissan",
         null
        ],
        [
         "Tat-M183",
         "Tata",
         null
        ],
        [
         "Cad-M35",
         "Cadillac",
         null
        ],
        [
         "Hon-M215",
         "Honda",
         null
        ],
        [
         "Aud-M236",
         "Audi",
         null
        ],
        [
         "Mit-M275",
         "Mitsubishi",
         null
        ],
        [
         "Peu-M125",
         "Peugeot",
         null
        ],
        [
         "Vol-M259",
         "Volkswagen",
         null
        ],
        [
         "Nis-M84",
         "Nissan",
         null
        ],
        [
         "Tat-M179",
         "Tata",
         null
        ],
        [
         "For-M17",
         "Ford",
         null
        ],
        [
         "Tat-M193",
         "Tata",
         null
        ],
        [
         "GMC-M56",
         "GMC",
         null
        ],
        [
         "Aud-M228",
         "Audi",
         null
        ],
        [
         "Inf-M79",
         "Infiniti",
         null
        ],
        [
         "Hon-M64",
         "Honda",
         null
        ],
        [
         "Che-M46",
         "Chevrolet",
         null
        ],
        [
         "Mar-M144",
         "Maruti Suzuki",
         null
        ],
        [
         "For-M16",
         "Ford",
         null
        ],
        [
         "Nis-M85",
         "Nissan",
         null
        ],
        [
         "Aud-M237",
         "Audi",
         null
        ],
        [
         "Sub-M94",
         "Subaru",
         null
        ],
        [
         "Cad-M38",
         "Cadillac",
         null
        ],
        [
         "Nis-M83",
         "Nissan",
         null
        ],
        [
         "Kia-M214",
         "Kia",
         null
        ],
        [
         "Hyu-M72",
         "Hyundai",
         null
        ],
        [
         "Che-M47",
         "Chevrolet",
         null
        ],
        [
         "Mar-M145",
         "Maruti Suzuki",
         null
        ],
        [
         "Acu-M62",
         "Acura",
         null
        ],
        [
         "Che-M45",
         "Chevrolet",
         null
        ],
        [
         "Aud-M230",
         "Audi",
         null
        ],
        [
         "Mar-M143",
         "Maruti Suzuki",
         null
        ],
        [
         "Agr-M112",
         "Agrale",
         null
        ],
        [
         "Hon-M67",
         "Honda",
         null
        ],
        [
         "Mar-M150",
         "Maruti Suzuki",
         null
        ],
        [
         "Jee-M11",
         "Jeep",
         null
        ],
        [
         "Ren-M128",
         "Renault",
         null
        ],
        [
         "For-M18",
         "Ford",
         null
        ],
        [
         "Mar-M146",
         "Maruti Suzuki",
         null
        ],
        [
         "For-M19",
         "Ford",
         null
        ],
        [
         "Nis-M80",
         "Nissan",
         null
        ],
        [
         "Mar-M139",
         "Maruti Suzuki",
         null
        ],
        [
         "Che-M40",
         "Chevrolet",
         null
        ],
        [
         "Mah-M165",
         "Mahindra",
         null
        ],
        [
         "Toy-M199",
         "Toyota",
         null
        ],
        [
         "Cit-M116",
         "Citroën",
         null
        ],
        [
         "Cad-M39",
         "Cadillac",
         null
        ],
        [
         "Nis-M89",
         "Nissan",
         null
        ],
        [
         "Aud-M240",
         "Audi",
         null
        ],
        [
         "For-M24",
         "Ford",
         null
        ],
        [
         "Nis-M264",
         "Nissan",
         null
        ],
        [
         "Mer-M6",
         "Mercedes-Benz",
         null
        ],
        [
         "Bui-M31",
         "Buick",
         null
        ],
        [
         "Toy-M103",
         "Toyota",
         null
        ],
        [
         "Mah-M170",
         "Mahindra",
         null
        ],
        [
         "Ren-M130",
         "Renault",
         null
        ],
        [
         "Toy-M100",
         "Toyota",
         null
        ],
        [
         "BMW-M247",
         "BMW",
         null
        ],
        [
         "Ren-M207",
         "Renault",
         null
        ],
        [
         "Hon-M218",
         "Honda",
         null
        ],
        [
         "Lin-M28",
         "Lincoln",
         null
        ],
        [
         "Kia-M212",
         "Kia",
         null
        ],
        [
         "Tat-M194",
         "Tata",
         null
        ],
        [
         "Mah-M167",
         "Mahindra",
         null
        ],
        [
         "Acu-M61",
         "Acura",
         null
        ],
        [
         "Riv-M90",
         "Rivian",
         null
        ],
        [
         "Mar-M142",
         "Maruti Suzuki",
         null
        ],
        [
         "For-M221",
         "Ford",
         null
        ],
        [
         "Sko-M274",
         "Skoda",
         null
        ],
        [
         "Sub-M93",
         "Subaru",
         null
        ],
        [
         "For-M223",
         "Ford",
         null
        ],
        [
         "For-M22",
         "Ford",
         null
        ],
        [
         "Vol-M109",
         "Volkswagen",
         null
        ],
        [
         "Toy-M133",
         "Toyota",
         null
        ],
        [
         "For-M224",
         "Ford",
         null
        ],
        [
         "Sko-M272",
         "Skoda",
         null
        ],
        [
         "Hon-M220",
         "Honda",
         null
        ],
        [
         "Hyu-M164",
         "Hyundai",
         null
        ],
        [
         "Toy-M107",
         "Toyota",
         null
        ],
        [
         "Hyu-M160",
         "Hyundai",
         null
        ],
        [
         "Aud-M234",
         "Audi",
         null
        ],
        [
         "Fia-M118",
         "Fiat",
         null
        ],
        [
         "BMW-M245",
         "BMW",
         null
        ],
        [
         "Hyu-M73",
         "Hyundai",
         null
        ],
        [
         "Toy-M104",
         "Toyota",
         null
        ],
        [
         "Mah-M168",
         "Mahindra",
         null
        ],
        [
         "Jee-M253",
         "Jeep",
         null
        ]
       ],
       "datasetInfos": [],
       "dbfsResultPath": null,
       "isJsonSchema": true,
       "metadata": {},
       "overflow": false,
       "plotOptions": {
        "customPlotOptions": {},
        "displayType": "table",
        "pivotAggregation": null,
        "pivotColumns": null,
        "xColumns": null,
        "yColumns": null
       },
       "removedWidgets": [],
       "schema": [
        {
         "metadata": "{}",
         "name": "Model_ID",
         "type": "\"string\""
        },
        {
         "metadata": "{}",
         "name": "Product_Name",
         "type": "\"string\""
        },
        {
         "metadata": "{}",
         "name": "dim_model",
         "type": "\"integer\""
        }
       ],
       "type": "table"
      }
     },
     "output_type": "display_data"
    }
   ],
   "source": [
    "df_new=df_filter.filter(col(\"dim_model\").isNull())\n",
    "df_new.display()"
   ]
  },
  {
   "cell_type": "code",
   "execution_count": 0,
   "metadata": {
    "application/vnd.databricks.v1+cell": {
     "cellMetadata": {
      "byteLimit": 2048000,
      "rowLimit": 10000
     },
     "inputWidgets": {},
     "nuid": "f940ad60-548e-4eb4-af2e-67151303e8d7",
     "showTitle": false,
     "tableResultSettingsMap": {},
     "title": ""
    }
   },
   "outputs": [],
   "source": [
    "if (incremental_flag=='0'):\n",
    "    max_value=0\n",
    "else:\n",
    "    max_value_df=spark.sql(\"select max(dim_model) from hive_metastore.default.dim_model\")\n",
    "    max_value= max_value_df.collect()[0][0]"
   ]
  },
  {
   "cell_type": "code",
   "execution_count": 0,
   "metadata": {
    "application/vnd.databricks.v1+cell": {
     "cellMetadata": {
      "byteLimit": 2048000,
      "rowLimit": 10000
     },
     "inputWidgets": {},
     "nuid": "d9f0fb5a-86b6-4d64-98ef-f8c2e7a0bb35",
     "showTitle": false,
     "tableResultSettingsMap": {},
     "title": ""
    }
   },
   "outputs": [],
   "source": [
    "df_final=df_new.withColumn(\"dim_model\", max_value+ monotonically_increasing_id()+1)\n"
   ]
  },
  {
   "cell_type": "code",
   "execution_count": 0,
   "metadata": {
    "application/vnd.databricks.v1+cell": {
     "cellMetadata": {
      "byteLimit": 2048000,
      "rowLimit": 10000
     },
     "inputWidgets": {},
     "nuid": "a3290515-088a-4b98-8b7b-63a7bb0eeb07",
     "showTitle": false,
     "tableResultSettingsMap": {},
     "title": ""
    }
   },
   "outputs": [
    {
     "data": {
      "text/html": [
       "<style scoped>\n",
       "  .table-result-container {\n",
       "    max-height: 300px;\n",
       "    overflow: auto;\n",
       "  }\n",
       "  table, th, td {\n",
       "    border: 1px solid black;\n",
       "    border-collapse: collapse;\n",
       "  }\n",
       "  th, td {\n",
       "    padding: 5px;\n",
       "  }\n",
       "  th {\n",
       "    text-align: left;\n",
       "  }\n",
       "</style><div class='table-result-container'><table class='table-result'><thead style='background-color: white'><tr><th>Model_ID</th><th>Product_Name</th><th>dim_model</th></tr></thead><tbody><tr><td>Mar-M137</td><td>Maruti Suzuki</td><td>1</td></tr><tr><td>BMW-M249</td><td>BMW</td><td>2</td></tr><tr><td>Lin-M27</td><td>Lincoln</td><td>3</td></tr><tr><td>Mer-M8</td><td>Mercedes-Benz</td><td>4</td></tr><tr><td>Che-M42</td><td>Chevrolet</td><td>5</td></tr><tr><td>Che-M48</td><td>Chevrolet</td><td>6</td></tr><tr><td>Tat-M190</td><td>Tata</td><td>7</td></tr><tr><td>Mit-M277</td><td>Mitsubishi</td><td>8</td></tr><tr><td>Che-M49</td><td>Chevrolet</td><td>9</td></tr><tr><td>Tat-M181</td><td>Tata</td><td>10</td></tr><tr><td>Hyu-M157</td><td>Hyundai</td><td>11</td></tr><tr><td>Cad-M34</td><td>Cadillac</td><td>12</td></tr><tr><td>Aud-M235</td><td>Audi</td><td>13</td></tr><tr><td>Mah-M166</td><td>Mahindra</td><td>14</td></tr><tr><td>Hon-M70</td><td>Honda</td><td>15</td></tr><tr><td>Ram-M14</td><td>Ram</td><td>16</td></tr><tr><td>Nis-M268</td><td>Nissan</td><td>17</td></tr><tr><td>Toy-M204</td><td>Toyota</td><td>18</td></tr><tr><td>Ren-M127</td><td>Renault</td><td>19</td></tr><tr><td>Toy-M105</td><td>Toyota</td><td>20</td></tr><tr><td>Mar-M140</td><td>Maruti Suzuki</td><td>21</td></tr><tr><td>Tat-M189</td><td>Tata</td><td>22</td></tr><tr><td>BMW-M3</td><td>BMW</td><td>23</td></tr><tr><td>Ren-M129</td><td>Renault</td><td>24</td></tr><tr><td>For-M25</td><td>Ford</td><td>25</td></tr><tr><td>Hyu-M74</td><td>Hyundai</td><td>26</td></tr><tr><td>BMW-M250</td><td>BMW</td><td>27</td></tr><tr><td>Hyu-M153</td><td>Hyundai</td><td>28</td></tr><tr><td>Nis-M263</td><td>Nissan</td><td>29</td></tr><tr><td>Mah-M178</td><td>Mahindra</td><td>30</td></tr><tr><td>Toy-M195</td><td>Toyota</td><td>31</td></tr><tr><td>Lin-M29</td><td>Lincoln</td><td>32</td></tr><tr><td>Toy-M206</td><td>Toyota</td><td>33</td></tr><tr><td>Sub-M95</td><td>Subaru</td><td>34</td></tr><tr><td>Nis-M265</td><td>Nissan</td><td>35</td></tr><tr><td>Peu-M126</td><td>Peugeot</td><td>36</td></tr><tr><td>Mer-M123</td><td>Mercedes-Benz</td><td>37</td></tr><tr><td>Kia-M76</td><td>Kia</td><td>38</td></tr><tr><td>Che-M44</td><td>Chevrolet</td><td>39</td></tr><tr><td>Acu-M59</td><td>Acura</td><td>40</td></tr><tr><td>Hyu-M155</td><td>Hyundai</td><td>41</td></tr><tr><td>Tat-M192</td><td>Tata</td><td>42</td></tr><tr><td>Lex-M99</td><td>Lexus</td><td>43</td></tr><tr><td>Nis-M267</td><td>Nissan</td><td>44</td></tr><tr><td>Mar-M147</td><td>Maruti Suzuki</td><td>45</td></tr><tr><td>Aud-M241</td><td>Audi</td><td>46</td></tr><tr><td>Aud-M231</td><td>Audi</td><td>47</td></tr><tr><td>Tat-M187</td><td>Tata</td><td>48</td></tr><tr><td>Hon-M120</td><td>Honda</td><td>49</td></tr><tr><td>Tat-M184</td><td>Tata</td><td>50</td></tr><tr><td>Tat-M186</td><td>Tata</td><td>51</td></tr><tr><td>Mar-M148</td><td>Maruti Suzuki</td><td>52</td></tr><tr><td>Toy-M106</td><td>Toyota</td><td>53</td></tr><tr><td>Aud-M232</td><td>Audi</td><td>54</td></tr><tr><td>For-M26</td><td>Ford</td><td>55</td></tr><tr><td>BMW-M4</td><td>BMW</td><td>56</td></tr><tr><td>Sko-M271</td><td>Skoda</td><td>57</td></tr><tr><td>Mar-M149</td><td>Maruti Suzuki</td><td>58</td></tr><tr><td>Che-M114</td><td>Chevrolet</td><td>59</td></tr><tr><td>Hyu-M156</td><td>Hyundai</td><td>60</td></tr><tr><td>Mit-M276</td><td>Mitsubishi</td><td>61</td></tr><tr><td>Aud-M229</td><td>Audi</td><td>62</td></tr><tr><td>Toy-M196</td><td>Toyota</td><td>63</td></tr><tr><td>Hyu-M75</td><td>Hyundai</td><td>64</td></tr><tr><td>Tat-M188</td><td>Tata</td><td>65</td></tr><tr><td>Toy-M203</td><td>Toyota</td><td>66</td></tr><tr><td>Toy-M101</td><td>Toyota</td><td>67</td></tr><tr><td>For-M23</td><td>Ford</td><td>68</td></tr><tr><td>Mar-M151</td><td>Maruti Suzuki</td><td>69</td></tr><tr><td>Nis-M81</td><td>Nissan</td><td>70</td></tr><tr><td>BMW-M242</td><td>BMW</td><td>71</td></tr><tr><td>Toy-M198</td><td>Toyota</td><td>72</td></tr><tr><td>Ren-M211</td><td>Renault</td><td>73</td></tr><tr><td>Vol-M135</td><td>Volkswagen</td><td>74</td></tr><tr><td>Vol-M136</td><td>Volkswagen</td><td>75</td></tr><tr><td>Hyu-M161</td><td>Hyundai</td><td>76</td></tr><tr><td>Cad-M32</td><td>Cadillac</td><td>77</td></tr><tr><td>Toy-M197</td><td>Toyota</td><td>78</td></tr><tr><td>Kia-M77</td><td>Kia</td><td>79</td></tr><tr><td>Mah-M172</td><td>Mahindra</td><td>80</td></tr><tr><td>Vol-M110</td><td>Volvo</td><td>81</td></tr><tr><td>BMW-M248</td><td>BMW</td><td>82</td></tr><tr><td>For-M21</td><td>Ford</td><td>83</td></tr><tr><td>Tat-M180</td><td>Tata</td><td>84</td></tr><tr><td>Lin-M30</td><td>Lincoln</td><td>85</td></tr><tr><td>Mah-M177</td><td>Mahindra</td><td>86</td></tr><tr><td>Aud-M238</td><td>Audi</td><td>87</td></tr><tr><td>GMC-M53</td><td>GMC</td><td>88</td></tr><tr><td>Nis-M82</td><td>Nissan</td><td>89</td></tr><tr><td>Tat-M182</td><td>Tata</td><td>90</td></tr><tr><td>Aud-M239</td><td>Audi</td><td>91</td></tr><tr><td>Hon-M216</td><td>Honda</td><td>92</td></tr><tr><td>Ren-M209</td><td>Renault</td><td>93</td></tr><tr><td>Mar-M141</td><td>Maruti Suzuki</td><td>94</td></tr><tr><td>Agr-M113</td><td>Agrale</td><td>95</td></tr><tr><td>Sub-M92</td><td>Subaru</td><td>96</td></tr><tr><td>Mah-M169</td><td>Mahindra</td><td>97</td></tr><tr><td>GMC-M55</td><td>GMC</td><td>98</td></tr><tr><td>BMW-M244</td><td>BMW</td><td>99</td></tr><tr><td>Nis-M262</td><td>Nissan</td><td>100</td></tr><tr><td>Kia-M78</td><td>Kia</td><td>101</td></tr><tr><td>Mah-M176</td><td>Mahindra</td><td>102</td></tr><tr><td>Ram-M15</td><td>Ram</td><td>103</td></tr><tr><td>Ren-M131</td><td>Renault</td><td>104</td></tr><tr><td>Mah-M171</td><td>Mahindra</td><td>105</td></tr><tr><td>Dod-M9</td><td>Dodge</td><td>106</td></tr><tr><td>Mah-M175</td><td>Mahindra</td><td>107</td></tr><tr><td>Jee-M10</td><td>Jeep</td><td>108</td></tr><tr><td>Toy-M202</td><td>Toyota</td><td>109</td></tr><tr><td>Hyu-M154</td><td>Hyundai</td><td>110</td></tr><tr><td>Hon-M68</td><td>Honda</td><td>111</td></tr><tr><td>Che-M50</td><td>Chevrolet</td><td>112</td></tr><tr><td>Agr-M111</td><td>Agrale</td><td>113</td></tr><tr><td>Mer-M122</td><td>Mercedes-Benz</td><td>114</td></tr><tr><td>Tes-M98</td><td>Tesla</td><td>115</td></tr><tr><td>Cit-M115</td><td>Citroën</td><td>116</td></tr><tr><td>Hon-M71</td><td>Honda</td><td>117</td></tr><tr><td>Nis-M261</td><td>Nissan</td><td>118</td></tr><tr><td>Che-M51</td><td>Chevrolet</td><td>119</td></tr><tr><td>Vol-M108</td><td>Volkswagen</td><td>120</td></tr><tr><td>Hyu-M159</td><td>Hyundai</td><td>121</td></tr><tr><td>For-M225</td><td>Ford</td><td>122</td></tr><tr><td>Riv-M91</td><td>Rivian</td><td>123</td></tr><tr><td>Mer-M7</td><td>Mercedes-Benz</td><td>124</td></tr><tr><td>Cad-M37</td><td>Cadillac</td><td>125</td></tr><tr><td>Sko-M273</td><td>Skoda</td><td>126</td></tr><tr><td>Jee-M254</td><td>Jeep</td><td>127</td></tr><tr><td>Vol-M257</td><td>Volkswagen</td><td>128</td></tr><tr><td>Vol-M258</td><td>Volkswagen</td><td>129</td></tr><tr><td>Fia-M117</td><td>Fiat</td><td>130</td></tr><tr><td>For-M226</td><td>Ford</td><td>131</td></tr><tr><td>MG-M252</td><td>MG</td><td>132</td></tr><tr><td>Mah-M174</td><td>Mahindra</td><td>133</td></tr><tr><td>Aud-M227</td><td>Audi</td><td>134</td></tr><tr><td>For-M222</td><td>Ford</td><td>135</td></tr><tr><td>Jee-M12</td><td>Jeep</td><td>136</td></tr><tr><td>Kia-M213</td><td>Kia</td><td>137</td></tr><tr><td>Cad-M33</td><td>Cadillac</td><td>138</td></tr><tr><td>Hon-M65</td><td>Honda</td><td>139</td></tr><tr><td>BMW-M1</td><td>BMW</td><td>140</td></tr><tr><td>Hyu-M162</td><td>Hyundai</td><td>141</td></tr><tr><td>BMW-M246</td><td>BMW</td><td>142</td></tr><tr><td>Toy-M200</td><td>Toyota</td><td>143</td></tr><tr><td>Toy-M205</td><td>Toyota</td><td>144</td></tr><tr><td>GMC-M58</td><td>GMC</td><td>145</td></tr><tr><td>Nis-M266</td><td>Nissan</td><td>146</td></tr><tr><td>Mar-M152</td><td>Maruti Suzuki</td><td>147</td></tr><tr><td>Che-M43</td><td>Chevrolet</td><td>148</td></tr><tr><td>Vol-M255</td><td>Volkswagen</td><td>149</td></tr><tr><td>Ren-M208</td><td>Renault</td><td>150</td></tr><tr><td>Cad-M36</td><td>Cadillac</td><td>151</td></tr><tr><td>Nis-M269</td><td>Nissan</td><td>152</td></tr><tr><td>BMW-M243</td><td>BMW</td><td>153</td></tr><tr><td>Jee-M13</td><td>Jeep</td><td>154</td></tr><tr><td>Hon-M69</td><td>Honda</td><td>155</td></tr><tr><td>Hyu-M163</td><td>Hyundai</td><td>156</td></tr><tr><td>Toy-M134</td><td>Toyota</td><td>157</td></tr><tr><td>Nis-M270</td><td>Nissan</td><td>158</td></tr><tr><td>Vol-M256</td><td>Volkswagen</td><td>159</td></tr><tr><td>Mer-M121</td><td>Mercedes-Benz</td><td>160</td></tr><tr><td>Tat-M185</td><td>Tata</td><td>161</td></tr><tr><td>MG-M251</td><td>MG</td><td>162</td></tr><tr><td>GMC-M54</td><td>GMC</td><td>163</td></tr><tr><td>For-M119</td><td>Ford</td><td>164</td></tr><tr><td>Hon-M219</td><td>Honda</td><td>165</td></tr><tr><td>For-M20</td><td>Ford</td><td>166</td></tr><tr><td>Aud-M233</td><td>Audi</td><td>167</td></tr><tr><td>Acu-M60</td><td>Acura</td><td>168</td></tr><tr><td>Hon-M217</td><td>Honda</td><td>169</td></tr><tr><td>Tes-M97</td><td>Tesla</td><td>170</td></tr><tr><td>Mar-M138</td><td>Maruti Suzuki</td><td>171</td></tr><tr><td>Che-M41</td><td>Chevrolet</td><td>172</td></tr><tr><td>Tat-M191</td><td>Tata</td><td>173</td></tr><tr><td>Toy-M102</td><td>Toyota</td><td>174</td></tr><tr><td>Nis-M87</td><td>Nissan</td><td>175</td></tr><tr><td>BMW-M2</td><td>BMW</td><td>176</td></tr><tr><td>GMC-M57</td><td>GMC</td><td>177</td></tr><tr><td>Peu-M124</td><td>Peugeot</td><td>178</td></tr><tr><td>GMC-M52</td><td>GMC</td><td>179</td></tr><tr><td>Hyu-M158</td><td>Hyundai</td><td>180</td></tr><tr><td>Vol-M260</td><td>Volkswagen</td><td>181</td></tr><tr><td>Nis-M86</td><td>Nissan</td><td>182</td></tr><tr><td>Toy-M201</td><td>Toyota</td><td>183</td></tr><tr><td>Hon-M66</td><td>Honda</td><td>184</td></tr><tr><td>Ren-M132</td><td>Renault</td><td>185</td></tr><tr><td>BMW-M5</td><td>BMW</td><td>186</td></tr><tr><td>Ren-M210</td><td>Renault</td><td>187</td></tr><tr><td>Acu-M63</td><td>Acura</td><td>188</td></tr><tr><td>Mah-M173</td><td>Mahindra</td><td>189</td></tr><tr><td>Tes-M96</td><td>Tesla</td><td>190</td></tr><tr><td>Nis-M88</td><td>Nissan</td><td>191</td></tr><tr><td>Tat-M183</td><td>Tata</td><td>192</td></tr><tr><td>Cad-M35</td><td>Cadillac</td><td>193</td></tr><tr><td>Hon-M215</td><td>Honda</td><td>194</td></tr><tr><td>Aud-M236</td><td>Audi</td><td>195</td></tr><tr><td>Mit-M275</td><td>Mitsubishi</td><td>196</td></tr><tr><td>Peu-M125</td><td>Peugeot</td><td>197</td></tr><tr><td>Vol-M259</td><td>Volkswagen</td><td>198</td></tr><tr><td>Nis-M84</td><td>Nissan</td><td>199</td></tr><tr><td>Tat-M179</td><td>Tata</td><td>200</td></tr><tr><td>For-M17</td><td>Ford</td><td>201</td></tr><tr><td>Tat-M193</td><td>Tata</td><td>202</td></tr><tr><td>GMC-M56</td><td>GMC</td><td>203</td></tr><tr><td>Aud-M228</td><td>Audi</td><td>204</td></tr><tr><td>Inf-M79</td><td>Infiniti</td><td>205</td></tr><tr><td>Hon-M64</td><td>Honda</td><td>206</td></tr><tr><td>Che-M46</td><td>Chevrolet</td><td>207</td></tr><tr><td>Mar-M144</td><td>Maruti Suzuki</td><td>208</td></tr><tr><td>For-M16</td><td>Ford</td><td>209</td></tr><tr><td>Nis-M85</td><td>Nissan</td><td>210</td></tr><tr><td>Aud-M237</td><td>Audi</td><td>211</td></tr><tr><td>Sub-M94</td><td>Subaru</td><td>212</td></tr><tr><td>Cad-M38</td><td>Cadillac</td><td>213</td></tr><tr><td>Nis-M83</td><td>Nissan</td><td>214</td></tr><tr><td>Kia-M214</td><td>Kia</td><td>215</td></tr><tr><td>Hyu-M72</td><td>Hyundai</td><td>216</td></tr><tr><td>Che-M47</td><td>Chevrolet</td><td>217</td></tr><tr><td>Mar-M145</td><td>Maruti Suzuki</td><td>218</td></tr><tr><td>Acu-M62</td><td>Acura</td><td>219</td></tr><tr><td>Che-M45</td><td>Chevrolet</td><td>220</td></tr><tr><td>Aud-M230</td><td>Audi</td><td>221</td></tr><tr><td>Mar-M143</td><td>Maruti Suzuki</td><td>222</td></tr><tr><td>Agr-M112</td><td>Agrale</td><td>223</td></tr><tr><td>Hon-M67</td><td>Honda</td><td>224</td></tr><tr><td>Mar-M150</td><td>Maruti Suzuki</td><td>225</td></tr><tr><td>Jee-M11</td><td>Jeep</td><td>226</td></tr><tr><td>Ren-M128</td><td>Renault</td><td>227</td></tr><tr><td>For-M18</td><td>Ford</td><td>228</td></tr><tr><td>Mar-M146</td><td>Maruti Suzuki</td><td>229</td></tr><tr><td>For-M19</td><td>Ford</td><td>230</td></tr><tr><td>Nis-M80</td><td>Nissan</td><td>231</td></tr><tr><td>Mar-M139</td><td>Maruti Suzuki</td><td>232</td></tr><tr><td>Che-M40</td><td>Chevrolet</td><td>233</td></tr><tr><td>Mah-M165</td><td>Mahindra</td><td>234</td></tr><tr><td>Toy-M199</td><td>Toyota</td><td>235</td></tr><tr><td>Cit-M116</td><td>Citroën</td><td>236</td></tr><tr><td>Cad-M39</td><td>Cadillac</td><td>237</td></tr><tr><td>Nis-M89</td><td>Nissan</td><td>238</td></tr><tr><td>Aud-M240</td><td>Audi</td><td>239</td></tr><tr><td>For-M24</td><td>Ford</td><td>240</td></tr><tr><td>Nis-M264</td><td>Nissan</td><td>241</td></tr><tr><td>Mer-M6</td><td>Mercedes-Benz</td><td>242</td></tr><tr><td>Bui-M31</td><td>Buick</td><td>243</td></tr><tr><td>Toy-M103</td><td>Toyota</td><td>244</td></tr><tr><td>Mah-M170</td><td>Mahindra</td><td>245</td></tr><tr><td>Ren-M130</td><td>Renault</td><td>246</td></tr><tr><td>Toy-M100</td><td>Toyota</td><td>247</td></tr><tr><td>BMW-M247</td><td>BMW</td><td>248</td></tr><tr><td>Ren-M207</td><td>Renault</td><td>249</td></tr><tr><td>Hon-M218</td><td>Honda</td><td>250</td></tr><tr><td>Lin-M28</td><td>Lincoln</td><td>251</td></tr><tr><td>Kia-M212</td><td>Kia</td><td>252</td></tr><tr><td>Tat-M194</td><td>Tata</td><td>253</td></tr><tr><td>Mah-M167</td><td>Mahindra</td><td>254</td></tr><tr><td>Acu-M61</td><td>Acura</td><td>255</td></tr><tr><td>Riv-M90</td><td>Rivian</td><td>256</td></tr><tr><td>Mar-M142</td><td>Maruti Suzuki</td><td>257</td></tr><tr><td>For-M221</td><td>Ford</td><td>258</td></tr><tr><td>Sko-M274</td><td>Skoda</td><td>259</td></tr><tr><td>Sub-M93</td><td>Subaru</td><td>260</td></tr><tr><td>For-M223</td><td>Ford</td><td>261</td></tr><tr><td>For-M22</td><td>Ford</td><td>262</td></tr><tr><td>Vol-M109</td><td>Volkswagen</td><td>263</td></tr><tr><td>Toy-M133</td><td>Toyota</td><td>264</td></tr><tr><td>For-M224</td><td>Ford</td><td>265</td></tr><tr><td>Sko-M272</td><td>Skoda</td><td>266</td></tr><tr><td>Hon-M220</td><td>Honda</td><td>267</td></tr><tr><td>Hyu-M164</td><td>Hyundai</td><td>268</td></tr><tr><td>Toy-M107</td><td>Toyota</td><td>269</td></tr><tr><td>Hyu-M160</td><td>Hyundai</td><td>270</td></tr><tr><td>Aud-M234</td><td>Audi</td><td>271</td></tr><tr><td>Fia-M118</td><td>Fiat</td><td>272</td></tr><tr><td>BMW-M245</td><td>BMW</td><td>273</td></tr><tr><td>Hyu-M73</td><td>Hyundai</td><td>274</td></tr><tr><td>Toy-M104</td><td>Toyota</td><td>275</td></tr><tr><td>Mah-M168</td><td>Mahindra</td><td>276</td></tr><tr><td>Jee-M253</td><td>Jeep</td><td>277</td></tr></tbody></table></div>"
      ]
     },
     "metadata": {
      "application/vnd.databricks.v1+output": {
       "addedWidgets": {},
       "aggData": [],
       "aggError": "",
       "aggOverflow": false,
       "aggSchema": [],
       "aggSeriesLimitReached": false,
       "aggType": "",
       "arguments": {},
       "columnCustomDisplayInfos": {},
       "data": [
        [
         "Mar-M137",
         "Maruti Suzuki",
         1
        ],
        [
         "BMW-M249",
         "BMW",
         2
        ],
        [
         "Lin-M27",
         "Lincoln",
         3
        ],
        [
         "Mer-M8",
         "Mercedes-Benz",
         4
        ],
        [
         "Che-M42",
         "Chevrolet",
         5
        ],
        [
         "Che-M48",
         "Chevrolet",
         6
        ],
        [
         "Tat-M190",
         "Tata",
         7
        ],
        [
         "Mit-M277",
         "Mitsubishi",
         8
        ],
        [
         "Che-M49",
         "Chevrolet",
         9
        ],
        [
         "Tat-M181",
         "Tata",
         10
        ],
        [
         "Hyu-M157",
         "Hyundai",
         11
        ],
        [
         "Cad-M34",
         "Cadillac",
         12
        ],
        [
         "Aud-M235",
         "Audi",
         13
        ],
        [
         "Mah-M166",
         "Mahindra",
         14
        ],
        [
         "Hon-M70",
         "Honda",
         15
        ],
        [
         "Ram-M14",
         "Ram",
         16
        ],
        [
         "Nis-M268",
         "Nissan",
         17
        ],
        [
         "Toy-M204",
         "Toyota",
         18
        ],
        [
         "Ren-M127",
         "Renault",
         19
        ],
        [
         "Toy-M105",
         "Toyota",
         20
        ],
        [
         "Mar-M140",
         "Maruti Suzuki",
         21
        ],
        [
         "Tat-M189",
         "Tata",
         22
        ],
        [
         "BMW-M3",
         "BMW",
         23
        ],
        [
         "Ren-M129",
         "Renault",
         24
        ],
        [
         "For-M25",
         "Ford",
         25
        ],
        [
         "Hyu-M74",
         "Hyundai",
         26
        ],
        [
         "BMW-M250",
         "BMW",
         27
        ],
        [
         "Hyu-M153",
         "Hyundai",
         28
        ],
        [
         "Nis-M263",
         "Nissan",
         29
        ],
        [
         "Mah-M178",
         "Mahindra",
         30
        ],
        [
         "Toy-M195",
         "Toyota",
         31
        ],
        [
         "Lin-M29",
         "Lincoln",
         32
        ],
        [
         "Toy-M206",
         "Toyota",
         33
        ],
        [
         "Sub-M95",
         "Subaru",
         34
        ],
        [
         "Nis-M265",
         "Nissan",
         35
        ],
        [
         "Peu-M126",
         "Peugeot",
         36
        ],
        [
         "Mer-M123",
         "Mercedes-Benz",
         37
        ],
        [
         "Kia-M76",
         "Kia",
         38
        ],
        [
         "Che-M44",
         "Chevrolet",
         39
        ],
        [
         "Acu-M59",
         "Acura",
         40
        ],
        [
         "Hyu-M155",
         "Hyundai",
         41
        ],
        [
         "Tat-M192",
         "Tata",
         42
        ],
        [
         "Lex-M99",
         "Lexus",
         43
        ],
        [
         "Nis-M267",
         "Nissan",
         44
        ],
        [
         "Mar-M147",
         "Maruti Suzuki",
         45
        ],
        [
         "Aud-M241",
         "Audi",
         46
        ],
        [
         "Aud-M231",
         "Audi",
         47
        ],
        [
         "Tat-M187",
         "Tata",
         48
        ],
        [
         "Hon-M120",
         "Honda",
         49
        ],
        [
         "Tat-M184",
         "Tata",
         50
        ],
        [
         "Tat-M186",
         "Tata",
         51
        ],
        [
         "Mar-M148",
         "Maruti Suzuki",
         52
        ],
        [
         "Toy-M106",
         "Toyota",
         53
        ],
        [
         "Aud-M232",
         "Audi",
         54
        ],
        [
         "For-M26",
         "Ford",
         55
        ],
        [
         "BMW-M4",
         "BMW",
         56
        ],
        [
         "Sko-M271",
         "Skoda",
         57
        ],
        [
         "Mar-M149",
         "Maruti Suzuki",
         58
        ],
        [
         "Che-M114",
         "Chevrolet",
         59
        ],
        [
         "Hyu-M156",
         "Hyundai",
         60
        ],
        [
         "Mit-M276",
         "Mitsubishi",
         61
        ],
        [
         "Aud-M229",
         "Audi",
         62
        ],
        [
         "Toy-M196",
         "Toyota",
         63
        ],
        [
         "Hyu-M75",
         "Hyundai",
         64
        ],
        [
         "Tat-M188",
         "Tata",
         65
        ],
        [
         "Toy-M203",
         "Toyota",
         66
        ],
        [
         "Toy-M101",
         "Toyota",
         67
        ],
        [
         "For-M23",
         "Ford",
         68
        ],
        [
         "Mar-M151",
         "Maruti Suzuki",
         69
        ],
        [
         "Nis-M81",
         "Nissan",
         70
        ],
        [
         "BMW-M242",
         "BMW",
         71
        ],
        [
         "Toy-M198",
         "Toyota",
         72
        ],
        [
         "Ren-M211",
         "Renault",
         73
        ],
        [
         "Vol-M135",
         "Volkswagen",
         74
        ],
        [
         "Vol-M136",
         "Volkswagen",
         75
        ],
        [
         "Hyu-M161",
         "Hyundai",
         76
        ],
        [
         "Cad-M32",
         "Cadillac",
         77
        ],
        [
         "Toy-M197",
         "Toyota",
         78
        ],
        [
         "Kia-M77",
         "Kia",
         79
        ],
        [
         "Mah-M172",
         "Mahindra",
         80
        ],
        [
         "Vol-M110",
         "Volvo",
         81
        ],
        [
         "BMW-M248",
         "BMW",
         82
        ],
        [
         "For-M21",
         "Ford",
         83
        ],
        [
         "Tat-M180",
         "Tata",
         84
        ],
        [
         "Lin-M30",
         "Lincoln",
         85
        ],
        [
         "Mah-M177",
         "Mahindra",
         86
        ],
        [
         "Aud-M238",
         "Audi",
         87
        ],
        [
         "GMC-M53",
         "GMC",
         88
        ],
        [
         "Nis-M82",
         "Nissan",
         89
        ],
        [
         "Tat-M182",
         "Tata",
         90
        ],
        [
         "Aud-M239",
         "Audi",
         91
        ],
        [
         "Hon-M216",
         "Honda",
         92
        ],
        [
         "Ren-M209",
         "Renault",
         93
        ],
        [
         "Mar-M141",
         "Maruti Suzuki",
         94
        ],
        [
         "Agr-M113",
         "Agrale",
         95
        ],
        [
         "Sub-M92",
         "Subaru",
         96
        ],
        [
         "Mah-M169",
         "Mahindra",
         97
        ],
        [
         "GMC-M55",
         "GMC",
         98
        ],
        [
         "BMW-M244",
         "BMW",
         99
        ],
        [
         "Nis-M262",
         "Nissan",
         100
        ],
        [
         "Kia-M78",
         "Kia",
         101
        ],
        [
         "Mah-M176",
         "Mahindra",
         102
        ],
        [
         "Ram-M15",
         "Ram",
         103
        ],
        [
         "Ren-M131",
         "Renault",
         104
        ],
        [
         "Mah-M171",
         "Mahindra",
         105
        ],
        [
         "Dod-M9",
         "Dodge",
         106
        ],
        [
         "Mah-M175",
         "Mahindra",
         107
        ],
        [
         "Jee-M10",
         "Jeep",
         108
        ],
        [
         "Toy-M202",
         "Toyota",
         109
        ],
        [
         "Hyu-M154",
         "Hyundai",
         110
        ],
        [
         "Hon-M68",
         "Honda",
         111
        ],
        [
         "Che-M50",
         "Chevrolet",
         112
        ],
        [
         "Agr-M111",
         "Agrale",
         113
        ],
        [
         "Mer-M122",
         "Mercedes-Benz",
         114
        ],
        [
         "Tes-M98",
         "Tesla",
         115
        ],
        [
         "Cit-M115",
         "Citroën",
         116
        ],
        [
         "Hon-M71",
         "Honda",
         117
        ],
        [
         "Nis-M261",
         "Nissan",
         118
        ],
        [
         "Che-M51",
         "Chevrolet",
         119
        ],
        [
         "Vol-M108",
         "Volkswagen",
         120
        ],
        [
         "Hyu-M159",
         "Hyundai",
         121
        ],
        [
         "For-M225",
         "Ford",
         122
        ],
        [
         "Riv-M91",
         "Rivian",
         123
        ],
        [
         "Mer-M7",
         "Mercedes-Benz",
         124
        ],
        [
         "Cad-M37",
         "Cadillac",
         125
        ],
        [
         "Sko-M273",
         "Skoda",
         126
        ],
        [
         "Jee-M254",
         "Jeep",
         127
        ],
        [
         "Vol-M257",
         "Volkswagen",
         128
        ],
        [
         "Vol-M258",
         "Volkswagen",
         129
        ],
        [
         "Fia-M117",
         "Fiat",
         130
        ],
        [
         "For-M226",
         "Ford",
         131
        ],
        [
         "MG-M252",
         "MG",
         132
        ],
        [
         "Mah-M174",
         "Mahindra",
         133
        ],
        [
         "Aud-M227",
         "Audi",
         134
        ],
        [
         "For-M222",
         "Ford",
         135
        ],
        [
         "Jee-M12",
         "Jeep",
         136
        ],
        [
         "Kia-M213",
         "Kia",
         137
        ],
        [
         "Cad-M33",
         "Cadillac",
         138
        ],
        [
         "Hon-M65",
         "Honda",
         139
        ],
        [
         "BMW-M1",
         "BMW",
         140
        ],
        [
         "Hyu-M162",
         "Hyundai",
         141
        ],
        [
         "BMW-M246",
         "BMW",
         142
        ],
        [
         "Toy-M200",
         "Toyota",
         143
        ],
        [
         "Toy-M205",
         "Toyota",
         144
        ],
        [
         "GMC-M58",
         "GMC",
         145
        ],
        [
         "Nis-M266",
         "Nissan",
         146
        ],
        [
         "Mar-M152",
         "Maruti Suzuki",
         147
        ],
        [
         "Che-M43",
         "Chevrolet",
         148
        ],
        [
         "Vol-M255",
         "Volkswagen",
         149
        ],
        [
         "Ren-M208",
         "Renault",
         150
        ],
        [
         "Cad-M36",
         "Cadillac",
         151
        ],
        [
         "Nis-M269",
         "Nissan",
         152
        ],
        [
         "BMW-M243",
         "BMW",
         153
        ],
        [
         "Jee-M13",
         "Jeep",
         154
        ],
        [
         "Hon-M69",
         "Honda",
         155
        ],
        [
         "Hyu-M163",
         "Hyundai",
         156
        ],
        [
         "Toy-M134",
         "Toyota",
         157
        ],
        [
         "Nis-M270",
         "Nissan",
         158
        ],
        [
         "Vol-M256",
         "Volkswagen",
         159
        ],
        [
         "Mer-M121",
         "Mercedes-Benz",
         160
        ],
        [
         "Tat-M185",
         "Tata",
         161
        ],
        [
         "MG-M251",
         "MG",
         162
        ],
        [
         "GMC-M54",
         "GMC",
         163
        ],
        [
         "For-M119",
         "Ford",
         164
        ],
        [
         "Hon-M219",
         "Honda",
         165
        ],
        [
         "For-M20",
         "Ford",
         166
        ],
        [
         "Aud-M233",
         "Audi",
         167
        ],
        [
         "Acu-M60",
         "Acura",
         168
        ],
        [
         "Hon-M217",
         "Honda",
         169
        ],
        [
         "Tes-M97",
         "Tesla",
         170
        ],
        [
         "Mar-M138",
         "Maruti Suzuki",
         171
        ],
        [
         "Che-M41",
         "Chevrolet",
         172
        ],
        [
         "Tat-M191",
         "Tata",
         173
        ],
        [
         "Toy-M102",
         "Toyota",
         174
        ],
        [
         "Nis-M87",
         "Nissan",
         175
        ],
        [
         "BMW-M2",
         "BMW",
         176
        ],
        [
         "GMC-M57",
         "GMC",
         177
        ],
        [
         "Peu-M124",
         "Peugeot",
         178
        ],
        [
         "GMC-M52",
         "GMC",
         179
        ],
        [
         "Hyu-M158",
         "Hyundai",
         180
        ],
        [
         "Vol-M260",
         "Volkswagen",
         181
        ],
        [
         "Nis-M86",
         "Nissan",
         182
        ],
        [
         "Toy-M201",
         "Toyota",
         183
        ],
        [
         "Hon-M66",
         "Honda",
         184
        ],
        [
         "Ren-M132",
         "Renault",
         185
        ],
        [
         "BMW-M5",
         "BMW",
         186
        ],
        [
         "Ren-M210",
         "Renault",
         187
        ],
        [
         "Acu-M63",
         "Acura",
         188
        ],
        [
         "Mah-M173",
         "Mahindra",
         189
        ],
        [
         "Tes-M96",
         "Tesla",
         190
        ],
        [
         "Nis-M88",
         "Nissan",
         191
        ],
        [
         "Tat-M183",
         "Tata",
         192
        ],
        [
         "Cad-M35",
         "Cadillac",
         193
        ],
        [
         "Hon-M215",
         "Honda",
         194
        ],
        [
         "Aud-M236",
         "Audi",
         195
        ],
        [
         "Mit-M275",
         "Mitsubishi",
         196
        ],
        [
         "Peu-M125",
         "Peugeot",
         197
        ],
        [
         "Vol-M259",
         "Volkswagen",
         198
        ],
        [
         "Nis-M84",
         "Nissan",
         199
        ],
        [
         "Tat-M179",
         "Tata",
         200
        ],
        [
         "For-M17",
         "Ford",
         201
        ],
        [
         "Tat-M193",
         "Tata",
         202
        ],
        [
         "GMC-M56",
         "GMC",
         203
        ],
        [
         "Aud-M228",
         "Audi",
         204
        ],
        [
         "Inf-M79",
         "Infiniti",
         205
        ],
        [
         "Hon-M64",
         "Honda",
         206
        ],
        [
         "Che-M46",
         "Chevrolet",
         207
        ],
        [
         "Mar-M144",
         "Maruti Suzuki",
         208
        ],
        [
         "For-M16",
         "Ford",
         209
        ],
        [
         "Nis-M85",
         "Nissan",
         210
        ],
        [
         "Aud-M237",
         "Audi",
         211
        ],
        [
         "Sub-M94",
         "Subaru",
         212
        ],
        [
         "Cad-M38",
         "Cadillac",
         213
        ],
        [
         "Nis-M83",
         "Nissan",
         214
        ],
        [
         "Kia-M214",
         "Kia",
         215
        ],
        [
         "Hyu-M72",
         "Hyundai",
         216
        ],
        [
         "Che-M47",
         "Chevrolet",
         217
        ],
        [
         "Mar-M145",
         "Maruti Suzuki",
         218
        ],
        [
         "Acu-M62",
         "Acura",
         219
        ],
        [
         "Che-M45",
         "Chevrolet",
         220
        ],
        [
         "Aud-M230",
         "Audi",
         221
        ],
        [
         "Mar-M143",
         "Maruti Suzuki",
         222
        ],
        [
         "Agr-M112",
         "Agrale",
         223
        ],
        [
         "Hon-M67",
         "Honda",
         224
        ],
        [
         "Mar-M150",
         "Maruti Suzuki",
         225
        ],
        [
         "Jee-M11",
         "Jeep",
         226
        ],
        [
         "Ren-M128",
         "Renault",
         227
        ],
        [
         "For-M18",
         "Ford",
         228
        ],
        [
         "Mar-M146",
         "Maruti Suzuki",
         229
        ],
        [
         "For-M19",
         "Ford",
         230
        ],
        [
         "Nis-M80",
         "Nissan",
         231
        ],
        [
         "Mar-M139",
         "Maruti Suzuki",
         232
        ],
        [
         "Che-M40",
         "Chevrolet",
         233
        ],
        [
         "Mah-M165",
         "Mahindra",
         234
        ],
        [
         "Toy-M199",
         "Toyota",
         235
        ],
        [
         "Cit-M116",
         "Citroën",
         236
        ],
        [
         "Cad-M39",
         "Cadillac",
         237
        ],
        [
         "Nis-M89",
         "Nissan",
         238
        ],
        [
         "Aud-M240",
         "Audi",
         239
        ],
        [
         "For-M24",
         "Ford",
         240
        ],
        [
         "Nis-M264",
         "Nissan",
         241
        ],
        [
         "Mer-M6",
         "Mercedes-Benz",
         242
        ],
        [
         "Bui-M31",
         "Buick",
         243
        ],
        [
         "Toy-M103",
         "Toyota",
         244
        ],
        [
         "Mah-M170",
         "Mahindra",
         245
        ],
        [
         "Ren-M130",
         "Renault",
         246
        ],
        [
         "Toy-M100",
         "Toyota",
         247
        ],
        [
         "BMW-M247",
         "BMW",
         248
        ],
        [
         "Ren-M207",
         "Renault",
         249
        ],
        [
         "Hon-M218",
         "Honda",
         250
        ],
        [
         "Lin-M28",
         "Lincoln",
         251
        ],
        [
         "Kia-M212",
         "Kia",
         252
        ],
        [
         "Tat-M194",
         "Tata",
         253
        ],
        [
         "Mah-M167",
         "Mahindra",
         254
        ],
        [
         "Acu-M61",
         "Acura",
         255
        ],
        [
         "Riv-M90",
         "Rivian",
         256
        ],
        [
         "Mar-M142",
         "Maruti Suzuki",
         257
        ],
        [
         "For-M221",
         "Ford",
         258
        ],
        [
         "Sko-M274",
         "Skoda",
         259
        ],
        [
         "Sub-M93",
         "Subaru",
         260
        ],
        [
         "For-M223",
         "Ford",
         261
        ],
        [
         "For-M22",
         "Ford",
         262
        ],
        [
         "Vol-M109",
         "Volkswagen",
         263
        ],
        [
         "Toy-M133",
         "Toyota",
         264
        ],
        [
         "For-M224",
         "Ford",
         265
        ],
        [
         "Sko-M272",
         "Skoda",
         266
        ],
        [
         "Hon-M220",
         "Honda",
         267
        ],
        [
         "Hyu-M164",
         "Hyundai",
         268
        ],
        [
         "Toy-M107",
         "Toyota",
         269
        ],
        [
         "Hyu-M160",
         "Hyundai",
         270
        ],
        [
         "Aud-M234",
         "Audi",
         271
        ],
        [
         "Fia-M118",
         "Fiat",
         272
        ],
        [
         "BMW-M245",
         "BMW",
         273
        ],
        [
         "Hyu-M73",
         "Hyundai",
         274
        ],
        [
         "Toy-M104",
         "Toyota",
         275
        ],
        [
         "Mah-M168",
         "Mahindra",
         276
        ],
        [
         "Jee-M253",
         "Jeep",
         277
        ]
       ],
       "datasetInfos": [],
       "dbfsResultPath": null,
       "isJsonSchema": true,
       "metadata": {},
       "overflow": false,
       "plotOptions": {
        "customPlotOptions": {},
        "displayType": "table",
        "pivotAggregation": null,
        "pivotColumns": null,
        "xColumns": null,
        "yColumns": null
       },
       "removedWidgets": [],
       "schema": [
        {
         "metadata": "{}",
         "name": "Model_ID",
         "type": "\"string\""
        },
        {
         "metadata": "{}",
         "name": "Product_Name",
         "type": "\"string\""
        },
        {
         "metadata": "{}",
         "name": "dim_model",
         "type": "\"long\""
        }
       ],
       "type": "table"
      }
     },
     "output_type": "display_data"
    }
   ],
   "source": [
    "df_new.display()"
   ]
  },
  {
   "cell_type": "code",
   "execution_count": 0,
   "metadata": {
    "application/vnd.databricks.v1+cell": {
     "cellMetadata": {
      "byteLimit": 2048000,
      "rowLimit": 10000
     },
     "inputWidgets": {},
     "nuid": "ecc6eebe-82c5-474b-9919-960571538241",
     "showTitle": false,
     "tableResultSettingsMap": {},
     "title": ""
    }
   },
   "outputs": [],
   "source": [
    "from delta.tables import DeltaTable"
   ]
  },
  {
   "cell_type": "code",
   "execution_count": 0,
   "metadata": {
    "application/vnd.databricks.v1+cell": {
     "cellMetadata": {
      "byteLimit": 2048000,
      "rowLimit": 10000
     },
     "inputWidgets": {},
     "nuid": "9ef457ae-b8ac-478c-83d0-c5c979232208",
     "showTitle": false,
     "tableResultSettingsMap": {},
     "title": ""
    }
   },
   "outputs": [],
   "source": [
    "if spark.catalog.tableExists('hive_metastore.default.dim_model'):\n",
    "    delta_tbl=DeltaTable.forPath(spark, \"abfss://gold@gurustorageadf.dfs.core.windows.net/dim_model\")\n",
    "    delta_tbl.alias(\"trt\").merge(df_final.alias(\"src\"),\"trt.dim_model=src.dim_model\")\\\n",
    "        .whenMatchedUpdateAll()\\\n",
    "        .whenNotMatchedInsertAll()\\\n",
    "        .execute()\n",
    "else:\n",
    "    df_final.write.format(\"delta\")\\\n",
    "        .mode(\"overwrite\")\\\n",
    "        .option(\"path\",\"abfss://gold@gurustorageadf.dfs.core.windows.net/dim_model\")\\\n",
    "        .saveAsTable(\"hive_metastore.default.dim_model\")"
   ]
  },
  {
   "cell_type": "code",
   "execution_count": 0,
   "metadata": {
    "application/vnd.databricks.v1+cell": {
     "cellMetadata": {
      "byteLimit": 2048000,
      "implicitDf": true,
      "rowLimit": 10000
     },
     "inputWidgets": {},
     "nuid": "c9ab8aa3-0093-4ed7-928e-71fb215aa65d",
     "showTitle": false,
     "tableResultSettingsMap": {},
     "title": ""
    }
   },
   "outputs": [
    {
     "data": {
      "text/html": [
       "<style scoped>\n",
       "  .table-result-container {\n",
       "    max-height: 300px;\n",
       "    overflow: auto;\n",
       "  }\n",
       "  table, th, td {\n",
       "    border: 1px solid black;\n",
       "    border-collapse: collapse;\n",
       "  }\n",
       "  th, td {\n",
       "    padding: 5px;\n",
       "  }\n",
       "  th {\n",
       "    text-align: left;\n",
       "  }\n",
       "</style><div class='table-result-container'><table class='table-result'><thead style='background-color: white'><tr><th>Model_ID</th><th>Product_Name</th><th>dim_model</th></tr></thead><tbody><tr><td>Mar-M137</td><td>Maruti Suzuki</td><td>1</td></tr><tr><td>BMW-M249</td><td>BMW</td><td>2</td></tr><tr><td>Lin-M27</td><td>Lincoln</td><td>3</td></tr><tr><td>Mer-M8</td><td>Mercedes-Benz</td><td>4</td></tr><tr><td>Che-M42</td><td>Chevrolet</td><td>5</td></tr><tr><td>Che-M48</td><td>Chevrolet</td><td>6</td></tr><tr><td>Tat-M190</td><td>Tata</td><td>7</td></tr><tr><td>Mit-M277</td><td>Mitsubishi</td><td>8</td></tr><tr><td>Che-M49</td><td>Chevrolet</td><td>9</td></tr><tr><td>Tat-M181</td><td>Tata</td><td>10</td></tr><tr><td>Hyu-M157</td><td>Hyundai</td><td>11</td></tr><tr><td>Cad-M34</td><td>Cadillac</td><td>12</td></tr><tr><td>Aud-M235</td><td>Audi</td><td>13</td></tr><tr><td>Mah-M166</td><td>Mahindra</td><td>14</td></tr><tr><td>Hon-M70</td><td>Honda</td><td>15</td></tr><tr><td>Ram-M14</td><td>Ram</td><td>16</td></tr><tr><td>Nis-M268</td><td>Nissan</td><td>17</td></tr><tr><td>Toy-M204</td><td>Toyota</td><td>18</td></tr><tr><td>Ren-M127</td><td>Renault</td><td>19</td></tr><tr><td>Toy-M105</td><td>Toyota</td><td>20</td></tr><tr><td>Mar-M140</td><td>Maruti Suzuki</td><td>21</td></tr><tr><td>Tat-M189</td><td>Tata</td><td>22</td></tr><tr><td>BMW-M3</td><td>BMW</td><td>23</td></tr><tr><td>Ren-M129</td><td>Renault</td><td>24</td></tr><tr><td>For-M25</td><td>Ford</td><td>25</td></tr><tr><td>Hyu-M74</td><td>Hyundai</td><td>26</td></tr><tr><td>BMW-M250</td><td>BMW</td><td>27</td></tr><tr><td>Hyu-M153</td><td>Hyundai</td><td>28</td></tr><tr><td>Nis-M263</td><td>Nissan</td><td>29</td></tr><tr><td>Mah-M178</td><td>Mahindra</td><td>30</td></tr><tr><td>Toy-M195</td><td>Toyota</td><td>31</td></tr><tr><td>Lin-M29</td><td>Lincoln</td><td>32</td></tr><tr><td>Toy-M206</td><td>Toyota</td><td>33</td></tr><tr><td>Sub-M95</td><td>Subaru</td><td>34</td></tr><tr><td>Nis-M265</td><td>Nissan</td><td>35</td></tr><tr><td>Peu-M126</td><td>Peugeot</td><td>36</td></tr><tr><td>Mer-M123</td><td>Mercedes-Benz</td><td>37</td></tr><tr><td>Kia-M76</td><td>Kia</td><td>38</td></tr><tr><td>Che-M44</td><td>Chevrolet</td><td>39</td></tr><tr><td>Acu-M59</td><td>Acura</td><td>40</td></tr><tr><td>Hyu-M155</td><td>Hyundai</td><td>41</td></tr><tr><td>Tat-M192</td><td>Tata</td><td>42</td></tr><tr><td>Lex-M99</td><td>Lexus</td><td>43</td></tr><tr><td>Nis-M267</td><td>Nissan</td><td>44</td></tr><tr><td>Mar-M147</td><td>Maruti Suzuki</td><td>45</td></tr><tr><td>Aud-M241</td><td>Audi</td><td>46</td></tr><tr><td>Aud-M231</td><td>Audi</td><td>47</td></tr><tr><td>Tat-M187</td><td>Tata</td><td>48</td></tr><tr><td>Hon-M120</td><td>Honda</td><td>49</td></tr><tr><td>Tat-M184</td><td>Tata</td><td>50</td></tr><tr><td>Tat-M186</td><td>Tata</td><td>51</td></tr><tr><td>Mar-M148</td><td>Maruti Suzuki</td><td>52</td></tr><tr><td>Toy-M106</td><td>Toyota</td><td>53</td></tr><tr><td>Aud-M232</td><td>Audi</td><td>54</td></tr><tr><td>For-M26</td><td>Ford</td><td>55</td></tr><tr><td>BMW-M4</td><td>BMW</td><td>56</td></tr><tr><td>Sko-M271</td><td>Skoda</td><td>57</td></tr><tr><td>Mar-M149</td><td>Maruti Suzuki</td><td>58</td></tr><tr><td>Che-M114</td><td>Chevrolet</td><td>59</td></tr><tr><td>Hyu-M156</td><td>Hyundai</td><td>60</td></tr><tr><td>Mit-M276</td><td>Mitsubishi</td><td>61</td></tr><tr><td>Aud-M229</td><td>Audi</td><td>62</td></tr><tr><td>Toy-M196</td><td>Toyota</td><td>63</td></tr><tr><td>Hyu-M75</td><td>Hyundai</td><td>64</td></tr><tr><td>Tat-M188</td><td>Tata</td><td>65</td></tr><tr><td>Toy-M203</td><td>Toyota</td><td>66</td></tr><tr><td>Toy-M101</td><td>Toyota</td><td>67</td></tr><tr><td>For-M23</td><td>Ford</td><td>68</td></tr><tr><td>Mar-M151</td><td>Maruti Suzuki</td><td>69</td></tr><tr><td>Nis-M81</td><td>Nissan</td><td>70</td></tr><tr><td>BMW-M242</td><td>BMW</td><td>71</td></tr><tr><td>Toy-M198</td><td>Toyota</td><td>72</td></tr><tr><td>Ren-M211</td><td>Renault</td><td>73</td></tr><tr><td>Vol-M135</td><td>Volkswagen</td><td>74</td></tr><tr><td>Vol-M136</td><td>Volkswagen</td><td>75</td></tr><tr><td>Hyu-M161</td><td>Hyundai</td><td>76</td></tr><tr><td>Cad-M32</td><td>Cadillac</td><td>77</td></tr><tr><td>Toy-M197</td><td>Toyota</td><td>78</td></tr><tr><td>Kia-M77</td><td>Kia</td><td>79</td></tr><tr><td>Mah-M172</td><td>Mahindra</td><td>80</td></tr><tr><td>Vol-M110</td><td>Volvo</td><td>81</td></tr><tr><td>BMW-M248</td><td>BMW</td><td>82</td></tr><tr><td>For-M21</td><td>Ford</td><td>83</td></tr><tr><td>Tat-M180</td><td>Tata</td><td>84</td></tr><tr><td>Lin-M30</td><td>Lincoln</td><td>85</td></tr><tr><td>Mah-M177</td><td>Mahindra</td><td>86</td></tr><tr><td>Aud-M238</td><td>Audi</td><td>87</td></tr><tr><td>GMC-M53</td><td>GMC</td><td>88</td></tr><tr><td>Nis-M82</td><td>Nissan</td><td>89</td></tr><tr><td>Tat-M182</td><td>Tata</td><td>90</td></tr><tr><td>Aud-M239</td><td>Audi</td><td>91</td></tr><tr><td>Hon-M216</td><td>Honda</td><td>92</td></tr><tr><td>Ren-M209</td><td>Renault</td><td>93</td></tr><tr><td>Mar-M141</td><td>Maruti Suzuki</td><td>94</td></tr><tr><td>Agr-M113</td><td>Agrale</td><td>95</td></tr><tr><td>Sub-M92</td><td>Subaru</td><td>96</td></tr><tr><td>Mah-M169</td><td>Mahindra</td><td>97</td></tr><tr><td>GMC-M55</td><td>GMC</td><td>98</td></tr><tr><td>BMW-M244</td><td>BMW</td><td>99</td></tr><tr><td>Nis-M262</td><td>Nissan</td><td>100</td></tr><tr><td>Kia-M78</td><td>Kia</td><td>101</td></tr><tr><td>Mah-M176</td><td>Mahindra</td><td>102</td></tr><tr><td>Ram-M15</td><td>Ram</td><td>103</td></tr><tr><td>Ren-M131</td><td>Renault</td><td>104</td></tr><tr><td>Mah-M171</td><td>Mahindra</td><td>105</td></tr><tr><td>Dod-M9</td><td>Dodge</td><td>106</td></tr><tr><td>Mah-M175</td><td>Mahindra</td><td>107</td></tr><tr><td>Jee-M10</td><td>Jeep</td><td>108</td></tr><tr><td>Toy-M202</td><td>Toyota</td><td>109</td></tr><tr><td>Hyu-M154</td><td>Hyundai</td><td>110</td></tr><tr><td>Hon-M68</td><td>Honda</td><td>111</td></tr><tr><td>Che-M50</td><td>Chevrolet</td><td>112</td></tr><tr><td>Agr-M111</td><td>Agrale</td><td>113</td></tr><tr><td>Mer-M122</td><td>Mercedes-Benz</td><td>114</td></tr><tr><td>Tes-M98</td><td>Tesla</td><td>115</td></tr><tr><td>Cit-M115</td><td>Citroën</td><td>116</td></tr><tr><td>Hon-M71</td><td>Honda</td><td>117</td></tr><tr><td>Nis-M261</td><td>Nissan</td><td>118</td></tr><tr><td>Che-M51</td><td>Chevrolet</td><td>119</td></tr><tr><td>Vol-M108</td><td>Volkswagen</td><td>120</td></tr><tr><td>Hyu-M159</td><td>Hyundai</td><td>121</td></tr><tr><td>For-M225</td><td>Ford</td><td>122</td></tr><tr><td>Riv-M91</td><td>Rivian</td><td>123</td></tr><tr><td>Mer-M7</td><td>Mercedes-Benz</td><td>124</td></tr><tr><td>Cad-M37</td><td>Cadillac</td><td>125</td></tr><tr><td>Sko-M273</td><td>Skoda</td><td>126</td></tr><tr><td>Jee-M254</td><td>Jeep</td><td>127</td></tr><tr><td>Vol-M257</td><td>Volkswagen</td><td>128</td></tr><tr><td>Vol-M258</td><td>Volkswagen</td><td>129</td></tr><tr><td>Fia-M117</td><td>Fiat</td><td>130</td></tr><tr><td>For-M226</td><td>Ford</td><td>131</td></tr><tr><td>MG-M252</td><td>MG</td><td>132</td></tr><tr><td>Mah-M174</td><td>Mahindra</td><td>133</td></tr><tr><td>Aud-M227</td><td>Audi</td><td>134</td></tr><tr><td>For-M222</td><td>Ford</td><td>135</td></tr><tr><td>Jee-M12</td><td>Jeep</td><td>136</td></tr><tr><td>Kia-M213</td><td>Kia</td><td>137</td></tr><tr><td>Cad-M33</td><td>Cadillac</td><td>138</td></tr><tr><td>Hon-M65</td><td>Honda</td><td>139</td></tr><tr><td>BMW-M1</td><td>BMW</td><td>140</td></tr><tr><td>Hyu-M162</td><td>Hyundai</td><td>141</td></tr><tr><td>BMW-M246</td><td>BMW</td><td>142</td></tr><tr><td>Toy-M200</td><td>Toyota</td><td>143</td></tr><tr><td>Toy-M205</td><td>Toyota</td><td>144</td></tr><tr><td>GMC-M58</td><td>GMC</td><td>145</td></tr><tr><td>Nis-M266</td><td>Nissan</td><td>146</td></tr><tr><td>Mar-M152</td><td>Maruti Suzuki</td><td>147</td></tr><tr><td>Che-M43</td><td>Chevrolet</td><td>148</td></tr><tr><td>Vol-M255</td><td>Volkswagen</td><td>149</td></tr><tr><td>Ren-M208</td><td>Renault</td><td>150</td></tr><tr><td>Cad-M36</td><td>Cadillac</td><td>151</td></tr><tr><td>Nis-M269</td><td>Nissan</td><td>152</td></tr><tr><td>BMW-M243</td><td>BMW</td><td>153</td></tr><tr><td>Jee-M13</td><td>Jeep</td><td>154</td></tr><tr><td>Hon-M69</td><td>Honda</td><td>155</td></tr><tr><td>Hyu-M163</td><td>Hyundai</td><td>156</td></tr><tr><td>Toy-M134</td><td>Toyota</td><td>157</td></tr><tr><td>Nis-M270</td><td>Nissan</td><td>158</td></tr><tr><td>Vol-M256</td><td>Volkswagen</td><td>159</td></tr><tr><td>Mer-M121</td><td>Mercedes-Benz</td><td>160</td></tr><tr><td>Tat-M185</td><td>Tata</td><td>161</td></tr><tr><td>MG-M251</td><td>MG</td><td>162</td></tr><tr><td>GMC-M54</td><td>GMC</td><td>163</td></tr><tr><td>For-M119</td><td>Ford</td><td>164</td></tr><tr><td>Hon-M219</td><td>Honda</td><td>165</td></tr><tr><td>For-M20</td><td>Ford</td><td>166</td></tr><tr><td>Aud-M233</td><td>Audi</td><td>167</td></tr><tr><td>Acu-M60</td><td>Acura</td><td>168</td></tr><tr><td>Hon-M217</td><td>Honda</td><td>169</td></tr><tr><td>Tes-M97</td><td>Tesla</td><td>170</td></tr><tr><td>Mar-M138</td><td>Maruti Suzuki</td><td>171</td></tr><tr><td>Che-M41</td><td>Chevrolet</td><td>172</td></tr><tr><td>Tat-M191</td><td>Tata</td><td>173</td></tr><tr><td>Toy-M102</td><td>Toyota</td><td>174</td></tr><tr><td>Nis-M87</td><td>Nissan</td><td>175</td></tr><tr><td>BMW-M2</td><td>BMW</td><td>176</td></tr><tr><td>GMC-M57</td><td>GMC</td><td>177</td></tr><tr><td>Peu-M124</td><td>Peugeot</td><td>178</td></tr><tr><td>GMC-M52</td><td>GMC</td><td>179</td></tr><tr><td>Hyu-M158</td><td>Hyundai</td><td>180</td></tr><tr><td>Vol-M260</td><td>Volkswagen</td><td>181</td></tr><tr><td>Nis-M86</td><td>Nissan</td><td>182</td></tr><tr><td>Toy-M201</td><td>Toyota</td><td>183</td></tr><tr><td>Hon-M66</td><td>Honda</td><td>184</td></tr><tr><td>Ren-M132</td><td>Renault</td><td>185</td></tr><tr><td>BMW-M5</td><td>BMW</td><td>186</td></tr><tr><td>Ren-M210</td><td>Renault</td><td>187</td></tr><tr><td>Acu-M63</td><td>Acura</td><td>188</td></tr><tr><td>Mah-M173</td><td>Mahindra</td><td>189</td></tr><tr><td>Tes-M96</td><td>Tesla</td><td>190</td></tr><tr><td>Nis-M88</td><td>Nissan</td><td>191</td></tr><tr><td>Tat-M183</td><td>Tata</td><td>192</td></tr><tr><td>Cad-M35</td><td>Cadillac</td><td>193</td></tr><tr><td>Hon-M215</td><td>Honda</td><td>194</td></tr><tr><td>Aud-M236</td><td>Audi</td><td>195</td></tr><tr><td>Mit-M275</td><td>Mitsubishi</td><td>196</td></tr><tr><td>Peu-M125</td><td>Peugeot</td><td>197</td></tr><tr><td>Vol-M259</td><td>Volkswagen</td><td>198</td></tr><tr><td>Nis-M84</td><td>Nissan</td><td>199</td></tr><tr><td>Tat-M179</td><td>Tata</td><td>200</td></tr><tr><td>For-M17</td><td>Ford</td><td>201</td></tr><tr><td>Tat-M193</td><td>Tata</td><td>202</td></tr><tr><td>GMC-M56</td><td>GMC</td><td>203</td></tr><tr><td>Aud-M228</td><td>Audi</td><td>204</td></tr><tr><td>Inf-M79</td><td>Infiniti</td><td>205</td></tr><tr><td>Hon-M64</td><td>Honda</td><td>206</td></tr><tr><td>Che-M46</td><td>Chevrolet</td><td>207</td></tr><tr><td>Mar-M144</td><td>Maruti Suzuki</td><td>208</td></tr><tr><td>For-M16</td><td>Ford</td><td>209</td></tr><tr><td>Nis-M85</td><td>Nissan</td><td>210</td></tr><tr><td>Aud-M237</td><td>Audi</td><td>211</td></tr><tr><td>Sub-M94</td><td>Subaru</td><td>212</td></tr><tr><td>Cad-M38</td><td>Cadillac</td><td>213</td></tr><tr><td>Nis-M83</td><td>Nissan</td><td>214</td></tr><tr><td>Kia-M214</td><td>Kia</td><td>215</td></tr><tr><td>Hyu-M72</td><td>Hyundai</td><td>216</td></tr><tr><td>Che-M47</td><td>Chevrolet</td><td>217</td></tr><tr><td>Mar-M145</td><td>Maruti Suzuki</td><td>218</td></tr><tr><td>Acu-M62</td><td>Acura</td><td>219</td></tr><tr><td>Che-M45</td><td>Chevrolet</td><td>220</td></tr><tr><td>Aud-M230</td><td>Audi</td><td>221</td></tr><tr><td>Mar-M143</td><td>Maruti Suzuki</td><td>222</td></tr><tr><td>Agr-M112</td><td>Agrale</td><td>223</td></tr><tr><td>Hon-M67</td><td>Honda</td><td>224</td></tr><tr><td>Mar-M150</td><td>Maruti Suzuki</td><td>225</td></tr><tr><td>Jee-M11</td><td>Jeep</td><td>226</td></tr><tr><td>Ren-M128</td><td>Renault</td><td>227</td></tr><tr><td>For-M18</td><td>Ford</td><td>228</td></tr><tr><td>Mar-M146</td><td>Maruti Suzuki</td><td>229</td></tr><tr><td>For-M19</td><td>Ford</td><td>230</td></tr><tr><td>Nis-M80</td><td>Nissan</td><td>231</td></tr><tr><td>Mar-M139</td><td>Maruti Suzuki</td><td>232</td></tr><tr><td>Che-M40</td><td>Chevrolet</td><td>233</td></tr><tr><td>Mah-M165</td><td>Mahindra</td><td>234</td></tr><tr><td>Toy-M199</td><td>Toyota</td><td>235</td></tr><tr><td>Cit-M116</td><td>Citroën</td><td>236</td></tr><tr><td>Cad-M39</td><td>Cadillac</td><td>237</td></tr><tr><td>Nis-M89</td><td>Nissan</td><td>238</td></tr><tr><td>Aud-M240</td><td>Audi</td><td>239</td></tr><tr><td>For-M24</td><td>Ford</td><td>240</td></tr><tr><td>Nis-M264</td><td>Nissan</td><td>241</td></tr><tr><td>Mer-M6</td><td>Mercedes-Benz</td><td>242</td></tr><tr><td>Bui-M31</td><td>Buick</td><td>243</td></tr><tr><td>Toy-M103</td><td>Toyota</td><td>244</td></tr><tr><td>Mah-M170</td><td>Mahindra</td><td>245</td></tr><tr><td>Ren-M130</td><td>Renault</td><td>246</td></tr><tr><td>Toy-M100</td><td>Toyota</td><td>247</td></tr><tr><td>BMW-M247</td><td>BMW</td><td>248</td></tr><tr><td>Ren-M207</td><td>Renault</td><td>249</td></tr><tr><td>Hon-M218</td><td>Honda</td><td>250</td></tr><tr><td>Lin-M28</td><td>Lincoln</td><td>251</td></tr><tr><td>Kia-M212</td><td>Kia</td><td>252</td></tr><tr><td>Tat-M194</td><td>Tata</td><td>253</td></tr><tr><td>Mah-M167</td><td>Mahindra</td><td>254</td></tr><tr><td>Acu-M61</td><td>Acura</td><td>255</td></tr><tr><td>Riv-M90</td><td>Rivian</td><td>256</td></tr><tr><td>Mar-M142</td><td>Maruti Suzuki</td><td>257</td></tr><tr><td>For-M221</td><td>Ford</td><td>258</td></tr><tr><td>Sko-M274</td><td>Skoda</td><td>259</td></tr><tr><td>Sub-M93</td><td>Subaru</td><td>260</td></tr><tr><td>For-M223</td><td>Ford</td><td>261</td></tr><tr><td>For-M22</td><td>Ford</td><td>262</td></tr><tr><td>Vol-M109</td><td>Volkswagen</td><td>263</td></tr><tr><td>Toy-M133</td><td>Toyota</td><td>264</td></tr><tr><td>For-M224</td><td>Ford</td><td>265</td></tr><tr><td>Sko-M272</td><td>Skoda</td><td>266</td></tr><tr><td>Hon-M220</td><td>Honda</td><td>267</td></tr><tr><td>Hyu-M164</td><td>Hyundai</td><td>268</td></tr><tr><td>Toy-M107</td><td>Toyota</td><td>269</td></tr><tr><td>Hyu-M160</td><td>Hyundai</td><td>270</td></tr><tr><td>Aud-M234</td><td>Audi</td><td>271</td></tr><tr><td>Fia-M118</td><td>Fiat</td><td>272</td></tr><tr><td>BMW-M245</td><td>BMW</td><td>273</td></tr><tr><td>Hyu-M73</td><td>Hyundai</td><td>274</td></tr><tr><td>Toy-M104</td><td>Toyota</td><td>275</td></tr><tr><td>Mah-M168</td><td>Mahindra</td><td>276</td></tr><tr><td>Jee-M253</td><td>Jeep</td><td>277</td></tr></tbody></table></div>"
      ]
     },
     "metadata": {
      "application/vnd.databricks.v1+output": {
       "addedWidgets": {},
       "aggData": [],
       "aggError": "",
       "aggOverflow": false,
       "aggSchema": [],
       "aggSeriesLimitReached": false,
       "aggType": "",
       "arguments": {},
       "columnCustomDisplayInfos": {},
       "data": [
        [
         "Mar-M137",
         "Maruti Suzuki",
         1
        ],
        [
         "BMW-M249",
         "BMW",
         2
        ],
        [
         "Lin-M27",
         "Lincoln",
         3
        ],
        [
         "Mer-M8",
         "Mercedes-Benz",
         4
        ],
        [
         "Che-M42",
         "Chevrolet",
         5
        ],
        [
         "Che-M48",
         "Chevrolet",
         6
        ],
        [
         "Tat-M190",
         "Tata",
         7
        ],
        [
         "Mit-M277",
         "Mitsubishi",
         8
        ],
        [
         "Che-M49",
         "Chevrolet",
         9
        ],
        [
         "Tat-M181",
         "Tata",
         10
        ],
        [
         "Hyu-M157",
         "Hyundai",
         11
        ],
        [
         "Cad-M34",
         "Cadillac",
         12
        ],
        [
         "Aud-M235",
         "Audi",
         13
        ],
        [
         "Mah-M166",
         "Mahindra",
         14
        ],
        [
         "Hon-M70",
         "Honda",
         15
        ],
        [
         "Ram-M14",
         "Ram",
         16
        ],
        [
         "Nis-M268",
         "Nissan",
         17
        ],
        [
         "Toy-M204",
         "Toyota",
         18
        ],
        [
         "Ren-M127",
         "Renault",
         19
        ],
        [
         "Toy-M105",
         "Toyota",
         20
        ],
        [
         "Mar-M140",
         "Maruti Suzuki",
         21
        ],
        [
         "Tat-M189",
         "Tata",
         22
        ],
        [
         "BMW-M3",
         "BMW",
         23
        ],
        [
         "Ren-M129",
         "Renault",
         24
        ],
        [
         "For-M25",
         "Ford",
         25
        ],
        [
         "Hyu-M74",
         "Hyundai",
         26
        ],
        [
         "BMW-M250",
         "BMW",
         27
        ],
        [
         "Hyu-M153",
         "Hyundai",
         28
        ],
        [
         "Nis-M263",
         "Nissan",
         29
        ],
        [
         "Mah-M178",
         "Mahindra",
         30
        ],
        [
         "Toy-M195",
         "Toyota",
         31
        ],
        [
         "Lin-M29",
         "Lincoln",
         32
        ],
        [
         "Toy-M206",
         "Toyota",
         33
        ],
        [
         "Sub-M95",
         "Subaru",
         34
        ],
        [
         "Nis-M265",
         "Nissan",
         35
        ],
        [
         "Peu-M126",
         "Peugeot",
         36
        ],
        [
         "Mer-M123",
         "Mercedes-Benz",
         37
        ],
        [
         "Kia-M76",
         "Kia",
         38
        ],
        [
         "Che-M44",
         "Chevrolet",
         39
        ],
        [
         "Acu-M59",
         "Acura",
         40
        ],
        [
         "Hyu-M155",
         "Hyundai",
         41
        ],
        [
         "Tat-M192",
         "Tata",
         42
        ],
        [
         "Lex-M99",
         "Lexus",
         43
        ],
        [
         "Nis-M267",
         "Nissan",
         44
        ],
        [
         "Mar-M147",
         "Maruti Suzuki",
         45
        ],
        [
         "Aud-M241",
         "Audi",
         46
        ],
        [
         "Aud-M231",
         "Audi",
         47
        ],
        [
         "Tat-M187",
         "Tata",
         48
        ],
        [
         "Hon-M120",
         "Honda",
         49
        ],
        [
         "Tat-M184",
         "Tata",
         50
        ],
        [
         "Tat-M186",
         "Tata",
         51
        ],
        [
         "Mar-M148",
         "Maruti Suzuki",
         52
        ],
        [
         "Toy-M106",
         "Toyota",
         53
        ],
        [
         "Aud-M232",
         "Audi",
         54
        ],
        [
         "For-M26",
         "Ford",
         55
        ],
        [
         "BMW-M4",
         "BMW",
         56
        ],
        [
         "Sko-M271",
         "Skoda",
         57
        ],
        [
         "Mar-M149",
         "Maruti Suzuki",
         58
        ],
        [
         "Che-M114",
         "Chevrolet",
         59
        ],
        [
         "Hyu-M156",
         "Hyundai",
         60
        ],
        [
         "Mit-M276",
         "Mitsubishi",
         61
        ],
        [
         "Aud-M229",
         "Audi",
         62
        ],
        [
         "Toy-M196",
         "Toyota",
         63
        ],
        [
         "Hyu-M75",
         "Hyundai",
         64
        ],
        [
         "Tat-M188",
         "Tata",
         65
        ],
        [
         "Toy-M203",
         "Toyota",
         66
        ],
        [
         "Toy-M101",
         "Toyota",
         67
        ],
        [
         "For-M23",
         "Ford",
         68
        ],
        [
         "Mar-M151",
         "Maruti Suzuki",
         69
        ],
        [
         "Nis-M81",
         "Nissan",
         70
        ],
        [
         "BMW-M242",
         "BMW",
         71
        ],
        [
         "Toy-M198",
         "Toyota",
         72
        ],
        [
         "Ren-M211",
         "Renault",
         73
        ],
        [
         "Vol-M135",
         "Volkswagen",
         74
        ],
        [
         "Vol-M136",
         "Volkswagen",
         75
        ],
        [
         "Hyu-M161",
         "Hyundai",
         76
        ],
        [
         "Cad-M32",
         "Cadillac",
         77
        ],
        [
         "Toy-M197",
         "Toyota",
         78
        ],
        [
         "Kia-M77",
         "Kia",
         79
        ],
        [
         "Mah-M172",
         "Mahindra",
         80
        ],
        [
         "Vol-M110",
         "Volvo",
         81
        ],
        [
         "BMW-M248",
         "BMW",
         82
        ],
        [
         "For-M21",
         "Ford",
         83
        ],
        [
         "Tat-M180",
         "Tata",
         84
        ],
        [
         "Lin-M30",
         "Lincoln",
         85
        ],
        [
         "Mah-M177",
         "Mahindra",
         86
        ],
        [
         "Aud-M238",
         "Audi",
         87
        ],
        [
         "GMC-M53",
         "GMC",
         88
        ],
        [
         "Nis-M82",
         "Nissan",
         89
        ],
        [
         "Tat-M182",
         "Tata",
         90
        ],
        [
         "Aud-M239",
         "Audi",
         91
        ],
        [
         "Hon-M216",
         "Honda",
         92
        ],
        [
         "Ren-M209",
         "Renault",
         93
        ],
        [
         "Mar-M141",
         "Maruti Suzuki",
         94
        ],
        [
         "Agr-M113",
         "Agrale",
         95
        ],
        [
         "Sub-M92",
         "Subaru",
         96
        ],
        [
         "Mah-M169",
         "Mahindra",
         97
        ],
        [
         "GMC-M55",
         "GMC",
         98
        ],
        [
         "BMW-M244",
         "BMW",
         99
        ],
        [
         "Nis-M262",
         "Nissan",
         100
        ],
        [
         "Kia-M78",
         "Kia",
         101
        ],
        [
         "Mah-M176",
         "Mahindra",
         102
        ],
        [
         "Ram-M15",
         "Ram",
         103
        ],
        [
         "Ren-M131",
         "Renault",
         104
        ],
        [
         "Mah-M171",
         "Mahindra",
         105
        ],
        [
         "Dod-M9",
         "Dodge",
         106
        ],
        [
         "Mah-M175",
         "Mahindra",
         107
        ],
        [
         "Jee-M10",
         "Jeep",
         108
        ],
        [
         "Toy-M202",
         "Toyota",
         109
        ],
        [
         "Hyu-M154",
         "Hyundai",
         110
        ],
        [
         "Hon-M68",
         "Honda",
         111
        ],
        [
         "Che-M50",
         "Chevrolet",
         112
        ],
        [
         "Agr-M111",
         "Agrale",
         113
        ],
        [
         "Mer-M122",
         "Mercedes-Benz",
         114
        ],
        [
         "Tes-M98",
         "Tesla",
         115
        ],
        [
         "Cit-M115",
         "Citroën",
         116
        ],
        [
         "Hon-M71",
         "Honda",
         117
        ],
        [
         "Nis-M261",
         "Nissan",
         118
        ],
        [
         "Che-M51",
         "Chevrolet",
         119
        ],
        [
         "Vol-M108",
         "Volkswagen",
         120
        ],
        [
         "Hyu-M159",
         "Hyundai",
         121
        ],
        [
         "For-M225",
         "Ford",
         122
        ],
        [
         "Riv-M91",
         "Rivian",
         123
        ],
        [
         "Mer-M7",
         "Mercedes-Benz",
         124
        ],
        [
         "Cad-M37",
         "Cadillac",
         125
        ],
        [
         "Sko-M273",
         "Skoda",
         126
        ],
        [
         "Jee-M254",
         "Jeep",
         127
        ],
        [
         "Vol-M257",
         "Volkswagen",
         128
        ],
        [
         "Vol-M258",
         "Volkswagen",
         129
        ],
        [
         "Fia-M117",
         "Fiat",
         130
        ],
        [
         "For-M226",
         "Ford",
         131
        ],
        [
         "MG-M252",
         "MG",
         132
        ],
        [
         "Mah-M174",
         "Mahindra",
         133
        ],
        [
         "Aud-M227",
         "Audi",
         134
        ],
        [
         "For-M222",
         "Ford",
         135
        ],
        [
         "Jee-M12",
         "Jeep",
         136
        ],
        [
         "Kia-M213",
         "Kia",
         137
        ],
        [
         "Cad-M33",
         "Cadillac",
         138
        ],
        [
         "Hon-M65",
         "Honda",
         139
        ],
        [
         "BMW-M1",
         "BMW",
         140
        ],
        [
         "Hyu-M162",
         "Hyundai",
         141
        ],
        [
         "BMW-M246",
         "BMW",
         142
        ],
        [
         "Toy-M200",
         "Toyota",
         143
        ],
        [
         "Toy-M205",
         "Toyota",
         144
        ],
        [
         "GMC-M58",
         "GMC",
         145
        ],
        [
         "Nis-M266",
         "Nissan",
         146
        ],
        [
         "Mar-M152",
         "Maruti Suzuki",
         147
        ],
        [
         "Che-M43",
         "Chevrolet",
         148
        ],
        [
         "Vol-M255",
         "Volkswagen",
         149
        ],
        [
         "Ren-M208",
         "Renault",
         150
        ],
        [
         "Cad-M36",
         "Cadillac",
         151
        ],
        [
         "Nis-M269",
         "Nissan",
         152
        ],
        [
         "BMW-M243",
         "BMW",
         153
        ],
        [
         "Jee-M13",
         "Jeep",
         154
        ],
        [
         "Hon-M69",
         "Honda",
         155
        ],
        [
         "Hyu-M163",
         "Hyundai",
         156
        ],
        [
         "Toy-M134",
         "Toyota",
         157
        ],
        [
         "Nis-M270",
         "Nissan",
         158
        ],
        [
         "Vol-M256",
         "Volkswagen",
         159
        ],
        [
         "Mer-M121",
         "Mercedes-Benz",
         160
        ],
        [
         "Tat-M185",
         "Tata",
         161
        ],
        [
         "MG-M251",
         "MG",
         162
        ],
        [
         "GMC-M54",
         "GMC",
         163
        ],
        [
         "For-M119",
         "Ford",
         164
        ],
        [
         "Hon-M219",
         "Honda",
         165
        ],
        [
         "For-M20",
         "Ford",
         166
        ],
        [
         "Aud-M233",
         "Audi",
         167
        ],
        [
         "Acu-M60",
         "Acura",
         168
        ],
        [
         "Hon-M217",
         "Honda",
         169
        ],
        [
         "Tes-M97",
         "Tesla",
         170
        ],
        [
         "Mar-M138",
         "Maruti Suzuki",
         171
        ],
        [
         "Che-M41",
         "Chevrolet",
         172
        ],
        [
         "Tat-M191",
         "Tata",
         173
        ],
        [
         "Toy-M102",
         "Toyota",
         174
        ],
        [
         "Nis-M87",
         "Nissan",
         175
        ],
        [
         "BMW-M2",
         "BMW",
         176
        ],
        [
         "GMC-M57",
         "GMC",
         177
        ],
        [
         "Peu-M124",
         "Peugeot",
         178
        ],
        [
         "GMC-M52",
         "GMC",
         179
        ],
        [
         "Hyu-M158",
         "Hyundai",
         180
        ],
        [
         "Vol-M260",
         "Volkswagen",
         181
        ],
        [
         "Nis-M86",
         "Nissan",
         182
        ],
        [
         "Toy-M201",
         "Toyota",
         183
        ],
        [
         "Hon-M66",
         "Honda",
         184
        ],
        [
         "Ren-M132",
         "Renault",
         185
        ],
        [
         "BMW-M5",
         "BMW",
         186
        ],
        [
         "Ren-M210",
         "Renault",
         187
        ],
        [
         "Acu-M63",
         "Acura",
         188
        ],
        [
         "Mah-M173",
         "Mahindra",
         189
        ],
        [
         "Tes-M96",
         "Tesla",
         190
        ],
        [
         "Nis-M88",
         "Nissan",
         191
        ],
        [
         "Tat-M183",
         "Tata",
         192
        ],
        [
         "Cad-M35",
         "Cadillac",
         193
        ],
        [
         "Hon-M215",
         "Honda",
         194
        ],
        [
         "Aud-M236",
         "Audi",
         195
        ],
        [
         "Mit-M275",
         "Mitsubishi",
         196
        ],
        [
         "Peu-M125",
         "Peugeot",
         197
        ],
        [
         "Vol-M259",
         "Volkswagen",
         198
        ],
        [
         "Nis-M84",
         "Nissan",
         199
        ],
        [
         "Tat-M179",
         "Tata",
         200
        ],
        [
         "For-M17",
         "Ford",
         201
        ],
        [
         "Tat-M193",
         "Tata",
         202
        ],
        [
         "GMC-M56",
         "GMC",
         203
        ],
        [
         "Aud-M228",
         "Audi",
         204
        ],
        [
         "Inf-M79",
         "Infiniti",
         205
        ],
        [
         "Hon-M64",
         "Honda",
         206
        ],
        [
         "Che-M46",
         "Chevrolet",
         207
        ],
        [
         "Mar-M144",
         "Maruti Suzuki",
         208
        ],
        [
         "For-M16",
         "Ford",
         209
        ],
        [
         "Nis-M85",
         "Nissan",
         210
        ],
        [
         "Aud-M237",
         "Audi",
         211
        ],
        [
         "Sub-M94",
         "Subaru",
         212
        ],
        [
         "Cad-M38",
         "Cadillac",
         213
        ],
        [
         "Nis-M83",
         "Nissan",
         214
        ],
        [
         "Kia-M214",
         "Kia",
         215
        ],
        [
         "Hyu-M72",
         "Hyundai",
         216
        ],
        [
         "Che-M47",
         "Chevrolet",
         217
        ],
        [
         "Mar-M145",
         "Maruti Suzuki",
         218
        ],
        [
         "Acu-M62",
         "Acura",
         219
        ],
        [
         "Che-M45",
         "Chevrolet",
         220
        ],
        [
         "Aud-M230",
         "Audi",
         221
        ],
        [
         "Mar-M143",
         "Maruti Suzuki",
         222
        ],
        [
         "Agr-M112",
         "Agrale",
         223
        ],
        [
         "Hon-M67",
         "Honda",
         224
        ],
        [
         "Mar-M150",
         "Maruti Suzuki",
         225
        ],
        [
         "Jee-M11",
         "Jeep",
         226
        ],
        [
         "Ren-M128",
         "Renault",
         227
        ],
        [
         "For-M18",
         "Ford",
         228
        ],
        [
         "Mar-M146",
         "Maruti Suzuki",
         229
        ],
        [
         "For-M19",
         "Ford",
         230
        ],
        [
         "Nis-M80",
         "Nissan",
         231
        ],
        [
         "Mar-M139",
         "Maruti Suzuki",
         232
        ],
        [
         "Che-M40",
         "Chevrolet",
         233
        ],
        [
         "Mah-M165",
         "Mahindra",
         234
        ],
        [
         "Toy-M199",
         "Toyota",
         235
        ],
        [
         "Cit-M116",
         "Citroën",
         236
        ],
        [
         "Cad-M39",
         "Cadillac",
         237
        ],
        [
         "Nis-M89",
         "Nissan",
         238
        ],
        [
         "Aud-M240",
         "Audi",
         239
        ],
        [
         "For-M24",
         "Ford",
         240
        ],
        [
         "Nis-M264",
         "Nissan",
         241
        ],
        [
         "Mer-M6",
         "Mercedes-Benz",
         242
        ],
        [
         "Bui-M31",
         "Buick",
         243
        ],
        [
         "Toy-M103",
         "Toyota",
         244
        ],
        [
         "Mah-M170",
         "Mahindra",
         245
        ],
        [
         "Ren-M130",
         "Renault",
         246
        ],
        [
         "Toy-M100",
         "Toyota",
         247
        ],
        [
         "BMW-M247",
         "BMW",
         248
        ],
        [
         "Ren-M207",
         "Renault",
         249
        ],
        [
         "Hon-M218",
         "Honda",
         250
        ],
        [
         "Lin-M28",
         "Lincoln",
         251
        ],
        [
         "Kia-M212",
         "Kia",
         252
        ],
        [
         "Tat-M194",
         "Tata",
         253
        ],
        [
         "Mah-M167",
         "Mahindra",
         254
        ],
        [
         "Acu-M61",
         "Acura",
         255
        ],
        [
         "Riv-M90",
         "Rivian",
         256
        ],
        [
         "Mar-M142",
         "Maruti Suzuki",
         257
        ],
        [
         "For-M221",
         "Ford",
         258
        ],
        [
         "Sko-M274",
         "Skoda",
         259
        ],
        [
         "Sub-M93",
         "Subaru",
         260
        ],
        [
         "For-M223",
         "Ford",
         261
        ],
        [
         "For-M22",
         "Ford",
         262
        ],
        [
         "Vol-M109",
         "Volkswagen",
         263
        ],
        [
         "Toy-M133",
         "Toyota",
         264
        ],
        [
         "For-M224",
         "Ford",
         265
        ],
        [
         "Sko-M272",
         "Skoda",
         266
        ],
        [
         "Hon-M220",
         "Honda",
         267
        ],
        [
         "Hyu-M164",
         "Hyundai",
         268
        ],
        [
         "Toy-M107",
         "Toyota",
         269
        ],
        [
         "Hyu-M160",
         "Hyundai",
         270
        ],
        [
         "Aud-M234",
         "Audi",
         271
        ],
        [
         "Fia-M118",
         "Fiat",
         272
        ],
        [
         "BMW-M245",
         "BMW",
         273
        ],
        [
         "Hyu-M73",
         "Hyundai",
         274
        ],
        [
         "Toy-M104",
         "Toyota",
         275
        ],
        [
         "Mah-M168",
         "Mahindra",
         276
        ],
        [
         "Jee-M253",
         "Jeep",
         277
        ]
       ],
       "datasetInfos": [
        {
         "name": "_sqldf",
         "schema": {
          "fields": [
           {
            "metadata": {},
            "name": "Model_ID",
            "nullable": true,
            "type": "string"
           },
           {
            "metadata": {},
            "name": "Product_Name",
            "nullable": true,
            "type": "string"
           },
           {
            "metadata": {},
            "name": "dim_model",
            "nullable": true,
            "type": "long"
           }
          ],
          "type": "struct"
         },
         "tableIdentifier": null,
         "typeStr": "pyspark.sql.dataframe.DataFrame"
        }
       ],
       "dbfsResultPath": null,
       "isJsonSchema": true,
       "metadata": {
        "createTempViewForImplicitDf": true,
        "dataframeName": "_sqldf",
        "executionCount": 34
       },
       "overflow": false,
       "plotOptions": {
        "customPlotOptions": {},
        "displayType": "table",
        "pivotAggregation": null,
        "pivotColumns": null,
        "xColumns": null,
        "yColumns": null
       },
       "removedWidgets": [],
       "schema": [
        {
         "metadata": "{}",
         "name": "Model_ID",
         "type": "\"string\""
        },
        {
         "metadata": "{}",
         "name": "Product_Name",
         "type": "\"string\""
        },
        {
         "metadata": "{}",
         "name": "dim_model",
         "type": "\"long\""
        }
       ],
       "type": "table"
      }
     },
     "output_type": "display_data"
    }
   ],
   "source": [
    "%sql\n",
    "select * from hive_metastore.default.dim_model"
   ]
  }
 ],
 "metadata": {
  "application/vnd.databricks.v1+notebook": {
   "computePreferences": null,
   "dashboards": [],
   "environmentMetadata": {
    "base_environment": "",
    "environment_version": "3"
   },
   "inputWidgetPreferences": null,
   "language": "python",
   "notebookMetadata": {
    "mostRecentlyExecutedCommandWithImplicitDF": {
     "commandId": 5424060601180877,
     "dataframes": [
      "_sqldf"
     ]
    },
    "pythonIndentUnit": 4
   },
   "notebookName": "Gold_notebook",
   "widgets": {
    "incremental_flag": {
     "currentValue": "0",
     "nuid": "cdd26338-cbff-411a-a1d7-ea10b2af2d63",
     "typedWidgetInfo": {
      "autoCreated": false,
      "defaultValue": "0",
      "label": null,
      "name": "incremental_flag",
      "options": {
       "validationRegex": null,
       "widgetDisplayType": "Text"
      },
      "parameterDataType": "String"
     },
     "widgetInfo": {
      "defaultValue": "0",
      "label": null,
      "name": "incremental_flag",
      "options": {
       "autoCreated": null,
       "validationRegex": null,
       "widgetType": "text"
      },
      "widgetType": "text"
     }
    }
   }
  },
  "language_info": {
   "name": "python"
  }
 },
 "nbformat": 4,
 "nbformat_minor": 0
}
