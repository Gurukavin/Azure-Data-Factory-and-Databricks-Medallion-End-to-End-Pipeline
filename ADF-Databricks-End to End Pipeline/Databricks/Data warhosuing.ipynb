{
 "cells": [
  {
   "cell_type": "code",
   "execution_count": 0,
   "metadata": {
    "application/vnd.databricks.v1+cell": {
     "cellMetadata": {
      "byteLimit": 2048000,
      "rowLimit": 10000
     },
     "inputWidgets": {},
     "nuid": "93e78173-a25e-4c1f-aee4-6a2f15d0aef5",
     "showTitle": false,
     "tableResultSettingsMap": {},
     "title": ""
    }
   },
   "outputs": [],
   "source": [
    "from pyspark.sql.functions import *\n",
    "from pyspark.sql.types import *\n",
    "from pyspark.sql.window import *"
   ]
  },
  {
   "cell_type": "markdown",
   "metadata": {},
   "source": [
    "WareHouse Modelling"
   ]
  },
  {
   "cell_type": "code",
   "execution_count": 0,
   "metadata": {
    "application/vnd.databricks.v1+cell": {
     "cellMetadata": {
      "byteLimit": 2048000,
      "implicitDf": true,
      "rowLimit": 10000
     },
     "inputWidgets": {},
     "nuid": "1f45467b-c613-40a2-b83c-171288c8ee64",
     "showTitle": false,
     "tableResultSettingsMap": {},
     "title": ""
    }
   },
   "outputs": [],
   "source": [
    "%sql\n",
    "create database if not exists sales"
   ]
  },
  {
   "cell_type": "code",
   "execution_count": 0,
   "metadata": {
    "application/vnd.databricks.v1+cell": {
     "cellMetadata": {
      "byteLimit": 2048000,
      "implicitDf": true,
      "rowLimit": 10000
     },
     "inputWidgets": {},
     "nuid": "db470204-00ae-4fa0-85e6-88aa62e670c8",
     "showTitle": false,
     "tableResultSettingsMap": {},
     "title": ""
    }
   },
   "outputs": [],
   "source": [
    "%sql\n",
    "create or replace table sales.orders\n",
    "(\n",
    "  order_id INT,\n",
    "  order_date DATE,\n",
    "  order_customer_id INT,\n",
    "  customer_name STRING,\n",
    "  product_id INT,\n",
    "  product_name STRING,\n",
    "  order_status STRING,\n",
    "  order_total FLOAT,\n",
    "  quantity INT,\n",
    "  price FLOAT\n",
    ")"
   ]
  },
  {
   "cell_type": "code",
   "execution_count": 0,
   "metadata": {
    "application/vnd.databricks.v1+cell": {
     "cellMetadata": {
      "byteLimit": 2048000,
      "implicitDf": true,
      "rowLimit": 10000
     },
     "inputWidgets": {},
     "nuid": "4f0aad86-42a2-4abe-bd06-0c078b6f3ca6",
     "showTitle": false,
     "tableResultSettingsMap": {},
     "title": ""
    }
   },
   "outputs": [
    {
     "data": {
      "text/html": [
       "<style scoped>\n",
       "  .table-result-container {\n",
       "    max-height: 300px;\n",
       "    overflow: auto;\n",
       "  }\n",
       "  table, th, td {\n",
       "    border: 1px solid black;\n",
       "    border-collapse: collapse;\n",
       "  }\n",
       "  th, td {\n",
       "    padding: 5px;\n",
       "  }\n",
       "  th {\n",
       "    text-align: left;\n",
       "  }\n",
       "</style><div class='table-result-container'><table class='table-result'><thead style='background-color: white'><tr><th>num_affected_rows</th><th>num_inserted_rows</th></tr></thead><tbody><tr><td>200</td><td>200</td></tr></tbody></table></div>"
      ]
     },
     "metadata": {
      "application/vnd.databricks.v1+output": {
       "addedWidgets": {},
       "aggData": [],
       "aggError": "",
       "aggOverflow": false,
       "aggSchema": [],
       "aggSeriesLimitReached": false,
       "aggType": "",
       "arguments": {},
       "columnCustomDisplayInfos": {},
       "data": [
        [
         200,
         200
        ]
       ],
       "datasetInfos": [
        {
         "name": "_sqldf",
         "schema": {
          "fields": [
           {
            "metadata": {},
            "name": "num_affected_rows",
            "nullable": true,
            "type": "long"
           },
           {
            "metadata": {},
            "name": "num_inserted_rows",
            "nullable": true,
            "type": "long"
           }
          ],
          "type": "struct"
         },
         "tableIdentifier": null,
         "typeStr": "pyspark.sql.dataframe.DataFrame"
        }
       ],
       "dbfsResultPath": null,
       "isJsonSchema": true,
       "metadata": {
        "createTempViewForImplicitDf": true,
        "dataframeName": "_sqldf",
        "executionCount": 18
       },
       "overflow": false,
       "plotOptions": {
        "customPlotOptions": {},
        "displayType": "table",
        "pivotAggregation": null,
        "pivotColumns": null,
        "xColumns": null,
        "yColumns": null
       },
       "removedWidgets": [],
       "schema": [
        {
         "metadata": "{}",
         "name": "num_affected_rows",
         "type": "\"long\""
        },
        {
         "metadata": "{}",
         "name": "num_inserted_rows",
         "type": "\"long\""
        }
       ],
       "type": "table"
      }
     },
     "output_type": "display_data"
    }
   ],
   "source": [
    "%sql\n",
    "INSERT INTO sales.orders (order_id, order_date, order_customer_id, customer_name, product_id, product_name, order_status, order_total, quantity, price)\n",
    "VALUES\n",
    "(1, '2024-02-08', 1005, 'David', 206, 'Mouse', 'Pending', 784.7, 1, 784.7),\n",
    "(2, '2023-02-07', 1053, 'Frank', 205, 'Laptop', 'Cancelled', 4110.39, 3, 1370.13),\n",
    "(3, '2023-01-04', 1071, 'Julia', 203, 'Speaker', 'Delivered', 1417.83, 3, 472.61),\n",
    "(4, '2023-11-16', 1072, 'Bob', 209, 'Laptop', 'Cancelled', 4598.55, 3, 1532.85),\n",
    "(5, '2024-12-04', 1017, 'Julia', 208, 'Printer', 'Shipped', 1130.3, 5, 226.06),\n",
    "(6, '2025-01-13', 1042, 'Frank', 210, 'Mouse', 'Pending', 694.68, 3, 231.56),\n",
    "(7, '2023-09-04', 1069, 'Alice', 202, 'Keyboard', 'Delivered', 1064.24, 4, 266.06),\n",
    "(8, '2024-05-10', 1048, 'Frank', 210, 'Printer', 'Pending', 4643.88, 4, 1160.97),\n",
    "(9, '2023-06-03', 1020, 'David', 209, 'Phone', 'Delivered', 2621.44, 4, 655.36),\n",
    "(10, '2025-04-14', 1064, 'Charlie', 204, 'Headphones', 'Pending', 2493.86, 2, 1246.93),\n",
    "(11, '2023-11-14', 1084, 'Hannah', 206, 'Keyboard', 'Shipped', 2876.92, 2, 1438.46),\n",
    "(12, '2023-07-13', 1019, 'Grace', 203, 'Laptop', 'Delivered', 1309.84, 4, 327.46),\n",
    "(13, '2024-06-06', 1034, 'Julia', 210, 'Tablet', 'Delivered', 3401.4, 4, 850.35),\n",
    "(14, '2023-07-11', 1057, 'Alice', 206, 'Speaker', 'Shipped', 1619.4, 4, 404.85),\n",
    "(15, '2024-07-03', 1040, 'David', 210, 'Keyboard', 'Delivered', 1603.18, 1, 1603.18),\n",
    "(16, '2023-12-31', 1097, 'Grace', 206, 'Phone', 'Cancelled', 5475.69, 3, 1825.23),\n",
    "(17, '2024-04-16', 1001, 'Emma', 201, 'Phone', 'Shipped', 2371.02, 2, 1185.51),\n",
    "(18, '2024-08-21', 1098, 'Frank', 201, 'Headphones', 'Shipped', 1188.15, 5, 237.63),\n",
    "(19, '2023-01-28', 1095, 'Grace', 210, 'Phone', 'Shipped', 2202.15, 3, 734.05),\n",
    "(20, '2025-06-05', 1037, 'Ian', 206, 'Tablet', 'Pending', 8951.15, 5, 1790.23),\n",
    "(21, '2024-09-21', 1029, 'Frank', 209, 'Keyboard', 'Shipped', 156.46, 2, 78.23),\n",
    "(22, '2025-02-19', 1099, 'Charlie', 210, 'Speaker', 'Pending', 597.03, 3, 199.01),\n",
    "(23, '2024-09-16', 1033, 'Ian', 203, 'Mouse', 'Delivered', 4186.28, 4, 1046.57),\n",
    "(24, '2025-08-24', 1005, 'Charlie', 209, 'Camera', 'Pending', 2475.78, 2, 1237.89),\n",
    "(25, '2023-05-27', 1096, 'Emma', 208, 'Headphones', 'Delivered', 6953.2, 4, 1738.3),\n",
    "(26, '2024-11-20', 1041, 'Grace', 202, 'Phone', 'Cancelled', 3309.2, 4, 827.3),\n",
    "(27, '2025-05-10', 1051, 'Emma', 203, 'Tablet', 'Pending', 3456.74, 2, 1728.37),\n",
    "(28, '2023-12-22', 1060, 'Grace', 209, 'Camera', 'Pending', 1647.46, 1, 1647.46),\n",
    "(29, '2024-05-19', 1057, 'Julia', 203, 'Headphones', 'Cancelled', 5647.15, 5, 1129.43),\n",
    "(30, '2023-03-04', 1057, 'Frank', 206, 'Mouse', 'Cancelled', 4205.68, 4, 1051.42),\n",
    "(31, '2024-05-23', 1008, 'Hannah', 208, 'Mouse', 'Delivered', 571.13, 1, 571.13),\n",
    "(32, '2023-04-13', 1057, 'Ian', 206, 'Mouse', 'Pending', 564.36, 3, 188.12),\n",
    "(33, '2023-05-03', 1010, 'Grace', 202, 'Printer', 'Shipped', 1975.34, 1, 1975.34),\n",
    "(34, '2024-10-19', 1001, 'Alice', 203, 'Headphones', 'Pending', 1038.72, 4, 259.68),\n",
    "(35, '2023-08-11', 1090, 'David', 204, 'Monitor', 'Pending', 3968.02, 2, 1984.01),\n",
    "(36, '2023-07-17', 1024, 'Julia', 201, 'Tablet', 'Pending', 1642.8, 5, 328.56),\n",
    "(37, '2025-03-28', 1082, 'Frank', 200, 'Mouse', 'Delivered', 4367.04, 4, 1091.76),\n",
    "(38, '2023-09-07', 1051, 'Frank', 200, 'Keyboard', 'Shipped', 5083.32, 4, 1270.83),\n",
    "(39, '2025-08-16', 1100, 'Julia', 201, 'Speaker', 'Pending', 140.28, 2, 70.14),\n",
    "(40, '2025-09-01', 1078, 'Ian', 206, 'Keyboard', 'Shipped', 4646.0, 4, 1161.5),\n",
    "(41, '2024-04-28', 1015, 'Hannah', 208, 'Camera', 'Cancelled', 1294.78, 2, 647.39),\n",
    "(42, '2025-01-11', 1088, 'David', 201, 'Headphones', 'Shipped', 2270.04, 2, 1135.02),\n",
    "(43, '2024-03-23', 1017, 'Emma', 209, 'Headphones', 'Cancelled', 1220.85, 5, 244.17),\n",
    "(44, '2025-02-19', 1062, 'Ian', 210, 'Keyboard', 'Pending', 3927.64, 4, 981.91),\n",
    "(45, '2025-03-15', 1064, 'David', 200, 'Tablet', 'Delivered', 1282.68, 2, 641.34),\n",
    "(46, '2024-11-08', 1019, 'Hannah', 209, 'Camera', 'Shipped', 2389.98, 2, 1194.99),\n",
    "(47, '2025-02-03', 1046, 'Alice', 205, 'Headphones', 'Cancelled', 3762.35, 5, 752.47),\n",
    "(48, '2024-01-06', 1082, 'Grace', 207, 'Keyboard', 'Shipped', 2053.78, 2, 1026.89),\n",
    "(49, '2025-05-22', 1027, 'Julia', 205, 'Tablet', 'Pending', 1929.3, 3, 643.1),\n",
    "(50, '2023-04-22', 1003, 'Hannah', 208, 'Laptop', 'Pending', 283.11, 3, 94.37),\n",
    "(51, '2023-03-30', 1029, 'Emma', 203, 'Printer', 'Shipped', 1423.91, 1, 1423.91),\n",
    "(52, '2024-07-11', 1049, 'Bob', 209, 'Phone', 'Shipped', 6331.7, 5, 1266.34),\n",
    "(53, '2023-12-08', 1048, 'Bob', 203, 'Camera', 'Delivered', 3664.5, 5, 732.9),\n",
    "(54, '2023-07-05', 1040, 'Bob', 205, 'Laptop', 'Delivered', 532.23, 1, 532.23),\n",
    "(55, '2023-07-01', 1024, 'David', 204, 'Printer', 'Cancelled', 5673.18, 3, 1891.06),\n",
    "(56, '2025-03-28', 1091, 'Ian', 209, 'Laptop', 'Shipped', 3500.4, 2, 1750.2),\n",
    "(57, '2023-04-11', 1075, 'Frank', 209, 'Tablet', 'Pending', 3723.51, 3, 1241.17),\n",
    "(58, '2025-08-18', 1035, 'Grace', 200, 'Tablet', 'Shipped', 5619.56, 4, 1404.89),\n",
    "(59, '2023-01-24', 1086, 'Emma', 202, 'Monitor', 'Cancelled', 2898.93, 3, 966.31),\n",
    "(60, '2024-09-04', 1080, 'Julia', 201, 'Camera', 'Delivered', 1808.1, 1, 1808.1),\n",
    "(61, '2025-07-24', 1028, 'Frank', 208, 'Laptop', 'Delivered', 779.04, 3, 259.68),\n",
    "(62, '2024-11-19', 1057, 'David', 206, 'Tablet', 'Pending', 3116.97, 3, 1038.99),\n",
    "(63, '2025-01-15', 1077, 'Frank', 203, 'Speaker', 'Shipped', 850.7, 5, 170.14),\n",
    "(64, '2023-11-12', 1062, 'Julia', 209, 'Keyboard', 'Shipped', 3883.12, 4, 970.78),\n",
    "(65, '2024-08-08', 1014, 'Frank', 202, 'Keyboard', 'Shipped', 438.51, 1, 438.51),\n",
    "(66, '2023-01-15', 1051, 'Frank', 206, 'Mouse', 'Pending', 5550.1, 5, 1110.02),\n",
    "(67, '2023-08-23', 1005, 'Julia', 204, 'Camera', 'Delivered', 1162.32, 3, 387.44),\n",
    "(68, '2024-10-20', 1072, 'Julia', 209, 'Printer', 'Cancelled', 4186.44, 3, 1395.48),\n",
    "(69, '2023-10-23', 1052, 'Charlie', 209, 'Camera', 'Cancelled', 1581.35, 1, 1581.35),\n",
    "(70, '2024-07-29', 1020, 'Julia', 206, 'Laptop', 'Delivered', 7480.72, 4, 1870.18),\n",
    "(71, '2024-08-23', 1022, 'Bob', 210, 'Mouse', 'Delivered', 6939.9, 5, 1387.98),\n",
    "(72, '2024-10-29', 1078, 'Alice', 207, 'Mouse', 'Cancelled', 496.38, 3, 165.46),\n",
    "(73, '2023-01-21', 1060, 'Frank', 205, 'Mouse', 'Cancelled', 6855.8, 4, 1713.95),\n",
    "(74, '2024-11-24', 1018, 'Charlie', 206, 'Speaker', 'Cancelled', 1173.83, 1, 1173.83),\n",
    "(75, '2023-06-14', 1024, 'Alice', 200, 'Tablet', 'Pending', 1631.69, 1, 1631.69),\n",
    "(76, '2024-11-20', 1015, 'Alice', 209, 'Laptop', 'Cancelled', 1682.22, 3, 560.74),\n",
    "(77, '2025-01-23', 1067, 'Bob', 203, 'Tablet', 'Pending', 608.56, 4, 152.14),\n",
    "(78, '2023-02-25', 1050, 'Emma', 206, 'Phone', 'Delivered', 1244.93, 1, 1244.93),\n",
    "(79, '2024-04-15', 1075, 'Frank', 206, 'Printer', 'Shipped', 1604.21, 1, 1604.21),\n",
    "(80, '2023-12-15', 1006, 'Ian', 200, 'Laptop', 'Cancelled', 3468.46, 2, 1734.23),\n",
    "(81, '2024-05-09', 1042, 'Bob', 206, 'Headphones', 'Cancelled', 3632.95, 5, 726.59),\n",
    "(82, '2025-05-05', 1005, 'Julia', 203, 'Headphones', 'Pending', 6766.55, 5, 1353.31),\n",
    "(83, '2025-01-05', 1046, 'Emma', 207, 'Keyboard', 'Shipped', 100.46, 1, 100.46),\n",
    "(84, '2024-02-29', 1025, 'Charlie', 204, 'Mouse', 'Cancelled', 1690.33, 1, 1690.33),\n",
    "(85, '2025-01-07', 1053, 'Ian', 206, 'Printer', 'Cancelled', 4824.12, 4, 1206.03),\n",
    "(86, '2025-01-20', 1006, 'David', 206, 'Headphones', 'Shipped', 665.52, 1, 665.52),\n",
    "(87, '2025-06-06', 1035, 'Bob', 202, 'Keyboard', 'Delivered', 5516.37, 3, 1838.79),\n",
    "(88, '2025-08-13', 1032, 'Ian', 208, 'Phone', 'Shipped', 8959.1, 5, 1791.82),\n",
    "(89, '2024-06-21', 1093, 'Frank', 209, 'Monitor', 'Shipped', 3896.68, 2, 1948.34),\n",
    "(90, '2024-09-05', 1032, 'Frank', 210, 'Mouse', 'Shipped', 312.54, 2, 156.27),\n",
    "(91, '2024-08-26', 1059, 'Charlie', 207, 'Speaker', 'Cancelled', 7534.32, 4, 1883.58),\n",
    "(92, '2024-03-27', 1028, 'Hannah', 203, 'Camera', 'Delivered', 1747.68, 4, 436.92),\n",
    "(93, '2025-03-01', 1003, 'Julia', 206, 'Camera', 'Pending', 7972.75, 5, 1594.55),\n",
    "(94, '2023-02-27', 1050, 'Ian', 200, 'Phone', 'Shipped', 902.96, 2, 451.48),\n",
    "(95, '2023-06-09', 1026, 'Charlie', 209, 'Mouse', 'Cancelled', 2913.69, 3, 971.23),\n",
    "(96, '2025-03-25', 1042, 'Hannah', 207, 'Speaker', 'Shipped', 7005.4, 5, 1401.08),\n",
    "(97, '2023-01-22', 1097, 'Julia', 208, 'Tablet', 'Cancelled', 3607.04, 2, 1803.52),\n",
    "(98, '2024-04-04', 1035, 'Charlie', 201, 'Monitor', 'Cancelled', 1694.8, 5, 338.96),\n",
    "(99, '2023-07-26', 1046, 'Emma', 208, 'Headphones', 'Shipped', 2246.08, 4, 561.52),\n",
    "(100, '2025-07-04', 1059, 'Ian', 207, 'Keyboard', 'Cancelled', 580.53, 3, 193.51),\n",
    "(101, '2023-02-19', 1028, 'Hannah', 204, 'Keyboard', 'Cancelled', 3656.22, 3, 1218.74),\n",
    "(102, '2023-09-09', 1087, 'Emma', 207, 'Speaker', 'Shipped', 1666.44, 1, 1666.44),\n",
    "(103, '2023-02-26', 1071, 'Hannah', 204, 'Headphones', 'Delivered', 5112.15, 5, 1022.43),\n",
    "(104, '2023-06-17', 1005, 'Charlie', 201, 'Tablet', 'Shipped', 1641.09, 3, 547.03),\n",
    "(105, '2024-06-29', 1087, 'David', 205, 'Keyboard', 'Cancelled', 2390.7, 5, 478.14),\n",
    "(106, '2024-08-25', 1045, 'Charlie', 205, 'Tablet', 'Shipped', 6086.55, 5, 1217.31),\n",
    "(107, '2023-08-17', 1093, 'Julia', 204, 'Tablet', 'Cancelled', 3708.9, 2, 1854.45),\n",
    "(108, '2024-04-11', 1040, 'Ian', 208, 'Mouse', 'Shipped', 1396.42, 2, 698.21),\n",
    "(109, '2025-04-09', 1092, 'Grace', 209, 'Camera', 'Cancelled', 8648.6, 5, 1729.72),\n",
    "(110, '2025-05-21', 1094, 'Alice', 209, 'Camera', 'Pending', 4210.4, 5, 842.08),\n",
    "(111, '2023-07-21', 1083, 'Ian', 205, 'Keyboard', 'Delivered', 9094.45, 5, 1818.89),\n",
    "(112, '2023-06-15', 1037, 'Alice', 206, 'Headphones', 'Delivered', 2611.5, 2, 1305.75),\n",
    "(113, '2025-08-27', 1095, 'Bob', 204, 'Speaker', 'Shipped', 921.63, 3, 307.21),\n",
    "(114, '2023-07-03', 1081, 'Julia', 208, 'Camera', 'Shipped', 5577.33, 3, 1859.11),\n",
    "(115, '2025-03-15', 1080, 'Emma', 206, 'Phone', 'Pending', 1871.46, 3, 623.82),\n",
    "(116, '2023-01-15', 1098, 'Charlie', 201, 'Phone', 'Delivered', 1540.86, 2, 770.43),\n",
    "(117, '2024-10-27', 1052, 'Hannah', 202, 'Monitor', 'Pending', 126.95, 1, 126.95),\n",
    "(118, '2025-01-24', 1096, 'Frank', 202, 'Printer', 'Shipped', 617.18, 2, 308.59),\n",
    "(119, '2024-12-17', 1091, 'Emma', 205, 'Headphones', 'Delivered', 2859.78, 3, 953.26),\n",
    "(120, '2025-03-23', 1093, 'David', 210, 'Keyboard', 'Pending', 1409.16, 4, 352.29),\n",
    "(121, '2024-06-19', 1029, 'Alice', 206, 'Tablet', 'Shipped', 4659.95, 5, 931.99),\n",
    "(122, '2024-10-21', 1005, 'Charlie', 203, 'Phone', 'Pending', 1202.93, 1, 1202.93),\n",
    "(123, '2023-11-15', 1085, 'Alice', 203, 'Phone', 'Delivered', 659.16, 3, 219.72),\n",
    "(124, '2024-07-01', 1007, 'Bob', 203, 'Mouse', 'Shipped', 3043.64, 2, 1521.82),\n",
    "(125, '2024-03-13', 1016, 'Ian', 205, 'Headphones', 'Pending', 1545.4, 5, 309.08),\n",
    "(126, '2024-06-01', 1048, 'David', 202, 'Camera', 'Shipped', 1992.99, 3, 664.33),\n",
    "(127, '2023-04-24', 1016, 'Frank', 210, 'Mouse', 'Cancelled', 1048.4, 2, 524.2),\n",
    "(128, '2024-07-20', 1073, 'Frank', 207, 'Camera', 'Cancelled', 1171.12, 1, 1171.12),\n",
    "(129, '2024-08-28', 1062, 'Ian', 208, 'Laptop', 'Pending', 2916.9, 5, 583.38),\n",
    "(130, '2024-09-11', 1011, 'Hannah', 204, 'Monitor', 'Cancelled', 7178.56, 4, 1794.64),\n",
    "(131, '2023-06-17', 1040, 'Charlie', 200, 'Printer', 'Cancelled', 2219.8, 2, 1109.9),\n",
    "(132, '2024-03-06', 1028, 'Ian', 204, 'Camera', 'Cancelled', 2892.96, 3, 964.32),\n",
    "(133, '2024-08-06', 1083, 'Ian', 209, 'Keyboard', 'Pending', 1133.79, 1, 1133.79),\n",
    "(134, '2023-11-18', 1016, 'Frank', 209, 'Headphones', 'Delivered', 486.92, 4, 121.73),\n",
    "(135, '2023-12-26', 1030, 'Charlie', 200, 'Printer', 'Pending', 949.45, 5, 189.89),\n",
    "(136, '2025-05-12', 1003, 'Bob', 204, 'Laptop', 'Delivered', 3672.24, 4, 918.06),\n",
    "(137, '2023-08-30', 1009, 'Grace', 200, 'Mouse', 'Pending', 3469.45, 5, 693.89),\n",
    "(138, '2025-07-23', 1054, 'Ian', 207, 'Phone', 'Pending', 671.94, 1, 671.94),\n",
    "(139, '2025-01-19', 1098, 'Bob', 205, 'Printer', 'Shipped', 7556.85, 5, 1511.37),\n",
    "(140, '2024-01-28', 1026, 'Charlie', 202, 'Camera', 'Shipped', 3123.1, 2, 1561.55),\n",
    "(141, '2024-05-30', 1049, 'Ian', 205, 'Mouse', 'Delivered', 1385.5, 2, 692.75),\n",
    "(142, '2024-11-16', 1008, 'Alice', 200, 'Camera', 'Cancelled', 4634.1, 5, 926.82),\n",
    "(143, '2023-09-02', 1072, 'David', 203, 'Laptop', 'Delivered', 3027.05, 5, 605.41),\n",
    "(144, '2025-01-19', 1013, 'Ian', 210, 'Tablet', 'Cancelled', 386.96, 1, 386.96),\n",
    "(145, '2024-07-18', 1075, 'Charlie', 204, 'Phone', 'Cancelled', 6336.35, 5, 1267.27),\n",
    "(146, '2024-12-20', 1058, 'Ian', 207, 'Speaker', 'Delivered', 416.51, 1, 416.51),\n",
    "(147, '2023-02-05', 1096, 'Frank', 204, 'Speaker', 'Shipped', 1729.8, 2, 864.9),\n",
    "(148, '2023-11-23', 1020, 'Frank', 204, 'Monitor', 'Shipped', 2065.0, 2, 1032.5),\n",
    "(149, '2023-08-26', 1015, 'Frank', 206, 'Tablet', 'Cancelled', 777.85, 1, 777.85),\n",
    "(150, '2024-03-08', 1064, 'Charlie', 206, 'Printer', 'Cancelled', 6189.32, 4, 1547.33),\n",
    "(151, '2024-12-24', 1045, 'Ian', 203, 'Laptop', 'Pending', 3726.12, 3, 1242.04),\n",
    "(152, '2023-01-30', 1065, 'Julia', 208, 'Laptop', 'Cancelled', 7864.3, 5, 1572.86),\n",
    "(153, '2023-01-20', 1068, 'Julia', 208, 'Headphones', 'Delivered', 4797.64, 4, 1199.41),\n",
    "(154, '2025-08-05', 1016, 'Alice', 209, 'Headphones', 'Shipped', 2544.08, 2, 1272.04),\n",
    "(155, '2024-07-20', 1040, 'David', 209, 'Mouse', 'Pending', 5971.89, 3, 1990.63),\n",
    "(156, '2023-11-08', 1088, 'Ian', 202, 'Headphones', 'Pending', 6045.08, 4, 1511.27),\n",
    "(157, '2024-06-24', 1070, 'Bob', 204, 'Tablet', 'Shipped', 4275.52, 4, 1068.88),\n",
    "(158, '2024-06-16', 1037, 'Emma', 208, 'Headphones', 'Delivered', 3672.22, 2, 1836.11),\n",
    "(159, '2023-01-28', 1014, 'Alice', 201, 'Printer', 'Delivered', 1673.34, 2, 836.67),\n",
    "(160, '2023-02-20', 1033, 'Charlie', 207, 'Phone', 'Shipped', 2073.7, 2, 1036.85),\n",
    "(161, '2023-10-24', 1053, 'Emma', 208, 'Laptop', 'Delivered', 843.32, 4, 210.83),\n",
    "(162, '2024-11-04', 1096, 'Emma', 203, 'Mouse', 'Delivered', 5340.75, 5, 1068.15),\n",
    "(163, '2023-12-29', 1007, 'Charlie', 208, 'Printer', 'Delivered', 5695.2, 3, 1898.4),\n",
    "(164, '2025-02-04', 1027, 'Alice', 207, 'Headphones', 'Cancelled', 2764.95, 3, 921.65),\n",
    "(165, '2023-05-19', 1097, 'Ian', 208, 'Speaker', 'Cancelled', 2692.2, 2, 1346.1),\n",
    "(166, '2024-03-30', 1015, 'Hannah', 201, 'Laptop', 'Shipped', 1238.16, 4, 309.54),\n",
    "(167, '2025-03-20', 1039, 'Grace', 201, 'Printer', 'Shipped', 949.6, 2, 474.8),\n",
    "(168, '2024-06-03', 1021, 'Emma', 210, 'Tablet', 'Cancelled', 4289.4, 3, 1429.8),\n",
    "(169, '2025-05-01', 1091, 'Frank', 202, 'Mouse', 'Shipped', 2677.7, 2, 1338.85),\n",
    "(170, '2023-11-18', 1013, 'Grace', 206, 'Mouse', 'Delivered', 3139.7, 2, 1569.85),\n",
    "(171, '2023-07-31', 1053, 'David', 203, 'Camera', 'Cancelled', 1384.65, 5, 276.93),\n",
    "(172, '2024-10-22', 1098, 'Charlie', 210, 'Headphones', 'Delivered', 2747.37, 3, 915.79),\n",
    "(173, '2024-07-30', 1041, 'Grace', 201, 'Headphones', 'Cancelled', 2974.86, 3, 991.62),\n",
    "(174, '2023-02-12', 1072, 'David', 200, 'Phone', 'Shipped', 1264.28, 2, 632.14),\n",
    "(175, '2024-09-17', 1063, 'Alice', 202, 'Mouse', 'Delivered', 1073.78, 2, 536.89),\n",
    "(176, '2023-06-25', 1031, 'Julia', 205, 'Printer', 'Shipped', 728.48, 1, 728.48),\n",
    "(177, '2024-04-19', 1047, 'Emma', 201, 'Printer', 'Delivered', 5170.47, 3, 1723.49),\n",
    "(178, '2025-04-09', 1034, 'Alice', 201, 'Printer', 'Delivered', 9353.3, 5, 1870.66),\n",
    "(179, '2023-03-07', 1024, 'Alice', 206, 'Phone', 'Pending', 3865.1, 2, 1932.55),\n",
    "(180, '2024-09-09', 1058, 'Bob', 206, 'Laptop', 'Delivered', 4136.19, 3, 1378.73),\n",
    "(181, '2024-01-19', 1052, 'Hannah', 200, 'Monitor', 'Shipped', 3405.4, 4, 851.35),\n",
    "(182, '2024-12-20', 1044, 'Charlie', 208, 'Phone', 'Delivered', 817.06, 1, 817.06),\n",
    "(183, '2024-12-29', 1090, 'Frank', 200, 'Tablet', 'Delivered', 658.68, 2, 329.34),\n",
    "(184, '2024-03-06', 1031, 'Julia', 202, 'Headphones', 'Cancelled', 958.68, 4, 239.67),\n",
    "(185, '2024-05-02', 1006, 'Bob', 200, 'Keyboard', 'Pending', 4838.6, 4, 1209.65),\n",
    "(186, '2024-01-13', 1058, 'Emma', 201, 'Printer', 'Cancelled', 865.84, 4, 216.46),\n",
    "(187, '2024-11-06', 1083, 'David', 204, 'Monitor', 'Pending', 8838.5, 5, 1767.7),\n",
    "(188, '2025-04-13', 1020, 'Julia', 210, 'Speaker', 'Cancelled', 9663.45, 5, 1932.69),\n",
    "(189, '2024-11-19', 1011, 'Emma', 203, 'Camera', 'Cancelled', 7854.84, 4, 1963.71),\n",
    "(190, '2025-01-08', 1072, 'Ian', 205, 'Headphones', 'Pending', 1716.56, 1, 1716.56),\n",
    "(191, '2023-12-21', 1001, 'Emma', 201, 'Headphones', 'Cancelled', 255.99, 3, 85.33),\n",
    "(192, '2025-02-28', 1082, 'Alice', 204, 'Phone', 'Delivered', 3970.4, 5, 794.08),\n",
    "(193, '2024-01-25', 1091, 'Emma', 206, 'Printer', 'Cancelled', 3038.61, 3, 1012.87),\n",
    "(194, '2025-01-03', 1046, 'David', 205, 'Tablet', 'Pending', 2185.86, 3, 728.62),\n",
    "(195, '2024-06-19', 1003, 'Charlie', 206, 'Mouse', 'Delivered', 2282.36, 2, 1141.18),\n",
    "(196, '2023-01-18', 1031, 'Charlie', 210, 'Keyboard', 'Cancelled', 4734.75, 3, 1578.25),\n",
    "(197, '2023-09-10', 1063, 'Ian', 207, 'Monitor', 'Delivered', 1019.43, 3, 339.81),\n",
    "(198, '2023-11-12', 1052, 'David', 209, 'Phone', 'Shipped', 3758.61, 3, 1252.87),\n",
    "(199, '2023-06-05', 1002, 'Emma', 209, 'Keyboard', 'Pending', 2705.25, 5, 541.05),\n",
    "(200, '2025-06-19', 1009, 'Alice', 206, 'Speaker', 'Shipped', 2148.78, 2, 1074.39);"
   ]
  },
  {
   "cell_type": "code",
   "execution_count": 0,
   "metadata": {
    "application/vnd.databricks.v1+cell": {
     "cellMetadata": {
      "byteLimit": 2048000,
      "implicitDf": true,
      "rowLimit": 10000
     },
     "inputWidgets": {},
     "nuid": "3de08b0e-cc5e-4394-9c20-d347ce46a63f",
     "showTitle": false,
     "tableResultSettingsMap": {
      "0": {
       "dataGridStateBlob": "{\"version\":1,\"tableState\":{\"columnPinning\":{\"left\":[\"#row_number#\"],\"right\":[]},\"columnSizing\":{},\"columnVisibility\":{}},\"settings\":{\"columns\":{}},\"syncTimestamp\":1757749561779}",
       "filterBlob": null,
       "queryPlanFiltersBlob": null,
       "tableResultIndex": 0
      }
     },
     "title": ""
    }
   },
   "outputs": [
    {
     "data": {
      "text/html": [
       "<style scoped>\n",
       "  .table-result-container {\n",
       "    max-height: 300px;\n",
       "    overflow: auto;\n",
       "  }\n",
       "  table, th, td {\n",
       "    border: 1px solid black;\n",
       "    border-collapse: collapse;\n",
       "  }\n",
       "  th, td {\n",
       "    padding: 5px;\n",
       "  }\n",
       "  th {\n",
       "    text-align: left;\n",
       "  }\n",
       "</style><div class='table-result-container'><table class='table-result'><thead style='background-color: white'><tr><th>order_id</th><th>order_date</th><th>order_customer_id</th><th>customer_name</th><th>product_id</th><th>product_name</th><th>order_status</th><th>order_total</th><th>quantity</th><th>price</th></tr></thead><tbody><tr><td>1</td><td>2024-02-08</td><td>1005</td><td>David</td><td>206</td><td>Mouse</td><td>Pending</td><td>784.7</td><td>1</td><td>784.7</td></tr><tr><td>2</td><td>2023-02-07</td><td>1053</td><td>Frank</td><td>205</td><td>Laptop</td><td>Cancelled</td><td>4110.39</td><td>3</td><td>1370.13</td></tr><tr><td>3</td><td>2023-01-04</td><td>1071</td><td>Julia</td><td>203</td><td>Speaker</td><td>Delivered</td><td>1417.83</td><td>3</td><td>472.61</td></tr><tr><td>4</td><td>2023-11-16</td><td>1072</td><td>Bob</td><td>209</td><td>Laptop</td><td>Cancelled</td><td>4598.55</td><td>3</td><td>1532.85</td></tr><tr><td>5</td><td>2024-12-04</td><td>1017</td><td>Julia</td><td>208</td><td>Printer</td><td>Shipped</td><td>1130.3</td><td>5</td><td>226.06</td></tr><tr><td>6</td><td>2025-01-13</td><td>1042</td><td>Frank</td><td>210</td><td>Mouse</td><td>Pending</td><td>694.68</td><td>3</td><td>231.56</td></tr><tr><td>7</td><td>2023-09-04</td><td>1069</td><td>Alice</td><td>202</td><td>Keyboard</td><td>Delivered</td><td>1064.24</td><td>4</td><td>266.06</td></tr><tr><td>8</td><td>2024-05-10</td><td>1048</td><td>Frank</td><td>210</td><td>Printer</td><td>Pending</td><td>4643.88</td><td>4</td><td>1160.97</td></tr><tr><td>9</td><td>2023-06-03</td><td>1020</td><td>David</td><td>209</td><td>Phone</td><td>Delivered</td><td>2621.44</td><td>4</td><td>655.36</td></tr><tr><td>10</td><td>2025-04-14</td><td>1064</td><td>Charlie</td><td>204</td><td>Headphones</td><td>Pending</td><td>2493.86</td><td>2</td><td>1246.93</td></tr><tr><td>11</td><td>2023-11-14</td><td>1084</td><td>Hannah</td><td>206</td><td>Keyboard</td><td>Shipped</td><td>2876.92</td><td>2</td><td>1438.46</td></tr><tr><td>12</td><td>2023-07-13</td><td>1019</td><td>Grace</td><td>203</td><td>Laptop</td><td>Delivered</td><td>1309.84</td><td>4</td><td>327.46</td></tr><tr><td>13</td><td>2024-06-06</td><td>1034</td><td>Julia</td><td>210</td><td>Tablet</td><td>Delivered</td><td>3401.4</td><td>4</td><td>850.35</td></tr><tr><td>14</td><td>2023-07-11</td><td>1057</td><td>Alice</td><td>206</td><td>Speaker</td><td>Shipped</td><td>1619.4</td><td>4</td><td>404.85</td></tr><tr><td>15</td><td>2024-07-03</td><td>1040</td><td>David</td><td>210</td><td>Keyboard</td><td>Delivered</td><td>1603.18</td><td>1</td><td>1603.18</td></tr><tr><td>16</td><td>2023-12-31</td><td>1097</td><td>Grace</td><td>206</td><td>Phone</td><td>Cancelled</td><td>5475.69</td><td>3</td><td>1825.23</td></tr><tr><td>17</td><td>2024-04-16</td><td>1001</td><td>Emma</td><td>201</td><td>Phone</td><td>Shipped</td><td>2371.02</td><td>2</td><td>1185.51</td></tr><tr><td>18</td><td>2024-08-21</td><td>1098</td><td>Frank</td><td>201</td><td>Headphones</td><td>Shipped</td><td>1188.15</td><td>5</td><td>237.63</td></tr><tr><td>19</td><td>2023-01-28</td><td>1095</td><td>Grace</td><td>210</td><td>Phone</td><td>Shipped</td><td>2202.15</td><td>3</td><td>734.05</td></tr><tr><td>20</td><td>2025-06-05</td><td>1037</td><td>Ian</td><td>206</td><td>Tablet</td><td>Pending</td><td>8951.15</td><td>5</td><td>1790.23</td></tr><tr><td>21</td><td>2024-09-21</td><td>1029</td><td>Frank</td><td>209</td><td>Keyboard</td><td>Shipped</td><td>156.46</td><td>2</td><td>78.23</td></tr><tr><td>22</td><td>2025-02-19</td><td>1099</td><td>Charlie</td><td>210</td><td>Speaker</td><td>Pending</td><td>597.03</td><td>3</td><td>199.01</td></tr><tr><td>23</td><td>2024-09-16</td><td>1033</td><td>Ian</td><td>203</td><td>Mouse</td><td>Delivered</td><td>4186.28</td><td>4</td><td>1046.57</td></tr><tr><td>24</td><td>2025-08-24</td><td>1005</td><td>Charlie</td><td>209</td><td>Camera</td><td>Pending</td><td>2475.78</td><td>2</td><td>1237.89</td></tr><tr><td>25</td><td>2023-05-27</td><td>1096</td><td>Emma</td><td>208</td><td>Headphones</td><td>Delivered</td><td>6953.2</td><td>4</td><td>1738.3</td></tr><tr><td>26</td><td>2024-11-20</td><td>1041</td><td>Grace</td><td>202</td><td>Phone</td><td>Cancelled</td><td>3309.2</td><td>4</td><td>827.3</td></tr><tr><td>27</td><td>2025-05-10</td><td>1051</td><td>Emma</td><td>203</td><td>Tablet</td><td>Pending</td><td>3456.74</td><td>2</td><td>1728.37</td></tr><tr><td>28</td><td>2023-12-22</td><td>1060</td><td>Grace</td><td>209</td><td>Camera</td><td>Pending</td><td>1647.46</td><td>1</td><td>1647.46</td></tr><tr><td>29</td><td>2024-05-19</td><td>1057</td><td>Julia</td><td>203</td><td>Headphones</td><td>Cancelled</td><td>5647.15</td><td>5</td><td>1129.43</td></tr><tr><td>30</td><td>2023-03-04</td><td>1057</td><td>Frank</td><td>206</td><td>Mouse</td><td>Cancelled</td><td>4205.68</td><td>4</td><td>1051.42</td></tr><tr><td>31</td><td>2024-05-23</td><td>1008</td><td>Hannah</td><td>208</td><td>Mouse</td><td>Delivered</td><td>571.13</td><td>1</td><td>571.13</td></tr><tr><td>32</td><td>2023-04-13</td><td>1057</td><td>Ian</td><td>206</td><td>Mouse</td><td>Pending</td><td>564.36</td><td>3</td><td>188.12</td></tr><tr><td>33</td><td>2023-05-03</td><td>1010</td><td>Grace</td><td>202</td><td>Printer</td><td>Shipped</td><td>1975.34</td><td>1</td><td>1975.34</td></tr><tr><td>34</td><td>2024-10-19</td><td>1001</td><td>Alice</td><td>203</td><td>Headphones</td><td>Pending</td><td>1038.72</td><td>4</td><td>259.68</td></tr><tr><td>35</td><td>2023-08-11</td><td>1090</td><td>David</td><td>204</td><td>Monitor</td><td>Pending</td><td>3968.02</td><td>2</td><td>1984.01</td></tr><tr><td>36</td><td>2023-07-17</td><td>1024</td><td>Julia</td><td>201</td><td>Tablet</td><td>Pending</td><td>1642.8</td><td>5</td><td>328.56</td></tr><tr><td>37</td><td>2025-03-28</td><td>1082</td><td>Frank</td><td>200</td><td>Mouse</td><td>Delivered</td><td>4367.04</td><td>4</td><td>1091.76</td></tr><tr><td>38</td><td>2023-09-07</td><td>1051</td><td>Frank</td><td>200</td><td>Keyboard</td><td>Shipped</td><td>5083.32</td><td>4</td><td>1270.83</td></tr><tr><td>39</td><td>2025-08-16</td><td>1100</td><td>Julia</td><td>201</td><td>Speaker</td><td>Pending</td><td>140.28</td><td>2</td><td>70.14</td></tr><tr><td>40</td><td>2025-09-01</td><td>1078</td><td>Ian</td><td>206</td><td>Keyboard</td><td>Shipped</td><td>4646.0</td><td>4</td><td>1161.5</td></tr><tr><td>41</td><td>2024-04-28</td><td>1015</td><td>Hannah</td><td>208</td><td>Camera</td><td>Cancelled</td><td>1294.78</td><td>2</td><td>647.39</td></tr><tr><td>42</td><td>2025-01-11</td><td>1088</td><td>David</td><td>201</td><td>Headphones</td><td>Shipped</td><td>2270.04</td><td>2</td><td>1135.02</td></tr><tr><td>43</td><td>2024-03-23</td><td>1017</td><td>Emma</td><td>209</td><td>Headphones</td><td>Cancelled</td><td>1220.85</td><td>5</td><td>244.17</td></tr><tr><td>44</td><td>2025-02-19</td><td>1062</td><td>Ian</td><td>210</td><td>Keyboard</td><td>Pending</td><td>3927.64</td><td>4</td><td>981.91</td></tr><tr><td>45</td><td>2025-03-15</td><td>1064</td><td>David</td><td>200</td><td>Tablet</td><td>Delivered</td><td>1282.68</td><td>2</td><td>641.34</td></tr><tr><td>46</td><td>2024-11-08</td><td>1019</td><td>Hannah</td><td>209</td><td>Camera</td><td>Shipped</td><td>2389.98</td><td>2</td><td>1194.99</td></tr><tr><td>47</td><td>2025-02-03</td><td>1046</td><td>Alice</td><td>205</td><td>Headphones</td><td>Cancelled</td><td>3762.35</td><td>5</td><td>752.47</td></tr><tr><td>48</td><td>2024-01-06</td><td>1082</td><td>Grace</td><td>207</td><td>Keyboard</td><td>Shipped</td><td>2053.78</td><td>2</td><td>1026.89</td></tr><tr><td>49</td><td>2025-05-22</td><td>1027</td><td>Julia</td><td>205</td><td>Tablet</td><td>Pending</td><td>1929.3</td><td>3</td><td>643.1</td></tr><tr><td>50</td><td>2023-04-22</td><td>1003</td><td>Hannah</td><td>208</td><td>Laptop</td><td>Pending</td><td>283.11</td><td>3</td><td>94.37</td></tr><tr><td>51</td><td>2023-03-30</td><td>1029</td><td>Emma</td><td>203</td><td>Printer</td><td>Shipped</td><td>1423.91</td><td>1</td><td>1423.91</td></tr><tr><td>52</td><td>2024-07-11</td><td>1049</td><td>Bob</td><td>209</td><td>Phone</td><td>Shipped</td><td>6331.7</td><td>5</td><td>1266.34</td></tr><tr><td>53</td><td>2023-12-08</td><td>1048</td><td>Bob</td><td>203</td><td>Camera</td><td>Delivered</td><td>3664.5</td><td>5</td><td>732.9</td></tr><tr><td>54</td><td>2023-07-05</td><td>1040</td><td>Bob</td><td>205</td><td>Laptop</td><td>Delivered</td><td>532.23</td><td>1</td><td>532.23</td></tr><tr><td>55</td><td>2023-07-01</td><td>1024</td><td>David</td><td>204</td><td>Printer</td><td>Cancelled</td><td>5673.18</td><td>3</td><td>1891.06</td></tr><tr><td>56</td><td>2025-03-28</td><td>1091</td><td>Ian</td><td>209</td><td>Laptop</td><td>Shipped</td><td>3500.4</td><td>2</td><td>1750.2</td></tr><tr><td>57</td><td>2023-04-11</td><td>1075</td><td>Frank</td><td>209</td><td>Tablet</td><td>Pending</td><td>3723.51</td><td>3</td><td>1241.17</td></tr><tr><td>58</td><td>2025-08-18</td><td>1035</td><td>Grace</td><td>200</td><td>Tablet</td><td>Shipped</td><td>5619.56</td><td>4</td><td>1404.89</td></tr><tr><td>59</td><td>2023-01-24</td><td>1086</td><td>Emma</td><td>202</td><td>Monitor</td><td>Cancelled</td><td>2898.93</td><td>3</td><td>966.31</td></tr><tr><td>60</td><td>2024-09-04</td><td>1080</td><td>Julia</td><td>201</td><td>Camera</td><td>Delivered</td><td>1808.1</td><td>1</td><td>1808.1</td></tr><tr><td>61</td><td>2025-07-24</td><td>1028</td><td>Frank</td><td>208</td><td>Laptop</td><td>Delivered</td><td>779.04</td><td>3</td><td>259.68</td></tr><tr><td>62</td><td>2024-11-19</td><td>1057</td><td>David</td><td>206</td><td>Tablet</td><td>Pending</td><td>3116.97</td><td>3</td><td>1038.99</td></tr><tr><td>63</td><td>2025-01-15</td><td>1077</td><td>Frank</td><td>203</td><td>Speaker</td><td>Shipped</td><td>850.7</td><td>5</td><td>170.14</td></tr><tr><td>64</td><td>2023-11-12</td><td>1062</td><td>Julia</td><td>209</td><td>Keyboard</td><td>Shipped</td><td>3883.12</td><td>4</td><td>970.78</td></tr><tr><td>65</td><td>2024-08-08</td><td>1014</td><td>Frank</td><td>202</td><td>Keyboard</td><td>Shipped</td><td>438.51</td><td>1</td><td>438.51</td></tr><tr><td>66</td><td>2023-01-15</td><td>1051</td><td>Frank</td><td>206</td><td>Mouse</td><td>Pending</td><td>5550.1</td><td>5</td><td>1110.02</td></tr><tr><td>67</td><td>2023-08-23</td><td>1005</td><td>Julia</td><td>204</td><td>Camera</td><td>Delivered</td><td>1162.32</td><td>3</td><td>387.44</td></tr><tr><td>68</td><td>2024-10-20</td><td>1072</td><td>Julia</td><td>209</td><td>Printer</td><td>Cancelled</td><td>4186.44</td><td>3</td><td>1395.48</td></tr><tr><td>69</td><td>2023-10-23</td><td>1052</td><td>Charlie</td><td>209</td><td>Camera</td><td>Cancelled</td><td>1581.35</td><td>1</td><td>1581.35</td></tr><tr><td>70</td><td>2024-07-29</td><td>1020</td><td>Julia</td><td>206</td><td>Laptop</td><td>Delivered</td><td>7480.72</td><td>4</td><td>1870.18</td></tr><tr><td>71</td><td>2024-08-23</td><td>1022</td><td>Bob</td><td>210</td><td>Mouse</td><td>Delivered</td><td>6939.9</td><td>5</td><td>1387.98</td></tr><tr><td>72</td><td>2024-10-29</td><td>1078</td><td>Alice</td><td>207</td><td>Mouse</td><td>Cancelled</td><td>496.38</td><td>3</td><td>165.46</td></tr><tr><td>73</td><td>2023-01-21</td><td>1060</td><td>Frank</td><td>205</td><td>Mouse</td><td>Cancelled</td><td>6855.8</td><td>4</td><td>1713.95</td></tr><tr><td>74</td><td>2024-11-24</td><td>1018</td><td>Charlie</td><td>206</td><td>Speaker</td><td>Cancelled</td><td>1173.83</td><td>1</td><td>1173.83</td></tr><tr><td>75</td><td>2023-06-14</td><td>1024</td><td>Alice</td><td>200</td><td>Tablet</td><td>Pending</td><td>1631.69</td><td>1</td><td>1631.69</td></tr><tr><td>76</td><td>2024-11-20</td><td>1015</td><td>Alice</td><td>209</td><td>Laptop</td><td>Cancelled</td><td>1682.22</td><td>3</td><td>560.74</td></tr><tr><td>77</td><td>2025-01-23</td><td>1067</td><td>Bob</td><td>203</td><td>Tablet</td><td>Pending</td><td>608.56</td><td>4</td><td>152.14</td></tr><tr><td>78</td><td>2023-02-25</td><td>1050</td><td>Emma</td><td>206</td><td>Phone</td><td>Delivered</td><td>1244.93</td><td>1</td><td>1244.93</td></tr><tr><td>79</td><td>2024-04-15</td><td>1075</td><td>Frank</td><td>206</td><td>Printer</td><td>Shipped</td><td>1604.21</td><td>1</td><td>1604.21</td></tr><tr><td>80</td><td>2023-12-15</td><td>1006</td><td>Ian</td><td>200</td><td>Laptop</td><td>Cancelled</td><td>3468.46</td><td>2</td><td>1734.23</td></tr><tr><td>81</td><td>2024-05-09</td><td>1042</td><td>Bob</td><td>206</td><td>Headphones</td><td>Cancelled</td><td>3632.95</td><td>5</td><td>726.59</td></tr><tr><td>82</td><td>2025-05-05</td><td>1005</td><td>Julia</td><td>203</td><td>Headphones</td><td>Pending</td><td>6766.55</td><td>5</td><td>1353.31</td></tr><tr><td>83</td><td>2025-01-05</td><td>1046</td><td>Emma</td><td>207</td><td>Keyboard</td><td>Shipped</td><td>100.46</td><td>1</td><td>100.46</td></tr><tr><td>84</td><td>2024-02-29</td><td>1025</td><td>Charlie</td><td>204</td><td>Mouse</td><td>Cancelled</td><td>1690.33</td><td>1</td><td>1690.33</td></tr><tr><td>85</td><td>2025-01-07</td><td>1053</td><td>Ian</td><td>206</td><td>Printer</td><td>Cancelled</td><td>4824.12</td><td>4</td><td>1206.03</td></tr><tr><td>86</td><td>2025-01-20</td><td>1006</td><td>David</td><td>206</td><td>Headphones</td><td>Shipped</td><td>665.52</td><td>1</td><td>665.52</td></tr><tr><td>87</td><td>2025-06-06</td><td>1035</td><td>Bob</td><td>202</td><td>Keyboard</td><td>Delivered</td><td>5516.37</td><td>3</td><td>1838.79</td></tr><tr><td>88</td><td>2025-08-13</td><td>1032</td><td>Ian</td><td>208</td><td>Phone</td><td>Shipped</td><td>8959.1</td><td>5</td><td>1791.82</td></tr><tr><td>89</td><td>2024-06-21</td><td>1093</td><td>Frank</td><td>209</td><td>Monitor</td><td>Shipped</td><td>3896.68</td><td>2</td><td>1948.34</td></tr><tr><td>90</td><td>2024-09-05</td><td>1032</td><td>Frank</td><td>210</td><td>Mouse</td><td>Shipped</td><td>312.54</td><td>2</td><td>156.27</td></tr><tr><td>91</td><td>2024-08-26</td><td>1059</td><td>Charlie</td><td>207</td><td>Speaker</td><td>Cancelled</td><td>7534.32</td><td>4</td><td>1883.58</td></tr><tr><td>92</td><td>2024-03-27</td><td>1028</td><td>Hannah</td><td>203</td><td>Camera</td><td>Delivered</td><td>1747.68</td><td>4</td><td>436.92</td></tr><tr><td>93</td><td>2025-03-01</td><td>1003</td><td>Julia</td><td>206</td><td>Camera</td><td>Pending</td><td>7972.75</td><td>5</td><td>1594.55</td></tr><tr><td>94</td><td>2023-02-27</td><td>1050</td><td>Ian</td><td>200</td><td>Phone</td><td>Shipped</td><td>902.96</td><td>2</td><td>451.48</td></tr><tr><td>95</td><td>2023-06-09</td><td>1026</td><td>Charlie</td><td>209</td><td>Mouse</td><td>Cancelled</td><td>2913.69</td><td>3</td><td>971.23</td></tr><tr><td>96</td><td>2025-03-25</td><td>1042</td><td>Hannah</td><td>207</td><td>Speaker</td><td>Shipped</td><td>7005.4</td><td>5</td><td>1401.08</td></tr><tr><td>97</td><td>2023-01-22</td><td>1097</td><td>Julia</td><td>208</td><td>Tablet</td><td>Cancelled</td><td>3607.04</td><td>2</td><td>1803.52</td></tr><tr><td>98</td><td>2024-04-04</td><td>1035</td><td>Charlie</td><td>201</td><td>Monitor</td><td>Cancelled</td><td>1694.8</td><td>5</td><td>338.96</td></tr><tr><td>99</td><td>2023-07-26</td><td>1046</td><td>Emma</td><td>208</td><td>Headphones</td><td>Shipped</td><td>2246.08</td><td>4</td><td>561.52</td></tr><tr><td>100</td><td>2025-07-04</td><td>1059</td><td>Ian</td><td>207</td><td>Keyboard</td><td>Cancelled</td><td>580.53</td><td>3</td><td>193.51</td></tr><tr><td>101</td><td>2023-02-19</td><td>1028</td><td>Hannah</td><td>204</td><td>Keyboard</td><td>Cancelled</td><td>3656.22</td><td>3</td><td>1218.74</td></tr><tr><td>102</td><td>2023-09-09</td><td>1087</td><td>Emma</td><td>207</td><td>Speaker</td><td>Shipped</td><td>1666.44</td><td>1</td><td>1666.44</td></tr><tr><td>103</td><td>2023-02-26</td><td>1071</td><td>Hannah</td><td>204</td><td>Headphones</td><td>Delivered</td><td>5112.15</td><td>5</td><td>1022.43</td></tr><tr><td>104</td><td>2023-06-17</td><td>1005</td><td>Charlie</td><td>201</td><td>Tablet</td><td>Shipped</td><td>1641.09</td><td>3</td><td>547.03</td></tr><tr><td>105</td><td>2024-06-29</td><td>1087</td><td>David</td><td>205</td><td>Keyboard</td><td>Cancelled</td><td>2390.7</td><td>5</td><td>478.14</td></tr><tr><td>106</td><td>2024-08-25</td><td>1045</td><td>Charlie</td><td>205</td><td>Tablet</td><td>Shipped</td><td>6086.55</td><td>5</td><td>1217.31</td></tr><tr><td>107</td><td>2023-08-17</td><td>1093</td><td>Julia</td><td>204</td><td>Tablet</td><td>Cancelled</td><td>3708.9</td><td>2</td><td>1854.45</td></tr><tr><td>108</td><td>2024-04-11</td><td>1040</td><td>Ian</td><td>208</td><td>Mouse</td><td>Shipped</td><td>1396.42</td><td>2</td><td>698.21</td></tr><tr><td>109</td><td>2025-04-09</td><td>1092</td><td>Grace</td><td>209</td><td>Camera</td><td>Cancelled</td><td>8648.6</td><td>5</td><td>1729.72</td></tr><tr><td>110</td><td>2025-05-21</td><td>1094</td><td>Alice</td><td>209</td><td>Camera</td><td>Pending</td><td>4210.4</td><td>5</td><td>842.08</td></tr><tr><td>111</td><td>2023-07-21</td><td>1083</td><td>Ian</td><td>205</td><td>Keyboard</td><td>Delivered</td><td>9094.45</td><td>5</td><td>1818.89</td></tr><tr><td>112</td><td>2023-06-15</td><td>1037</td><td>Alice</td><td>206</td><td>Headphones</td><td>Delivered</td><td>2611.5</td><td>2</td><td>1305.75</td></tr><tr><td>113</td><td>2025-08-27</td><td>1095</td><td>Bob</td><td>204</td><td>Speaker</td><td>Shipped</td><td>921.63</td><td>3</td><td>307.21</td></tr><tr><td>114</td><td>2023-07-03</td><td>1081</td><td>Julia</td><td>208</td><td>Camera</td><td>Shipped</td><td>5577.33</td><td>3</td><td>1859.11</td></tr><tr><td>115</td><td>2025-03-15</td><td>1080</td><td>Emma</td><td>206</td><td>Phone</td><td>Pending</td><td>1871.46</td><td>3</td><td>623.82</td></tr><tr><td>116</td><td>2023-01-15</td><td>1098</td><td>Charlie</td><td>201</td><td>Phone</td><td>Delivered</td><td>1540.86</td><td>2</td><td>770.43</td></tr><tr><td>117</td><td>2024-10-27</td><td>1052</td><td>Hannah</td><td>202</td><td>Monitor</td><td>Pending</td><td>126.95</td><td>1</td><td>126.95</td></tr><tr><td>118</td><td>2025-01-24</td><td>1096</td><td>Frank</td><td>202</td><td>Printer</td><td>Shipped</td><td>617.18</td><td>2</td><td>308.59</td></tr><tr><td>119</td><td>2024-12-17</td><td>1091</td><td>Emma</td><td>205</td><td>Headphones</td><td>Delivered</td><td>2859.78</td><td>3</td><td>953.26</td></tr><tr><td>120</td><td>2025-03-23</td><td>1093</td><td>David</td><td>210</td><td>Keyboard</td><td>Pending</td><td>1409.16</td><td>4</td><td>352.29</td></tr><tr><td>121</td><td>2024-06-19</td><td>1029</td><td>Alice</td><td>206</td><td>Tablet</td><td>Shipped</td><td>4659.95</td><td>5</td><td>931.99</td></tr><tr><td>122</td><td>2024-10-21</td><td>1005</td><td>Charlie</td><td>203</td><td>Phone</td><td>Pending</td><td>1202.93</td><td>1</td><td>1202.93</td></tr><tr><td>123</td><td>2023-11-15</td><td>1085</td><td>Alice</td><td>203</td><td>Phone</td><td>Delivered</td><td>659.16</td><td>3</td><td>219.72</td></tr><tr><td>124</td><td>2024-07-01</td><td>1007</td><td>Bob</td><td>203</td><td>Mouse</td><td>Shipped</td><td>3043.64</td><td>2</td><td>1521.82</td></tr><tr><td>125</td><td>2024-03-13</td><td>1016</td><td>Ian</td><td>205</td><td>Headphones</td><td>Pending</td><td>1545.4</td><td>5</td><td>309.08</td></tr><tr><td>126</td><td>2024-06-01</td><td>1048</td><td>David</td><td>202</td><td>Camera</td><td>Shipped</td><td>1992.99</td><td>3</td><td>664.33</td></tr><tr><td>127</td><td>2023-04-24</td><td>1016</td><td>Frank</td><td>210</td><td>Mouse</td><td>Cancelled</td><td>1048.4</td><td>2</td><td>524.2</td></tr><tr><td>128</td><td>2024-07-20</td><td>1073</td><td>Frank</td><td>207</td><td>Camera</td><td>Cancelled</td><td>1171.12</td><td>1</td><td>1171.12</td></tr><tr><td>129</td><td>2024-08-28</td><td>1062</td><td>Ian</td><td>208</td><td>Laptop</td><td>Pending</td><td>2916.9</td><td>5</td><td>583.38</td></tr><tr><td>130</td><td>2024-09-11</td><td>1011</td><td>Hannah</td><td>204</td><td>Monitor</td><td>Cancelled</td><td>7178.56</td><td>4</td><td>1794.64</td></tr><tr><td>131</td><td>2023-06-17</td><td>1040</td><td>Charlie</td><td>200</td><td>Printer</td><td>Cancelled</td><td>2219.8</td><td>2</td><td>1109.9</td></tr><tr><td>132</td><td>2024-03-06</td><td>1028</td><td>Ian</td><td>204</td><td>Camera</td><td>Cancelled</td><td>2892.96</td><td>3</td><td>964.32</td></tr><tr><td>133</td><td>2024-08-06</td><td>1083</td><td>Ian</td><td>209</td><td>Keyboard</td><td>Pending</td><td>1133.79</td><td>1</td><td>1133.79</td></tr><tr><td>134</td><td>2023-11-18</td><td>1016</td><td>Frank</td><td>209</td><td>Headphones</td><td>Delivered</td><td>486.92</td><td>4</td><td>121.73</td></tr><tr><td>135</td><td>2023-12-26</td><td>1030</td><td>Charlie</td><td>200</td><td>Printer</td><td>Pending</td><td>949.45</td><td>5</td><td>189.89</td></tr><tr><td>136</td><td>2025-05-12</td><td>1003</td><td>Bob</td><td>204</td><td>Laptop</td><td>Delivered</td><td>3672.24</td><td>4</td><td>918.06</td></tr><tr><td>137</td><td>2023-08-30</td><td>1009</td><td>Grace</td><td>200</td><td>Mouse</td><td>Pending</td><td>3469.45</td><td>5</td><td>693.89</td></tr><tr><td>138</td><td>2025-07-23</td><td>1054</td><td>Ian</td><td>207</td><td>Phone</td><td>Pending</td><td>671.94</td><td>1</td><td>671.94</td></tr><tr><td>139</td><td>2025-01-19</td><td>1098</td><td>Bob</td><td>205</td><td>Printer</td><td>Shipped</td><td>7556.85</td><td>5</td><td>1511.37</td></tr><tr><td>140</td><td>2024-01-28</td><td>1026</td><td>Charlie</td><td>202</td><td>Camera</td><td>Shipped</td><td>3123.1</td><td>2</td><td>1561.55</td></tr><tr><td>141</td><td>2024-05-30</td><td>1049</td><td>Ian</td><td>205</td><td>Mouse</td><td>Delivered</td><td>1385.5</td><td>2</td><td>692.75</td></tr><tr><td>142</td><td>2024-11-16</td><td>1008</td><td>Alice</td><td>200</td><td>Camera</td><td>Cancelled</td><td>4634.1</td><td>5</td><td>926.82</td></tr><tr><td>143</td><td>2023-09-02</td><td>1072</td><td>David</td><td>203</td><td>Laptop</td><td>Delivered</td><td>3027.05</td><td>5</td><td>605.41</td></tr><tr><td>144</td><td>2025-01-19</td><td>1013</td><td>Ian</td><td>210</td><td>Tablet</td><td>Cancelled</td><td>386.96</td><td>1</td><td>386.96</td></tr><tr><td>145</td><td>2024-07-18</td><td>1075</td><td>Charlie</td><td>204</td><td>Phone</td><td>Cancelled</td><td>6336.35</td><td>5</td><td>1267.27</td></tr><tr><td>146</td><td>2024-12-20</td><td>1058</td><td>Ian</td><td>207</td><td>Speaker</td><td>Delivered</td><td>416.51</td><td>1</td><td>416.51</td></tr><tr><td>147</td><td>2023-02-05</td><td>1096</td><td>Frank</td><td>204</td><td>Speaker</td><td>Shipped</td><td>1729.8</td><td>2</td><td>864.9</td></tr><tr><td>148</td><td>2023-11-23</td><td>1020</td><td>Frank</td><td>204</td><td>Monitor</td><td>Shipped</td><td>2065.0</td><td>2</td><td>1032.5</td></tr><tr><td>149</td><td>2023-08-26</td><td>1015</td><td>Frank</td><td>206</td><td>Tablet</td><td>Cancelled</td><td>777.85</td><td>1</td><td>777.85</td></tr><tr><td>150</td><td>2024-03-08</td><td>1064</td><td>Charlie</td><td>206</td><td>Printer</td><td>Cancelled</td><td>6189.32</td><td>4</td><td>1547.33</td></tr><tr><td>151</td><td>2024-12-24</td><td>1045</td><td>Ian</td><td>203</td><td>Laptop</td><td>Pending</td><td>3726.12</td><td>3</td><td>1242.04</td></tr><tr><td>152</td><td>2023-01-30</td><td>1065</td><td>Julia</td><td>208</td><td>Laptop</td><td>Cancelled</td><td>7864.3</td><td>5</td><td>1572.86</td></tr><tr><td>153</td><td>2023-01-20</td><td>1068</td><td>Julia</td><td>208</td><td>Headphones</td><td>Delivered</td><td>4797.64</td><td>4</td><td>1199.41</td></tr><tr><td>154</td><td>2025-08-05</td><td>1016</td><td>Alice</td><td>209</td><td>Headphones</td><td>Shipped</td><td>2544.08</td><td>2</td><td>1272.04</td></tr><tr><td>155</td><td>2024-07-20</td><td>1040</td><td>David</td><td>209</td><td>Mouse</td><td>Pending</td><td>5971.89</td><td>3</td><td>1990.63</td></tr><tr><td>156</td><td>2023-11-08</td><td>1088</td><td>Ian</td><td>202</td><td>Headphones</td><td>Pending</td><td>6045.08</td><td>4</td><td>1511.27</td></tr><tr><td>157</td><td>2024-06-24</td><td>1070</td><td>Bob</td><td>204</td><td>Tablet</td><td>Shipped</td><td>4275.52</td><td>4</td><td>1068.88</td></tr><tr><td>158</td><td>2024-06-16</td><td>1037</td><td>Emma</td><td>208</td><td>Headphones</td><td>Delivered</td><td>3672.22</td><td>2</td><td>1836.11</td></tr><tr><td>159</td><td>2023-01-28</td><td>1014</td><td>Alice</td><td>201</td><td>Printer</td><td>Delivered</td><td>1673.34</td><td>2</td><td>836.67</td></tr><tr><td>160</td><td>2023-02-20</td><td>1033</td><td>Charlie</td><td>207</td><td>Phone</td><td>Shipped</td><td>2073.7</td><td>2</td><td>1036.85</td></tr><tr><td>161</td><td>2023-10-24</td><td>1053</td><td>Emma</td><td>208</td><td>Laptop</td><td>Delivered</td><td>843.32</td><td>4</td><td>210.83</td></tr><tr><td>162</td><td>2024-11-04</td><td>1096</td><td>Emma</td><td>203</td><td>Mouse</td><td>Delivered</td><td>5340.75</td><td>5</td><td>1068.15</td></tr><tr><td>163</td><td>2023-12-29</td><td>1007</td><td>Charlie</td><td>208</td><td>Printer</td><td>Delivered</td><td>5695.2</td><td>3</td><td>1898.4</td></tr><tr><td>164</td><td>2025-02-04</td><td>1027</td><td>Alice</td><td>207</td><td>Headphones</td><td>Cancelled</td><td>2764.95</td><td>3</td><td>921.65</td></tr><tr><td>165</td><td>2023-05-19</td><td>1097</td><td>Ian</td><td>208</td><td>Speaker</td><td>Cancelled</td><td>2692.2</td><td>2</td><td>1346.1</td></tr><tr><td>166</td><td>2024-03-30</td><td>1015</td><td>Hannah</td><td>201</td><td>Laptop</td><td>Shipped</td><td>1238.16</td><td>4</td><td>309.54</td></tr><tr><td>167</td><td>2025-03-20</td><td>1039</td><td>Grace</td><td>201</td><td>Printer</td><td>Shipped</td><td>949.6</td><td>2</td><td>474.8</td></tr><tr><td>168</td><td>2024-06-03</td><td>1021</td><td>Emma</td><td>210</td><td>Tablet</td><td>Cancelled</td><td>4289.4</td><td>3</td><td>1429.8</td></tr><tr><td>169</td><td>2025-05-01</td><td>1091</td><td>Frank</td><td>202</td><td>Mouse</td><td>Shipped</td><td>2677.7</td><td>2</td><td>1338.85</td></tr><tr><td>170</td><td>2023-11-18</td><td>1013</td><td>Grace</td><td>206</td><td>Mouse</td><td>Delivered</td><td>3139.7</td><td>2</td><td>1569.85</td></tr><tr><td>171</td><td>2023-07-31</td><td>1053</td><td>David</td><td>203</td><td>Camera</td><td>Cancelled</td><td>1384.65</td><td>5</td><td>276.93</td></tr><tr><td>172</td><td>2024-10-22</td><td>1098</td><td>Charlie</td><td>210</td><td>Headphones</td><td>Delivered</td><td>2747.37</td><td>3</td><td>915.79</td></tr><tr><td>173</td><td>2024-07-30</td><td>1041</td><td>Grace</td><td>201</td><td>Headphones</td><td>Cancelled</td><td>2974.86</td><td>3</td><td>991.62</td></tr><tr><td>174</td><td>2023-02-12</td><td>1072</td><td>David</td><td>200</td><td>Phone</td><td>Shipped</td><td>1264.28</td><td>2</td><td>632.14</td></tr><tr><td>175</td><td>2024-09-17</td><td>1063</td><td>Alice</td><td>202</td><td>Mouse</td><td>Delivered</td><td>1073.78</td><td>2</td><td>536.89</td></tr><tr><td>176</td><td>2023-06-25</td><td>1031</td><td>Julia</td><td>205</td><td>Printer</td><td>Shipped</td><td>728.48</td><td>1</td><td>728.48</td></tr><tr><td>177</td><td>2024-04-19</td><td>1047</td><td>Emma</td><td>201</td><td>Printer</td><td>Delivered</td><td>5170.47</td><td>3</td><td>1723.49</td></tr><tr><td>178</td><td>2025-04-09</td><td>1034</td><td>Alice</td><td>201</td><td>Printer</td><td>Delivered</td><td>9353.3</td><td>5</td><td>1870.66</td></tr><tr><td>179</td><td>2023-03-07</td><td>1024</td><td>Alice</td><td>206</td><td>Phone</td><td>Pending</td><td>3865.1</td><td>2</td><td>1932.55</td></tr><tr><td>180</td><td>2024-09-09</td><td>1058</td><td>Bob</td><td>206</td><td>Laptop</td><td>Delivered</td><td>4136.19</td><td>3</td><td>1378.73</td></tr><tr><td>181</td><td>2024-01-19</td><td>1052</td><td>Hannah</td><td>200</td><td>Monitor</td><td>Shipped</td><td>3405.4</td><td>4</td><td>851.35</td></tr><tr><td>182</td><td>2024-12-20</td><td>1044</td><td>Charlie</td><td>208</td><td>Phone</td><td>Delivered</td><td>817.06</td><td>1</td><td>817.06</td></tr><tr><td>183</td><td>2024-12-29</td><td>1090</td><td>Frank</td><td>200</td><td>Tablet</td><td>Delivered</td><td>658.68</td><td>2</td><td>329.34</td></tr><tr><td>184</td><td>2024-03-06</td><td>1031</td><td>Julia</td><td>202</td><td>Headphones</td><td>Cancelled</td><td>958.68</td><td>4</td><td>239.67</td></tr><tr><td>185</td><td>2024-05-02</td><td>1006</td><td>Bob</td><td>200</td><td>Keyboard</td><td>Pending</td><td>4838.6</td><td>4</td><td>1209.65</td></tr><tr><td>186</td><td>2024-01-13</td><td>1058</td><td>Emma</td><td>201</td><td>Printer</td><td>Cancelled</td><td>865.84</td><td>4</td><td>216.46</td></tr><tr><td>187</td><td>2024-11-06</td><td>1083</td><td>David</td><td>204</td><td>Monitor</td><td>Pending</td><td>8838.5</td><td>5</td><td>1767.7</td></tr><tr><td>188</td><td>2025-04-13</td><td>1020</td><td>Julia</td><td>210</td><td>Speaker</td><td>Cancelled</td><td>9663.45</td><td>5</td><td>1932.69</td></tr><tr><td>189</td><td>2024-11-19</td><td>1011</td><td>Emma</td><td>203</td><td>Camera</td><td>Cancelled</td><td>7854.84</td><td>4</td><td>1963.71</td></tr><tr><td>190</td><td>2025-01-08</td><td>1072</td><td>Ian</td><td>205</td><td>Headphones</td><td>Pending</td><td>1716.56</td><td>1</td><td>1716.56</td></tr><tr><td>191</td><td>2023-12-21</td><td>1001</td><td>Emma</td><td>201</td><td>Headphones</td><td>Cancelled</td><td>255.99</td><td>3</td><td>85.33</td></tr><tr><td>192</td><td>2025-02-28</td><td>1082</td><td>Alice</td><td>204</td><td>Phone</td><td>Delivered</td><td>3970.4</td><td>5</td><td>794.08</td></tr><tr><td>193</td><td>2024-01-25</td><td>1091</td><td>Emma</td><td>206</td><td>Printer</td><td>Cancelled</td><td>3038.61</td><td>3</td><td>1012.87</td></tr><tr><td>194</td><td>2025-01-03</td><td>1046</td><td>David</td><td>205</td><td>Tablet</td><td>Pending</td><td>2185.86</td><td>3</td><td>728.62</td></tr><tr><td>195</td><td>2024-06-19</td><td>1003</td><td>Charlie</td><td>206</td><td>Mouse</td><td>Delivered</td><td>2282.36</td><td>2</td><td>1141.18</td></tr><tr><td>196</td><td>2023-01-18</td><td>1031</td><td>Charlie</td><td>210</td><td>Keyboard</td><td>Cancelled</td><td>4734.75</td><td>3</td><td>1578.25</td></tr><tr><td>197</td><td>2023-09-10</td><td>1063</td><td>Ian</td><td>207</td><td>Monitor</td><td>Delivered</td><td>1019.43</td><td>3</td><td>339.81</td></tr><tr><td>198</td><td>2023-11-12</td><td>1052</td><td>David</td><td>209</td><td>Phone</td><td>Shipped</td><td>3758.61</td><td>3</td><td>1252.87</td></tr><tr><td>199</td><td>2023-06-05</td><td>1002</td><td>Emma</td><td>209</td><td>Keyboard</td><td>Pending</td><td>2705.25</td><td>5</td><td>541.05</td></tr><tr><td>200</td><td>2025-06-19</td><td>1009</td><td>Alice</td><td>206</td><td>Speaker</td><td>Shipped</td><td>2148.78</td><td>2</td><td>1074.39</td></tr></tbody></table></div>"
      ]
     },
     "metadata": {
      "application/vnd.databricks.v1+output": {
       "addedWidgets": {},
       "aggData": [],
       "aggError": "",
       "aggOverflow": false,
       "aggSchema": [],
       "aggSeriesLimitReached": false,
       "aggType": "",
       "arguments": {},
       "columnCustomDisplayInfos": {},
       "data": [
        [
         1,
         "2024-02-08",
         1005,
         "David",
         206,
         "Mouse",
         "Pending",
         784.7,
         1,
         784.7
        ],
        [
         2,
         "2023-02-07",
         1053,
         "Frank",
         205,
         "Laptop",
         "Cancelled",
         4110.39,
         3,
         1370.13
        ],
        [
         3,
         "2023-01-04",
         1071,
         "Julia",
         203,
         "Speaker",
         "Delivered",
         1417.83,
         3,
         472.61
        ],
        [
         4,
         "2023-11-16",
         1072,
         "Bob",
         209,
         "Laptop",
         "Cancelled",
         4598.55,
         3,
         1532.85
        ],
        [
         5,
         "2024-12-04",
         1017,
         "Julia",
         208,
         "Printer",
         "Shipped",
         1130.3,
         5,
         226.06
        ],
        [
         6,
         "2025-01-13",
         1042,
         "Frank",
         210,
         "Mouse",
         "Pending",
         694.68,
         3,
         231.56
        ],
        [
         7,
         "2023-09-04",
         1069,
         "Alice",
         202,
         "Keyboard",
         "Delivered",
         1064.24,
         4,
         266.06
        ],
        [
         8,
         "2024-05-10",
         1048,
         "Frank",
         210,
         "Printer",
         "Pending",
         4643.88,
         4,
         1160.97
        ],
        [
         9,
         "2023-06-03",
         1020,
         "David",
         209,
         "Phone",
         "Delivered",
         2621.44,
         4,
         655.36
        ],
        [
         10,
         "2025-04-14",
         1064,
         "Charlie",
         204,
         "Headphones",
         "Pending",
         2493.86,
         2,
         1246.93
        ],
        [
         11,
         "2023-11-14",
         1084,
         "Hannah",
         206,
         "Keyboard",
         "Shipped",
         2876.92,
         2,
         1438.46
        ],
        [
         12,
         "2023-07-13",
         1019,
         "Grace",
         203,
         "Laptop",
         "Delivered",
         1309.84,
         4,
         327.46
        ],
        [
         13,
         "2024-06-06",
         1034,
         "Julia",
         210,
         "Tablet",
         "Delivered",
         3401.4,
         4,
         850.35
        ],
        [
         14,
         "2023-07-11",
         1057,
         "Alice",
         206,
         "Speaker",
         "Shipped",
         1619.4,
         4,
         404.85
        ],
        [
         15,
         "2024-07-03",
         1040,
         "David",
         210,
         "Keyboard",
         "Delivered",
         1603.18,
         1,
         1603.18
        ],
        [
         16,
         "2023-12-31",
         1097,
         "Grace",
         206,
         "Phone",
         "Cancelled",
         5475.69,
         3,
         1825.23
        ],
        [
         17,
         "2024-04-16",
         1001,
         "Emma",
         201,
         "Phone",
         "Shipped",
         2371.02,
         2,
         1185.51
        ],
        [
         18,
         "2024-08-21",
         1098,
         "Frank",
         201,
         "Headphones",
         "Shipped",
         1188.15,
         5,
         237.63
        ],
        [
         19,
         "2023-01-28",
         1095,
         "Grace",
         210,
         "Phone",
         "Shipped",
         2202.15,
         3,
         734.05
        ],
        [
         20,
         "2025-06-05",
         1037,
         "Ian",
         206,
         "Tablet",
         "Pending",
         8951.15,
         5,
         1790.23
        ],
        [
         21,
         "2024-09-21",
         1029,
         "Frank",
         209,
         "Keyboard",
         "Shipped",
         156.46,
         2,
         78.23
        ],
        [
         22,
         "2025-02-19",
         1099,
         "Charlie",
         210,
         "Speaker",
         "Pending",
         597.03,
         3,
         199.01
        ],
        [
         23,
         "2024-09-16",
         1033,
         "Ian",
         203,
         "Mouse",
         "Delivered",
         4186.28,
         4,
         1046.57
        ],
        [
         24,
         "2025-08-24",
         1005,
         "Charlie",
         209,
         "Camera",
         "Pending",
         2475.78,
         2,
         1237.89
        ],
        [
         25,
         "2023-05-27",
         1096,
         "Emma",
         208,
         "Headphones",
         "Delivered",
         6953.2,
         4,
         1738.3
        ],
        [
         26,
         "2024-11-20",
         1041,
         "Grace",
         202,
         "Phone",
         "Cancelled",
         3309.2,
         4,
         827.3
        ],
        [
         27,
         "2025-05-10",
         1051,
         "Emma",
         203,
         "Tablet",
         "Pending",
         3456.74,
         2,
         1728.37
        ],
        [
         28,
         "2023-12-22",
         1060,
         "Grace",
         209,
         "Camera",
         "Pending",
         1647.46,
         1,
         1647.46
        ],
        [
         29,
         "2024-05-19",
         1057,
         "Julia",
         203,
         "Headphones",
         "Cancelled",
         5647.15,
         5,
         1129.43
        ],
        [
         30,
         "2023-03-04",
         1057,
         "Frank",
         206,
         "Mouse",
         "Cancelled",
         4205.68,
         4,
         1051.42
        ],
        [
         31,
         "2024-05-23",
         1008,
         "Hannah",
         208,
         "Mouse",
         "Delivered",
         571.13,
         1,
         571.13
        ],
        [
         32,
         "2023-04-13",
         1057,
         "Ian",
         206,
         "Mouse",
         "Pending",
         564.36,
         3,
         188.12
        ],
        [
         33,
         "2023-05-03",
         1010,
         "Grace",
         202,
         "Printer",
         "Shipped",
         1975.34,
         1,
         1975.34
        ],
        [
         34,
         "2024-10-19",
         1001,
         "Alice",
         203,
         "Headphones",
         "Pending",
         1038.72,
         4,
         259.68
        ],
        [
         35,
         "2023-08-11",
         1090,
         "David",
         204,
         "Monitor",
         "Pending",
         3968.02,
         2,
         1984.01
        ],
        [
         36,
         "2023-07-17",
         1024,
         "Julia",
         201,
         "Tablet",
         "Pending",
         1642.8,
         5,
         328.56
        ],
        [
         37,
         "2025-03-28",
         1082,
         "Frank",
         200,
         "Mouse",
         "Delivered",
         4367.04,
         4,
         1091.76
        ],
        [
         38,
         "2023-09-07",
         1051,
         "Frank",
         200,
         "Keyboard",
         "Shipped",
         5083.32,
         4,
         1270.83
        ],
        [
         39,
         "2025-08-16",
         1100,
         "Julia",
         201,
         "Speaker",
         "Pending",
         140.28,
         2,
         70.14
        ],
        [
         40,
         "2025-09-01",
         1078,
         "Ian",
         206,
         "Keyboard",
         "Shipped",
         4646,
         4,
         1161.5
        ],
        [
         41,
         "2024-04-28",
         1015,
         "Hannah",
         208,
         "Camera",
         "Cancelled",
         1294.78,
         2,
         647.39
        ],
        [
         42,
         "2025-01-11",
         1088,
         "David",
         201,
         "Headphones",
         "Shipped",
         2270.04,
         2,
         1135.02
        ],
        [
         43,
         "2024-03-23",
         1017,
         "Emma",
         209,
         "Headphones",
         "Cancelled",
         1220.85,
         5,
         244.17
        ],
        [
         44,
         "2025-02-19",
         1062,
         "Ian",
         210,
         "Keyboard",
         "Pending",
         3927.64,
         4,
         981.91
        ],
        [
         45,
         "2025-03-15",
         1064,
         "David",
         200,
         "Tablet",
         "Delivered",
         1282.68,
         2,
         641.34
        ],
        [
         46,
         "2024-11-08",
         1019,
         "Hannah",
         209,
         "Camera",
         "Shipped",
         2389.98,
         2,
         1194.99
        ],
        [
         47,
         "2025-02-03",
         1046,
         "Alice",
         205,
         "Headphones",
         "Cancelled",
         3762.35,
         5,
         752.47
        ],
        [
         48,
         "2024-01-06",
         1082,
         "Grace",
         207,
         "Keyboard",
         "Shipped",
         2053.78,
         2,
         1026.89
        ],
        [
         49,
         "2025-05-22",
         1027,
         "Julia",
         205,
         "Tablet",
         "Pending",
         1929.3,
         3,
         643.1
        ],
        [
         50,
         "2023-04-22",
         1003,
         "Hannah",
         208,
         "Laptop",
         "Pending",
         283.11,
         3,
         94.37
        ],
        [
         51,
         "2023-03-30",
         1029,
         "Emma",
         203,
         "Printer",
         "Shipped",
         1423.91,
         1,
         1423.91
        ],
        [
         52,
         "2024-07-11",
         1049,
         "Bob",
         209,
         "Phone",
         "Shipped",
         6331.7,
         5,
         1266.34
        ],
        [
         53,
         "2023-12-08",
         1048,
         "Bob",
         203,
         "Camera",
         "Delivered",
         3664.5,
         5,
         732.9
        ],
        [
         54,
         "2023-07-05",
         1040,
         "Bob",
         205,
         "Laptop",
         "Delivered",
         532.23,
         1,
         532.23
        ],
        [
         55,
         "2023-07-01",
         1024,
         "David",
         204,
         "Printer",
         "Cancelled",
         5673.18,
         3,
         1891.06
        ],
        [
         56,
         "2025-03-28",
         1091,
         "Ian",
         209,
         "Laptop",
         "Shipped",
         3500.4,
         2,
         1750.2
        ],
        [
         57,
         "2023-04-11",
         1075,
         "Frank",
         209,
         "Tablet",
         "Pending",
         3723.51,
         3,
         1241.17
        ],
        [
         58,
         "2025-08-18",
         1035,
         "Grace",
         200,
         "Tablet",
         "Shipped",
         5619.56,
         4,
         1404.89
        ],
        [
         59,
         "2023-01-24",
         1086,
         "Emma",
         202,
         "Monitor",
         "Cancelled",
         2898.93,
         3,
         966.31
        ],
        [
         60,
         "2024-09-04",
         1080,
         "Julia",
         201,
         "Camera",
         "Delivered",
         1808.1,
         1,
         1808.1
        ],
        [
         61,
         "2025-07-24",
         1028,
         "Frank",
         208,
         "Laptop",
         "Delivered",
         779.04,
         3,
         259.68
        ],
        [
         62,
         "2024-11-19",
         1057,
         "David",
         206,
         "Tablet",
         "Pending",
         3116.97,
         3,
         1038.99
        ],
        [
         63,
         "2025-01-15",
         1077,
         "Frank",
         203,
         "Speaker",
         "Shipped",
         850.7,
         5,
         170.14
        ],
        [
         64,
         "2023-11-12",
         1062,
         "Julia",
         209,
         "Keyboard",
         "Shipped",
         3883.12,
         4,
         970.78
        ],
        [
         65,
         "2024-08-08",
         1014,
         "Frank",
         202,
         "Keyboard",
         "Shipped",
         438.51,
         1,
         438.51
        ],
        [
         66,
         "2023-01-15",
         1051,
         "Frank",
         206,
         "Mouse",
         "Pending",
         5550.1,
         5,
         1110.02
        ],
        [
         67,
         "2023-08-23",
         1005,
         "Julia",
         204,
         "Camera",
         "Delivered",
         1162.32,
         3,
         387.44
        ],
        [
         68,
         "2024-10-20",
         1072,
         "Julia",
         209,
         "Printer",
         "Cancelled",
         4186.44,
         3,
         1395.48
        ],
        [
         69,
         "2023-10-23",
         1052,
         "Charlie",
         209,
         "Camera",
         "Cancelled",
         1581.35,
         1,
         1581.35
        ],
        [
         70,
         "2024-07-29",
         1020,
         "Julia",
         206,
         "Laptop",
         "Delivered",
         7480.72,
         4,
         1870.18
        ],
        [
         71,
         "2024-08-23",
         1022,
         "Bob",
         210,
         "Mouse",
         "Delivered",
         6939.9,
         5,
         1387.98
        ],
        [
         72,
         "2024-10-29",
         1078,
         "Alice",
         207,
         "Mouse",
         "Cancelled",
         496.38,
         3,
         165.46
        ],
        [
         73,
         "2023-01-21",
         1060,
         "Frank",
         205,
         "Mouse",
         "Cancelled",
         6855.8,
         4,
         1713.95
        ],
        [
         74,
         "2024-11-24",
         1018,
         "Charlie",
         206,
         "Speaker",
         "Cancelled",
         1173.83,
         1,
         1173.83
        ],
        [
         75,
         "2023-06-14",
         1024,
         "Alice",
         200,
         "Tablet",
         "Pending",
         1631.69,
         1,
         1631.69
        ],
        [
         76,
         "2024-11-20",
         1015,
         "Alice",
         209,
         "Laptop",
         "Cancelled",
         1682.22,
         3,
         560.74
        ],
        [
         77,
         "2025-01-23",
         1067,
         "Bob",
         203,
         "Tablet",
         "Pending",
         608.56,
         4,
         152.14
        ],
        [
         78,
         "2023-02-25",
         1050,
         "Emma",
         206,
         "Phone",
         "Delivered",
         1244.93,
         1,
         1244.93
        ],
        [
         79,
         "2024-04-15",
         1075,
         "Frank",
         206,
         "Printer",
         "Shipped",
         1604.21,
         1,
         1604.21
        ],
        [
         80,
         "2023-12-15",
         1006,
         "Ian",
         200,
         "Laptop",
         "Cancelled",
         3468.46,
         2,
         1734.23
        ],
        [
         81,
         "2024-05-09",
         1042,
         "Bob",
         206,
         "Headphones",
         "Cancelled",
         3632.95,
         5,
         726.59
        ],
        [
         82,
         "2025-05-05",
         1005,
         "Julia",
         203,
         "Headphones",
         "Pending",
         6766.55,
         5,
         1353.31
        ],
        [
         83,
         "2025-01-05",
         1046,
         "Emma",
         207,
         "Keyboard",
         "Shipped",
         100.46,
         1,
         100.46
        ],
        [
         84,
         "2024-02-29",
         1025,
         "Charlie",
         204,
         "Mouse",
         "Cancelled",
         1690.33,
         1,
         1690.33
        ],
        [
         85,
         "2025-01-07",
         1053,
         "Ian",
         206,
         "Printer",
         "Cancelled",
         4824.12,
         4,
         1206.03
        ],
        [
         86,
         "2025-01-20",
         1006,
         "David",
         206,
         "Headphones",
         "Shipped",
         665.52,
         1,
         665.52
        ],
        [
         87,
         "2025-06-06",
         1035,
         "Bob",
         202,
         "Keyboard",
         "Delivered",
         5516.37,
         3,
         1838.79
        ],
        [
         88,
         "2025-08-13",
         1032,
         "Ian",
         208,
         "Phone",
         "Shipped",
         8959.1,
         5,
         1791.82
        ],
        [
         89,
         "2024-06-21",
         1093,
         "Frank",
         209,
         "Monitor",
         "Shipped",
         3896.68,
         2,
         1948.34
        ],
        [
         90,
         "2024-09-05",
         1032,
         "Frank",
         210,
         "Mouse",
         "Shipped",
         312.54,
         2,
         156.27
        ],
        [
         91,
         "2024-08-26",
         1059,
         "Charlie",
         207,
         "Speaker",
         "Cancelled",
         7534.32,
         4,
         1883.58
        ],
        [
         92,
         "2024-03-27",
         1028,
         "Hannah",
         203,
         "Camera",
         "Delivered",
         1747.68,
         4,
         436.92
        ],
        [
         93,
         "2025-03-01",
         1003,
         "Julia",
         206,
         "Camera",
         "Pending",
         7972.75,
         5,
         1594.55
        ],
        [
         94,
         "2023-02-27",
         1050,
         "Ian",
         200,
         "Phone",
         "Shipped",
         902.96,
         2,
         451.48
        ],
        [
         95,
         "2023-06-09",
         1026,
         "Charlie",
         209,
         "Mouse",
         "Cancelled",
         2913.69,
         3,
         971.23
        ],
        [
         96,
         "2025-03-25",
         1042,
         "Hannah",
         207,
         "Speaker",
         "Shipped",
         7005.4,
         5,
         1401.08
        ],
        [
         97,
         "2023-01-22",
         1097,
         "Julia",
         208,
         "Tablet",
         "Cancelled",
         3607.04,
         2,
         1803.52
        ],
        [
         98,
         "2024-04-04",
         1035,
         "Charlie",
         201,
         "Monitor",
         "Cancelled",
         1694.8,
         5,
         338.96
        ],
        [
         99,
         "2023-07-26",
         1046,
         "Emma",
         208,
         "Headphones",
         "Shipped",
         2246.08,
         4,
         561.52
        ],
        [
         100,
         "2025-07-04",
         1059,
         "Ian",
         207,
         "Keyboard",
         "Cancelled",
         580.53,
         3,
         193.51
        ],
        [
         101,
         "2023-02-19",
         1028,
         "Hannah",
         204,
         "Keyboard",
         "Cancelled",
         3656.22,
         3,
         1218.74
        ],
        [
         102,
         "2023-09-09",
         1087,
         "Emma",
         207,
         "Speaker",
         "Shipped",
         1666.44,
         1,
         1666.44
        ],
        [
         103,
         "2023-02-26",
         1071,
         "Hannah",
         204,
         "Headphones",
         "Delivered",
         5112.15,
         5,
         1022.43
        ],
        [
         104,
         "2023-06-17",
         1005,
         "Charlie",
         201,
         "Tablet",
         "Shipped",
         1641.09,
         3,
         547.03
        ],
        [
         105,
         "2024-06-29",
         1087,
         "David",
         205,
         "Keyboard",
         "Cancelled",
         2390.7,
         5,
         478.14
        ],
        [
         106,
         "2024-08-25",
         1045,
         "Charlie",
         205,
         "Tablet",
         "Shipped",
         6086.55,
         5,
         1217.31
        ],
        [
         107,
         "2023-08-17",
         1093,
         "Julia",
         204,
         "Tablet",
         "Cancelled",
         3708.9,
         2,
         1854.45
        ],
        [
         108,
         "2024-04-11",
         1040,
         "Ian",
         208,
         "Mouse",
         "Shipped",
         1396.42,
         2,
         698.21
        ],
        [
         109,
         "2025-04-09",
         1092,
         "Grace",
         209,
         "Camera",
         "Cancelled",
         8648.6,
         5,
         1729.72
        ],
        [
         110,
         "2025-05-21",
         1094,
         "Alice",
         209,
         "Camera",
         "Pending",
         4210.4,
         5,
         842.08
        ],
        [
         111,
         "2023-07-21",
         1083,
         "Ian",
         205,
         "Keyboard",
         "Delivered",
         9094.45,
         5,
         1818.89
        ],
        [
         112,
         "2023-06-15",
         1037,
         "Alice",
         206,
         "Headphones",
         "Delivered",
         2611.5,
         2,
         1305.75
        ],
        [
         113,
         "2025-08-27",
         1095,
         "Bob",
         204,
         "Speaker",
         "Shipped",
         921.63,
         3,
         307.21
        ],
        [
         114,
         "2023-07-03",
         1081,
         "Julia",
         208,
         "Camera",
         "Shipped",
         5577.33,
         3,
         1859.11
        ],
        [
         115,
         "2025-03-15",
         1080,
         "Emma",
         206,
         "Phone",
         "Pending",
         1871.46,
         3,
         623.82
        ],
        [
         116,
         "2023-01-15",
         1098,
         "Charlie",
         201,
         "Phone",
         "Delivered",
         1540.86,
         2,
         770.43
        ],
        [
         117,
         "2024-10-27",
         1052,
         "Hannah",
         202,
         "Monitor",
         "Pending",
         126.95,
         1,
         126.95
        ],
        [
         118,
         "2025-01-24",
         1096,
         "Frank",
         202,
         "Printer",
         "Shipped",
         617.18,
         2,
         308.59
        ],
        [
         119,
         "2024-12-17",
         1091,
         "Emma",
         205,
         "Headphones",
         "Delivered",
         2859.78,
         3,
         953.26
        ],
        [
         120,
         "2025-03-23",
         1093,
         "David",
         210,
         "Keyboard",
         "Pending",
         1409.16,
         4,
         352.29
        ],
        [
         121,
         "2024-06-19",
         1029,
         "Alice",
         206,
         "Tablet",
         "Shipped",
         4659.95,
         5,
         931.99
        ],
        [
         122,
         "2024-10-21",
         1005,
         "Charlie",
         203,
         "Phone",
         "Pending",
         1202.93,
         1,
         1202.93
        ],
        [
         123,
         "2023-11-15",
         1085,
         "Alice",
         203,
         "Phone",
         "Delivered",
         659.16,
         3,
         219.72
        ],
        [
         124,
         "2024-07-01",
         1007,
         "Bob",
         203,
         "Mouse",
         "Shipped",
         3043.64,
         2,
         1521.82
        ],
        [
         125,
         "2024-03-13",
         1016,
         "Ian",
         205,
         "Headphones",
         "Pending",
         1545.4,
         5,
         309.08
        ],
        [
         126,
         "2024-06-01",
         1048,
         "David",
         202,
         "Camera",
         "Shipped",
         1992.99,
         3,
         664.33
        ],
        [
         127,
         "2023-04-24",
         1016,
         "Frank",
         210,
         "Mouse",
         "Cancelled",
         1048.4,
         2,
         524.2
        ],
        [
         128,
         "2024-07-20",
         1073,
         "Frank",
         207,
         "Camera",
         "Cancelled",
         1171.12,
         1,
         1171.12
        ],
        [
         129,
         "2024-08-28",
         1062,
         "Ian",
         208,
         "Laptop",
         "Pending",
         2916.9,
         5,
         583.38
        ],
        [
         130,
         "2024-09-11",
         1011,
         "Hannah",
         204,
         "Monitor",
         "Cancelled",
         7178.56,
         4,
         1794.64
        ],
        [
         131,
         "2023-06-17",
         1040,
         "Charlie",
         200,
         "Printer",
         "Cancelled",
         2219.8,
         2,
         1109.9
        ],
        [
         132,
         "2024-03-06",
         1028,
         "Ian",
         204,
         "Camera",
         "Cancelled",
         2892.96,
         3,
         964.32
        ],
        [
         133,
         "2024-08-06",
         1083,
         "Ian",
         209,
         "Keyboard",
         "Pending",
         1133.79,
         1,
         1133.79
        ],
        [
         134,
         "2023-11-18",
         1016,
         "Frank",
         209,
         "Headphones",
         "Delivered",
         486.92,
         4,
         121.73
        ],
        [
         135,
         "2023-12-26",
         1030,
         "Charlie",
         200,
         "Printer",
         "Pending",
         949.45,
         5,
         189.89
        ],
        [
         136,
         "2025-05-12",
         1003,
         "Bob",
         204,
         "Laptop",
         "Delivered",
         3672.24,
         4,
         918.06
        ],
        [
         137,
         "2023-08-30",
         1009,
         "Grace",
         200,
         "Mouse",
         "Pending",
         3469.45,
         5,
         693.89
        ],
        [
         138,
         "2025-07-23",
         1054,
         "Ian",
         207,
         "Phone",
         "Pending",
         671.94,
         1,
         671.94
        ],
        [
         139,
         "2025-01-19",
         1098,
         "Bob",
         205,
         "Printer",
         "Shipped",
         7556.85,
         5,
         1511.37
        ],
        [
         140,
         "2024-01-28",
         1026,
         "Charlie",
         202,
         "Camera",
         "Shipped",
         3123.1,
         2,
         1561.55
        ],
        [
         141,
         "2024-05-30",
         1049,
         "Ian",
         205,
         "Mouse",
         "Delivered",
         1385.5,
         2,
         692.75
        ],
        [
         142,
         "2024-11-16",
         1008,
         "Alice",
         200,
         "Camera",
         "Cancelled",
         4634.1,
         5,
         926.82
        ],
        [
         143,
         "2023-09-02",
         1072,
         "David",
         203,
         "Laptop",
         "Delivered",
         3027.05,
         5,
         605.41
        ],
        [
         144,
         "2025-01-19",
         1013,
         "Ian",
         210,
         "Tablet",
         "Cancelled",
         386.96,
         1,
         386.96
        ],
        [
         145,
         "2024-07-18",
         1075,
         "Charlie",
         204,
         "Phone",
         "Cancelled",
         6336.35,
         5,
         1267.27
        ],
        [
         146,
         "2024-12-20",
         1058,
         "Ian",
         207,
         "Speaker",
         "Delivered",
         416.51,
         1,
         416.51
        ],
        [
         147,
         "2023-02-05",
         1096,
         "Frank",
         204,
         "Speaker",
         "Shipped",
         1729.8,
         2,
         864.9
        ],
        [
         148,
         "2023-11-23",
         1020,
         "Frank",
         204,
         "Monitor",
         "Shipped",
         2065,
         2,
         1032.5
        ],
        [
         149,
         "2023-08-26",
         1015,
         "Frank",
         206,
         "Tablet",
         "Cancelled",
         777.85,
         1,
         777.85
        ],
        [
         150,
         "2024-03-08",
         1064,
         "Charlie",
         206,
         "Printer",
         "Cancelled",
         6189.32,
         4,
         1547.33
        ],
        [
         151,
         "2024-12-24",
         1045,
         "Ian",
         203,
         "Laptop",
         "Pending",
         3726.12,
         3,
         1242.04
        ],
        [
         152,
         "2023-01-30",
         1065,
         "Julia",
         208,
         "Laptop",
         "Cancelled",
         7864.3,
         5,
         1572.86
        ],
        [
         153,
         "2023-01-20",
         1068,
         "Julia",
         208,
         "Headphones",
         "Delivered",
         4797.64,
         4,
         1199.41
        ],
        [
         154,
         "2025-08-05",
         1016,
         "Alice",
         209,
         "Headphones",
         "Shipped",
         2544.08,
         2,
         1272.04
        ],
        [
         155,
         "2024-07-20",
         1040,
         "David",
         209,
         "Mouse",
         "Pending",
         5971.89,
         3,
         1990.63
        ],
        [
         156,
         "2023-11-08",
         1088,
         "Ian",
         202,
         "Headphones",
         "Pending",
         6045.08,
         4,
         1511.27
        ],
        [
         157,
         "2024-06-24",
         1070,
         "Bob",
         204,
         "Tablet",
         "Shipped",
         4275.52,
         4,
         1068.88
        ],
        [
         158,
         "2024-06-16",
         1037,
         "Emma",
         208,
         "Headphones",
         "Delivered",
         3672.22,
         2,
         1836.11
        ],
        [
         159,
         "2023-01-28",
         1014,
         "Alice",
         201,
         "Printer",
         "Delivered",
         1673.34,
         2,
         836.67
        ],
        [
         160,
         "2023-02-20",
         1033,
         "Charlie",
         207,
         "Phone",
         "Shipped",
         2073.7,
         2,
         1036.85
        ],
        [
         161,
         "2023-10-24",
         1053,
         "Emma",
         208,
         "Laptop",
         "Delivered",
         843.32,
         4,
         210.83
        ],
        [
         162,
         "2024-11-04",
         1096,
         "Emma",
         203,
         "Mouse",
         "Delivered",
         5340.75,
         5,
         1068.15
        ],
        [
         163,
         "2023-12-29",
         1007,
         "Charlie",
         208,
         "Printer",
         "Delivered",
         5695.2,
         3,
         1898.4
        ],
        [
         164,
         "2025-02-04",
         1027,
         "Alice",
         207,
         "Headphones",
         "Cancelled",
         2764.95,
         3,
         921.65
        ],
        [
         165,
         "2023-05-19",
         1097,
         "Ian",
         208,
         "Speaker",
         "Cancelled",
         2692.2,
         2,
         1346.1
        ],
        [
         166,
         "2024-03-30",
         1015,
         "Hannah",
         201,
         "Laptop",
         "Shipped",
         1238.16,
         4,
         309.54
        ],
        [
         167,
         "2025-03-20",
         1039,
         "Grace",
         201,
         "Printer",
         "Shipped",
         949.6,
         2,
         474.8
        ],
        [
         168,
         "2024-06-03",
         1021,
         "Emma",
         210,
         "Tablet",
         "Cancelled",
         4289.4,
         3,
         1429.8
        ],
        [
         169,
         "2025-05-01",
         1091,
         "Frank",
         202,
         "Mouse",
         "Shipped",
         2677.7,
         2,
         1338.85
        ],
        [
         170,
         "2023-11-18",
         1013,
         "Grace",
         206,
         "Mouse",
         "Delivered",
         3139.7,
         2,
         1569.85
        ],
        [
         171,
         "2023-07-31",
         1053,
         "David",
         203,
         "Camera",
         "Cancelled",
         1384.65,
         5,
         276.93
        ],
        [
         172,
         "2024-10-22",
         1098,
         "Charlie",
         210,
         "Headphones",
         "Delivered",
         2747.37,
         3,
         915.79
        ],
        [
         173,
         "2024-07-30",
         1041,
         "Grace",
         201,
         "Headphones",
         "Cancelled",
         2974.86,
         3,
         991.62
        ],
        [
         174,
         "2023-02-12",
         1072,
         "David",
         200,
         "Phone",
         "Shipped",
         1264.28,
         2,
         632.14
        ],
        [
         175,
         "2024-09-17",
         1063,
         "Alice",
         202,
         "Mouse",
         "Delivered",
         1073.78,
         2,
         536.89
        ],
        [
         176,
         "2023-06-25",
         1031,
         "Julia",
         205,
         "Printer",
         "Shipped",
         728.48,
         1,
         728.48
        ],
        [
         177,
         "2024-04-19",
         1047,
         "Emma",
         201,
         "Printer",
         "Delivered",
         5170.47,
         3,
         1723.49
        ],
        [
         178,
         "2025-04-09",
         1034,
         "Alice",
         201,
         "Printer",
         "Delivered",
         9353.3,
         5,
         1870.66
        ],
        [
         179,
         "2023-03-07",
         1024,
         "Alice",
         206,
         "Phone",
         "Pending",
         3865.1,
         2,
         1932.55
        ],
        [
         180,
         "2024-09-09",
         1058,
         "Bob",
         206,
         "Laptop",
         "Delivered",
         4136.19,
         3,
         1378.73
        ],
        [
         181,
         "2024-01-19",
         1052,
         "Hannah",
         200,
         "Monitor",
         "Shipped",
         3405.4,
         4,
         851.35
        ],
        [
         182,
         "2024-12-20",
         1044,
         "Charlie",
         208,
         "Phone",
         "Delivered",
         817.06,
         1,
         817.06
        ],
        [
         183,
         "2024-12-29",
         1090,
         "Frank",
         200,
         "Tablet",
         "Delivered",
         658.68,
         2,
         329.34
        ],
        [
         184,
         "2024-03-06",
         1031,
         "Julia",
         202,
         "Headphones",
         "Cancelled",
         958.68,
         4,
         239.67
        ],
        [
         185,
         "2024-05-02",
         1006,
         "Bob",
         200,
         "Keyboard",
         "Pending",
         4838.6,
         4,
         1209.65
        ],
        [
         186,
         "2024-01-13",
         1058,
         "Emma",
         201,
         "Printer",
         "Cancelled",
         865.84,
         4,
         216.46
        ],
        [
         187,
         "2024-11-06",
         1083,
         "David",
         204,
         "Monitor",
         "Pending",
         8838.5,
         5,
         1767.7
        ],
        [
         188,
         "2025-04-13",
         1020,
         "Julia",
         210,
         "Speaker",
         "Cancelled",
         9663.45,
         5,
         1932.69
        ],
        [
         189,
         "2024-11-19",
         1011,
         "Emma",
         203,
         "Camera",
         "Cancelled",
         7854.84,
         4,
         1963.71
        ],
        [
         190,
         "2025-01-08",
         1072,
         "Ian",
         205,
         "Headphones",
         "Pending",
         1716.56,
         1,
         1716.56
        ],
        [
         191,
         "2023-12-21",
         1001,
         "Emma",
         201,
         "Headphones",
         "Cancelled",
         255.99,
         3,
         85.33
        ],
        [
         192,
         "2025-02-28",
         1082,
         "Alice",
         204,
         "Phone",
         "Delivered",
         3970.4,
         5,
         794.08
        ],
        [
         193,
         "2024-01-25",
         1091,
         "Emma",
         206,
         "Printer",
         "Cancelled",
         3038.61,
         3,
         1012.87
        ],
        [
         194,
         "2025-01-03",
         1046,
         "David",
         205,
         "Tablet",
         "Pending",
         2185.86,
         3,
         728.62
        ],
        [
         195,
         "2024-06-19",
         1003,
         "Charlie",
         206,
         "Mouse",
         "Delivered",
         2282.36,
         2,
         1141.18
        ],
        [
         196,
         "2023-01-18",
         1031,
         "Charlie",
         210,
         "Keyboard",
         "Cancelled",
         4734.75,
         3,
         1578.25
        ],
        [
         197,
         "2023-09-10",
         1063,
         "Ian",
         207,
         "Monitor",
         "Delivered",
         1019.43,
         3,
         339.81
        ],
        [
         198,
         "2023-11-12",
         1052,
         "David",
         209,
         "Phone",
         "Shipped",
         3758.61,
         3,
         1252.87
        ],
        [
         199,
         "2023-06-05",
         1002,
         "Emma",
         209,
         "Keyboard",
         "Pending",
         2705.25,
         5,
         541.05
        ],
        [
         200,
         "2025-06-19",
         1009,
         "Alice",
         206,
         "Speaker",
         "Shipped",
         2148.78,
         2,
         1074.39
        ]
       ],
       "datasetInfos": [
        {
         "name": "_sqldf",
         "schema": {
          "fields": [
           {
            "metadata": {},
            "name": "order_id",
            "nullable": true,
            "type": "integer"
           },
           {
            "metadata": {},
            "name": "order_date",
            "nullable": true,
            "type": "date"
           },
           {
            "metadata": {},
            "name": "order_customer_id",
            "nullable": true,
            "type": "integer"
           },
           {
            "metadata": {},
            "name": "customer_name",
            "nullable": true,
            "type": "string"
           },
           {
            "metadata": {},
            "name": "product_id",
            "nullable": true,
            "type": "integer"
           },
           {
            "metadata": {},
            "name": "product_name",
            "nullable": true,
            "type": "string"
           },
           {
            "metadata": {},
            "name": "order_status",
            "nullable": true,
            "type": "string"
           },
           {
            "metadata": {},
            "name": "order_total",
            "nullable": true,
            "type": "float"
           },
           {
            "metadata": {},
            "name": "quantity",
            "nullable": true,
            "type": "integer"
           },
           {
            "metadata": {},
            "name": "price",
            "nullable": true,
            "type": "float"
           }
          ],
          "type": "struct"
         },
         "tableIdentifier": null,
         "typeStr": "pyspark.sql.dataframe.DataFrame"
        }
       ],
       "dbfsResultPath": null,
       "isJsonSchema": true,
       "metadata": {
        "createTempViewForImplicitDf": true,
        "dataframeName": "_sqldf",
        "executionCount": 19
       },
       "overflow": false,
       "plotOptions": {
        "customPlotOptions": {},
        "displayType": "table",
        "pivotAggregation": null,
        "pivotColumns": null,
        "xColumns": null,
        "yColumns": null
       },
       "removedWidgets": [],
       "schema": [
        {
         "metadata": "{}",
         "name": "order_id",
         "type": "\"integer\""
        },
        {
         "metadata": "{}",
         "name": "order_date",
         "type": "\"date\""
        },
        {
         "metadata": "{}",
         "name": "order_customer_id",
         "type": "\"integer\""
        },
        {
         "metadata": "{}",
         "name": "customer_name",
         "type": "\"string\""
        },
        {
         "metadata": "{}",
         "name": "product_id",
         "type": "\"integer\""
        },
        {
         "metadata": "{}",
         "name": "product_name",
         "type": "\"string\""
        },
        {
         "metadata": "{}",
         "name": "order_status",
         "type": "\"string\""
        },
        {
         "metadata": "{}",
         "name": "order_total",
         "type": "\"float\""
        },
        {
         "metadata": "{}",
         "name": "quantity",
         "type": "\"integer\""
        },
        {
         "metadata": "{}",
         "name": "price",
         "type": "\"float\""
        }
       ],
       "type": "table"
      }
     },
     "output_type": "display_data"
    }
   ],
   "source": [
    "%sql\n",
    "select * from sales.orders"
   ]
  },
  {
   "cell_type": "markdown",
   "metadata": {
    "application/vnd.databricks.v1+cell": {
     "cellMetadata": {
      "byteLimit": 2048000,
      "rowLimit": 10000
     },
     "inputWidgets": {},
     "nuid": "4ef02684-bb25-4c3b-b93e-247380cd05d3",
     "showTitle": false,
     "tableResultSettingsMap": {},
     "title": ""
    }
   },
   "source": [
    "# Data Warehousing"
   ]
  },
  {
   "cell_type": "code",
   "execution_count": 0,
   "metadata": {
    "application/vnd.databricks.v1+cell": {
     "cellMetadata": {
      "byteLimit": 2048000,
      "implicitDf": true,
      "rowLimit": 10000
     },
     "inputWidgets": {},
     "nuid": "47532b52-6a8f-4dcd-8aef-54bbe3093dd7",
     "showTitle": false,
     "tableResultSettingsMap": {},
     "title": ""
    }
   },
   "outputs": [],
   "source": [
    "%sql\n",
    "Create database if not exists salesDWH"
   ]
  },
  {
   "cell_type": "markdown",
   "metadata": {
    "application/vnd.databricks.v1+cell": {
     "cellMetadata": {},
     "inputWidgets": {},
     "nuid": "7e1152f8-c71d-4e93-bad3-da4dc0fa85c5",
     "showTitle": false,
     "tableResultSettingsMap": {},
     "title": ""
    }
   },
   "source": [
    "# Staging\n"
   ]
  },
  {
   "cell_type": "code",
   "execution_count": 0,
   "metadata": {
    "application/vnd.databricks.v1+cell": {
     "cellMetadata": {
      "byteLimit": 2048000,
      "implicitDf": true,
      "rowLimit": 10000
     },
     "inputWidgets": {},
     "nuid": "d78864cc-887e-4722-b044-6c7c37b2a28a",
     "showTitle": false,
     "tableResultSettingsMap": {},
     "title": ""
    }
   },
   "outputs": [
    {
     "data": {
      "text/html": [
       "<style scoped>\n",
       "  .table-result-container {\n",
       "    max-height: 300px;\n",
       "    overflow: auto;\n",
       "  }\n",
       "  table, th, td {\n",
       "    border: 1px solid black;\n",
       "    border-collapse: collapse;\n",
       "  }\n",
       "  th, td {\n",
       "    padding: 5px;\n",
       "  }\n",
       "  th {\n",
       "    text-align: left;\n",
       "  }\n",
       "</style><div class='table-result-container'><table class='table-result'><thead style='background-color: white'><tr><th>num_affected_rows</th><th>num_inserted_rows</th></tr></thead><tbody></tbody></table></div>"
      ]
     },
     "metadata": {
      "application/vnd.databricks.v1+output": {
       "addedWidgets": {},
       "aggData": [],
       "aggError": "",
       "aggOverflow": false,
       "aggSchema": [],
       "aggSeriesLimitReached": false,
       "aggType": "",
       "arguments": {},
       "columnCustomDisplayInfos": {},
       "data": [],
       "datasetInfos": [
        {
         "name": "_sqldf",
         "schema": {
          "fields": [
           {
            "metadata": {},
            "name": "num_affected_rows",
            "nullable": true,
            "type": "long"
           },
           {
            "metadata": {},
            "name": "num_inserted_rows",
            "nullable": true,
            "type": "long"
           }
          ],
          "type": "struct"
         },
         "tableIdentifier": null,
         "typeStr": "pyspark.sql.dataframe.DataFrame"
        }
       ],
       "dbfsResultPath": null,
       "isJsonSchema": true,
       "metadata": {
        "createTempViewForImplicitDf": true,
        "dataframeName": "_sqldf",
        "executionCount": 20
       },
       "overflow": false,
       "plotOptions": {
        "customPlotOptions": {},
        "displayType": "table",
        "pivotAggregation": null,
        "pivotColumns": null,
        "xColumns": null,
        "yColumns": null
       },
       "removedWidgets": [],
       "schema": [
        {
         "metadata": "{}",
         "name": "num_affected_rows",
         "type": "\"long\""
        },
        {
         "metadata": "{}",
         "name": "num_inserted_rows",
         "type": "\"long\""
        }
       ],
       "type": "table"
      }
     },
     "output_type": "display_data"
    }
   ],
   "source": [
    "%sql\n",
    "create or replace table salesdwh.stg_sales\n",
    "as\n",
    "select * from sales.orders"
   ]
  },
  {
   "cell_type": "code",
   "execution_count": 0,
   "metadata": {
    "application/vnd.databricks.v1+cell": {
     "cellMetadata": {
      "byteLimit": 2048000,
      "implicitDf": true,
      "rowLimit": 10000
     },
     "inputWidgets": {},
     "nuid": "1524e6ee-b2fb-4403-a1e5-91f3e1199bc6",
     "showTitle": false,
     "tableResultSettingsMap": {},
     "title": ""
    }
   },
   "outputs": [
    {
     "data": {
      "text/html": [
       "<style scoped>\n",
       "  .table-result-container {\n",
       "    max-height: 300px;\n",
       "    overflow: auto;\n",
       "  }\n",
       "  table, th, td {\n",
       "    border: 1px solid black;\n",
       "    border-collapse: collapse;\n",
       "  }\n",
       "  th, td {\n",
       "    padding: 5px;\n",
       "  }\n",
       "  th {\n",
       "    text-align: left;\n",
       "  }\n",
       "</style><div class='table-result-container'><table class='table-result'><thead style='background-color: white'><tr><th>order_id</th><th>order_date</th><th>order_customer_id</th><th>customer_name</th><th>product_id</th><th>product_name</th><th>order_status</th><th>order_total</th><th>quantity</th><th>price</th></tr></thead><tbody><tr><td>1</td><td>2024-02-08</td><td>1005</td><td>David</td><td>206</td><td>Mouse</td><td>Pending</td><td>784.7</td><td>1</td><td>784.7</td></tr><tr><td>2</td><td>2023-02-07</td><td>1053</td><td>Frank</td><td>205</td><td>Laptop</td><td>Cancelled</td><td>4110.39</td><td>3</td><td>1370.13</td></tr><tr><td>3</td><td>2023-01-04</td><td>1071</td><td>Julia</td><td>203</td><td>Speaker</td><td>Delivered</td><td>1417.83</td><td>3</td><td>472.61</td></tr><tr><td>4</td><td>2023-11-16</td><td>1072</td><td>Bob</td><td>209</td><td>Laptop</td><td>Cancelled</td><td>4598.55</td><td>3</td><td>1532.85</td></tr><tr><td>5</td><td>2024-12-04</td><td>1017</td><td>Julia</td><td>208</td><td>Printer</td><td>Shipped</td><td>1130.3</td><td>5</td><td>226.06</td></tr><tr><td>6</td><td>2025-01-13</td><td>1042</td><td>Frank</td><td>210</td><td>Mouse</td><td>Pending</td><td>694.68</td><td>3</td><td>231.56</td></tr><tr><td>7</td><td>2023-09-04</td><td>1069</td><td>Alice</td><td>202</td><td>Keyboard</td><td>Delivered</td><td>1064.24</td><td>4</td><td>266.06</td></tr><tr><td>8</td><td>2024-05-10</td><td>1048</td><td>Frank</td><td>210</td><td>Printer</td><td>Pending</td><td>4643.88</td><td>4</td><td>1160.97</td></tr><tr><td>9</td><td>2023-06-03</td><td>1020</td><td>David</td><td>209</td><td>Phone</td><td>Delivered</td><td>2621.44</td><td>4</td><td>655.36</td></tr><tr><td>10</td><td>2025-04-14</td><td>1064</td><td>Charlie</td><td>204</td><td>Headphones</td><td>Pending</td><td>2493.86</td><td>2</td><td>1246.93</td></tr><tr><td>11</td><td>2023-11-14</td><td>1084</td><td>Hannah</td><td>206</td><td>Keyboard</td><td>Shipped</td><td>2876.92</td><td>2</td><td>1438.46</td></tr><tr><td>12</td><td>2023-07-13</td><td>1019</td><td>Grace</td><td>203</td><td>Laptop</td><td>Delivered</td><td>1309.84</td><td>4</td><td>327.46</td></tr><tr><td>13</td><td>2024-06-06</td><td>1034</td><td>Julia</td><td>210</td><td>Tablet</td><td>Delivered</td><td>3401.4</td><td>4</td><td>850.35</td></tr><tr><td>14</td><td>2023-07-11</td><td>1057</td><td>Alice</td><td>206</td><td>Speaker</td><td>Shipped</td><td>1619.4</td><td>4</td><td>404.85</td></tr><tr><td>15</td><td>2024-07-03</td><td>1040</td><td>David</td><td>210</td><td>Keyboard</td><td>Delivered</td><td>1603.18</td><td>1</td><td>1603.18</td></tr><tr><td>16</td><td>2023-12-31</td><td>1097</td><td>Grace</td><td>206</td><td>Phone</td><td>Cancelled</td><td>5475.69</td><td>3</td><td>1825.23</td></tr><tr><td>17</td><td>2024-04-16</td><td>1001</td><td>Emma</td><td>201</td><td>Phone</td><td>Shipped</td><td>2371.02</td><td>2</td><td>1185.51</td></tr><tr><td>18</td><td>2024-08-21</td><td>1098</td><td>Frank</td><td>201</td><td>Headphones</td><td>Shipped</td><td>1188.15</td><td>5</td><td>237.63</td></tr><tr><td>19</td><td>2023-01-28</td><td>1095</td><td>Grace</td><td>210</td><td>Phone</td><td>Shipped</td><td>2202.15</td><td>3</td><td>734.05</td></tr><tr><td>20</td><td>2025-06-05</td><td>1037</td><td>Ian</td><td>206</td><td>Tablet</td><td>Pending</td><td>8951.15</td><td>5</td><td>1790.23</td></tr><tr><td>21</td><td>2024-09-21</td><td>1029</td><td>Frank</td><td>209</td><td>Keyboard</td><td>Shipped</td><td>156.46</td><td>2</td><td>78.23</td></tr><tr><td>22</td><td>2025-02-19</td><td>1099</td><td>Charlie</td><td>210</td><td>Speaker</td><td>Pending</td><td>597.03</td><td>3</td><td>199.01</td></tr><tr><td>23</td><td>2024-09-16</td><td>1033</td><td>Ian</td><td>203</td><td>Mouse</td><td>Delivered</td><td>4186.28</td><td>4</td><td>1046.57</td></tr><tr><td>24</td><td>2025-08-24</td><td>1005</td><td>Charlie</td><td>209</td><td>Camera</td><td>Pending</td><td>2475.78</td><td>2</td><td>1237.89</td></tr><tr><td>25</td><td>2023-05-27</td><td>1096</td><td>Emma</td><td>208</td><td>Headphones</td><td>Delivered</td><td>6953.2</td><td>4</td><td>1738.3</td></tr><tr><td>26</td><td>2024-11-20</td><td>1041</td><td>Grace</td><td>202</td><td>Phone</td><td>Cancelled</td><td>3309.2</td><td>4</td><td>827.3</td></tr><tr><td>27</td><td>2025-05-10</td><td>1051</td><td>Emma</td><td>203</td><td>Tablet</td><td>Pending</td><td>3456.74</td><td>2</td><td>1728.37</td></tr><tr><td>28</td><td>2023-12-22</td><td>1060</td><td>Grace</td><td>209</td><td>Camera</td><td>Pending</td><td>1647.46</td><td>1</td><td>1647.46</td></tr><tr><td>29</td><td>2024-05-19</td><td>1057</td><td>Julia</td><td>203</td><td>Headphones</td><td>Cancelled</td><td>5647.15</td><td>5</td><td>1129.43</td></tr><tr><td>30</td><td>2023-03-04</td><td>1057</td><td>Frank</td><td>206</td><td>Mouse</td><td>Cancelled</td><td>4205.68</td><td>4</td><td>1051.42</td></tr><tr><td>31</td><td>2024-05-23</td><td>1008</td><td>Hannah</td><td>208</td><td>Mouse</td><td>Delivered</td><td>571.13</td><td>1</td><td>571.13</td></tr><tr><td>32</td><td>2023-04-13</td><td>1057</td><td>Ian</td><td>206</td><td>Mouse</td><td>Pending</td><td>564.36</td><td>3</td><td>188.12</td></tr><tr><td>33</td><td>2023-05-03</td><td>1010</td><td>Grace</td><td>202</td><td>Printer</td><td>Shipped</td><td>1975.34</td><td>1</td><td>1975.34</td></tr><tr><td>34</td><td>2024-10-19</td><td>1001</td><td>Alice</td><td>203</td><td>Headphones</td><td>Pending</td><td>1038.72</td><td>4</td><td>259.68</td></tr><tr><td>35</td><td>2023-08-11</td><td>1090</td><td>David</td><td>204</td><td>Monitor</td><td>Pending</td><td>3968.02</td><td>2</td><td>1984.01</td></tr><tr><td>36</td><td>2023-07-17</td><td>1024</td><td>Julia</td><td>201</td><td>Tablet</td><td>Pending</td><td>1642.8</td><td>5</td><td>328.56</td></tr><tr><td>37</td><td>2025-03-28</td><td>1082</td><td>Frank</td><td>200</td><td>Mouse</td><td>Delivered</td><td>4367.04</td><td>4</td><td>1091.76</td></tr><tr><td>38</td><td>2023-09-07</td><td>1051</td><td>Frank</td><td>200</td><td>Keyboard</td><td>Shipped</td><td>5083.32</td><td>4</td><td>1270.83</td></tr><tr><td>39</td><td>2025-08-16</td><td>1100</td><td>Julia</td><td>201</td><td>Speaker</td><td>Pending</td><td>140.28</td><td>2</td><td>70.14</td></tr><tr><td>40</td><td>2025-09-01</td><td>1078</td><td>Ian</td><td>206</td><td>Keyboard</td><td>Shipped</td><td>4646.0</td><td>4</td><td>1161.5</td></tr><tr><td>41</td><td>2024-04-28</td><td>1015</td><td>Hannah</td><td>208</td><td>Camera</td><td>Cancelled</td><td>1294.78</td><td>2</td><td>647.39</td></tr><tr><td>42</td><td>2025-01-11</td><td>1088</td><td>David</td><td>201</td><td>Headphones</td><td>Shipped</td><td>2270.04</td><td>2</td><td>1135.02</td></tr><tr><td>43</td><td>2024-03-23</td><td>1017</td><td>Emma</td><td>209</td><td>Headphones</td><td>Cancelled</td><td>1220.85</td><td>5</td><td>244.17</td></tr><tr><td>44</td><td>2025-02-19</td><td>1062</td><td>Ian</td><td>210</td><td>Keyboard</td><td>Pending</td><td>3927.64</td><td>4</td><td>981.91</td></tr><tr><td>45</td><td>2025-03-15</td><td>1064</td><td>David</td><td>200</td><td>Tablet</td><td>Delivered</td><td>1282.68</td><td>2</td><td>641.34</td></tr><tr><td>46</td><td>2024-11-08</td><td>1019</td><td>Hannah</td><td>209</td><td>Camera</td><td>Shipped</td><td>2389.98</td><td>2</td><td>1194.99</td></tr><tr><td>47</td><td>2025-02-03</td><td>1046</td><td>Alice</td><td>205</td><td>Headphones</td><td>Cancelled</td><td>3762.35</td><td>5</td><td>752.47</td></tr><tr><td>48</td><td>2024-01-06</td><td>1082</td><td>Grace</td><td>207</td><td>Keyboard</td><td>Shipped</td><td>2053.78</td><td>2</td><td>1026.89</td></tr><tr><td>49</td><td>2025-05-22</td><td>1027</td><td>Julia</td><td>205</td><td>Tablet</td><td>Pending</td><td>1929.3</td><td>3</td><td>643.1</td></tr><tr><td>50</td><td>2023-04-22</td><td>1003</td><td>Hannah</td><td>208</td><td>Laptop</td><td>Pending</td><td>283.11</td><td>3</td><td>94.37</td></tr><tr><td>51</td><td>2023-03-30</td><td>1029</td><td>Emma</td><td>203</td><td>Printer</td><td>Shipped</td><td>1423.91</td><td>1</td><td>1423.91</td></tr><tr><td>52</td><td>2024-07-11</td><td>1049</td><td>Bob</td><td>209</td><td>Phone</td><td>Shipped</td><td>6331.7</td><td>5</td><td>1266.34</td></tr><tr><td>53</td><td>2023-12-08</td><td>1048</td><td>Bob</td><td>203</td><td>Camera</td><td>Delivered</td><td>3664.5</td><td>5</td><td>732.9</td></tr><tr><td>54</td><td>2023-07-05</td><td>1040</td><td>Bob</td><td>205</td><td>Laptop</td><td>Delivered</td><td>532.23</td><td>1</td><td>532.23</td></tr><tr><td>55</td><td>2023-07-01</td><td>1024</td><td>David</td><td>204</td><td>Printer</td><td>Cancelled</td><td>5673.18</td><td>3</td><td>1891.06</td></tr><tr><td>56</td><td>2025-03-28</td><td>1091</td><td>Ian</td><td>209</td><td>Laptop</td><td>Shipped</td><td>3500.4</td><td>2</td><td>1750.2</td></tr><tr><td>57</td><td>2023-04-11</td><td>1075</td><td>Frank</td><td>209</td><td>Tablet</td><td>Pending</td><td>3723.51</td><td>3</td><td>1241.17</td></tr><tr><td>58</td><td>2025-08-18</td><td>1035</td><td>Grace</td><td>200</td><td>Tablet</td><td>Shipped</td><td>5619.56</td><td>4</td><td>1404.89</td></tr><tr><td>59</td><td>2023-01-24</td><td>1086</td><td>Emma</td><td>202</td><td>Monitor</td><td>Cancelled</td><td>2898.93</td><td>3</td><td>966.31</td></tr><tr><td>60</td><td>2024-09-04</td><td>1080</td><td>Julia</td><td>201</td><td>Camera</td><td>Delivered</td><td>1808.1</td><td>1</td><td>1808.1</td></tr><tr><td>61</td><td>2025-07-24</td><td>1028</td><td>Frank</td><td>208</td><td>Laptop</td><td>Delivered</td><td>779.04</td><td>3</td><td>259.68</td></tr><tr><td>62</td><td>2024-11-19</td><td>1057</td><td>David</td><td>206</td><td>Tablet</td><td>Pending</td><td>3116.97</td><td>3</td><td>1038.99</td></tr><tr><td>63</td><td>2025-01-15</td><td>1077</td><td>Frank</td><td>203</td><td>Speaker</td><td>Shipped</td><td>850.7</td><td>5</td><td>170.14</td></tr><tr><td>64</td><td>2023-11-12</td><td>1062</td><td>Julia</td><td>209</td><td>Keyboard</td><td>Shipped</td><td>3883.12</td><td>4</td><td>970.78</td></tr><tr><td>65</td><td>2024-08-08</td><td>1014</td><td>Frank</td><td>202</td><td>Keyboard</td><td>Shipped</td><td>438.51</td><td>1</td><td>438.51</td></tr><tr><td>66</td><td>2023-01-15</td><td>1051</td><td>Frank</td><td>206</td><td>Mouse</td><td>Pending</td><td>5550.1</td><td>5</td><td>1110.02</td></tr><tr><td>67</td><td>2023-08-23</td><td>1005</td><td>Julia</td><td>204</td><td>Camera</td><td>Delivered</td><td>1162.32</td><td>3</td><td>387.44</td></tr><tr><td>68</td><td>2024-10-20</td><td>1072</td><td>Julia</td><td>209</td><td>Printer</td><td>Cancelled</td><td>4186.44</td><td>3</td><td>1395.48</td></tr><tr><td>69</td><td>2023-10-23</td><td>1052</td><td>Charlie</td><td>209</td><td>Camera</td><td>Cancelled</td><td>1581.35</td><td>1</td><td>1581.35</td></tr><tr><td>70</td><td>2024-07-29</td><td>1020</td><td>Julia</td><td>206</td><td>Laptop</td><td>Delivered</td><td>7480.72</td><td>4</td><td>1870.18</td></tr><tr><td>71</td><td>2024-08-23</td><td>1022</td><td>Bob</td><td>210</td><td>Mouse</td><td>Delivered</td><td>6939.9</td><td>5</td><td>1387.98</td></tr><tr><td>72</td><td>2024-10-29</td><td>1078</td><td>Alice</td><td>207</td><td>Mouse</td><td>Cancelled</td><td>496.38</td><td>3</td><td>165.46</td></tr><tr><td>73</td><td>2023-01-21</td><td>1060</td><td>Frank</td><td>205</td><td>Mouse</td><td>Cancelled</td><td>6855.8</td><td>4</td><td>1713.95</td></tr><tr><td>74</td><td>2024-11-24</td><td>1018</td><td>Charlie</td><td>206</td><td>Speaker</td><td>Cancelled</td><td>1173.83</td><td>1</td><td>1173.83</td></tr><tr><td>75</td><td>2023-06-14</td><td>1024</td><td>Alice</td><td>200</td><td>Tablet</td><td>Pending</td><td>1631.69</td><td>1</td><td>1631.69</td></tr><tr><td>76</td><td>2024-11-20</td><td>1015</td><td>Alice</td><td>209</td><td>Laptop</td><td>Cancelled</td><td>1682.22</td><td>3</td><td>560.74</td></tr><tr><td>77</td><td>2025-01-23</td><td>1067</td><td>Bob</td><td>203</td><td>Tablet</td><td>Pending</td><td>608.56</td><td>4</td><td>152.14</td></tr><tr><td>78</td><td>2023-02-25</td><td>1050</td><td>Emma</td><td>206</td><td>Phone</td><td>Delivered</td><td>1244.93</td><td>1</td><td>1244.93</td></tr><tr><td>79</td><td>2024-04-15</td><td>1075</td><td>Frank</td><td>206</td><td>Printer</td><td>Shipped</td><td>1604.21</td><td>1</td><td>1604.21</td></tr><tr><td>80</td><td>2023-12-15</td><td>1006</td><td>Ian</td><td>200</td><td>Laptop</td><td>Cancelled</td><td>3468.46</td><td>2</td><td>1734.23</td></tr><tr><td>81</td><td>2024-05-09</td><td>1042</td><td>Bob</td><td>206</td><td>Headphones</td><td>Cancelled</td><td>3632.95</td><td>5</td><td>726.59</td></tr><tr><td>82</td><td>2025-05-05</td><td>1005</td><td>Julia</td><td>203</td><td>Headphones</td><td>Pending</td><td>6766.55</td><td>5</td><td>1353.31</td></tr><tr><td>83</td><td>2025-01-05</td><td>1046</td><td>Emma</td><td>207</td><td>Keyboard</td><td>Shipped</td><td>100.46</td><td>1</td><td>100.46</td></tr><tr><td>84</td><td>2024-02-29</td><td>1025</td><td>Charlie</td><td>204</td><td>Mouse</td><td>Cancelled</td><td>1690.33</td><td>1</td><td>1690.33</td></tr><tr><td>85</td><td>2025-01-07</td><td>1053</td><td>Ian</td><td>206</td><td>Printer</td><td>Cancelled</td><td>4824.12</td><td>4</td><td>1206.03</td></tr><tr><td>86</td><td>2025-01-20</td><td>1006</td><td>David</td><td>206</td><td>Headphones</td><td>Shipped</td><td>665.52</td><td>1</td><td>665.52</td></tr><tr><td>87</td><td>2025-06-06</td><td>1035</td><td>Bob</td><td>202</td><td>Keyboard</td><td>Delivered</td><td>5516.37</td><td>3</td><td>1838.79</td></tr><tr><td>88</td><td>2025-08-13</td><td>1032</td><td>Ian</td><td>208</td><td>Phone</td><td>Shipped</td><td>8959.1</td><td>5</td><td>1791.82</td></tr><tr><td>89</td><td>2024-06-21</td><td>1093</td><td>Frank</td><td>209</td><td>Monitor</td><td>Shipped</td><td>3896.68</td><td>2</td><td>1948.34</td></tr><tr><td>90</td><td>2024-09-05</td><td>1032</td><td>Frank</td><td>210</td><td>Mouse</td><td>Shipped</td><td>312.54</td><td>2</td><td>156.27</td></tr><tr><td>91</td><td>2024-08-26</td><td>1059</td><td>Charlie</td><td>207</td><td>Speaker</td><td>Cancelled</td><td>7534.32</td><td>4</td><td>1883.58</td></tr><tr><td>92</td><td>2024-03-27</td><td>1028</td><td>Hannah</td><td>203</td><td>Camera</td><td>Delivered</td><td>1747.68</td><td>4</td><td>436.92</td></tr><tr><td>93</td><td>2025-03-01</td><td>1003</td><td>Julia</td><td>206</td><td>Camera</td><td>Pending</td><td>7972.75</td><td>5</td><td>1594.55</td></tr><tr><td>94</td><td>2023-02-27</td><td>1050</td><td>Ian</td><td>200</td><td>Phone</td><td>Shipped</td><td>902.96</td><td>2</td><td>451.48</td></tr><tr><td>95</td><td>2023-06-09</td><td>1026</td><td>Charlie</td><td>209</td><td>Mouse</td><td>Cancelled</td><td>2913.69</td><td>3</td><td>971.23</td></tr><tr><td>96</td><td>2025-03-25</td><td>1042</td><td>Hannah</td><td>207</td><td>Speaker</td><td>Shipped</td><td>7005.4</td><td>5</td><td>1401.08</td></tr><tr><td>97</td><td>2023-01-22</td><td>1097</td><td>Julia</td><td>208</td><td>Tablet</td><td>Cancelled</td><td>3607.04</td><td>2</td><td>1803.52</td></tr><tr><td>98</td><td>2024-04-04</td><td>1035</td><td>Charlie</td><td>201</td><td>Monitor</td><td>Cancelled</td><td>1694.8</td><td>5</td><td>338.96</td></tr><tr><td>99</td><td>2023-07-26</td><td>1046</td><td>Emma</td><td>208</td><td>Headphones</td><td>Shipped</td><td>2246.08</td><td>4</td><td>561.52</td></tr><tr><td>100</td><td>2025-07-04</td><td>1059</td><td>Ian</td><td>207</td><td>Keyboard</td><td>Cancelled</td><td>580.53</td><td>3</td><td>193.51</td></tr><tr><td>101</td><td>2023-02-19</td><td>1028</td><td>Hannah</td><td>204</td><td>Keyboard</td><td>Cancelled</td><td>3656.22</td><td>3</td><td>1218.74</td></tr><tr><td>102</td><td>2023-09-09</td><td>1087</td><td>Emma</td><td>207</td><td>Speaker</td><td>Shipped</td><td>1666.44</td><td>1</td><td>1666.44</td></tr><tr><td>103</td><td>2023-02-26</td><td>1071</td><td>Hannah</td><td>204</td><td>Headphones</td><td>Delivered</td><td>5112.15</td><td>5</td><td>1022.43</td></tr><tr><td>104</td><td>2023-06-17</td><td>1005</td><td>Charlie</td><td>201</td><td>Tablet</td><td>Shipped</td><td>1641.09</td><td>3</td><td>547.03</td></tr><tr><td>105</td><td>2024-06-29</td><td>1087</td><td>David</td><td>205</td><td>Keyboard</td><td>Cancelled</td><td>2390.7</td><td>5</td><td>478.14</td></tr><tr><td>106</td><td>2024-08-25</td><td>1045</td><td>Charlie</td><td>205</td><td>Tablet</td><td>Shipped</td><td>6086.55</td><td>5</td><td>1217.31</td></tr><tr><td>107</td><td>2023-08-17</td><td>1093</td><td>Julia</td><td>204</td><td>Tablet</td><td>Cancelled</td><td>3708.9</td><td>2</td><td>1854.45</td></tr><tr><td>108</td><td>2024-04-11</td><td>1040</td><td>Ian</td><td>208</td><td>Mouse</td><td>Shipped</td><td>1396.42</td><td>2</td><td>698.21</td></tr><tr><td>109</td><td>2025-04-09</td><td>1092</td><td>Grace</td><td>209</td><td>Camera</td><td>Cancelled</td><td>8648.6</td><td>5</td><td>1729.72</td></tr><tr><td>110</td><td>2025-05-21</td><td>1094</td><td>Alice</td><td>209</td><td>Camera</td><td>Pending</td><td>4210.4</td><td>5</td><td>842.08</td></tr><tr><td>111</td><td>2023-07-21</td><td>1083</td><td>Ian</td><td>205</td><td>Keyboard</td><td>Delivered</td><td>9094.45</td><td>5</td><td>1818.89</td></tr><tr><td>112</td><td>2023-06-15</td><td>1037</td><td>Alice</td><td>206</td><td>Headphones</td><td>Delivered</td><td>2611.5</td><td>2</td><td>1305.75</td></tr><tr><td>113</td><td>2025-08-27</td><td>1095</td><td>Bob</td><td>204</td><td>Speaker</td><td>Shipped</td><td>921.63</td><td>3</td><td>307.21</td></tr><tr><td>114</td><td>2023-07-03</td><td>1081</td><td>Julia</td><td>208</td><td>Camera</td><td>Shipped</td><td>5577.33</td><td>3</td><td>1859.11</td></tr><tr><td>115</td><td>2025-03-15</td><td>1080</td><td>Emma</td><td>206</td><td>Phone</td><td>Pending</td><td>1871.46</td><td>3</td><td>623.82</td></tr><tr><td>116</td><td>2023-01-15</td><td>1098</td><td>Charlie</td><td>201</td><td>Phone</td><td>Delivered</td><td>1540.86</td><td>2</td><td>770.43</td></tr><tr><td>117</td><td>2024-10-27</td><td>1052</td><td>Hannah</td><td>202</td><td>Monitor</td><td>Pending</td><td>126.95</td><td>1</td><td>126.95</td></tr><tr><td>118</td><td>2025-01-24</td><td>1096</td><td>Frank</td><td>202</td><td>Printer</td><td>Shipped</td><td>617.18</td><td>2</td><td>308.59</td></tr><tr><td>119</td><td>2024-12-17</td><td>1091</td><td>Emma</td><td>205</td><td>Headphones</td><td>Delivered</td><td>2859.78</td><td>3</td><td>953.26</td></tr><tr><td>120</td><td>2025-03-23</td><td>1093</td><td>David</td><td>210</td><td>Keyboard</td><td>Pending</td><td>1409.16</td><td>4</td><td>352.29</td></tr><tr><td>121</td><td>2024-06-19</td><td>1029</td><td>Alice</td><td>206</td><td>Tablet</td><td>Shipped</td><td>4659.95</td><td>5</td><td>931.99</td></tr><tr><td>122</td><td>2024-10-21</td><td>1005</td><td>Charlie</td><td>203</td><td>Phone</td><td>Pending</td><td>1202.93</td><td>1</td><td>1202.93</td></tr><tr><td>123</td><td>2023-11-15</td><td>1085</td><td>Alice</td><td>203</td><td>Phone</td><td>Delivered</td><td>659.16</td><td>3</td><td>219.72</td></tr><tr><td>124</td><td>2024-07-01</td><td>1007</td><td>Bob</td><td>203</td><td>Mouse</td><td>Shipped</td><td>3043.64</td><td>2</td><td>1521.82</td></tr><tr><td>125</td><td>2024-03-13</td><td>1016</td><td>Ian</td><td>205</td><td>Headphones</td><td>Pending</td><td>1545.4</td><td>5</td><td>309.08</td></tr><tr><td>126</td><td>2024-06-01</td><td>1048</td><td>David</td><td>202</td><td>Camera</td><td>Shipped</td><td>1992.99</td><td>3</td><td>664.33</td></tr><tr><td>127</td><td>2023-04-24</td><td>1016</td><td>Frank</td><td>210</td><td>Mouse</td><td>Cancelled</td><td>1048.4</td><td>2</td><td>524.2</td></tr><tr><td>128</td><td>2024-07-20</td><td>1073</td><td>Frank</td><td>207</td><td>Camera</td><td>Cancelled</td><td>1171.12</td><td>1</td><td>1171.12</td></tr><tr><td>129</td><td>2024-08-28</td><td>1062</td><td>Ian</td><td>208</td><td>Laptop</td><td>Pending</td><td>2916.9</td><td>5</td><td>583.38</td></tr><tr><td>130</td><td>2024-09-11</td><td>1011</td><td>Hannah</td><td>204</td><td>Monitor</td><td>Cancelled</td><td>7178.56</td><td>4</td><td>1794.64</td></tr><tr><td>131</td><td>2023-06-17</td><td>1040</td><td>Charlie</td><td>200</td><td>Printer</td><td>Cancelled</td><td>2219.8</td><td>2</td><td>1109.9</td></tr><tr><td>132</td><td>2024-03-06</td><td>1028</td><td>Ian</td><td>204</td><td>Camera</td><td>Cancelled</td><td>2892.96</td><td>3</td><td>964.32</td></tr><tr><td>133</td><td>2024-08-06</td><td>1083</td><td>Ian</td><td>209</td><td>Keyboard</td><td>Pending</td><td>1133.79</td><td>1</td><td>1133.79</td></tr><tr><td>134</td><td>2023-11-18</td><td>1016</td><td>Frank</td><td>209</td><td>Headphones</td><td>Delivered</td><td>486.92</td><td>4</td><td>121.73</td></tr><tr><td>135</td><td>2023-12-26</td><td>1030</td><td>Charlie</td><td>200</td><td>Printer</td><td>Pending</td><td>949.45</td><td>5</td><td>189.89</td></tr><tr><td>136</td><td>2025-05-12</td><td>1003</td><td>Bob</td><td>204</td><td>Laptop</td><td>Delivered</td><td>3672.24</td><td>4</td><td>918.06</td></tr><tr><td>137</td><td>2023-08-30</td><td>1009</td><td>Grace</td><td>200</td><td>Mouse</td><td>Pending</td><td>3469.45</td><td>5</td><td>693.89</td></tr><tr><td>138</td><td>2025-07-23</td><td>1054</td><td>Ian</td><td>207</td><td>Phone</td><td>Pending</td><td>671.94</td><td>1</td><td>671.94</td></tr><tr><td>139</td><td>2025-01-19</td><td>1098</td><td>Bob</td><td>205</td><td>Printer</td><td>Shipped</td><td>7556.85</td><td>5</td><td>1511.37</td></tr><tr><td>140</td><td>2024-01-28</td><td>1026</td><td>Charlie</td><td>202</td><td>Camera</td><td>Shipped</td><td>3123.1</td><td>2</td><td>1561.55</td></tr><tr><td>141</td><td>2024-05-30</td><td>1049</td><td>Ian</td><td>205</td><td>Mouse</td><td>Delivered</td><td>1385.5</td><td>2</td><td>692.75</td></tr><tr><td>142</td><td>2024-11-16</td><td>1008</td><td>Alice</td><td>200</td><td>Camera</td><td>Cancelled</td><td>4634.1</td><td>5</td><td>926.82</td></tr><tr><td>143</td><td>2023-09-02</td><td>1072</td><td>David</td><td>203</td><td>Laptop</td><td>Delivered</td><td>3027.05</td><td>5</td><td>605.41</td></tr><tr><td>144</td><td>2025-01-19</td><td>1013</td><td>Ian</td><td>210</td><td>Tablet</td><td>Cancelled</td><td>386.96</td><td>1</td><td>386.96</td></tr><tr><td>145</td><td>2024-07-18</td><td>1075</td><td>Charlie</td><td>204</td><td>Phone</td><td>Cancelled</td><td>6336.35</td><td>5</td><td>1267.27</td></tr><tr><td>146</td><td>2024-12-20</td><td>1058</td><td>Ian</td><td>207</td><td>Speaker</td><td>Delivered</td><td>416.51</td><td>1</td><td>416.51</td></tr><tr><td>147</td><td>2023-02-05</td><td>1096</td><td>Frank</td><td>204</td><td>Speaker</td><td>Shipped</td><td>1729.8</td><td>2</td><td>864.9</td></tr><tr><td>148</td><td>2023-11-23</td><td>1020</td><td>Frank</td><td>204</td><td>Monitor</td><td>Shipped</td><td>2065.0</td><td>2</td><td>1032.5</td></tr><tr><td>149</td><td>2023-08-26</td><td>1015</td><td>Frank</td><td>206</td><td>Tablet</td><td>Cancelled</td><td>777.85</td><td>1</td><td>777.85</td></tr><tr><td>150</td><td>2024-03-08</td><td>1064</td><td>Charlie</td><td>206</td><td>Printer</td><td>Cancelled</td><td>6189.32</td><td>4</td><td>1547.33</td></tr><tr><td>151</td><td>2024-12-24</td><td>1045</td><td>Ian</td><td>203</td><td>Laptop</td><td>Pending</td><td>3726.12</td><td>3</td><td>1242.04</td></tr><tr><td>152</td><td>2023-01-30</td><td>1065</td><td>Julia</td><td>208</td><td>Laptop</td><td>Cancelled</td><td>7864.3</td><td>5</td><td>1572.86</td></tr><tr><td>153</td><td>2023-01-20</td><td>1068</td><td>Julia</td><td>208</td><td>Headphones</td><td>Delivered</td><td>4797.64</td><td>4</td><td>1199.41</td></tr><tr><td>154</td><td>2025-08-05</td><td>1016</td><td>Alice</td><td>209</td><td>Headphones</td><td>Shipped</td><td>2544.08</td><td>2</td><td>1272.04</td></tr><tr><td>155</td><td>2024-07-20</td><td>1040</td><td>David</td><td>209</td><td>Mouse</td><td>Pending</td><td>5971.89</td><td>3</td><td>1990.63</td></tr><tr><td>156</td><td>2023-11-08</td><td>1088</td><td>Ian</td><td>202</td><td>Headphones</td><td>Pending</td><td>6045.08</td><td>4</td><td>1511.27</td></tr><tr><td>157</td><td>2024-06-24</td><td>1070</td><td>Bob</td><td>204</td><td>Tablet</td><td>Shipped</td><td>4275.52</td><td>4</td><td>1068.88</td></tr><tr><td>158</td><td>2024-06-16</td><td>1037</td><td>Emma</td><td>208</td><td>Headphones</td><td>Delivered</td><td>3672.22</td><td>2</td><td>1836.11</td></tr><tr><td>159</td><td>2023-01-28</td><td>1014</td><td>Alice</td><td>201</td><td>Printer</td><td>Delivered</td><td>1673.34</td><td>2</td><td>836.67</td></tr><tr><td>160</td><td>2023-02-20</td><td>1033</td><td>Charlie</td><td>207</td><td>Phone</td><td>Shipped</td><td>2073.7</td><td>2</td><td>1036.85</td></tr><tr><td>161</td><td>2023-10-24</td><td>1053</td><td>Emma</td><td>208</td><td>Laptop</td><td>Delivered</td><td>843.32</td><td>4</td><td>210.83</td></tr><tr><td>162</td><td>2024-11-04</td><td>1096</td><td>Emma</td><td>203</td><td>Mouse</td><td>Delivered</td><td>5340.75</td><td>5</td><td>1068.15</td></tr><tr><td>163</td><td>2023-12-29</td><td>1007</td><td>Charlie</td><td>208</td><td>Printer</td><td>Delivered</td><td>5695.2</td><td>3</td><td>1898.4</td></tr><tr><td>164</td><td>2025-02-04</td><td>1027</td><td>Alice</td><td>207</td><td>Headphones</td><td>Cancelled</td><td>2764.95</td><td>3</td><td>921.65</td></tr><tr><td>165</td><td>2023-05-19</td><td>1097</td><td>Ian</td><td>208</td><td>Speaker</td><td>Cancelled</td><td>2692.2</td><td>2</td><td>1346.1</td></tr><tr><td>166</td><td>2024-03-30</td><td>1015</td><td>Hannah</td><td>201</td><td>Laptop</td><td>Shipped</td><td>1238.16</td><td>4</td><td>309.54</td></tr><tr><td>167</td><td>2025-03-20</td><td>1039</td><td>Grace</td><td>201</td><td>Printer</td><td>Shipped</td><td>949.6</td><td>2</td><td>474.8</td></tr><tr><td>168</td><td>2024-06-03</td><td>1021</td><td>Emma</td><td>210</td><td>Tablet</td><td>Cancelled</td><td>4289.4</td><td>3</td><td>1429.8</td></tr><tr><td>169</td><td>2025-05-01</td><td>1091</td><td>Frank</td><td>202</td><td>Mouse</td><td>Shipped</td><td>2677.7</td><td>2</td><td>1338.85</td></tr><tr><td>170</td><td>2023-11-18</td><td>1013</td><td>Grace</td><td>206</td><td>Mouse</td><td>Delivered</td><td>3139.7</td><td>2</td><td>1569.85</td></tr><tr><td>171</td><td>2023-07-31</td><td>1053</td><td>David</td><td>203</td><td>Camera</td><td>Cancelled</td><td>1384.65</td><td>5</td><td>276.93</td></tr><tr><td>172</td><td>2024-10-22</td><td>1098</td><td>Charlie</td><td>210</td><td>Headphones</td><td>Delivered</td><td>2747.37</td><td>3</td><td>915.79</td></tr><tr><td>173</td><td>2024-07-30</td><td>1041</td><td>Grace</td><td>201</td><td>Headphones</td><td>Cancelled</td><td>2974.86</td><td>3</td><td>991.62</td></tr><tr><td>174</td><td>2023-02-12</td><td>1072</td><td>David</td><td>200</td><td>Phone</td><td>Shipped</td><td>1264.28</td><td>2</td><td>632.14</td></tr><tr><td>175</td><td>2024-09-17</td><td>1063</td><td>Alice</td><td>202</td><td>Mouse</td><td>Delivered</td><td>1073.78</td><td>2</td><td>536.89</td></tr><tr><td>176</td><td>2023-06-25</td><td>1031</td><td>Julia</td><td>205</td><td>Printer</td><td>Shipped</td><td>728.48</td><td>1</td><td>728.48</td></tr><tr><td>177</td><td>2024-04-19</td><td>1047</td><td>Emma</td><td>201</td><td>Printer</td><td>Delivered</td><td>5170.47</td><td>3</td><td>1723.49</td></tr><tr><td>178</td><td>2025-04-09</td><td>1034</td><td>Alice</td><td>201</td><td>Printer</td><td>Delivered</td><td>9353.3</td><td>5</td><td>1870.66</td></tr><tr><td>179</td><td>2023-03-07</td><td>1024</td><td>Alice</td><td>206</td><td>Phone</td><td>Pending</td><td>3865.1</td><td>2</td><td>1932.55</td></tr><tr><td>180</td><td>2024-09-09</td><td>1058</td><td>Bob</td><td>206</td><td>Laptop</td><td>Delivered</td><td>4136.19</td><td>3</td><td>1378.73</td></tr><tr><td>181</td><td>2024-01-19</td><td>1052</td><td>Hannah</td><td>200</td><td>Monitor</td><td>Shipped</td><td>3405.4</td><td>4</td><td>851.35</td></tr><tr><td>182</td><td>2024-12-20</td><td>1044</td><td>Charlie</td><td>208</td><td>Phone</td><td>Delivered</td><td>817.06</td><td>1</td><td>817.06</td></tr><tr><td>183</td><td>2024-12-29</td><td>1090</td><td>Frank</td><td>200</td><td>Tablet</td><td>Delivered</td><td>658.68</td><td>2</td><td>329.34</td></tr><tr><td>184</td><td>2024-03-06</td><td>1031</td><td>Julia</td><td>202</td><td>Headphones</td><td>Cancelled</td><td>958.68</td><td>4</td><td>239.67</td></tr><tr><td>185</td><td>2024-05-02</td><td>1006</td><td>Bob</td><td>200</td><td>Keyboard</td><td>Pending</td><td>4838.6</td><td>4</td><td>1209.65</td></tr><tr><td>186</td><td>2024-01-13</td><td>1058</td><td>Emma</td><td>201</td><td>Printer</td><td>Cancelled</td><td>865.84</td><td>4</td><td>216.46</td></tr><tr><td>187</td><td>2024-11-06</td><td>1083</td><td>David</td><td>204</td><td>Monitor</td><td>Pending</td><td>8838.5</td><td>5</td><td>1767.7</td></tr><tr><td>188</td><td>2025-04-13</td><td>1020</td><td>Julia</td><td>210</td><td>Speaker</td><td>Cancelled</td><td>9663.45</td><td>5</td><td>1932.69</td></tr><tr><td>189</td><td>2024-11-19</td><td>1011</td><td>Emma</td><td>203</td><td>Camera</td><td>Cancelled</td><td>7854.84</td><td>4</td><td>1963.71</td></tr><tr><td>190</td><td>2025-01-08</td><td>1072</td><td>Ian</td><td>205</td><td>Headphones</td><td>Pending</td><td>1716.56</td><td>1</td><td>1716.56</td></tr><tr><td>191</td><td>2023-12-21</td><td>1001</td><td>Emma</td><td>201</td><td>Headphones</td><td>Cancelled</td><td>255.99</td><td>3</td><td>85.33</td></tr><tr><td>192</td><td>2025-02-28</td><td>1082</td><td>Alice</td><td>204</td><td>Phone</td><td>Delivered</td><td>3970.4</td><td>5</td><td>794.08</td></tr><tr><td>193</td><td>2024-01-25</td><td>1091</td><td>Emma</td><td>206</td><td>Printer</td><td>Cancelled</td><td>3038.61</td><td>3</td><td>1012.87</td></tr><tr><td>194</td><td>2025-01-03</td><td>1046</td><td>David</td><td>205</td><td>Tablet</td><td>Pending</td><td>2185.86</td><td>3</td><td>728.62</td></tr><tr><td>195</td><td>2024-06-19</td><td>1003</td><td>Charlie</td><td>206</td><td>Mouse</td><td>Delivered</td><td>2282.36</td><td>2</td><td>1141.18</td></tr><tr><td>196</td><td>2023-01-18</td><td>1031</td><td>Charlie</td><td>210</td><td>Keyboard</td><td>Cancelled</td><td>4734.75</td><td>3</td><td>1578.25</td></tr><tr><td>197</td><td>2023-09-10</td><td>1063</td><td>Ian</td><td>207</td><td>Monitor</td><td>Delivered</td><td>1019.43</td><td>3</td><td>339.81</td></tr><tr><td>198</td><td>2023-11-12</td><td>1052</td><td>David</td><td>209</td><td>Phone</td><td>Shipped</td><td>3758.61</td><td>3</td><td>1252.87</td></tr><tr><td>199</td><td>2023-06-05</td><td>1002</td><td>Emma</td><td>209</td><td>Keyboard</td><td>Pending</td><td>2705.25</td><td>5</td><td>541.05</td></tr><tr><td>200</td><td>2025-06-19</td><td>1009</td><td>Alice</td><td>206</td><td>Speaker</td><td>Shipped</td><td>2148.78</td><td>2</td><td>1074.39</td></tr></tbody></table></div>"
      ]
     },
     "metadata": {
      "application/vnd.databricks.v1+output": {
       "addedWidgets": {},
       "aggData": [],
       "aggError": "",
       "aggOverflow": false,
       "aggSchema": [],
       "aggSeriesLimitReached": false,
       "aggType": "",
       "arguments": {},
       "columnCustomDisplayInfos": {},
       "data": [
        [
         1,
         "2024-02-08",
         1005,
         "David",
         206,
         "Mouse",
         "Pending",
         784.7,
         1,
         784.7
        ],
        [
         2,
         "2023-02-07",
         1053,
         "Frank",
         205,
         "Laptop",
         "Cancelled",
         4110.39,
         3,
         1370.13
        ],
        [
         3,
         "2023-01-04",
         1071,
         "Julia",
         203,
         "Speaker",
         "Delivered",
         1417.83,
         3,
         472.61
        ],
        [
         4,
         "2023-11-16",
         1072,
         "Bob",
         209,
         "Laptop",
         "Cancelled",
         4598.55,
         3,
         1532.85
        ],
        [
         5,
         "2024-12-04",
         1017,
         "Julia",
         208,
         "Printer",
         "Shipped",
         1130.3,
         5,
         226.06
        ],
        [
         6,
         "2025-01-13",
         1042,
         "Frank",
         210,
         "Mouse",
         "Pending",
         694.68,
         3,
         231.56
        ],
        [
         7,
         "2023-09-04",
         1069,
         "Alice",
         202,
         "Keyboard",
         "Delivered",
         1064.24,
         4,
         266.06
        ],
        [
         8,
         "2024-05-10",
         1048,
         "Frank",
         210,
         "Printer",
         "Pending",
         4643.88,
         4,
         1160.97
        ],
        [
         9,
         "2023-06-03",
         1020,
         "David",
         209,
         "Phone",
         "Delivered",
         2621.44,
         4,
         655.36
        ],
        [
         10,
         "2025-04-14",
         1064,
         "Charlie",
         204,
         "Headphones",
         "Pending",
         2493.86,
         2,
         1246.93
        ],
        [
         11,
         "2023-11-14",
         1084,
         "Hannah",
         206,
         "Keyboard",
         "Shipped",
         2876.92,
         2,
         1438.46
        ],
        [
         12,
         "2023-07-13",
         1019,
         "Grace",
         203,
         "Laptop",
         "Delivered",
         1309.84,
         4,
         327.46
        ],
        [
         13,
         "2024-06-06",
         1034,
         "Julia",
         210,
         "Tablet",
         "Delivered",
         3401.4,
         4,
         850.35
        ],
        [
         14,
         "2023-07-11",
         1057,
         "Alice",
         206,
         "Speaker",
         "Shipped",
         1619.4,
         4,
         404.85
        ],
        [
         15,
         "2024-07-03",
         1040,
         "David",
         210,
         "Keyboard",
         "Delivered",
         1603.18,
         1,
         1603.18
        ],
        [
         16,
         "2023-12-31",
         1097,
         "Grace",
         206,
         "Phone",
         "Cancelled",
         5475.69,
         3,
         1825.23
        ],
        [
         17,
         "2024-04-16",
         1001,
         "Emma",
         201,
         "Phone",
         "Shipped",
         2371.02,
         2,
         1185.51
        ],
        [
         18,
         "2024-08-21",
         1098,
         "Frank",
         201,
         "Headphones",
         "Shipped",
         1188.15,
         5,
         237.63
        ],
        [
         19,
         "2023-01-28",
         1095,
         "Grace",
         210,
         "Phone",
         "Shipped",
         2202.15,
         3,
         734.05
        ],
        [
         20,
         "2025-06-05",
         1037,
         "Ian",
         206,
         "Tablet",
         "Pending",
         8951.15,
         5,
         1790.23
        ],
        [
         21,
         "2024-09-21",
         1029,
         "Frank",
         209,
         "Keyboard",
         "Shipped",
         156.46,
         2,
         78.23
        ],
        [
         22,
         "2025-02-19",
         1099,
         "Charlie",
         210,
         "Speaker",
         "Pending",
         597.03,
         3,
         199.01
        ],
        [
         23,
         "2024-09-16",
         1033,
         "Ian",
         203,
         "Mouse",
         "Delivered",
         4186.28,
         4,
         1046.57
        ],
        [
         24,
         "2025-08-24",
         1005,
         "Charlie",
         209,
         "Camera",
         "Pending",
         2475.78,
         2,
         1237.89
        ],
        [
         25,
         "2023-05-27",
         1096,
         "Emma",
         208,
         "Headphones",
         "Delivered",
         6953.2,
         4,
         1738.3
        ],
        [
         26,
         "2024-11-20",
         1041,
         "Grace",
         202,
         "Phone",
         "Cancelled",
         3309.2,
         4,
         827.3
        ],
        [
         27,
         "2025-05-10",
         1051,
         "Emma",
         203,
         "Tablet",
         "Pending",
         3456.74,
         2,
         1728.37
        ],
        [
         28,
         "2023-12-22",
         1060,
         "Grace",
         209,
         "Camera",
         "Pending",
         1647.46,
         1,
         1647.46
        ],
        [
         29,
         "2024-05-19",
         1057,
         "Julia",
         203,
         "Headphones",
         "Cancelled",
         5647.15,
         5,
         1129.43
        ],
        [
         30,
         "2023-03-04",
         1057,
         "Frank",
         206,
         "Mouse",
         "Cancelled",
         4205.68,
         4,
         1051.42
        ],
        [
         31,
         "2024-05-23",
         1008,
         "Hannah",
         208,
         "Mouse",
         "Delivered",
         571.13,
         1,
         571.13
        ],
        [
         32,
         "2023-04-13",
         1057,
         "Ian",
         206,
         "Mouse",
         "Pending",
         564.36,
         3,
         188.12
        ],
        [
         33,
         "2023-05-03",
         1010,
         "Grace",
         202,
         "Printer",
         "Shipped",
         1975.34,
         1,
         1975.34
        ],
        [
         34,
         "2024-10-19",
         1001,
         "Alice",
         203,
         "Headphones",
         "Pending",
         1038.72,
         4,
         259.68
        ],
        [
         35,
         "2023-08-11",
         1090,
         "David",
         204,
         "Monitor",
         "Pending",
         3968.02,
         2,
         1984.01
        ],
        [
         36,
         "2023-07-17",
         1024,
         "Julia",
         201,
         "Tablet",
         "Pending",
         1642.8,
         5,
         328.56
        ],
        [
         37,
         "2025-03-28",
         1082,
         "Frank",
         200,
         "Mouse",
         "Delivered",
         4367.04,
         4,
         1091.76
        ],
        [
         38,
         "2023-09-07",
         1051,
         "Frank",
         200,
         "Keyboard",
         "Shipped",
         5083.32,
         4,
         1270.83
        ],
        [
         39,
         "2025-08-16",
         1100,
         "Julia",
         201,
         "Speaker",
         "Pending",
         140.28,
         2,
         70.14
        ],
        [
         40,
         "2025-09-01",
         1078,
         "Ian",
         206,
         "Keyboard",
         "Shipped",
         4646,
         4,
         1161.5
        ],
        [
         41,
         "2024-04-28",
         1015,
         "Hannah",
         208,
         "Camera",
         "Cancelled",
         1294.78,
         2,
         647.39
        ],
        [
         42,
         "2025-01-11",
         1088,
         "David",
         201,
         "Headphones",
         "Shipped",
         2270.04,
         2,
         1135.02
        ],
        [
         43,
         "2024-03-23",
         1017,
         "Emma",
         209,
         "Headphones",
         "Cancelled",
         1220.85,
         5,
         244.17
        ],
        [
         44,
         "2025-02-19",
         1062,
         "Ian",
         210,
         "Keyboard",
         "Pending",
         3927.64,
         4,
         981.91
        ],
        [
         45,
         "2025-03-15",
         1064,
         "David",
         200,
         "Tablet",
         "Delivered",
         1282.68,
         2,
         641.34
        ],
        [
         46,
         "2024-11-08",
         1019,
         "Hannah",
         209,
         "Camera",
         "Shipped",
         2389.98,
         2,
         1194.99
        ],
        [
         47,
         "2025-02-03",
         1046,
         "Alice",
         205,
         "Headphones",
         "Cancelled",
         3762.35,
         5,
         752.47
        ],
        [
         48,
         "2024-01-06",
         1082,
         "Grace",
         207,
         "Keyboard",
         "Shipped",
         2053.78,
         2,
         1026.89
        ],
        [
         49,
         "2025-05-22",
         1027,
         "Julia",
         205,
         "Tablet",
         "Pending",
         1929.3,
         3,
         643.1
        ],
        [
         50,
         "2023-04-22",
         1003,
         "Hannah",
         208,
         "Laptop",
         "Pending",
         283.11,
         3,
         94.37
        ],
        [
         51,
         "2023-03-30",
         1029,
         "Emma",
         203,
         "Printer",
         "Shipped",
         1423.91,
         1,
         1423.91
        ],
        [
         52,
         "2024-07-11",
         1049,
         "Bob",
         209,
         "Phone",
         "Shipped",
         6331.7,
         5,
         1266.34
        ],
        [
         53,
         "2023-12-08",
         1048,
         "Bob",
         203,
         "Camera",
         "Delivered",
         3664.5,
         5,
         732.9
        ],
        [
         54,
         "2023-07-05",
         1040,
         "Bob",
         205,
         "Laptop",
         "Delivered",
         532.23,
         1,
         532.23
        ],
        [
         55,
         "2023-07-01",
         1024,
         "David",
         204,
         "Printer",
         "Cancelled",
         5673.18,
         3,
         1891.06
        ],
        [
         56,
         "2025-03-28",
         1091,
         "Ian",
         209,
         "Laptop",
         "Shipped",
         3500.4,
         2,
         1750.2
        ],
        [
         57,
         "2023-04-11",
         1075,
         "Frank",
         209,
         "Tablet",
         "Pending",
         3723.51,
         3,
         1241.17
        ],
        [
         58,
         "2025-08-18",
         1035,
         "Grace",
         200,
         "Tablet",
         "Shipped",
         5619.56,
         4,
         1404.89
        ],
        [
         59,
         "2023-01-24",
         1086,
         "Emma",
         202,
         "Monitor",
         "Cancelled",
         2898.93,
         3,
         966.31
        ],
        [
         60,
         "2024-09-04",
         1080,
         "Julia",
         201,
         "Camera",
         "Delivered",
         1808.1,
         1,
         1808.1
        ],
        [
         61,
         "2025-07-24",
         1028,
         "Frank",
         208,
         "Laptop",
         "Delivered",
         779.04,
         3,
         259.68
        ],
        [
         62,
         "2024-11-19",
         1057,
         "David",
         206,
         "Tablet",
         "Pending",
         3116.97,
         3,
         1038.99
        ],
        [
         63,
         "2025-01-15",
         1077,
         "Frank",
         203,
         "Speaker",
         "Shipped",
         850.7,
         5,
         170.14
        ],
        [
         64,
         "2023-11-12",
         1062,
         "Julia",
         209,
         "Keyboard",
         "Shipped",
         3883.12,
         4,
         970.78
        ],
        [
         65,
         "2024-08-08",
         1014,
         "Frank",
         202,
         "Keyboard",
         "Shipped",
         438.51,
         1,
         438.51
        ],
        [
         66,
         "2023-01-15",
         1051,
         "Frank",
         206,
         "Mouse",
         "Pending",
         5550.1,
         5,
         1110.02
        ],
        [
         67,
         "2023-08-23",
         1005,
         "Julia",
         204,
         "Camera",
         "Delivered",
         1162.32,
         3,
         387.44
        ],
        [
         68,
         "2024-10-20",
         1072,
         "Julia",
         209,
         "Printer",
         "Cancelled",
         4186.44,
         3,
         1395.48
        ],
        [
         69,
         "2023-10-23",
         1052,
         "Charlie",
         209,
         "Camera",
         "Cancelled",
         1581.35,
         1,
         1581.35
        ],
        [
         70,
         "2024-07-29",
         1020,
         "Julia",
         206,
         "Laptop",
         "Delivered",
         7480.72,
         4,
         1870.18
        ],
        [
         71,
         "2024-08-23",
         1022,
         "Bob",
         210,
         "Mouse",
         "Delivered",
         6939.9,
         5,
         1387.98
        ],
        [
         72,
         "2024-10-29",
         1078,
         "Alice",
         207,
         "Mouse",
         "Cancelled",
         496.38,
         3,
         165.46
        ],
        [
         73,
         "2023-01-21",
         1060,
         "Frank",
         205,
         "Mouse",
         "Cancelled",
         6855.8,
         4,
         1713.95
        ],
        [
         74,
         "2024-11-24",
         1018,
         "Charlie",
         206,
         "Speaker",
         "Cancelled",
         1173.83,
         1,
         1173.83
        ],
        [
         75,
         "2023-06-14",
         1024,
         "Alice",
         200,
         "Tablet",
         "Pending",
         1631.69,
         1,
         1631.69
        ],
        [
         76,
         "2024-11-20",
         1015,
         "Alice",
         209,
         "Laptop",
         "Cancelled",
         1682.22,
         3,
         560.74
        ],
        [
         77,
         "2025-01-23",
         1067,
         "Bob",
         203,
         "Tablet",
         "Pending",
         608.56,
         4,
         152.14
        ],
        [
         78,
         "2023-02-25",
         1050,
         "Emma",
         206,
         "Phone",
         "Delivered",
         1244.93,
         1,
         1244.93
        ],
        [
         79,
         "2024-04-15",
         1075,
         "Frank",
         206,
         "Printer",
         "Shipped",
         1604.21,
         1,
         1604.21
        ],
        [
         80,
         "2023-12-15",
         1006,
         "Ian",
         200,
         "Laptop",
         "Cancelled",
         3468.46,
         2,
         1734.23
        ],
        [
         81,
         "2024-05-09",
         1042,
         "Bob",
         206,
         "Headphones",
         "Cancelled",
         3632.95,
         5,
         726.59
        ],
        [
         82,
         "2025-05-05",
         1005,
         "Julia",
         203,
         "Headphones",
         "Pending",
         6766.55,
         5,
         1353.31
        ],
        [
         83,
         "2025-01-05",
         1046,
         "Emma",
         207,
         "Keyboard",
         "Shipped",
         100.46,
         1,
         100.46
        ],
        [
         84,
         "2024-02-29",
         1025,
         "Charlie",
         204,
         "Mouse",
         "Cancelled",
         1690.33,
         1,
         1690.33
        ],
        [
         85,
         "2025-01-07",
         1053,
         "Ian",
         206,
         "Printer",
         "Cancelled",
         4824.12,
         4,
         1206.03
        ],
        [
         86,
         "2025-01-20",
         1006,
         "David",
         206,
         "Headphones",
         "Shipped",
         665.52,
         1,
         665.52
        ],
        [
         87,
         "2025-06-06",
         1035,
         "Bob",
         202,
         "Keyboard",
         "Delivered",
         5516.37,
         3,
         1838.79
        ],
        [
         88,
         "2025-08-13",
         1032,
         "Ian",
         208,
         "Phone",
         "Shipped",
         8959.1,
         5,
         1791.82
        ],
        [
         89,
         "2024-06-21",
         1093,
         "Frank",
         209,
         "Monitor",
         "Shipped",
         3896.68,
         2,
         1948.34
        ],
        [
         90,
         "2024-09-05",
         1032,
         "Frank",
         210,
         "Mouse",
         "Shipped",
         312.54,
         2,
         156.27
        ],
        [
         91,
         "2024-08-26",
         1059,
         "Charlie",
         207,
         "Speaker",
         "Cancelled",
         7534.32,
         4,
         1883.58
        ],
        [
         92,
         "2024-03-27",
         1028,
         "Hannah",
         203,
         "Camera",
         "Delivered",
         1747.68,
         4,
         436.92
        ],
        [
         93,
         "2025-03-01",
         1003,
         "Julia",
         206,
         "Camera",
         "Pending",
         7972.75,
         5,
         1594.55
        ],
        [
         94,
         "2023-02-27",
         1050,
         "Ian",
         200,
         "Phone",
         "Shipped",
         902.96,
         2,
         451.48
        ],
        [
         95,
         "2023-06-09",
         1026,
         "Charlie",
         209,
         "Mouse",
         "Cancelled",
         2913.69,
         3,
         971.23
        ],
        [
         96,
         "2025-03-25",
         1042,
         "Hannah",
         207,
         "Speaker",
         "Shipped",
         7005.4,
         5,
         1401.08
        ],
        [
         97,
         "2023-01-22",
         1097,
         "Julia",
         208,
         "Tablet",
         "Cancelled",
         3607.04,
         2,
         1803.52
        ],
        [
         98,
         "2024-04-04",
         1035,
         "Charlie",
         201,
         "Monitor",
         "Cancelled",
         1694.8,
         5,
         338.96
        ],
        [
         99,
         "2023-07-26",
         1046,
         "Emma",
         208,
         "Headphones",
         "Shipped",
         2246.08,
         4,
         561.52
        ],
        [
         100,
         "2025-07-04",
         1059,
         "Ian",
         207,
         "Keyboard",
         "Cancelled",
         580.53,
         3,
         193.51
        ],
        [
         101,
         "2023-02-19",
         1028,
         "Hannah",
         204,
         "Keyboard",
         "Cancelled",
         3656.22,
         3,
         1218.74
        ],
        [
         102,
         "2023-09-09",
         1087,
         "Emma",
         207,
         "Speaker",
         "Shipped",
         1666.44,
         1,
         1666.44
        ],
        [
         103,
         "2023-02-26",
         1071,
         "Hannah",
         204,
         "Headphones",
         "Delivered",
         5112.15,
         5,
         1022.43
        ],
        [
         104,
         "2023-06-17",
         1005,
         "Charlie",
         201,
         "Tablet",
         "Shipped",
         1641.09,
         3,
         547.03
        ],
        [
         105,
         "2024-06-29",
         1087,
         "David",
         205,
         "Keyboard",
         "Cancelled",
         2390.7,
         5,
         478.14
        ],
        [
         106,
         "2024-08-25",
         1045,
         "Charlie",
         205,
         "Tablet",
         "Shipped",
         6086.55,
         5,
         1217.31
        ],
        [
         107,
         "2023-08-17",
         1093,
         "Julia",
         204,
         "Tablet",
         "Cancelled",
         3708.9,
         2,
         1854.45
        ],
        [
         108,
         "2024-04-11",
         1040,
         "Ian",
         208,
         "Mouse",
         "Shipped",
         1396.42,
         2,
         698.21
        ],
        [
         109,
         "2025-04-09",
         1092,
         "Grace",
         209,
         "Camera",
         "Cancelled",
         8648.6,
         5,
         1729.72
        ],
        [
         110,
         "2025-05-21",
         1094,
         "Alice",
         209,
         "Camera",
         "Pending",
         4210.4,
         5,
         842.08
        ],
        [
         111,
         "2023-07-21",
         1083,
         "Ian",
         205,
         "Keyboard",
         "Delivered",
         9094.45,
         5,
         1818.89
        ],
        [
         112,
         "2023-06-15",
         1037,
         "Alice",
         206,
         "Headphones",
         "Delivered",
         2611.5,
         2,
         1305.75
        ],
        [
         113,
         "2025-08-27",
         1095,
         "Bob",
         204,
         "Speaker",
         "Shipped",
         921.63,
         3,
         307.21
        ],
        [
         114,
         "2023-07-03",
         1081,
         "Julia",
         208,
         "Camera",
         "Shipped",
         5577.33,
         3,
         1859.11
        ],
        [
         115,
         "2025-03-15",
         1080,
         "Emma",
         206,
         "Phone",
         "Pending",
         1871.46,
         3,
         623.82
        ],
        [
         116,
         "2023-01-15",
         1098,
         "Charlie",
         201,
         "Phone",
         "Delivered",
         1540.86,
         2,
         770.43
        ],
        [
         117,
         "2024-10-27",
         1052,
         "Hannah",
         202,
         "Monitor",
         "Pending",
         126.95,
         1,
         126.95
        ],
        [
         118,
         "2025-01-24",
         1096,
         "Frank",
         202,
         "Printer",
         "Shipped",
         617.18,
         2,
         308.59
        ],
        [
         119,
         "2024-12-17",
         1091,
         "Emma",
         205,
         "Headphones",
         "Delivered",
         2859.78,
         3,
         953.26
        ],
        [
         120,
         "2025-03-23",
         1093,
         "David",
         210,
         "Keyboard",
         "Pending",
         1409.16,
         4,
         352.29
        ],
        [
         121,
         "2024-06-19",
         1029,
         "Alice",
         206,
         "Tablet",
         "Shipped",
         4659.95,
         5,
         931.99
        ],
        [
         122,
         "2024-10-21",
         1005,
         "Charlie",
         203,
         "Phone",
         "Pending",
         1202.93,
         1,
         1202.93
        ],
        [
         123,
         "2023-11-15",
         1085,
         "Alice",
         203,
         "Phone",
         "Delivered",
         659.16,
         3,
         219.72
        ],
        [
         124,
         "2024-07-01",
         1007,
         "Bob",
         203,
         "Mouse",
         "Shipped",
         3043.64,
         2,
         1521.82
        ],
        [
         125,
         "2024-03-13",
         1016,
         "Ian",
         205,
         "Headphones",
         "Pending",
         1545.4,
         5,
         309.08
        ],
        [
         126,
         "2024-06-01",
         1048,
         "David",
         202,
         "Camera",
         "Shipped",
         1992.99,
         3,
         664.33
        ],
        [
         127,
         "2023-04-24",
         1016,
         "Frank",
         210,
         "Mouse",
         "Cancelled",
         1048.4,
         2,
         524.2
        ],
        [
         128,
         "2024-07-20",
         1073,
         "Frank",
         207,
         "Camera",
         "Cancelled",
         1171.12,
         1,
         1171.12
        ],
        [
         129,
         "2024-08-28",
         1062,
         "Ian",
         208,
         "Laptop",
         "Pending",
         2916.9,
         5,
         583.38
        ],
        [
         130,
         "2024-09-11",
         1011,
         "Hannah",
         204,
         "Monitor",
         "Cancelled",
         7178.56,
         4,
         1794.64
        ],
        [
         131,
         "2023-06-17",
         1040,
         "Charlie",
         200,
         "Printer",
         "Cancelled",
         2219.8,
         2,
         1109.9
        ],
        [
         132,
         "2024-03-06",
         1028,
         "Ian",
         204,
         "Camera",
         "Cancelled",
         2892.96,
         3,
         964.32
        ],
        [
         133,
         "2024-08-06",
         1083,
         "Ian",
         209,
         "Keyboard",
         "Pending",
         1133.79,
         1,
         1133.79
        ],
        [
         134,
         "2023-11-18",
         1016,
         "Frank",
         209,
         "Headphones",
         "Delivered",
         486.92,
         4,
         121.73
        ],
        [
         135,
         "2023-12-26",
         1030,
         "Charlie",
         200,
         "Printer",
         "Pending",
         949.45,
         5,
         189.89
        ],
        [
         136,
         "2025-05-12",
         1003,
         "Bob",
         204,
         "Laptop",
         "Delivered",
         3672.24,
         4,
         918.06
        ],
        [
         137,
         "2023-08-30",
         1009,
         "Grace",
         200,
         "Mouse",
         "Pending",
         3469.45,
         5,
         693.89
        ],
        [
         138,
         "2025-07-23",
         1054,
         "Ian",
         207,
         "Phone",
         "Pending",
         671.94,
         1,
         671.94
        ],
        [
         139,
         "2025-01-19",
         1098,
         "Bob",
         205,
         "Printer",
         "Shipped",
         7556.85,
         5,
         1511.37
        ],
        [
         140,
         "2024-01-28",
         1026,
         "Charlie",
         202,
         "Camera",
         "Shipped",
         3123.1,
         2,
         1561.55
        ],
        [
         141,
         "2024-05-30",
         1049,
         "Ian",
         205,
         "Mouse",
         "Delivered",
         1385.5,
         2,
         692.75
        ],
        [
         142,
         "2024-11-16",
         1008,
         "Alice",
         200,
         "Camera",
         "Cancelled",
         4634.1,
         5,
         926.82
        ],
        [
         143,
         "2023-09-02",
         1072,
         "David",
         203,
         "Laptop",
         "Delivered",
         3027.05,
         5,
         605.41
        ],
        [
         144,
         "2025-01-19",
         1013,
         "Ian",
         210,
         "Tablet",
         "Cancelled",
         386.96,
         1,
         386.96
        ],
        [
         145,
         "2024-07-18",
         1075,
         "Charlie",
         204,
         "Phone",
         "Cancelled",
         6336.35,
         5,
         1267.27
        ],
        [
         146,
         "2024-12-20",
         1058,
         "Ian",
         207,
         "Speaker",
         "Delivered",
         416.51,
         1,
         416.51
        ],
        [
         147,
         "2023-02-05",
         1096,
         "Frank",
         204,
         "Speaker",
         "Shipped",
         1729.8,
         2,
         864.9
        ],
        [
         148,
         "2023-11-23",
         1020,
         "Frank",
         204,
         "Monitor",
         "Shipped",
         2065,
         2,
         1032.5
        ],
        [
         149,
         "2023-08-26",
         1015,
         "Frank",
         206,
         "Tablet",
         "Cancelled",
         777.85,
         1,
         777.85
        ],
        [
         150,
         "2024-03-08",
         1064,
         "Charlie",
         206,
         "Printer",
         "Cancelled",
         6189.32,
         4,
         1547.33
        ],
        [
         151,
         "2024-12-24",
         1045,
         "Ian",
         203,
         "Laptop",
         "Pending",
         3726.12,
         3,
         1242.04
        ],
        [
         152,
         "2023-01-30",
         1065,
         "Julia",
         208,
         "Laptop",
         "Cancelled",
         7864.3,
         5,
         1572.86
        ],
        [
         153,
         "2023-01-20",
         1068,
         "Julia",
         208,
         "Headphones",
         "Delivered",
         4797.64,
         4,
         1199.41
        ],
        [
         154,
         "2025-08-05",
         1016,
         "Alice",
         209,
         "Headphones",
         "Shipped",
         2544.08,
         2,
         1272.04
        ],
        [
         155,
         "2024-07-20",
         1040,
         "David",
         209,
         "Mouse",
         "Pending",
         5971.89,
         3,
         1990.63
        ],
        [
         156,
         "2023-11-08",
         1088,
         "Ian",
         202,
         "Headphones",
         "Pending",
         6045.08,
         4,
         1511.27
        ],
        [
         157,
         "2024-06-24",
         1070,
         "Bob",
         204,
         "Tablet",
         "Shipped",
         4275.52,
         4,
         1068.88
        ],
        [
         158,
         "2024-06-16",
         1037,
         "Emma",
         208,
         "Headphones",
         "Delivered",
         3672.22,
         2,
         1836.11
        ],
        [
         159,
         "2023-01-28",
         1014,
         "Alice",
         201,
         "Printer",
         "Delivered",
         1673.34,
         2,
         836.67
        ],
        [
         160,
         "2023-02-20",
         1033,
         "Charlie",
         207,
         "Phone",
         "Shipped",
         2073.7,
         2,
         1036.85
        ],
        [
         161,
         "2023-10-24",
         1053,
         "Emma",
         208,
         "Laptop",
         "Delivered",
         843.32,
         4,
         210.83
        ],
        [
         162,
         "2024-11-04",
         1096,
         "Emma",
         203,
         "Mouse",
         "Delivered",
         5340.75,
         5,
         1068.15
        ],
        [
         163,
         "2023-12-29",
         1007,
         "Charlie",
         208,
         "Printer",
         "Delivered",
         5695.2,
         3,
         1898.4
        ],
        [
         164,
         "2025-02-04",
         1027,
         "Alice",
         207,
         "Headphones",
         "Cancelled",
         2764.95,
         3,
         921.65
        ],
        [
         165,
         "2023-05-19",
         1097,
         "Ian",
         208,
         "Speaker",
         "Cancelled",
         2692.2,
         2,
         1346.1
        ],
        [
         166,
         "2024-03-30",
         1015,
         "Hannah",
         201,
         "Laptop",
         "Shipped",
         1238.16,
         4,
         309.54
        ],
        [
         167,
         "2025-03-20",
         1039,
         "Grace",
         201,
         "Printer",
         "Shipped",
         949.6,
         2,
         474.8
        ],
        [
         168,
         "2024-06-03",
         1021,
         "Emma",
         210,
         "Tablet",
         "Cancelled",
         4289.4,
         3,
         1429.8
        ],
        [
         169,
         "2025-05-01",
         1091,
         "Frank",
         202,
         "Mouse",
         "Shipped",
         2677.7,
         2,
         1338.85
        ],
        [
         170,
         "2023-11-18",
         1013,
         "Grace",
         206,
         "Mouse",
         "Delivered",
         3139.7,
         2,
         1569.85
        ],
        [
         171,
         "2023-07-31",
         1053,
         "David",
         203,
         "Camera",
         "Cancelled",
         1384.65,
         5,
         276.93
        ],
        [
         172,
         "2024-10-22",
         1098,
         "Charlie",
         210,
         "Headphones",
         "Delivered",
         2747.37,
         3,
         915.79
        ],
        [
         173,
         "2024-07-30",
         1041,
         "Grace",
         201,
         "Headphones",
         "Cancelled",
         2974.86,
         3,
         991.62
        ],
        [
         174,
         "2023-02-12",
         1072,
         "David",
         200,
         "Phone",
         "Shipped",
         1264.28,
         2,
         632.14
        ],
        [
         175,
         "2024-09-17",
         1063,
         "Alice",
         202,
         "Mouse",
         "Delivered",
         1073.78,
         2,
         536.89
        ],
        [
         176,
         "2023-06-25",
         1031,
         "Julia",
         205,
         "Printer",
         "Shipped",
         728.48,
         1,
         728.48
        ],
        [
         177,
         "2024-04-19",
         1047,
         "Emma",
         201,
         "Printer",
         "Delivered",
         5170.47,
         3,
         1723.49
        ],
        [
         178,
         "2025-04-09",
         1034,
         "Alice",
         201,
         "Printer",
         "Delivered",
         9353.3,
         5,
         1870.66
        ],
        [
         179,
         "2023-03-07",
         1024,
         "Alice",
         206,
         "Phone",
         "Pending",
         3865.1,
         2,
         1932.55
        ],
        [
         180,
         "2024-09-09",
         1058,
         "Bob",
         206,
         "Laptop",
         "Delivered",
         4136.19,
         3,
         1378.73
        ],
        [
         181,
         "2024-01-19",
         1052,
         "Hannah",
         200,
         "Monitor",
         "Shipped",
         3405.4,
         4,
         851.35
        ],
        [
         182,
         "2024-12-20",
         1044,
         "Charlie",
         208,
         "Phone",
         "Delivered",
         817.06,
         1,
         817.06
        ],
        [
         183,
         "2024-12-29",
         1090,
         "Frank",
         200,
         "Tablet",
         "Delivered",
         658.68,
         2,
         329.34
        ],
        [
         184,
         "2024-03-06",
         1031,
         "Julia",
         202,
         "Headphones",
         "Cancelled",
         958.68,
         4,
         239.67
        ],
        [
         185,
         "2024-05-02",
         1006,
         "Bob",
         200,
         "Keyboard",
         "Pending",
         4838.6,
         4,
         1209.65
        ],
        [
         186,
         "2024-01-13",
         1058,
         "Emma",
         201,
         "Printer",
         "Cancelled",
         865.84,
         4,
         216.46
        ],
        [
         187,
         "2024-11-06",
         1083,
         "David",
         204,
         "Monitor",
         "Pending",
         8838.5,
         5,
         1767.7
        ],
        [
         188,
         "2025-04-13",
         1020,
         "Julia",
         210,
         "Speaker",
         "Cancelled",
         9663.45,
         5,
         1932.69
        ],
        [
         189,
         "2024-11-19",
         1011,
         "Emma",
         203,
         "Camera",
         "Cancelled",
         7854.84,
         4,
         1963.71
        ],
        [
         190,
         "2025-01-08",
         1072,
         "Ian",
         205,
         "Headphones",
         "Pending",
         1716.56,
         1,
         1716.56
        ],
        [
         191,
         "2023-12-21",
         1001,
         "Emma",
         201,
         "Headphones",
         "Cancelled",
         255.99,
         3,
         85.33
        ],
        [
         192,
         "2025-02-28",
         1082,
         "Alice",
         204,
         "Phone",
         "Delivered",
         3970.4,
         5,
         794.08
        ],
        [
         193,
         "2024-01-25",
         1091,
         "Emma",
         206,
         "Printer",
         "Cancelled",
         3038.61,
         3,
         1012.87
        ],
        [
         194,
         "2025-01-03",
         1046,
         "David",
         205,
         "Tablet",
         "Pending",
         2185.86,
         3,
         728.62
        ],
        [
         195,
         "2024-06-19",
         1003,
         "Charlie",
         206,
         "Mouse",
         "Delivered",
         2282.36,
         2,
         1141.18
        ],
        [
         196,
         "2023-01-18",
         1031,
         "Charlie",
         210,
         "Keyboard",
         "Cancelled",
         4734.75,
         3,
         1578.25
        ],
        [
         197,
         "2023-09-10",
         1063,
         "Ian",
         207,
         "Monitor",
         "Delivered",
         1019.43,
         3,
         339.81
        ],
        [
         198,
         "2023-11-12",
         1052,
         "David",
         209,
         "Phone",
         "Shipped",
         3758.61,
         3,
         1252.87
        ],
        [
         199,
         "2023-06-05",
         1002,
         "Emma",
         209,
         "Keyboard",
         "Pending",
         2705.25,
         5,
         541.05
        ],
        [
         200,
         "2025-06-19",
         1009,
         "Alice",
         206,
         "Speaker",
         "Shipped",
         2148.78,
         2,
         1074.39
        ]
       ],
       "datasetInfos": [
        {
         "name": "_sqldf",
         "schema": {
          "fields": [
           {
            "metadata": {},
            "name": "order_id",
            "nullable": true,
            "type": "integer"
           },
           {
            "metadata": {},
            "name": "order_date",
            "nullable": true,
            "type": "date"
           },
           {
            "metadata": {},
            "name": "order_customer_id",
            "nullable": true,
            "type": "integer"
           },
           {
            "metadata": {},
            "name": "customer_name",
            "nullable": true,
            "type": "string"
           },
           {
            "metadata": {},
            "name": "product_id",
            "nullable": true,
            "type": "integer"
           },
           {
            "metadata": {},
            "name": "product_name",
            "nullable": true,
            "type": "string"
           },
           {
            "metadata": {},
            "name": "order_status",
            "nullable": true,
            "type": "string"
           },
           {
            "metadata": {},
            "name": "order_total",
            "nullable": true,
            "type": "float"
           },
           {
            "metadata": {},
            "name": "quantity",
            "nullable": true,
            "type": "integer"
           },
           {
            "metadata": {},
            "name": "price",
            "nullable": true,
            "type": "float"
           }
          ],
          "type": "struct"
         },
         "tableIdentifier": null,
         "typeStr": "pyspark.sql.dataframe.DataFrame"
        }
       ],
       "dbfsResultPath": null,
       "isJsonSchema": true,
       "metadata": {
        "createTempViewForImplicitDf": true,
        "dataframeName": "_sqldf",
        "executionCount": 21
       },
       "overflow": false,
       "plotOptions": {
        "customPlotOptions": {},
        "displayType": "table",
        "pivotAggregation": null,
        "pivotColumns": null,
        "xColumns": null,
        "yColumns": null
       },
       "removedWidgets": [],
       "schema": [
        {
         "metadata": "{}",
         "name": "order_id",
         "type": "\"integer\""
        },
        {
         "metadata": "{}",
         "name": "order_date",
         "type": "\"date\""
        },
        {
         "metadata": "{}",
         "name": "order_customer_id",
         "type": "\"integer\""
        },
        {
         "metadata": "{}",
         "name": "customer_name",
         "type": "\"string\""
        },
        {
         "metadata": "{}",
         "name": "product_id",
         "type": "\"integer\""
        },
        {
         "metadata": "{}",
         "name": "product_name",
         "type": "\"string\""
        },
        {
         "metadata": "{}",
         "name": "order_status",
         "type": "\"string\""
        },
        {
         "metadata": "{}",
         "name": "order_total",
         "type": "\"float\""
        },
        {
         "metadata": "{}",
         "name": "quantity",
         "type": "\"integer\""
        },
        {
         "metadata": "{}",
         "name": "price",
         "type": "\"float\""
        }
       ],
       "type": "table"
      }
     },
     "output_type": "display_data"
    }
   ],
   "source": [
    "%sql\n",
    "select * from salesdwh.stg_sales"
   ]
  },
  {
   "cell_type": "markdown",
   "metadata": {
    "application/vnd.databricks.v1+cell": {
     "cellMetadata": {
      "byteLimit": 2048000,
      "rowLimit": 10000
     },
     "inputWidgets": {},
     "nuid": "eb7d77e4-67c0-43a3-a820-c315d563d2ff",
     "showTitle": false,
     "tableResultSettingsMap": {},
     "title": ""
    }
   },
   "source": [
    "# Transformation"
   ]
  },
  {
   "cell_type": "code",
   "execution_count": 0,
   "metadata": {
    "application/vnd.databricks.v1+cell": {
     "cellMetadata": {
      "byteLimit": 2048000,
      "rowLimit": 10000
     },
     "inputWidgets": {},
     "nuid": "8fb5d2a9-62ca-4c7b-a084-63fa981ff9aa",
     "showTitle": false,
     "tableResultSettingsMap": {},
     "title": ""
    }
   },
   "outputs": [
    {
     "data": {
      "text/html": [
       "<style scoped>\n",
       "  .table-result-container {\n",
       "    max-height: 300px;\n",
       "    overflow: auto;\n",
       "  }\n",
       "  table, th, td {\n",
       "    border: 1px solid black;\n",
       "    border-collapse: collapse;\n",
       "  }\n",
       "  th, td {\n",
       "    padding: 5px;\n",
       "  }\n",
       "  th {\n",
       "    text-align: left;\n",
       "  }\n",
       "</style><div class='table-result-container'><table class='table-result'><thead style='background-color: white'><tr><th>order_id</th><th>order_date</th><th>order_customer_id</th><th>customer_name</th><th>product_id</th><th>product_name</th><th>order_status</th><th>order_total</th><th>quantity</th><th>price</th></tr></thead><tbody><tr><td>1</td><td>2024-02-08</td><td>1005</td><td>David</td><td>206</td><td>Mouse</td><td>Pending</td><td>784.7</td><td>1</td><td>784.7</td></tr><tr><td>2</td><td>2023-02-07</td><td>1053</td><td>Frank</td><td>205</td><td>Laptop</td><td>Cancelled</td><td>4110.39</td><td>3</td><td>1370.13</td></tr><tr><td>3</td><td>2023-01-04</td><td>1071</td><td>Julia</td><td>203</td><td>Speaker</td><td>Delivered</td><td>1417.83</td><td>3</td><td>472.61</td></tr><tr><td>4</td><td>2023-11-16</td><td>1072</td><td>Bob</td><td>209</td><td>Laptop</td><td>Cancelled</td><td>4598.55</td><td>3</td><td>1532.85</td></tr><tr><td>5</td><td>2024-12-04</td><td>1017</td><td>Julia</td><td>208</td><td>Printer</td><td>Shipped</td><td>1130.3</td><td>5</td><td>226.06</td></tr><tr><td>6</td><td>2025-01-13</td><td>1042</td><td>Frank</td><td>210</td><td>Mouse</td><td>Pending</td><td>694.68</td><td>3</td><td>231.56</td></tr><tr><td>7</td><td>2023-09-04</td><td>1069</td><td>Alice</td><td>202</td><td>Keyboard</td><td>Delivered</td><td>1064.24</td><td>4</td><td>266.06</td></tr><tr><td>8</td><td>2024-05-10</td><td>1048</td><td>Frank</td><td>210</td><td>Printer</td><td>Pending</td><td>4643.88</td><td>4</td><td>1160.97</td></tr><tr><td>9</td><td>2023-06-03</td><td>1020</td><td>David</td><td>209</td><td>Phone</td><td>Delivered</td><td>2621.44</td><td>4</td><td>655.36</td></tr><tr><td>10</td><td>2025-04-14</td><td>1064</td><td>Charlie</td><td>204</td><td>Headphones</td><td>Pending</td><td>2493.86</td><td>2</td><td>1246.93</td></tr><tr><td>11</td><td>2023-11-14</td><td>1084</td><td>Hannah</td><td>206</td><td>Keyboard</td><td>Shipped</td><td>2876.92</td><td>2</td><td>1438.46</td></tr><tr><td>12</td><td>2023-07-13</td><td>1019</td><td>Grace</td><td>203</td><td>Laptop</td><td>Delivered</td><td>1309.84</td><td>4</td><td>327.46</td></tr><tr><td>13</td><td>2024-06-06</td><td>1034</td><td>Julia</td><td>210</td><td>Tablet</td><td>Delivered</td><td>3401.4</td><td>4</td><td>850.35</td></tr><tr><td>14</td><td>2023-07-11</td><td>1057</td><td>Alice</td><td>206</td><td>Speaker</td><td>Shipped</td><td>1619.4</td><td>4</td><td>404.85</td></tr><tr><td>15</td><td>2024-07-03</td><td>1040</td><td>David</td><td>210</td><td>Keyboard</td><td>Delivered</td><td>1603.18</td><td>1</td><td>1603.18</td></tr><tr><td>16</td><td>2023-12-31</td><td>1097</td><td>Grace</td><td>206</td><td>Phone</td><td>Cancelled</td><td>5475.69</td><td>3</td><td>1825.23</td></tr><tr><td>17</td><td>2024-04-16</td><td>1001</td><td>Emma</td><td>201</td><td>Phone</td><td>Shipped</td><td>2371.02</td><td>2</td><td>1185.51</td></tr><tr><td>18</td><td>2024-08-21</td><td>1098</td><td>Frank</td><td>201</td><td>Headphones</td><td>Shipped</td><td>1188.15</td><td>5</td><td>237.63</td></tr><tr><td>19</td><td>2023-01-28</td><td>1095</td><td>Grace</td><td>210</td><td>Phone</td><td>Shipped</td><td>2202.15</td><td>3</td><td>734.05</td></tr><tr><td>20</td><td>2025-06-05</td><td>1037</td><td>Ian</td><td>206</td><td>Tablet</td><td>Pending</td><td>8951.15</td><td>5</td><td>1790.23</td></tr><tr><td>21</td><td>2024-09-21</td><td>1029</td><td>Frank</td><td>209</td><td>Keyboard</td><td>Shipped</td><td>156.46</td><td>2</td><td>78.23</td></tr><tr><td>22</td><td>2025-02-19</td><td>1099</td><td>Charlie</td><td>210</td><td>Speaker</td><td>Pending</td><td>597.03</td><td>3</td><td>199.01</td></tr><tr><td>23</td><td>2024-09-16</td><td>1033</td><td>Ian</td><td>203</td><td>Mouse</td><td>Delivered</td><td>4186.28</td><td>4</td><td>1046.57</td></tr><tr><td>24</td><td>2025-08-24</td><td>1005</td><td>Charlie</td><td>209</td><td>Camera</td><td>Pending</td><td>2475.78</td><td>2</td><td>1237.89</td></tr><tr><td>25</td><td>2023-05-27</td><td>1096</td><td>Emma</td><td>208</td><td>Headphones</td><td>Delivered</td><td>6953.2</td><td>4</td><td>1738.3</td></tr><tr><td>26</td><td>2024-11-20</td><td>1041</td><td>Grace</td><td>202</td><td>Phone</td><td>Cancelled</td><td>3309.2</td><td>4</td><td>827.3</td></tr><tr><td>27</td><td>2025-05-10</td><td>1051</td><td>Emma</td><td>203</td><td>Tablet</td><td>Pending</td><td>3456.74</td><td>2</td><td>1728.37</td></tr><tr><td>28</td><td>2023-12-22</td><td>1060</td><td>Grace</td><td>209</td><td>Camera</td><td>Pending</td><td>1647.46</td><td>1</td><td>1647.46</td></tr><tr><td>29</td><td>2024-05-19</td><td>1057</td><td>Julia</td><td>203</td><td>Headphones</td><td>Cancelled</td><td>5647.15</td><td>5</td><td>1129.43</td></tr><tr><td>30</td><td>2023-03-04</td><td>1057</td><td>Frank</td><td>206</td><td>Mouse</td><td>Cancelled</td><td>4205.68</td><td>4</td><td>1051.42</td></tr><tr><td>31</td><td>2024-05-23</td><td>1008</td><td>Hannah</td><td>208</td><td>Mouse</td><td>Delivered</td><td>571.13</td><td>1</td><td>571.13</td></tr><tr><td>32</td><td>2023-04-13</td><td>1057</td><td>Ian</td><td>206</td><td>Mouse</td><td>Pending</td><td>564.36</td><td>3</td><td>188.12</td></tr><tr><td>33</td><td>2023-05-03</td><td>1010</td><td>Grace</td><td>202</td><td>Printer</td><td>Shipped</td><td>1975.34</td><td>1</td><td>1975.34</td></tr><tr><td>34</td><td>2024-10-19</td><td>1001</td><td>Alice</td><td>203</td><td>Headphones</td><td>Pending</td><td>1038.72</td><td>4</td><td>259.68</td></tr><tr><td>35</td><td>2023-08-11</td><td>1090</td><td>David</td><td>204</td><td>Monitor</td><td>Pending</td><td>3968.02</td><td>2</td><td>1984.01</td></tr><tr><td>36</td><td>2023-07-17</td><td>1024</td><td>Julia</td><td>201</td><td>Tablet</td><td>Pending</td><td>1642.8</td><td>5</td><td>328.56</td></tr><tr><td>37</td><td>2025-03-28</td><td>1082</td><td>Frank</td><td>200</td><td>Mouse</td><td>Delivered</td><td>4367.04</td><td>4</td><td>1091.76</td></tr><tr><td>38</td><td>2023-09-07</td><td>1051</td><td>Frank</td><td>200</td><td>Keyboard</td><td>Shipped</td><td>5083.32</td><td>4</td><td>1270.83</td></tr><tr><td>39</td><td>2025-08-16</td><td>1100</td><td>Julia</td><td>201</td><td>Speaker</td><td>Pending</td><td>140.28</td><td>2</td><td>70.14</td></tr><tr><td>40</td><td>2025-09-01</td><td>1078</td><td>Ian</td><td>206</td><td>Keyboard</td><td>Shipped</td><td>4646.0</td><td>4</td><td>1161.5</td></tr><tr><td>41</td><td>2024-04-28</td><td>1015</td><td>Hannah</td><td>208</td><td>Camera</td><td>Cancelled</td><td>1294.78</td><td>2</td><td>647.39</td></tr><tr><td>42</td><td>2025-01-11</td><td>1088</td><td>David</td><td>201</td><td>Headphones</td><td>Shipped</td><td>2270.04</td><td>2</td><td>1135.02</td></tr><tr><td>43</td><td>2024-03-23</td><td>1017</td><td>Emma</td><td>209</td><td>Headphones</td><td>Cancelled</td><td>1220.85</td><td>5</td><td>244.17</td></tr><tr><td>44</td><td>2025-02-19</td><td>1062</td><td>Ian</td><td>210</td><td>Keyboard</td><td>Pending</td><td>3927.64</td><td>4</td><td>981.91</td></tr><tr><td>45</td><td>2025-03-15</td><td>1064</td><td>David</td><td>200</td><td>Tablet</td><td>Delivered</td><td>1282.68</td><td>2</td><td>641.34</td></tr><tr><td>46</td><td>2024-11-08</td><td>1019</td><td>Hannah</td><td>209</td><td>Camera</td><td>Shipped</td><td>2389.98</td><td>2</td><td>1194.99</td></tr><tr><td>47</td><td>2025-02-03</td><td>1046</td><td>Alice</td><td>205</td><td>Headphones</td><td>Cancelled</td><td>3762.35</td><td>5</td><td>752.47</td></tr><tr><td>48</td><td>2024-01-06</td><td>1082</td><td>Grace</td><td>207</td><td>Keyboard</td><td>Shipped</td><td>2053.78</td><td>2</td><td>1026.89</td></tr><tr><td>49</td><td>2025-05-22</td><td>1027</td><td>Julia</td><td>205</td><td>Tablet</td><td>Pending</td><td>1929.3</td><td>3</td><td>643.1</td></tr><tr><td>50</td><td>2023-04-22</td><td>1003</td><td>Hannah</td><td>208</td><td>Laptop</td><td>Pending</td><td>283.11</td><td>3</td><td>94.37</td></tr><tr><td>51</td><td>2023-03-30</td><td>1029</td><td>Emma</td><td>203</td><td>Printer</td><td>Shipped</td><td>1423.91</td><td>1</td><td>1423.91</td></tr><tr><td>52</td><td>2024-07-11</td><td>1049</td><td>Bob</td><td>209</td><td>Phone</td><td>Shipped</td><td>6331.7</td><td>5</td><td>1266.34</td></tr><tr><td>53</td><td>2023-12-08</td><td>1048</td><td>Bob</td><td>203</td><td>Camera</td><td>Delivered</td><td>3664.5</td><td>5</td><td>732.9</td></tr><tr><td>54</td><td>2023-07-05</td><td>1040</td><td>Bob</td><td>205</td><td>Laptop</td><td>Delivered</td><td>532.23</td><td>1</td><td>532.23</td></tr><tr><td>55</td><td>2023-07-01</td><td>1024</td><td>David</td><td>204</td><td>Printer</td><td>Cancelled</td><td>5673.18</td><td>3</td><td>1891.06</td></tr><tr><td>56</td><td>2025-03-28</td><td>1091</td><td>Ian</td><td>209</td><td>Laptop</td><td>Shipped</td><td>3500.4</td><td>2</td><td>1750.2</td></tr><tr><td>57</td><td>2023-04-11</td><td>1075</td><td>Frank</td><td>209</td><td>Tablet</td><td>Pending</td><td>3723.51</td><td>3</td><td>1241.17</td></tr><tr><td>58</td><td>2025-08-18</td><td>1035</td><td>Grace</td><td>200</td><td>Tablet</td><td>Shipped</td><td>5619.56</td><td>4</td><td>1404.89</td></tr><tr><td>59</td><td>2023-01-24</td><td>1086</td><td>Emma</td><td>202</td><td>Monitor</td><td>Cancelled</td><td>2898.93</td><td>3</td><td>966.31</td></tr><tr><td>60</td><td>2024-09-04</td><td>1080</td><td>Julia</td><td>201</td><td>Camera</td><td>Delivered</td><td>1808.1</td><td>1</td><td>1808.1</td></tr><tr><td>61</td><td>2025-07-24</td><td>1028</td><td>Frank</td><td>208</td><td>Laptop</td><td>Delivered</td><td>779.04</td><td>3</td><td>259.68</td></tr><tr><td>62</td><td>2024-11-19</td><td>1057</td><td>David</td><td>206</td><td>Tablet</td><td>Pending</td><td>3116.97</td><td>3</td><td>1038.99</td></tr><tr><td>63</td><td>2025-01-15</td><td>1077</td><td>Frank</td><td>203</td><td>Speaker</td><td>Shipped</td><td>850.7</td><td>5</td><td>170.14</td></tr><tr><td>64</td><td>2023-11-12</td><td>1062</td><td>Julia</td><td>209</td><td>Keyboard</td><td>Shipped</td><td>3883.12</td><td>4</td><td>970.78</td></tr><tr><td>65</td><td>2024-08-08</td><td>1014</td><td>Frank</td><td>202</td><td>Keyboard</td><td>Shipped</td><td>438.51</td><td>1</td><td>438.51</td></tr><tr><td>66</td><td>2023-01-15</td><td>1051</td><td>Frank</td><td>206</td><td>Mouse</td><td>Pending</td><td>5550.1</td><td>5</td><td>1110.02</td></tr><tr><td>67</td><td>2023-08-23</td><td>1005</td><td>Julia</td><td>204</td><td>Camera</td><td>Delivered</td><td>1162.32</td><td>3</td><td>387.44</td></tr><tr><td>68</td><td>2024-10-20</td><td>1072</td><td>Julia</td><td>209</td><td>Printer</td><td>Cancelled</td><td>4186.44</td><td>3</td><td>1395.48</td></tr><tr><td>69</td><td>2023-10-23</td><td>1052</td><td>Charlie</td><td>209</td><td>Camera</td><td>Cancelled</td><td>1581.35</td><td>1</td><td>1581.35</td></tr><tr><td>70</td><td>2024-07-29</td><td>1020</td><td>Julia</td><td>206</td><td>Laptop</td><td>Delivered</td><td>7480.72</td><td>4</td><td>1870.18</td></tr><tr><td>71</td><td>2024-08-23</td><td>1022</td><td>Bob</td><td>210</td><td>Mouse</td><td>Delivered</td><td>6939.9</td><td>5</td><td>1387.98</td></tr><tr><td>72</td><td>2024-10-29</td><td>1078</td><td>Alice</td><td>207</td><td>Mouse</td><td>Cancelled</td><td>496.38</td><td>3</td><td>165.46</td></tr><tr><td>73</td><td>2023-01-21</td><td>1060</td><td>Frank</td><td>205</td><td>Mouse</td><td>Cancelled</td><td>6855.8</td><td>4</td><td>1713.95</td></tr><tr><td>74</td><td>2024-11-24</td><td>1018</td><td>Charlie</td><td>206</td><td>Speaker</td><td>Cancelled</td><td>1173.83</td><td>1</td><td>1173.83</td></tr><tr><td>75</td><td>2023-06-14</td><td>1024</td><td>Alice</td><td>200</td><td>Tablet</td><td>Pending</td><td>1631.69</td><td>1</td><td>1631.69</td></tr><tr><td>76</td><td>2024-11-20</td><td>1015</td><td>Alice</td><td>209</td><td>Laptop</td><td>Cancelled</td><td>1682.22</td><td>3</td><td>560.74</td></tr><tr><td>77</td><td>2025-01-23</td><td>1067</td><td>Bob</td><td>203</td><td>Tablet</td><td>Pending</td><td>608.56</td><td>4</td><td>152.14</td></tr><tr><td>78</td><td>2023-02-25</td><td>1050</td><td>Emma</td><td>206</td><td>Phone</td><td>Delivered</td><td>1244.93</td><td>1</td><td>1244.93</td></tr><tr><td>79</td><td>2024-04-15</td><td>1075</td><td>Frank</td><td>206</td><td>Printer</td><td>Shipped</td><td>1604.21</td><td>1</td><td>1604.21</td></tr><tr><td>80</td><td>2023-12-15</td><td>1006</td><td>Ian</td><td>200</td><td>Laptop</td><td>Cancelled</td><td>3468.46</td><td>2</td><td>1734.23</td></tr><tr><td>81</td><td>2024-05-09</td><td>1042</td><td>Bob</td><td>206</td><td>Headphones</td><td>Cancelled</td><td>3632.95</td><td>5</td><td>726.59</td></tr><tr><td>82</td><td>2025-05-05</td><td>1005</td><td>Julia</td><td>203</td><td>Headphones</td><td>Pending</td><td>6766.55</td><td>5</td><td>1353.31</td></tr><tr><td>83</td><td>2025-01-05</td><td>1046</td><td>Emma</td><td>207</td><td>Keyboard</td><td>Shipped</td><td>100.46</td><td>1</td><td>100.46</td></tr><tr><td>84</td><td>2024-02-29</td><td>1025</td><td>Charlie</td><td>204</td><td>Mouse</td><td>Cancelled</td><td>1690.33</td><td>1</td><td>1690.33</td></tr><tr><td>85</td><td>2025-01-07</td><td>1053</td><td>Ian</td><td>206</td><td>Printer</td><td>Cancelled</td><td>4824.12</td><td>4</td><td>1206.03</td></tr><tr><td>86</td><td>2025-01-20</td><td>1006</td><td>David</td><td>206</td><td>Headphones</td><td>Shipped</td><td>665.52</td><td>1</td><td>665.52</td></tr><tr><td>87</td><td>2025-06-06</td><td>1035</td><td>Bob</td><td>202</td><td>Keyboard</td><td>Delivered</td><td>5516.37</td><td>3</td><td>1838.79</td></tr><tr><td>88</td><td>2025-08-13</td><td>1032</td><td>Ian</td><td>208</td><td>Phone</td><td>Shipped</td><td>8959.1</td><td>5</td><td>1791.82</td></tr><tr><td>89</td><td>2024-06-21</td><td>1093</td><td>Frank</td><td>209</td><td>Monitor</td><td>Shipped</td><td>3896.68</td><td>2</td><td>1948.34</td></tr><tr><td>90</td><td>2024-09-05</td><td>1032</td><td>Frank</td><td>210</td><td>Mouse</td><td>Shipped</td><td>312.54</td><td>2</td><td>156.27</td></tr><tr><td>91</td><td>2024-08-26</td><td>1059</td><td>Charlie</td><td>207</td><td>Speaker</td><td>Cancelled</td><td>7534.32</td><td>4</td><td>1883.58</td></tr><tr><td>92</td><td>2024-03-27</td><td>1028</td><td>Hannah</td><td>203</td><td>Camera</td><td>Delivered</td><td>1747.68</td><td>4</td><td>436.92</td></tr><tr><td>93</td><td>2025-03-01</td><td>1003</td><td>Julia</td><td>206</td><td>Camera</td><td>Pending</td><td>7972.75</td><td>5</td><td>1594.55</td></tr><tr><td>94</td><td>2023-02-27</td><td>1050</td><td>Ian</td><td>200</td><td>Phone</td><td>Shipped</td><td>902.96</td><td>2</td><td>451.48</td></tr><tr><td>95</td><td>2023-06-09</td><td>1026</td><td>Charlie</td><td>209</td><td>Mouse</td><td>Cancelled</td><td>2913.69</td><td>3</td><td>971.23</td></tr><tr><td>96</td><td>2025-03-25</td><td>1042</td><td>Hannah</td><td>207</td><td>Speaker</td><td>Shipped</td><td>7005.4</td><td>5</td><td>1401.08</td></tr><tr><td>97</td><td>2023-01-22</td><td>1097</td><td>Julia</td><td>208</td><td>Tablet</td><td>Cancelled</td><td>3607.04</td><td>2</td><td>1803.52</td></tr><tr><td>98</td><td>2024-04-04</td><td>1035</td><td>Charlie</td><td>201</td><td>Monitor</td><td>Cancelled</td><td>1694.8</td><td>5</td><td>338.96</td></tr><tr><td>99</td><td>2023-07-26</td><td>1046</td><td>Emma</td><td>208</td><td>Headphones</td><td>Shipped</td><td>2246.08</td><td>4</td><td>561.52</td></tr><tr><td>100</td><td>2025-07-04</td><td>1059</td><td>Ian</td><td>207</td><td>Keyboard</td><td>Cancelled</td><td>580.53</td><td>3</td><td>193.51</td></tr><tr><td>101</td><td>2023-02-19</td><td>1028</td><td>Hannah</td><td>204</td><td>Keyboard</td><td>Cancelled</td><td>3656.22</td><td>3</td><td>1218.74</td></tr><tr><td>102</td><td>2023-09-09</td><td>1087</td><td>Emma</td><td>207</td><td>Speaker</td><td>Shipped</td><td>1666.44</td><td>1</td><td>1666.44</td></tr><tr><td>103</td><td>2023-02-26</td><td>1071</td><td>Hannah</td><td>204</td><td>Headphones</td><td>Delivered</td><td>5112.15</td><td>5</td><td>1022.43</td></tr><tr><td>104</td><td>2023-06-17</td><td>1005</td><td>Charlie</td><td>201</td><td>Tablet</td><td>Shipped</td><td>1641.09</td><td>3</td><td>547.03</td></tr><tr><td>105</td><td>2024-06-29</td><td>1087</td><td>David</td><td>205</td><td>Keyboard</td><td>Cancelled</td><td>2390.7</td><td>5</td><td>478.14</td></tr><tr><td>106</td><td>2024-08-25</td><td>1045</td><td>Charlie</td><td>205</td><td>Tablet</td><td>Shipped</td><td>6086.55</td><td>5</td><td>1217.31</td></tr><tr><td>107</td><td>2023-08-17</td><td>1093</td><td>Julia</td><td>204</td><td>Tablet</td><td>Cancelled</td><td>3708.9</td><td>2</td><td>1854.45</td></tr><tr><td>108</td><td>2024-04-11</td><td>1040</td><td>Ian</td><td>208</td><td>Mouse</td><td>Shipped</td><td>1396.42</td><td>2</td><td>698.21</td></tr><tr><td>109</td><td>2025-04-09</td><td>1092</td><td>Grace</td><td>209</td><td>Camera</td><td>Cancelled</td><td>8648.6</td><td>5</td><td>1729.72</td></tr><tr><td>110</td><td>2025-05-21</td><td>1094</td><td>Alice</td><td>209</td><td>Camera</td><td>Pending</td><td>4210.4</td><td>5</td><td>842.08</td></tr><tr><td>111</td><td>2023-07-21</td><td>1083</td><td>Ian</td><td>205</td><td>Keyboard</td><td>Delivered</td><td>9094.45</td><td>5</td><td>1818.89</td></tr><tr><td>112</td><td>2023-06-15</td><td>1037</td><td>Alice</td><td>206</td><td>Headphones</td><td>Delivered</td><td>2611.5</td><td>2</td><td>1305.75</td></tr><tr><td>113</td><td>2025-08-27</td><td>1095</td><td>Bob</td><td>204</td><td>Speaker</td><td>Shipped</td><td>921.63</td><td>3</td><td>307.21</td></tr><tr><td>114</td><td>2023-07-03</td><td>1081</td><td>Julia</td><td>208</td><td>Camera</td><td>Shipped</td><td>5577.33</td><td>3</td><td>1859.11</td></tr><tr><td>115</td><td>2025-03-15</td><td>1080</td><td>Emma</td><td>206</td><td>Phone</td><td>Pending</td><td>1871.46</td><td>3</td><td>623.82</td></tr><tr><td>116</td><td>2023-01-15</td><td>1098</td><td>Charlie</td><td>201</td><td>Phone</td><td>Delivered</td><td>1540.86</td><td>2</td><td>770.43</td></tr><tr><td>117</td><td>2024-10-27</td><td>1052</td><td>Hannah</td><td>202</td><td>Monitor</td><td>Pending</td><td>126.95</td><td>1</td><td>126.95</td></tr><tr><td>118</td><td>2025-01-24</td><td>1096</td><td>Frank</td><td>202</td><td>Printer</td><td>Shipped</td><td>617.18</td><td>2</td><td>308.59</td></tr><tr><td>119</td><td>2024-12-17</td><td>1091</td><td>Emma</td><td>205</td><td>Headphones</td><td>Delivered</td><td>2859.78</td><td>3</td><td>953.26</td></tr><tr><td>120</td><td>2025-03-23</td><td>1093</td><td>David</td><td>210</td><td>Keyboard</td><td>Pending</td><td>1409.16</td><td>4</td><td>352.29</td></tr><tr><td>121</td><td>2024-06-19</td><td>1029</td><td>Alice</td><td>206</td><td>Tablet</td><td>Shipped</td><td>4659.95</td><td>5</td><td>931.99</td></tr><tr><td>122</td><td>2024-10-21</td><td>1005</td><td>Charlie</td><td>203</td><td>Phone</td><td>Pending</td><td>1202.93</td><td>1</td><td>1202.93</td></tr><tr><td>123</td><td>2023-11-15</td><td>1085</td><td>Alice</td><td>203</td><td>Phone</td><td>Delivered</td><td>659.16</td><td>3</td><td>219.72</td></tr><tr><td>124</td><td>2024-07-01</td><td>1007</td><td>Bob</td><td>203</td><td>Mouse</td><td>Shipped</td><td>3043.64</td><td>2</td><td>1521.82</td></tr><tr><td>125</td><td>2024-03-13</td><td>1016</td><td>Ian</td><td>205</td><td>Headphones</td><td>Pending</td><td>1545.4</td><td>5</td><td>309.08</td></tr><tr><td>126</td><td>2024-06-01</td><td>1048</td><td>David</td><td>202</td><td>Camera</td><td>Shipped</td><td>1992.99</td><td>3</td><td>664.33</td></tr><tr><td>127</td><td>2023-04-24</td><td>1016</td><td>Frank</td><td>210</td><td>Mouse</td><td>Cancelled</td><td>1048.4</td><td>2</td><td>524.2</td></tr><tr><td>128</td><td>2024-07-20</td><td>1073</td><td>Frank</td><td>207</td><td>Camera</td><td>Cancelled</td><td>1171.12</td><td>1</td><td>1171.12</td></tr><tr><td>129</td><td>2024-08-28</td><td>1062</td><td>Ian</td><td>208</td><td>Laptop</td><td>Pending</td><td>2916.9</td><td>5</td><td>583.38</td></tr><tr><td>130</td><td>2024-09-11</td><td>1011</td><td>Hannah</td><td>204</td><td>Monitor</td><td>Cancelled</td><td>7178.56</td><td>4</td><td>1794.64</td></tr><tr><td>131</td><td>2023-06-17</td><td>1040</td><td>Charlie</td><td>200</td><td>Printer</td><td>Cancelled</td><td>2219.8</td><td>2</td><td>1109.9</td></tr><tr><td>132</td><td>2024-03-06</td><td>1028</td><td>Ian</td><td>204</td><td>Camera</td><td>Cancelled</td><td>2892.96</td><td>3</td><td>964.32</td></tr><tr><td>133</td><td>2024-08-06</td><td>1083</td><td>Ian</td><td>209</td><td>Keyboard</td><td>Pending</td><td>1133.79</td><td>1</td><td>1133.79</td></tr><tr><td>134</td><td>2023-11-18</td><td>1016</td><td>Frank</td><td>209</td><td>Headphones</td><td>Delivered</td><td>486.92</td><td>4</td><td>121.73</td></tr><tr><td>135</td><td>2023-12-26</td><td>1030</td><td>Charlie</td><td>200</td><td>Printer</td><td>Pending</td><td>949.45</td><td>5</td><td>189.89</td></tr><tr><td>136</td><td>2025-05-12</td><td>1003</td><td>Bob</td><td>204</td><td>Laptop</td><td>Delivered</td><td>3672.24</td><td>4</td><td>918.06</td></tr><tr><td>137</td><td>2023-08-30</td><td>1009</td><td>Grace</td><td>200</td><td>Mouse</td><td>Pending</td><td>3469.45</td><td>5</td><td>693.89</td></tr><tr><td>138</td><td>2025-07-23</td><td>1054</td><td>Ian</td><td>207</td><td>Phone</td><td>Pending</td><td>671.94</td><td>1</td><td>671.94</td></tr><tr><td>139</td><td>2025-01-19</td><td>1098</td><td>Bob</td><td>205</td><td>Printer</td><td>Shipped</td><td>7556.85</td><td>5</td><td>1511.37</td></tr><tr><td>140</td><td>2024-01-28</td><td>1026</td><td>Charlie</td><td>202</td><td>Camera</td><td>Shipped</td><td>3123.1</td><td>2</td><td>1561.55</td></tr><tr><td>141</td><td>2024-05-30</td><td>1049</td><td>Ian</td><td>205</td><td>Mouse</td><td>Delivered</td><td>1385.5</td><td>2</td><td>692.75</td></tr><tr><td>142</td><td>2024-11-16</td><td>1008</td><td>Alice</td><td>200</td><td>Camera</td><td>Cancelled</td><td>4634.1</td><td>5</td><td>926.82</td></tr><tr><td>143</td><td>2023-09-02</td><td>1072</td><td>David</td><td>203</td><td>Laptop</td><td>Delivered</td><td>3027.05</td><td>5</td><td>605.41</td></tr><tr><td>144</td><td>2025-01-19</td><td>1013</td><td>Ian</td><td>210</td><td>Tablet</td><td>Cancelled</td><td>386.96</td><td>1</td><td>386.96</td></tr><tr><td>145</td><td>2024-07-18</td><td>1075</td><td>Charlie</td><td>204</td><td>Phone</td><td>Cancelled</td><td>6336.35</td><td>5</td><td>1267.27</td></tr><tr><td>146</td><td>2024-12-20</td><td>1058</td><td>Ian</td><td>207</td><td>Speaker</td><td>Delivered</td><td>416.51</td><td>1</td><td>416.51</td></tr><tr><td>147</td><td>2023-02-05</td><td>1096</td><td>Frank</td><td>204</td><td>Speaker</td><td>Shipped</td><td>1729.8</td><td>2</td><td>864.9</td></tr><tr><td>148</td><td>2023-11-23</td><td>1020</td><td>Frank</td><td>204</td><td>Monitor</td><td>Shipped</td><td>2065.0</td><td>2</td><td>1032.5</td></tr><tr><td>149</td><td>2023-08-26</td><td>1015</td><td>Frank</td><td>206</td><td>Tablet</td><td>Cancelled</td><td>777.85</td><td>1</td><td>777.85</td></tr><tr><td>150</td><td>2024-03-08</td><td>1064</td><td>Charlie</td><td>206</td><td>Printer</td><td>Cancelled</td><td>6189.32</td><td>4</td><td>1547.33</td></tr><tr><td>151</td><td>2024-12-24</td><td>1045</td><td>Ian</td><td>203</td><td>Laptop</td><td>Pending</td><td>3726.12</td><td>3</td><td>1242.04</td></tr><tr><td>152</td><td>2023-01-30</td><td>1065</td><td>Julia</td><td>208</td><td>Laptop</td><td>Cancelled</td><td>7864.3</td><td>5</td><td>1572.86</td></tr><tr><td>153</td><td>2023-01-20</td><td>1068</td><td>Julia</td><td>208</td><td>Headphones</td><td>Delivered</td><td>4797.64</td><td>4</td><td>1199.41</td></tr><tr><td>154</td><td>2025-08-05</td><td>1016</td><td>Alice</td><td>209</td><td>Headphones</td><td>Shipped</td><td>2544.08</td><td>2</td><td>1272.04</td></tr><tr><td>155</td><td>2024-07-20</td><td>1040</td><td>David</td><td>209</td><td>Mouse</td><td>Pending</td><td>5971.89</td><td>3</td><td>1990.63</td></tr><tr><td>156</td><td>2023-11-08</td><td>1088</td><td>Ian</td><td>202</td><td>Headphones</td><td>Pending</td><td>6045.08</td><td>4</td><td>1511.27</td></tr><tr><td>157</td><td>2024-06-24</td><td>1070</td><td>Bob</td><td>204</td><td>Tablet</td><td>Shipped</td><td>4275.52</td><td>4</td><td>1068.88</td></tr><tr><td>158</td><td>2024-06-16</td><td>1037</td><td>Emma</td><td>208</td><td>Headphones</td><td>Delivered</td><td>3672.22</td><td>2</td><td>1836.11</td></tr><tr><td>159</td><td>2023-01-28</td><td>1014</td><td>Alice</td><td>201</td><td>Printer</td><td>Delivered</td><td>1673.34</td><td>2</td><td>836.67</td></tr><tr><td>160</td><td>2023-02-20</td><td>1033</td><td>Charlie</td><td>207</td><td>Phone</td><td>Shipped</td><td>2073.7</td><td>2</td><td>1036.85</td></tr><tr><td>161</td><td>2023-10-24</td><td>1053</td><td>Emma</td><td>208</td><td>Laptop</td><td>Delivered</td><td>843.32</td><td>4</td><td>210.83</td></tr><tr><td>162</td><td>2024-11-04</td><td>1096</td><td>Emma</td><td>203</td><td>Mouse</td><td>Delivered</td><td>5340.75</td><td>5</td><td>1068.15</td></tr><tr><td>163</td><td>2023-12-29</td><td>1007</td><td>Charlie</td><td>208</td><td>Printer</td><td>Delivered</td><td>5695.2</td><td>3</td><td>1898.4</td></tr><tr><td>164</td><td>2025-02-04</td><td>1027</td><td>Alice</td><td>207</td><td>Headphones</td><td>Cancelled</td><td>2764.95</td><td>3</td><td>921.65</td></tr><tr><td>165</td><td>2023-05-19</td><td>1097</td><td>Ian</td><td>208</td><td>Speaker</td><td>Cancelled</td><td>2692.2</td><td>2</td><td>1346.1</td></tr><tr><td>166</td><td>2024-03-30</td><td>1015</td><td>Hannah</td><td>201</td><td>Laptop</td><td>Shipped</td><td>1238.16</td><td>4</td><td>309.54</td></tr><tr><td>167</td><td>2025-03-20</td><td>1039</td><td>Grace</td><td>201</td><td>Printer</td><td>Shipped</td><td>949.6</td><td>2</td><td>474.8</td></tr><tr><td>168</td><td>2024-06-03</td><td>1021</td><td>Emma</td><td>210</td><td>Tablet</td><td>Cancelled</td><td>4289.4</td><td>3</td><td>1429.8</td></tr><tr><td>169</td><td>2025-05-01</td><td>1091</td><td>Frank</td><td>202</td><td>Mouse</td><td>Shipped</td><td>2677.7</td><td>2</td><td>1338.85</td></tr><tr><td>170</td><td>2023-11-18</td><td>1013</td><td>Grace</td><td>206</td><td>Mouse</td><td>Delivered</td><td>3139.7</td><td>2</td><td>1569.85</td></tr><tr><td>171</td><td>2023-07-31</td><td>1053</td><td>David</td><td>203</td><td>Camera</td><td>Cancelled</td><td>1384.65</td><td>5</td><td>276.93</td></tr><tr><td>172</td><td>2024-10-22</td><td>1098</td><td>Charlie</td><td>210</td><td>Headphones</td><td>Delivered</td><td>2747.37</td><td>3</td><td>915.79</td></tr><tr><td>173</td><td>2024-07-30</td><td>1041</td><td>Grace</td><td>201</td><td>Headphones</td><td>Cancelled</td><td>2974.86</td><td>3</td><td>991.62</td></tr><tr><td>174</td><td>2023-02-12</td><td>1072</td><td>David</td><td>200</td><td>Phone</td><td>Shipped</td><td>1264.28</td><td>2</td><td>632.14</td></tr><tr><td>175</td><td>2024-09-17</td><td>1063</td><td>Alice</td><td>202</td><td>Mouse</td><td>Delivered</td><td>1073.78</td><td>2</td><td>536.89</td></tr><tr><td>176</td><td>2023-06-25</td><td>1031</td><td>Julia</td><td>205</td><td>Printer</td><td>Shipped</td><td>728.48</td><td>1</td><td>728.48</td></tr><tr><td>177</td><td>2024-04-19</td><td>1047</td><td>Emma</td><td>201</td><td>Printer</td><td>Delivered</td><td>5170.47</td><td>3</td><td>1723.49</td></tr><tr><td>178</td><td>2025-04-09</td><td>1034</td><td>Alice</td><td>201</td><td>Printer</td><td>Delivered</td><td>9353.3</td><td>5</td><td>1870.66</td></tr><tr><td>179</td><td>2023-03-07</td><td>1024</td><td>Alice</td><td>206</td><td>Phone</td><td>Pending</td><td>3865.1</td><td>2</td><td>1932.55</td></tr><tr><td>180</td><td>2024-09-09</td><td>1058</td><td>Bob</td><td>206</td><td>Laptop</td><td>Delivered</td><td>4136.19</td><td>3</td><td>1378.73</td></tr><tr><td>181</td><td>2024-01-19</td><td>1052</td><td>Hannah</td><td>200</td><td>Monitor</td><td>Shipped</td><td>3405.4</td><td>4</td><td>851.35</td></tr><tr><td>182</td><td>2024-12-20</td><td>1044</td><td>Charlie</td><td>208</td><td>Phone</td><td>Delivered</td><td>817.06</td><td>1</td><td>817.06</td></tr><tr><td>183</td><td>2024-12-29</td><td>1090</td><td>Frank</td><td>200</td><td>Tablet</td><td>Delivered</td><td>658.68</td><td>2</td><td>329.34</td></tr><tr><td>184</td><td>2024-03-06</td><td>1031</td><td>Julia</td><td>202</td><td>Headphones</td><td>Cancelled</td><td>958.68</td><td>4</td><td>239.67</td></tr><tr><td>185</td><td>2024-05-02</td><td>1006</td><td>Bob</td><td>200</td><td>Keyboard</td><td>Pending</td><td>4838.6</td><td>4</td><td>1209.65</td></tr><tr><td>186</td><td>2024-01-13</td><td>1058</td><td>Emma</td><td>201</td><td>Printer</td><td>Cancelled</td><td>865.84</td><td>4</td><td>216.46</td></tr><tr><td>187</td><td>2024-11-06</td><td>1083</td><td>David</td><td>204</td><td>Monitor</td><td>Pending</td><td>8838.5</td><td>5</td><td>1767.7</td></tr><tr><td>188</td><td>2025-04-13</td><td>1020</td><td>Julia</td><td>210</td><td>Speaker</td><td>Cancelled</td><td>9663.45</td><td>5</td><td>1932.69</td></tr><tr><td>189</td><td>2024-11-19</td><td>1011</td><td>Emma</td><td>203</td><td>Camera</td><td>Cancelled</td><td>7854.84</td><td>4</td><td>1963.71</td></tr><tr><td>190</td><td>2025-01-08</td><td>1072</td><td>Ian</td><td>205</td><td>Headphones</td><td>Pending</td><td>1716.56</td><td>1</td><td>1716.56</td></tr><tr><td>191</td><td>2023-12-21</td><td>1001</td><td>Emma</td><td>201</td><td>Headphones</td><td>Cancelled</td><td>255.99</td><td>3</td><td>85.33</td></tr><tr><td>192</td><td>2025-02-28</td><td>1082</td><td>Alice</td><td>204</td><td>Phone</td><td>Delivered</td><td>3970.4</td><td>5</td><td>794.08</td></tr><tr><td>193</td><td>2024-01-25</td><td>1091</td><td>Emma</td><td>206</td><td>Printer</td><td>Cancelled</td><td>3038.61</td><td>3</td><td>1012.87</td></tr><tr><td>194</td><td>2025-01-03</td><td>1046</td><td>David</td><td>205</td><td>Tablet</td><td>Pending</td><td>2185.86</td><td>3</td><td>728.62</td></tr><tr><td>195</td><td>2024-06-19</td><td>1003</td><td>Charlie</td><td>206</td><td>Mouse</td><td>Delivered</td><td>2282.36</td><td>2</td><td>1141.18</td></tr><tr><td>196</td><td>2023-01-18</td><td>1031</td><td>Charlie</td><td>210</td><td>Keyboard</td><td>Cancelled</td><td>4734.75</td><td>3</td><td>1578.25</td></tr><tr><td>197</td><td>2023-09-10</td><td>1063</td><td>Ian</td><td>207</td><td>Monitor</td><td>Delivered</td><td>1019.43</td><td>3</td><td>339.81</td></tr><tr><td>198</td><td>2023-11-12</td><td>1052</td><td>David</td><td>209</td><td>Phone</td><td>Shipped</td><td>3758.61</td><td>3</td><td>1252.87</td></tr><tr><td>199</td><td>2023-06-05</td><td>1002</td><td>Emma</td><td>209</td><td>Keyboard</td><td>Pending</td><td>2705.25</td><td>5</td><td>541.05</td></tr><tr><td>200</td><td>2025-06-19</td><td>1009</td><td>Alice</td><td>206</td><td>Speaker</td><td>Shipped</td><td>2148.78</td><td>2</td><td>1074.39</td></tr></tbody></table></div>"
      ]
     },
     "metadata": {
      "application/vnd.databricks.v1+output": {
       "addedWidgets": {},
       "aggData": [],
       "aggError": "",
       "aggOverflow": false,
       "aggSchema": [],
       "aggSeriesLimitReached": false,
       "aggType": "",
       "arguments": {},
       "columnCustomDisplayInfos": {},
       "data": [
        [
         1,
         "2024-02-08",
         1005,
         "David",
         206,
         "Mouse",
         "Pending",
         784.7,
         1,
         784.7
        ],
        [
         2,
         "2023-02-07",
         1053,
         "Frank",
         205,
         "Laptop",
         "Cancelled",
         4110.39,
         3,
         1370.13
        ],
        [
         3,
         "2023-01-04",
         1071,
         "Julia",
         203,
         "Speaker",
         "Delivered",
         1417.83,
         3,
         472.61
        ],
        [
         4,
         "2023-11-16",
         1072,
         "Bob",
         209,
         "Laptop",
         "Cancelled",
         4598.55,
         3,
         1532.85
        ],
        [
         5,
         "2024-12-04",
         1017,
         "Julia",
         208,
         "Printer",
         "Shipped",
         1130.3,
         5,
         226.06
        ],
        [
         6,
         "2025-01-13",
         1042,
         "Frank",
         210,
         "Mouse",
         "Pending",
         694.68,
         3,
         231.56
        ],
        [
         7,
         "2023-09-04",
         1069,
         "Alice",
         202,
         "Keyboard",
         "Delivered",
         1064.24,
         4,
         266.06
        ],
        [
         8,
         "2024-05-10",
         1048,
         "Frank",
         210,
         "Printer",
         "Pending",
         4643.88,
         4,
         1160.97
        ],
        [
         9,
         "2023-06-03",
         1020,
         "David",
         209,
         "Phone",
         "Delivered",
         2621.44,
         4,
         655.36
        ],
        [
         10,
         "2025-04-14",
         1064,
         "Charlie",
         204,
         "Headphones",
         "Pending",
         2493.86,
         2,
         1246.93
        ],
        [
         11,
         "2023-11-14",
         1084,
         "Hannah",
         206,
         "Keyboard",
         "Shipped",
         2876.92,
         2,
         1438.46
        ],
        [
         12,
         "2023-07-13",
         1019,
         "Grace",
         203,
         "Laptop",
         "Delivered",
         1309.84,
         4,
         327.46
        ],
        [
         13,
         "2024-06-06",
         1034,
         "Julia",
         210,
         "Tablet",
         "Delivered",
         3401.4,
         4,
         850.35
        ],
        [
         14,
         "2023-07-11",
         1057,
         "Alice",
         206,
         "Speaker",
         "Shipped",
         1619.4,
         4,
         404.85
        ],
        [
         15,
         "2024-07-03",
         1040,
         "David",
         210,
         "Keyboard",
         "Delivered",
         1603.18,
         1,
         1603.18
        ],
        [
         16,
         "2023-12-31",
         1097,
         "Grace",
         206,
         "Phone",
         "Cancelled",
         5475.69,
         3,
         1825.23
        ],
        [
         17,
         "2024-04-16",
         1001,
         "Emma",
         201,
         "Phone",
         "Shipped",
         2371.02,
         2,
         1185.51
        ],
        [
         18,
         "2024-08-21",
         1098,
         "Frank",
         201,
         "Headphones",
         "Shipped",
         1188.15,
         5,
         237.63
        ],
        [
         19,
         "2023-01-28",
         1095,
         "Grace",
         210,
         "Phone",
         "Shipped",
         2202.15,
         3,
         734.05
        ],
        [
         20,
         "2025-06-05",
         1037,
         "Ian",
         206,
         "Tablet",
         "Pending",
         8951.15,
         5,
         1790.23
        ],
        [
         21,
         "2024-09-21",
         1029,
         "Frank",
         209,
         "Keyboard",
         "Shipped",
         156.46,
         2,
         78.23
        ],
        [
         22,
         "2025-02-19",
         1099,
         "Charlie",
         210,
         "Speaker",
         "Pending",
         597.03,
         3,
         199.01
        ],
        [
         23,
         "2024-09-16",
         1033,
         "Ian",
         203,
         "Mouse",
         "Delivered",
         4186.28,
         4,
         1046.57
        ],
        [
         24,
         "2025-08-24",
         1005,
         "Charlie",
         209,
         "Camera",
         "Pending",
         2475.78,
         2,
         1237.89
        ],
        [
         25,
         "2023-05-27",
         1096,
         "Emma",
         208,
         "Headphones",
         "Delivered",
         6953.2,
         4,
         1738.3
        ],
        [
         26,
         "2024-11-20",
         1041,
         "Grace",
         202,
         "Phone",
         "Cancelled",
         3309.2,
         4,
         827.3
        ],
        [
         27,
         "2025-05-10",
         1051,
         "Emma",
         203,
         "Tablet",
         "Pending",
         3456.74,
         2,
         1728.37
        ],
        [
         28,
         "2023-12-22",
         1060,
         "Grace",
         209,
         "Camera",
         "Pending",
         1647.46,
         1,
         1647.46
        ],
        [
         29,
         "2024-05-19",
         1057,
         "Julia",
         203,
         "Headphones",
         "Cancelled",
         5647.15,
         5,
         1129.43
        ],
        [
         30,
         "2023-03-04",
         1057,
         "Frank",
         206,
         "Mouse",
         "Cancelled",
         4205.68,
         4,
         1051.42
        ],
        [
         31,
         "2024-05-23",
         1008,
         "Hannah",
         208,
         "Mouse",
         "Delivered",
         571.13,
         1,
         571.13
        ],
        [
         32,
         "2023-04-13",
         1057,
         "Ian",
         206,
         "Mouse",
         "Pending",
         564.36,
         3,
         188.12
        ],
        [
         33,
         "2023-05-03",
         1010,
         "Grace",
         202,
         "Printer",
         "Shipped",
         1975.34,
         1,
         1975.34
        ],
        [
         34,
         "2024-10-19",
         1001,
         "Alice",
         203,
         "Headphones",
         "Pending",
         1038.72,
         4,
         259.68
        ],
        [
         35,
         "2023-08-11",
         1090,
         "David",
         204,
         "Monitor",
         "Pending",
         3968.02,
         2,
         1984.01
        ],
        [
         36,
         "2023-07-17",
         1024,
         "Julia",
         201,
         "Tablet",
         "Pending",
         1642.8,
         5,
         328.56
        ],
        [
         37,
         "2025-03-28",
         1082,
         "Frank",
         200,
         "Mouse",
         "Delivered",
         4367.04,
         4,
         1091.76
        ],
        [
         38,
         "2023-09-07",
         1051,
         "Frank",
         200,
         "Keyboard",
         "Shipped",
         5083.32,
         4,
         1270.83
        ],
        [
         39,
         "2025-08-16",
         1100,
         "Julia",
         201,
         "Speaker",
         "Pending",
         140.28,
         2,
         70.14
        ],
        [
         40,
         "2025-09-01",
         1078,
         "Ian",
         206,
         "Keyboard",
         "Shipped",
         4646,
         4,
         1161.5
        ],
        [
         41,
         "2024-04-28",
         1015,
         "Hannah",
         208,
         "Camera",
         "Cancelled",
         1294.78,
         2,
         647.39
        ],
        [
         42,
         "2025-01-11",
         1088,
         "David",
         201,
         "Headphones",
         "Shipped",
         2270.04,
         2,
         1135.02
        ],
        [
         43,
         "2024-03-23",
         1017,
         "Emma",
         209,
         "Headphones",
         "Cancelled",
         1220.85,
         5,
         244.17
        ],
        [
         44,
         "2025-02-19",
         1062,
         "Ian",
         210,
         "Keyboard",
         "Pending",
         3927.64,
         4,
         981.91
        ],
        [
         45,
         "2025-03-15",
         1064,
         "David",
         200,
         "Tablet",
         "Delivered",
         1282.68,
         2,
         641.34
        ],
        [
         46,
         "2024-11-08",
         1019,
         "Hannah",
         209,
         "Camera",
         "Shipped",
         2389.98,
         2,
         1194.99
        ],
        [
         47,
         "2025-02-03",
         1046,
         "Alice",
         205,
         "Headphones",
         "Cancelled",
         3762.35,
         5,
         752.47
        ],
        [
         48,
         "2024-01-06",
         1082,
         "Grace",
         207,
         "Keyboard",
         "Shipped",
         2053.78,
         2,
         1026.89
        ],
        [
         49,
         "2025-05-22",
         1027,
         "Julia",
         205,
         "Tablet",
         "Pending",
         1929.3,
         3,
         643.1
        ],
        [
         50,
         "2023-04-22",
         1003,
         "Hannah",
         208,
         "Laptop",
         "Pending",
         283.11,
         3,
         94.37
        ],
        [
         51,
         "2023-03-30",
         1029,
         "Emma",
         203,
         "Printer",
         "Shipped",
         1423.91,
         1,
         1423.91
        ],
        [
         52,
         "2024-07-11",
         1049,
         "Bob",
         209,
         "Phone",
         "Shipped",
         6331.7,
         5,
         1266.34
        ],
        [
         53,
         "2023-12-08",
         1048,
         "Bob",
         203,
         "Camera",
         "Delivered",
         3664.5,
         5,
         732.9
        ],
        [
         54,
         "2023-07-05",
         1040,
         "Bob",
         205,
         "Laptop",
         "Delivered",
         532.23,
         1,
         532.23
        ],
        [
         55,
         "2023-07-01",
         1024,
         "David",
         204,
         "Printer",
         "Cancelled",
         5673.18,
         3,
         1891.06
        ],
        [
         56,
         "2025-03-28",
         1091,
         "Ian",
         209,
         "Laptop",
         "Shipped",
         3500.4,
         2,
         1750.2
        ],
        [
         57,
         "2023-04-11",
         1075,
         "Frank",
         209,
         "Tablet",
         "Pending",
         3723.51,
         3,
         1241.17
        ],
        [
         58,
         "2025-08-18",
         1035,
         "Grace",
         200,
         "Tablet",
         "Shipped",
         5619.56,
         4,
         1404.89
        ],
        [
         59,
         "2023-01-24",
         1086,
         "Emma",
         202,
         "Monitor",
         "Cancelled",
         2898.93,
         3,
         966.31
        ],
        [
         60,
         "2024-09-04",
         1080,
         "Julia",
         201,
         "Camera",
         "Delivered",
         1808.1,
         1,
         1808.1
        ],
        [
         61,
         "2025-07-24",
         1028,
         "Frank",
         208,
         "Laptop",
         "Delivered",
         779.04,
         3,
         259.68
        ],
        [
         62,
         "2024-11-19",
         1057,
         "David",
         206,
         "Tablet",
         "Pending",
         3116.97,
         3,
         1038.99
        ],
        [
         63,
         "2025-01-15",
         1077,
         "Frank",
         203,
         "Speaker",
         "Shipped",
         850.7,
         5,
         170.14
        ],
        [
         64,
         "2023-11-12",
         1062,
         "Julia",
         209,
         "Keyboard",
         "Shipped",
         3883.12,
         4,
         970.78
        ],
        [
         65,
         "2024-08-08",
         1014,
         "Frank",
         202,
         "Keyboard",
         "Shipped",
         438.51,
         1,
         438.51
        ],
        [
         66,
         "2023-01-15",
         1051,
         "Frank",
         206,
         "Mouse",
         "Pending",
         5550.1,
         5,
         1110.02
        ],
        [
         67,
         "2023-08-23",
         1005,
         "Julia",
         204,
         "Camera",
         "Delivered",
         1162.32,
         3,
         387.44
        ],
        [
         68,
         "2024-10-20",
         1072,
         "Julia",
         209,
         "Printer",
         "Cancelled",
         4186.44,
         3,
         1395.48
        ],
        [
         69,
         "2023-10-23",
         1052,
         "Charlie",
         209,
         "Camera",
         "Cancelled",
         1581.35,
         1,
         1581.35
        ],
        [
         70,
         "2024-07-29",
         1020,
         "Julia",
         206,
         "Laptop",
         "Delivered",
         7480.72,
         4,
         1870.18
        ],
        [
         71,
         "2024-08-23",
         1022,
         "Bob",
         210,
         "Mouse",
         "Delivered",
         6939.9,
         5,
         1387.98
        ],
        [
         72,
         "2024-10-29",
         1078,
         "Alice",
         207,
         "Mouse",
         "Cancelled",
         496.38,
         3,
         165.46
        ],
        [
         73,
         "2023-01-21",
         1060,
         "Frank",
         205,
         "Mouse",
         "Cancelled",
         6855.8,
         4,
         1713.95
        ],
        [
         74,
         "2024-11-24",
         1018,
         "Charlie",
         206,
         "Speaker",
         "Cancelled",
         1173.83,
         1,
         1173.83
        ],
        [
         75,
         "2023-06-14",
         1024,
         "Alice",
         200,
         "Tablet",
         "Pending",
         1631.69,
         1,
         1631.69
        ],
        [
         76,
         "2024-11-20",
         1015,
         "Alice",
         209,
         "Laptop",
         "Cancelled",
         1682.22,
         3,
         560.74
        ],
        [
         77,
         "2025-01-23",
         1067,
         "Bob",
         203,
         "Tablet",
         "Pending",
         608.56,
         4,
         152.14
        ],
        [
         78,
         "2023-02-25",
         1050,
         "Emma",
         206,
         "Phone",
         "Delivered",
         1244.93,
         1,
         1244.93
        ],
        [
         79,
         "2024-04-15",
         1075,
         "Frank",
         206,
         "Printer",
         "Shipped",
         1604.21,
         1,
         1604.21
        ],
        [
         80,
         "2023-12-15",
         1006,
         "Ian",
         200,
         "Laptop",
         "Cancelled",
         3468.46,
         2,
         1734.23
        ],
        [
         81,
         "2024-05-09",
         1042,
         "Bob",
         206,
         "Headphones",
         "Cancelled",
         3632.95,
         5,
         726.59
        ],
        [
         82,
         "2025-05-05",
         1005,
         "Julia",
         203,
         "Headphones",
         "Pending",
         6766.55,
         5,
         1353.31
        ],
        [
         83,
         "2025-01-05",
         1046,
         "Emma",
         207,
         "Keyboard",
         "Shipped",
         100.46,
         1,
         100.46
        ],
        [
         84,
         "2024-02-29",
         1025,
         "Charlie",
         204,
         "Mouse",
         "Cancelled",
         1690.33,
         1,
         1690.33
        ],
        [
         85,
         "2025-01-07",
         1053,
         "Ian",
         206,
         "Printer",
         "Cancelled",
         4824.12,
         4,
         1206.03
        ],
        [
         86,
         "2025-01-20",
         1006,
         "David",
         206,
         "Headphones",
         "Shipped",
         665.52,
         1,
         665.52
        ],
        [
         87,
         "2025-06-06",
         1035,
         "Bob",
         202,
         "Keyboard",
         "Delivered",
         5516.37,
         3,
         1838.79
        ],
        [
         88,
         "2025-08-13",
         1032,
         "Ian",
         208,
         "Phone",
         "Shipped",
         8959.1,
         5,
         1791.82
        ],
        [
         89,
         "2024-06-21",
         1093,
         "Frank",
         209,
         "Monitor",
         "Shipped",
         3896.68,
         2,
         1948.34
        ],
        [
         90,
         "2024-09-05",
         1032,
         "Frank",
         210,
         "Mouse",
         "Shipped",
         312.54,
         2,
         156.27
        ],
        [
         91,
         "2024-08-26",
         1059,
         "Charlie",
         207,
         "Speaker",
         "Cancelled",
         7534.32,
         4,
         1883.58
        ],
        [
         92,
         "2024-03-27",
         1028,
         "Hannah",
         203,
         "Camera",
         "Delivered",
         1747.68,
         4,
         436.92
        ],
        [
         93,
         "2025-03-01",
         1003,
         "Julia",
         206,
         "Camera",
         "Pending",
         7972.75,
         5,
         1594.55
        ],
        [
         94,
         "2023-02-27",
         1050,
         "Ian",
         200,
         "Phone",
         "Shipped",
         902.96,
         2,
         451.48
        ],
        [
         95,
         "2023-06-09",
         1026,
         "Charlie",
         209,
         "Mouse",
         "Cancelled",
         2913.69,
         3,
         971.23
        ],
        [
         96,
         "2025-03-25",
         1042,
         "Hannah",
         207,
         "Speaker",
         "Shipped",
         7005.4,
         5,
         1401.08
        ],
        [
         97,
         "2023-01-22",
         1097,
         "Julia",
         208,
         "Tablet",
         "Cancelled",
         3607.04,
         2,
         1803.52
        ],
        [
         98,
         "2024-04-04",
         1035,
         "Charlie",
         201,
         "Monitor",
         "Cancelled",
         1694.8,
         5,
         338.96
        ],
        [
         99,
         "2023-07-26",
         1046,
         "Emma",
         208,
         "Headphones",
         "Shipped",
         2246.08,
         4,
         561.52
        ],
        [
         100,
         "2025-07-04",
         1059,
         "Ian",
         207,
         "Keyboard",
         "Cancelled",
         580.53,
         3,
         193.51
        ],
        [
         101,
         "2023-02-19",
         1028,
         "Hannah",
         204,
         "Keyboard",
         "Cancelled",
         3656.22,
         3,
         1218.74
        ],
        [
         102,
         "2023-09-09",
         1087,
         "Emma",
         207,
         "Speaker",
         "Shipped",
         1666.44,
         1,
         1666.44
        ],
        [
         103,
         "2023-02-26",
         1071,
         "Hannah",
         204,
         "Headphones",
         "Delivered",
         5112.15,
         5,
         1022.43
        ],
        [
         104,
         "2023-06-17",
         1005,
         "Charlie",
         201,
         "Tablet",
         "Shipped",
         1641.09,
         3,
         547.03
        ],
        [
         105,
         "2024-06-29",
         1087,
         "David",
         205,
         "Keyboard",
         "Cancelled",
         2390.7,
         5,
         478.14
        ],
        [
         106,
         "2024-08-25",
         1045,
         "Charlie",
         205,
         "Tablet",
         "Shipped",
         6086.55,
         5,
         1217.31
        ],
        [
         107,
         "2023-08-17",
         1093,
         "Julia",
         204,
         "Tablet",
         "Cancelled",
         3708.9,
         2,
         1854.45
        ],
        [
         108,
         "2024-04-11",
         1040,
         "Ian",
         208,
         "Mouse",
         "Shipped",
         1396.42,
         2,
         698.21
        ],
        [
         109,
         "2025-04-09",
         1092,
         "Grace",
         209,
         "Camera",
         "Cancelled",
         8648.6,
         5,
         1729.72
        ],
        [
         110,
         "2025-05-21",
         1094,
         "Alice",
         209,
         "Camera",
         "Pending",
         4210.4,
         5,
         842.08
        ],
        [
         111,
         "2023-07-21",
         1083,
         "Ian",
         205,
         "Keyboard",
         "Delivered",
         9094.45,
         5,
         1818.89
        ],
        [
         112,
         "2023-06-15",
         1037,
         "Alice",
         206,
         "Headphones",
         "Delivered",
         2611.5,
         2,
         1305.75
        ],
        [
         113,
         "2025-08-27",
         1095,
         "Bob",
         204,
         "Speaker",
         "Shipped",
         921.63,
         3,
         307.21
        ],
        [
         114,
         "2023-07-03",
         1081,
         "Julia",
         208,
         "Camera",
         "Shipped",
         5577.33,
         3,
         1859.11
        ],
        [
         115,
         "2025-03-15",
         1080,
         "Emma",
         206,
         "Phone",
         "Pending",
         1871.46,
         3,
         623.82
        ],
        [
         116,
         "2023-01-15",
         1098,
         "Charlie",
         201,
         "Phone",
         "Delivered",
         1540.86,
         2,
         770.43
        ],
        [
         117,
         "2024-10-27",
         1052,
         "Hannah",
         202,
         "Monitor",
         "Pending",
         126.95,
         1,
         126.95
        ],
        [
         118,
         "2025-01-24",
         1096,
         "Frank",
         202,
         "Printer",
         "Shipped",
         617.18,
         2,
         308.59
        ],
        [
         119,
         "2024-12-17",
         1091,
         "Emma",
         205,
         "Headphones",
         "Delivered",
         2859.78,
         3,
         953.26
        ],
        [
         120,
         "2025-03-23",
         1093,
         "David",
         210,
         "Keyboard",
         "Pending",
         1409.16,
         4,
         352.29
        ],
        [
         121,
         "2024-06-19",
         1029,
         "Alice",
         206,
         "Tablet",
         "Shipped",
         4659.95,
         5,
         931.99
        ],
        [
         122,
         "2024-10-21",
         1005,
         "Charlie",
         203,
         "Phone",
         "Pending",
         1202.93,
         1,
         1202.93
        ],
        [
         123,
         "2023-11-15",
         1085,
         "Alice",
         203,
         "Phone",
         "Delivered",
         659.16,
         3,
         219.72
        ],
        [
         124,
         "2024-07-01",
         1007,
         "Bob",
         203,
         "Mouse",
         "Shipped",
         3043.64,
         2,
         1521.82
        ],
        [
         125,
         "2024-03-13",
         1016,
         "Ian",
         205,
         "Headphones",
         "Pending",
         1545.4,
         5,
         309.08
        ],
        [
         126,
         "2024-06-01",
         1048,
         "David",
         202,
         "Camera",
         "Shipped",
         1992.99,
         3,
         664.33
        ],
        [
         127,
         "2023-04-24",
         1016,
         "Frank",
         210,
         "Mouse",
         "Cancelled",
         1048.4,
         2,
         524.2
        ],
        [
         128,
         "2024-07-20",
         1073,
         "Frank",
         207,
         "Camera",
         "Cancelled",
         1171.12,
         1,
         1171.12
        ],
        [
         129,
         "2024-08-28",
         1062,
         "Ian",
         208,
         "Laptop",
         "Pending",
         2916.9,
         5,
         583.38
        ],
        [
         130,
         "2024-09-11",
         1011,
         "Hannah",
         204,
         "Monitor",
         "Cancelled",
         7178.56,
         4,
         1794.64
        ],
        [
         131,
         "2023-06-17",
         1040,
         "Charlie",
         200,
         "Printer",
         "Cancelled",
         2219.8,
         2,
         1109.9
        ],
        [
         132,
         "2024-03-06",
         1028,
         "Ian",
         204,
         "Camera",
         "Cancelled",
         2892.96,
         3,
         964.32
        ],
        [
         133,
         "2024-08-06",
         1083,
         "Ian",
         209,
         "Keyboard",
         "Pending",
         1133.79,
         1,
         1133.79
        ],
        [
         134,
         "2023-11-18",
         1016,
         "Frank",
         209,
         "Headphones",
         "Delivered",
         486.92,
         4,
         121.73
        ],
        [
         135,
         "2023-12-26",
         1030,
         "Charlie",
         200,
         "Printer",
         "Pending",
         949.45,
         5,
         189.89
        ],
        [
         136,
         "2025-05-12",
         1003,
         "Bob",
         204,
         "Laptop",
         "Delivered",
         3672.24,
         4,
         918.06
        ],
        [
         137,
         "2023-08-30",
         1009,
         "Grace",
         200,
         "Mouse",
         "Pending",
         3469.45,
         5,
         693.89
        ],
        [
         138,
         "2025-07-23",
         1054,
         "Ian",
         207,
         "Phone",
         "Pending",
         671.94,
         1,
         671.94
        ],
        [
         139,
         "2025-01-19",
         1098,
         "Bob",
         205,
         "Printer",
         "Shipped",
         7556.85,
         5,
         1511.37
        ],
        [
         140,
         "2024-01-28",
         1026,
         "Charlie",
         202,
         "Camera",
         "Shipped",
         3123.1,
         2,
         1561.55
        ],
        [
         141,
         "2024-05-30",
         1049,
         "Ian",
         205,
         "Mouse",
         "Delivered",
         1385.5,
         2,
         692.75
        ],
        [
         142,
         "2024-11-16",
         1008,
         "Alice",
         200,
         "Camera",
         "Cancelled",
         4634.1,
         5,
         926.82
        ],
        [
         143,
         "2023-09-02",
         1072,
         "David",
         203,
         "Laptop",
         "Delivered",
         3027.05,
         5,
         605.41
        ],
        [
         144,
         "2025-01-19",
         1013,
         "Ian",
         210,
         "Tablet",
         "Cancelled",
         386.96,
         1,
         386.96
        ],
        [
         145,
         "2024-07-18",
         1075,
         "Charlie",
         204,
         "Phone",
         "Cancelled",
         6336.35,
         5,
         1267.27
        ],
        [
         146,
         "2024-12-20",
         1058,
         "Ian",
         207,
         "Speaker",
         "Delivered",
         416.51,
         1,
         416.51
        ],
        [
         147,
         "2023-02-05",
         1096,
         "Frank",
         204,
         "Speaker",
         "Shipped",
         1729.8,
         2,
         864.9
        ],
        [
         148,
         "2023-11-23",
         1020,
         "Frank",
         204,
         "Monitor",
         "Shipped",
         2065,
         2,
         1032.5
        ],
        [
         149,
         "2023-08-26",
         1015,
         "Frank",
         206,
         "Tablet",
         "Cancelled",
         777.85,
         1,
         777.85
        ],
        [
         150,
         "2024-03-08",
         1064,
         "Charlie",
         206,
         "Printer",
         "Cancelled",
         6189.32,
         4,
         1547.33
        ],
        [
         151,
         "2024-12-24",
         1045,
         "Ian",
         203,
         "Laptop",
         "Pending",
         3726.12,
         3,
         1242.04
        ],
        [
         152,
         "2023-01-30",
         1065,
         "Julia",
         208,
         "Laptop",
         "Cancelled",
         7864.3,
         5,
         1572.86
        ],
        [
         153,
         "2023-01-20",
         1068,
         "Julia",
         208,
         "Headphones",
         "Delivered",
         4797.64,
         4,
         1199.41
        ],
        [
         154,
         "2025-08-05",
         1016,
         "Alice",
         209,
         "Headphones",
         "Shipped",
         2544.08,
         2,
         1272.04
        ],
        [
         155,
         "2024-07-20",
         1040,
         "David",
         209,
         "Mouse",
         "Pending",
         5971.89,
         3,
         1990.63
        ],
        [
         156,
         "2023-11-08",
         1088,
         "Ian",
         202,
         "Headphones",
         "Pending",
         6045.08,
         4,
         1511.27
        ],
        [
         157,
         "2024-06-24",
         1070,
         "Bob",
         204,
         "Tablet",
         "Shipped",
         4275.52,
         4,
         1068.88
        ],
        [
         158,
         "2024-06-16",
         1037,
         "Emma",
         208,
         "Headphones",
         "Delivered",
         3672.22,
         2,
         1836.11
        ],
        [
         159,
         "2023-01-28",
         1014,
         "Alice",
         201,
         "Printer",
         "Delivered",
         1673.34,
         2,
         836.67
        ],
        [
         160,
         "2023-02-20",
         1033,
         "Charlie",
         207,
         "Phone",
         "Shipped",
         2073.7,
         2,
         1036.85
        ],
        [
         161,
         "2023-10-24",
         1053,
         "Emma",
         208,
         "Laptop",
         "Delivered",
         843.32,
         4,
         210.83
        ],
        [
         162,
         "2024-11-04",
         1096,
         "Emma",
         203,
         "Mouse",
         "Delivered",
         5340.75,
         5,
         1068.15
        ],
        [
         163,
         "2023-12-29",
         1007,
         "Charlie",
         208,
         "Printer",
         "Delivered",
         5695.2,
         3,
         1898.4
        ],
        [
         164,
         "2025-02-04",
         1027,
         "Alice",
         207,
         "Headphones",
         "Cancelled",
         2764.95,
         3,
         921.65
        ],
        [
         165,
         "2023-05-19",
         1097,
         "Ian",
         208,
         "Speaker",
         "Cancelled",
         2692.2,
         2,
         1346.1
        ],
        [
         166,
         "2024-03-30",
         1015,
         "Hannah",
         201,
         "Laptop",
         "Shipped",
         1238.16,
         4,
         309.54
        ],
        [
         167,
         "2025-03-20",
         1039,
         "Grace",
         201,
         "Printer",
         "Shipped",
         949.6,
         2,
         474.8
        ],
        [
         168,
         "2024-06-03",
         1021,
         "Emma",
         210,
         "Tablet",
         "Cancelled",
         4289.4,
         3,
         1429.8
        ],
        [
         169,
         "2025-05-01",
         1091,
         "Frank",
         202,
         "Mouse",
         "Shipped",
         2677.7,
         2,
         1338.85
        ],
        [
         170,
         "2023-11-18",
         1013,
         "Grace",
         206,
         "Mouse",
         "Delivered",
         3139.7,
         2,
         1569.85
        ],
        [
         171,
         "2023-07-31",
         1053,
         "David",
         203,
         "Camera",
         "Cancelled",
         1384.65,
         5,
         276.93
        ],
        [
         172,
         "2024-10-22",
         1098,
         "Charlie",
         210,
         "Headphones",
         "Delivered",
         2747.37,
         3,
         915.79
        ],
        [
         173,
         "2024-07-30",
         1041,
         "Grace",
         201,
         "Headphones",
         "Cancelled",
         2974.86,
         3,
         991.62
        ],
        [
         174,
         "2023-02-12",
         1072,
         "David",
         200,
         "Phone",
         "Shipped",
         1264.28,
         2,
         632.14
        ],
        [
         175,
         "2024-09-17",
         1063,
         "Alice",
         202,
         "Mouse",
         "Delivered",
         1073.78,
         2,
         536.89
        ],
        [
         176,
         "2023-06-25",
         1031,
         "Julia",
         205,
         "Printer",
         "Shipped",
         728.48,
         1,
         728.48
        ],
        [
         177,
         "2024-04-19",
         1047,
         "Emma",
         201,
         "Printer",
         "Delivered",
         5170.47,
         3,
         1723.49
        ],
        [
         178,
         "2025-04-09",
         1034,
         "Alice",
         201,
         "Printer",
         "Delivered",
         9353.3,
         5,
         1870.66
        ],
        [
         179,
         "2023-03-07",
         1024,
         "Alice",
         206,
         "Phone",
         "Pending",
         3865.1,
         2,
         1932.55
        ],
        [
         180,
         "2024-09-09",
         1058,
         "Bob",
         206,
         "Laptop",
         "Delivered",
         4136.19,
         3,
         1378.73
        ],
        [
         181,
         "2024-01-19",
         1052,
         "Hannah",
         200,
         "Monitor",
         "Shipped",
         3405.4,
         4,
         851.35
        ],
        [
         182,
         "2024-12-20",
         1044,
         "Charlie",
         208,
         "Phone",
         "Delivered",
         817.06,
         1,
         817.06
        ],
        [
         183,
         "2024-12-29",
         1090,
         "Frank",
         200,
         "Tablet",
         "Delivered",
         658.68,
         2,
         329.34
        ],
        [
         184,
         "2024-03-06",
         1031,
         "Julia",
         202,
         "Headphones",
         "Cancelled",
         958.68,
         4,
         239.67
        ],
        [
         185,
         "2024-05-02",
         1006,
         "Bob",
         200,
         "Keyboard",
         "Pending",
         4838.6,
         4,
         1209.65
        ],
        [
         186,
         "2024-01-13",
         1058,
         "Emma",
         201,
         "Printer",
         "Cancelled",
         865.84,
         4,
         216.46
        ],
        [
         187,
         "2024-11-06",
         1083,
         "David",
         204,
         "Monitor",
         "Pending",
         8838.5,
         5,
         1767.7
        ],
        [
         188,
         "2025-04-13",
         1020,
         "Julia",
         210,
         "Speaker",
         "Cancelled",
         9663.45,
         5,
         1932.69
        ],
        [
         189,
         "2024-11-19",
         1011,
         "Emma",
         203,
         "Camera",
         "Cancelled",
         7854.84,
         4,
         1963.71
        ],
        [
         190,
         "2025-01-08",
         1072,
         "Ian",
         205,
         "Headphones",
         "Pending",
         1716.56,
         1,
         1716.56
        ],
        [
         191,
         "2023-12-21",
         1001,
         "Emma",
         201,
         "Headphones",
         "Cancelled",
         255.99,
         3,
         85.33
        ],
        [
         192,
         "2025-02-28",
         1082,
         "Alice",
         204,
         "Phone",
         "Delivered",
         3970.4,
         5,
         794.08
        ],
        [
         193,
         "2024-01-25",
         1091,
         "Emma",
         206,
         "Printer",
         "Cancelled",
         3038.61,
         3,
         1012.87
        ],
        [
         194,
         "2025-01-03",
         1046,
         "David",
         205,
         "Tablet",
         "Pending",
         2185.86,
         3,
         728.62
        ],
        [
         195,
         "2024-06-19",
         1003,
         "Charlie",
         206,
         "Mouse",
         "Delivered",
         2282.36,
         2,
         1141.18
        ],
        [
         196,
         "2023-01-18",
         1031,
         "Charlie",
         210,
         "Keyboard",
         "Cancelled",
         4734.75,
         3,
         1578.25
        ],
        [
         197,
         "2023-09-10",
         1063,
         "Ian",
         207,
         "Monitor",
         "Delivered",
         1019.43,
         3,
         339.81
        ],
        [
         198,
         "2023-11-12",
         1052,
         "David",
         209,
         "Phone",
         "Shipped",
         3758.61,
         3,
         1252.87
        ],
        [
         199,
         "2023-06-05",
         1002,
         "Emma",
         209,
         "Keyboard",
         "Pending",
         2705.25,
         5,
         541.05
        ],
        [
         200,
         "2025-06-19",
         1009,
         "Alice",
         206,
         "Speaker",
         "Shipped",
         2148.78,
         2,
         1074.39
        ]
       ],
       "datasetInfos": [],
       "dbfsResultPath": null,
       "isJsonSchema": true,
       "metadata": {},
       "overflow": false,
       "plotOptions": {
        "customPlotOptions": {},
        "displayType": "table",
        "pivotAggregation": null,
        "pivotColumns": null,
        "xColumns": null,
        "yColumns": null
       },
       "removedWidgets": [],
       "schema": [
        {
         "metadata": "{}",
         "name": "order_id",
         "type": "\"integer\""
        },
        {
         "metadata": "{}",
         "name": "order_date",
         "type": "\"date\""
        },
        {
         "metadata": "{}",
         "name": "order_customer_id",
         "type": "\"integer\""
        },
        {
         "metadata": "{}",
         "name": "customer_name",
         "type": "\"string\""
        },
        {
         "metadata": "{}",
         "name": "product_id",
         "type": "\"integer\""
        },
        {
         "metadata": "{}",
         "name": "product_name",
         "type": "\"string\""
        },
        {
         "metadata": "{}",
         "name": "order_status",
         "type": "\"string\""
        },
        {
         "metadata": "{}",
         "name": "order_total",
         "type": "\"float\""
        },
        {
         "metadata": "{}",
         "name": "quantity",
         "type": "\"integer\""
        },
        {
         "metadata": "{}",
         "name": "price",
         "type": "\"float\""
        }
       ],
       "type": "table"
      }
     },
     "output_type": "display_data"
    }
   ],
   "source": [
    "df=spark.sql(\"select * from salesdwh.stg_sales\")\n",
    "display(df)"
   ]
  },
  {
   "cell_type": "code",
   "execution_count": 0,
   "metadata": {
    "application/vnd.databricks.v1+cell": {
     "cellMetadata": {
      "byteLimit": 2048000,
      "rowLimit": 10000
     },
     "inputWidgets": {},
     "nuid": "0973bf71-180d-4371-9fe8-035a51f9aaf9",
     "showTitle": false,
     "tableResultSettingsMap": {},
     "title": ""
    }
   },
   "outputs": [],
   "source": [
    "df=df.withColumn('price', round(col(\"price\"),1).cast(DecimalType(10,1))).withColumn('order_total', floor(col(\"order_total\"),1))\n",
    "df.write.mode(\"overwrite\").saveAsTable(\"salesdwh.stg_sales_tran\")"
   ]
  },
  {
   "cell_type": "markdown",
   "metadata": {
    "application/vnd.databricks.v1+cell": {
     "cellMetadata": {},
     "inputWidgets": {},
     "nuid": "c80fc4aa-fe5d-4768-9ce4-59affa0a4f17",
     "showTitle": false,
     "tableResultSettingsMap": {},
     "title": ""
    }
   },
   "source": [
    "# Trans View"
   ]
  },
  {
   "cell_type": "code",
   "execution_count": 0,
   "metadata": {
    "application/vnd.databricks.v1+cell": {
     "cellMetadata": {
      "byteLimit": 2048000,
      "implicitDf": true,
      "rowLimit": 10000
     },
     "inputWidgets": {},
     "nuid": "44a54f1d-682a-423a-ae94-5d1b78feea79",
     "showTitle": false,
     "tableResultSettingsMap": {},
     "title": ""
    }
   },
   "outputs": [],
   "source": [
    "%sql\n",
    "create or replace view tras_sales\n",
    "as \n",
    "select * from salesdwh.stg_sales_tran"
   ]
  },
  {
   "cell_type": "markdown",
   "metadata": {
    "application/vnd.databricks.v1+cell": {
     "cellMetadata": {},
     "inputWidgets": {},
     "nuid": "df519983-b548-41e3-8a53-c0b9ef5e1eff",
     "showTitle": false,
     "tableResultSettingsMap": {},
     "title": ""
    }
   },
   "source": [
    "# Core View"
   ]
  },
  {
   "cell_type": "code",
   "execution_count": 0,
   "metadata": {
    "application/vnd.databricks.v1+cell": {
     "cellMetadata": {
      "byteLimit": 2048000,
      "implicitDf": true,
      "rowLimit": 10000
     },
     "inputWidgets": {},
     "nuid": "571aea95-af9d-4e79-8f90-0e1ea87a957f",
     "showTitle": false,
     "tableResultSettingsMap": {},
     "title": ""
    }
   },
   "outputs": [
    {
     "data": {
      "text/html": [
       "<style scoped>\n",
       "  .table-result-container {\n",
       "    max-height: 300px;\n",
       "    overflow: auto;\n",
       "  }\n",
       "  table, th, td {\n",
       "    border: 1px solid black;\n",
       "    border-collapse: collapse;\n",
       "  }\n",
       "  th, td {\n",
       "    padding: 5px;\n",
       "  }\n",
       "  th {\n",
       "    text-align: left;\n",
       "  }\n",
       "</style><div class='table-result-container'><table class='table-result'><thead style='background-color: white'><tr><th>num_affected_rows</th><th>num_inserted_rows</th></tr></thead><tbody></tbody></table></div>"
      ]
     },
     "metadata": {
      "application/vnd.databricks.v1+output": {
       "addedWidgets": {},
       "aggData": [],
       "aggError": "",
       "aggOverflow": false,
       "aggSchema": [],
       "aggSeriesLimitReached": false,
       "aggType": "",
       "arguments": {},
       "columnCustomDisplayInfos": {},
       "data": [],
       "datasetInfos": [
        {
         "name": "_sqldf",
         "schema": {
          "fields": [
           {
            "metadata": {},
            "name": "num_affected_rows",
            "nullable": true,
            "type": "long"
           },
           {
            "metadata": {},
            "name": "num_inserted_rows",
            "nullable": true,
            "type": "long"
           }
          ],
          "type": "struct"
         },
         "tableIdentifier": null,
         "typeStr": "pyspark.sql.dataframe.DataFrame"
        }
       ],
       "dbfsResultPath": null,
       "isJsonSchema": true,
       "metadata": {
        "createTempViewForImplicitDf": true,
        "dataframeName": "_sqldf",
        "executionCount": 30
       },
       "overflow": false,
       "plotOptions": {
        "customPlotOptions": {},
        "displayType": "table",
        "pivotAggregation": null,
        "pivotColumns": null,
        "xColumns": null,
        "yColumns": null
       },
       "removedWidgets": [],
       "schema": [
        {
         "metadata": "{}",
         "name": "num_affected_rows",
         "type": "\"long\""
        },
        {
         "metadata": "{}",
         "name": "num_inserted_rows",
         "type": "\"long\""
        }
       ],
       "type": "table"
      }
     },
     "output_type": "display_data"
    }
   ],
   "source": [
    "%sql\n",
    "Create or replace table salesdwh.core_sales\n",
    "as\n",
    "select * from tras_sales"
   ]
  },
  {
   "cell_type": "code",
   "execution_count": 0,
   "metadata": {
    "application/vnd.databricks.v1+cell": {
     "cellMetadata": {
      "byteLimit": 2048000,
      "implicitDf": true,
      "rowLimit": 10000
     },
     "inputWidgets": {},
     "nuid": "5ba0b2c7-7609-46e5-85ca-8a1c2266d349",
     "showTitle": false,
     "tableResultSettingsMap": {},
     "title": ""
    }
   },
   "outputs": [
    {
     "data": {
      "text/html": [
       "<style scoped>\n",
       "  .table-result-container {\n",
       "    max-height: 300px;\n",
       "    overflow: auto;\n",
       "  }\n",
       "  table, th, td {\n",
       "    border: 1px solid black;\n",
       "    border-collapse: collapse;\n",
       "  }\n",
       "  th, td {\n",
       "    padding: 5px;\n",
       "  }\n",
       "  th {\n",
       "    text-align: left;\n",
       "  }\n",
       "</style><div class='table-result-container'><table class='table-result'><thead style='background-color: white'><tr><th>order_id</th><th>order_date</th><th>order_customer_id</th><th>customer_name</th><th>product_id</th><th>product_name</th><th>order_status</th><th>order_total</th><th>quantity</th><th>price</th></tr></thead><tbody><tr><td>1</td><td>2024-02-08</td><td>1005</td><td>David</td><td>206</td><td>Mouse</td><td>Pending</td><td>784.7</td><td>1</td><td>784.7</td></tr><tr><td>2</td><td>2023-02-07</td><td>1053</td><td>Frank</td><td>205</td><td>Laptop</td><td>Cancelled</td><td>4110.3</td><td>3</td><td>1370.1</td></tr><tr><td>3</td><td>2023-01-04</td><td>1071</td><td>Julia</td><td>203</td><td>Speaker</td><td>Delivered</td><td>1417.8</td><td>3</td><td>472.6</td></tr></tbody></table></div>"
      ]
     },
     "metadata": {
      "application/vnd.databricks.v1+output": {
       "addedWidgets": {},
       "aggData": [],
       "aggError": "",
       "aggOverflow": false,
       "aggSchema": [],
       "aggSeriesLimitReached": false,
       "aggType": "",
       "arguments": {},
       "columnCustomDisplayInfos": {},
       "data": [
        [
         1,
         "2024-02-08",
         1005,
         "David",
         206,
         "Mouse",
         "Pending",
         "784.7",
         1,
         "784.7"
        ],
        [
         2,
         "2023-02-07",
         1053,
         "Frank",
         205,
         "Laptop",
         "Cancelled",
         "4110.3",
         3,
         "1370.1"
        ],
        [
         3,
         "2023-01-04",
         1071,
         "Julia",
         203,
         "Speaker",
         "Delivered",
         "1417.8",
         3,
         "472.6"
        ]
       ],
       "datasetInfos": [
        {
         "name": "_sqldf",
         "schema": {
          "fields": [
           {
            "metadata": {},
            "name": "order_id",
            "nullable": true,
            "type": "integer"
           },
           {
            "metadata": {},
            "name": "order_date",
            "nullable": true,
            "type": "date"
           },
           {
            "metadata": {},
            "name": "order_customer_id",
            "nullable": true,
            "type": "integer"
           },
           {
            "metadata": {},
            "name": "customer_name",
            "nullable": true,
            "type": "string"
           },
           {
            "metadata": {},
            "name": "product_id",
            "nullable": true,
            "type": "integer"
           },
           {
            "metadata": {},
            "name": "product_name",
            "nullable": true,
            "type": "string"
           },
           {
            "metadata": {},
            "name": "order_status",
            "nullable": true,
            "type": "string"
           },
           {
            "metadata": {},
            "name": "order_total",
            "nullable": true,
            "type": "decimal(11,1)"
           },
           {
            "metadata": {},
            "name": "quantity",
            "nullable": true,
            "type": "integer"
           },
           {
            "metadata": {},
            "name": "price",
            "nullable": true,
            "type": "decimal(10,1)"
           }
          ],
          "type": "struct"
         },
         "tableIdentifier": null,
         "typeStr": "pyspark.sql.dataframe.DataFrame"
        }
       ],
       "dbfsResultPath": null,
       "isJsonSchema": true,
       "metadata": {
        "createTempViewForImplicitDf": true,
        "dataframeName": "_sqldf",
        "executionCount": 31
       },
       "overflow": false,
       "plotOptions": {
        "customPlotOptions": {},
        "displayType": "table",
        "pivotAggregation": null,
        "pivotColumns": null,
        "xColumns": null,
        "yColumns": null
       },
       "removedWidgets": [],
       "schema": [
        {
         "metadata": "{}",
         "name": "order_id",
         "type": "\"integer\""
        },
        {
         "metadata": "{}",
         "name": "order_date",
         "type": "\"date\""
        },
        {
         "metadata": "{}",
         "name": "order_customer_id",
         "type": "\"integer\""
        },
        {
         "metadata": "{}",
         "name": "customer_name",
         "type": "\"string\""
        },
        {
         "metadata": "{}",
         "name": "product_id",
         "type": "\"integer\""
        },
        {
         "metadata": "{}",
         "name": "product_name",
         "type": "\"string\""
        },
        {
         "metadata": "{}",
         "name": "order_status",
         "type": "\"string\""
        },
        {
         "metadata": "{}",
         "name": "order_total",
         "type": "\"decimal(11,1)\""
        },
        {
         "metadata": "{}",
         "name": "quantity",
         "type": "\"integer\""
        },
        {
         "metadata": "{}",
         "name": "price",
         "type": "\"decimal(10,1)\""
        }
       ],
       "type": "table"
      }
     },
     "output_type": "display_data"
    }
   ],
   "source": [
    "%sql\n",
    "select * from tras_sales LIMIT 3"
   ]
  },
  {
   "cell_type": "markdown",
   "metadata": {
    "application/vnd.databricks.v1+cell": {
     "cellMetadata": {},
     "inputWidgets": {},
     "nuid": "ab0ee420-0240-4996-b3ff-18a6052ae7f4",
     "showTitle": false,
     "tableResultSettingsMap": {},
     "title": ""
    }
   },
   "source": [
    "## Data Modeling"
   ]
  },
  {
   "cell_type": "code",
   "execution_count": 0,
   "metadata": {
    "application/vnd.databricks.v1+cell": {
     "cellMetadata": {
      "byteLimit": 2048000,
      "implicitDf": true,
      "rowLimit": 10000
     },
     "inputWidgets": {},
     "nuid": "93918e66-fc52-409c-9925-b3d952153dbe",
     "showTitle": false,
     "tableResultSettingsMap": {},
     "title": ""
    }
   },
   "outputs": [],
   "source": [
    "%sql\n",
    "Create database if not exists salesModeling"
   ]
  },
  {
   "cell_type": "markdown",
   "metadata": {
    "application/vnd.databricks.v1+cell": {
     "cellMetadata": {},
     "inputWidgets": {},
     "nuid": "1cb55633-182e-40d0-8509-84c115202147",
     "showTitle": false,
     "tableResultSettingsMap": {},
     "title": ""
    }
   },
   "source": [
    "### Creating surrogate key for Distinct Customer ID"
   ]
  },
  {
   "cell_type": "code",
   "execution_count": 0,
   "metadata": {
    "application/vnd.databricks.v1+cell": {
     "cellMetadata": {
      "byteLimit": 2048000,
      "implicitDf": true,
      "rowLimit": 10000
     },
     "inputWidgets": {},
     "nuid": "ba46089d-00fa-4864-a0b6-c12a452618c8",
     "showTitle": false,
     "tableResultSettingsMap": {
      "0": {
       "dataGridStateBlob": "{\"version\":1,\"tableState\":{\"columnPinning\":{\"left\":[\"#row_number#\"],\"right\":[]},\"columnSizing\":{},\"columnVisibility\":{}},\"settings\":{\"columns\":{}},\"syncTimestamp\":1757823298338}",
       "filterBlob": null,
       "queryPlanFiltersBlob": null,
       "tableResultIndex": 0
      }
     },
     "title": ""
    }
   },
   "outputs": [],
   "source": [
    "%sql\n",
    "create or replace view salesdwh.dim_customer_view\n",
    "as\n",
    "select \n",
    "*,\n",
    "row_number() over(order by customer_id) as DimCustomerKey \n",
    "from  (select\n",
    "distinct(order_customer_id) as customer_id,\n",
    "customer_name\n",
    "from tras_sales order by customer_id)subquery"
   ]
  },
  {
   "cell_type": "markdown",
   "metadata": {
    "application/vnd.databricks.v1+cell": {
     "cellMetadata": {},
     "inputWidgets": {},
     "nuid": "0b08d561-5641-4c36-85ed-198a82df28dd",
     "showTitle": false,
     "tableResultSettingsMap": {},
     "title": ""
    }
   },
   "source": [
    "### Creating Schema using another table"
   ]
  },
  {
   "cell_type": "code",
   "execution_count": 0,
   "metadata": {
    "application/vnd.databricks.v1+cell": {
     "cellMetadata": {
      "byteLimit": 2048000,
      "implicitDf": true,
      "rowLimit": 10000
     },
     "inputWidgets": {},
     "nuid": "7a725d76-698e-424d-805b-09252867c6a2",
     "showTitle": false,
     "tableResultSettingsMap": {},
     "title": ""
    }
   },
   "outputs": [
    {
     "data": {
      "text/html": [
       "<style scoped>\n",
       "  .table-result-container {\n",
       "    max-height: 300px;\n",
       "    overflow: auto;\n",
       "  }\n",
       "  table, th, td {\n",
       "    border: 1px solid black;\n",
       "    border-collapse: collapse;\n",
       "  }\n",
       "  th, td {\n",
       "    padding: 5px;\n",
       "  }\n",
       "  th {\n",
       "    text-align: left;\n",
       "  }\n",
       "</style><div class='table-result-container'><table class='table-result'><thead style='background-color: white'><tr><th>num_affected_rows</th><th>num_inserted_rows</th></tr></thead><tbody></tbody></table></div>"
      ]
     },
     "metadata": {
      "application/vnd.databricks.v1+output": {
       "addedWidgets": {},
       "aggData": [],
       "aggError": "",
       "aggOverflow": false,
       "aggSchema": [],
       "aggSeriesLimitReached": false,
       "aggType": "",
       "arguments": {},
       "columnCustomDisplayInfos": {},
       "data": [],
       "datasetInfos": [
        {
         "name": "_sqldf",
         "schema": {
          "fields": [
           {
            "metadata": {},
            "name": "num_affected_rows",
            "nullable": true,
            "type": "long"
           },
           {
            "metadata": {},
            "name": "num_inserted_rows",
            "nullable": true,
            "type": "long"
           }
          ],
          "type": "struct"
         },
         "tableIdentifier": null,
         "typeStr": "pyspark.sql.dataframe.DataFrame"
        }
       ],
       "dbfsResultPath": null,
       "isJsonSchema": true,
       "metadata": {
        "createTempViewForImplicitDf": true,
        "dataframeName": "_sqldf",
        "executionCount": 33
       },
       "overflow": false,
       "plotOptions": {
        "customPlotOptions": {},
        "displayType": "table",
        "pivotAggregation": null,
        "pivotColumns": null,
        "xColumns": null,
        "yColumns": null
       },
       "removedWidgets": [],
       "schema": [
        {
         "metadata": "{}",
         "name": "num_affected_rows",
         "type": "\"long\""
        },
        {
         "metadata": "{}",
         "name": "num_inserted_rows",
         "type": "\"long\""
        }
       ],
       "type": "table"
      }
     },
     "output_type": "display_data"
    }
   ],
   "source": [
    "%sql\n",
    "create or replace table salesmodeling.customer_dim as select * from salesdwh.dim_customer_view where 1=0"
   ]
  },
  {
   "cell_type": "markdown",
   "metadata": {
    "application/vnd.databricks.v1+cell": {
     "cellMetadata": {},
     "inputWidgets": {},
     "nuid": "b455f7bd-65e5-4474-a1c7-4415f959afd3",
     "showTitle": false,
     "tableResultSettingsMap": {},
     "title": ""
    }
   },
   "source": [
    "### inserting Values from another table"
   ]
  },
  {
   "cell_type": "code",
   "execution_count": 0,
   "metadata": {
    "application/vnd.databricks.v1+cell": {
     "cellMetadata": {
      "byteLimit": 2048000,
      "implicitDf": true,
      "rowLimit": 10000
     },
     "inputWidgets": {},
     "nuid": "16c37c42-c860-4680-a489-1bcab6d89d7d",
     "showTitle": false,
     "tableResultSettingsMap": {},
     "title": ""
    }
   },
   "outputs": [
    {
     "data": {
      "text/html": [
       "<style scoped>\n",
       "  .table-result-container {\n",
       "    max-height: 300px;\n",
       "    overflow: auto;\n",
       "  }\n",
       "  table, th, td {\n",
       "    border: 1px solid black;\n",
       "    border-collapse: collapse;\n",
       "  }\n",
       "  th, td {\n",
       "    padding: 5px;\n",
       "  }\n",
       "  th {\n",
       "    text-align: left;\n",
       "  }\n",
       "</style><div class='table-result-container'><table class='table-result'><thead style='background-color: white'><tr><th>num_affected_rows</th><th>num_inserted_rows</th></tr></thead><tbody><tr><td>175</td><td>175</td></tr></tbody></table></div>"
      ]
     },
     "metadata": {
      "application/vnd.databricks.v1+output": {
       "addedWidgets": {},
       "aggData": [],
       "aggError": "",
       "aggOverflow": false,
       "aggSchema": [],
       "aggSeriesLimitReached": false,
       "aggType": "",
       "arguments": {},
       "columnCustomDisplayInfos": {},
       "data": [
        [
         175,
         175
        ]
       ],
       "datasetInfos": [
        {
         "name": "_sqldf",
         "schema": {
          "fields": [
           {
            "metadata": {},
            "name": "num_affected_rows",
            "nullable": true,
            "type": "long"
           },
           {
            "metadata": {},
            "name": "num_inserted_rows",
            "nullable": true,
            "type": "long"
           }
          ],
          "type": "struct"
         },
         "tableIdentifier": null,
         "typeStr": "pyspark.sql.dataframe.DataFrame"
        }
       ],
       "dbfsResultPath": null,
       "isJsonSchema": true,
       "metadata": {
        "createTempViewForImplicitDf": true,
        "dataframeName": "_sqldf",
        "executionCount": 34
       },
       "overflow": false,
       "plotOptions": {
        "customPlotOptions": {},
        "displayType": "table",
        "pivotAggregation": null,
        "pivotColumns": null,
        "xColumns": null,
        "yColumns": null
       },
       "removedWidgets": [],
       "schema": [
        {
         "metadata": "{}",
         "name": "num_affected_rows",
         "type": "\"long\""
        },
        {
         "metadata": "{}",
         "name": "num_inserted_rows",
         "type": "\"long\""
        }
       ],
       "type": "table"
      }
     },
     "output_type": "display_data"
    }
   ],
   "source": [
    "%sql\n",
    "insert into salesmodeling.customer_dim\n",
    "select * from salesdwh.dim_customer_view"
   ]
  },
  {
   "cell_type": "markdown",
   "metadata": {
    "application/vnd.databricks.v1+cell": {
     "cellMetadata": {},
     "inputWidgets": {},
     "nuid": "97494717-3ccc-4403-8f8a-66ad71d629ba",
     "showTitle": false,
     "tableResultSettingsMap": {},
     "title": ""
    }
   },
   "source": [
    "### Customer Dimension Table"
   ]
  },
  {
   "cell_type": "code",
   "execution_count": 0,
   "metadata": {
    "application/vnd.databricks.v1+cell": {
     "cellMetadata": {
      "byteLimit": 2048000,
      "implicitDf": true,
      "rowLimit": 10000
     },
     "inputWidgets": {},
     "nuid": "1a2df73e-8360-47c6-a62c-be179dc724b8",
     "showTitle": false,
     "tableResultSettingsMap": {},
     "title": ""
    }
   },
   "outputs": [
    {
     "data": {
      "text/html": [
       "<style scoped>\n",
       "  .table-result-container {\n",
       "    max-height: 300px;\n",
       "    overflow: auto;\n",
       "  }\n",
       "  table, th, td {\n",
       "    border: 1px solid black;\n",
       "    border-collapse: collapse;\n",
       "  }\n",
       "  th, td {\n",
       "    padding: 5px;\n",
       "  }\n",
       "  th {\n",
       "    text-align: left;\n",
       "  }\n",
       "</style><div class='table-result-container'><table class='table-result'><thead style='background-color: white'><tr><th>customer_id</th><th>customer_name</th><th>DimCustomerKey</th></tr></thead><tbody><tr><td>1001</td><td>Emma</td><td>1</td></tr><tr><td>1001</td><td>Alice</td><td>2</td></tr><tr><td>1002</td><td>Emma</td><td>3</td></tr><tr><td>1003</td><td>Hannah</td><td>4</td></tr><tr><td>1003</td><td>Julia</td><td>5</td></tr><tr><td>1003</td><td>Charlie</td><td>6</td></tr><tr><td>1003</td><td>Bob</td><td>7</td></tr><tr><td>1005</td><td>Julia</td><td>8</td></tr><tr><td>1005</td><td>David</td><td>9</td></tr><tr><td>1005</td><td>Charlie</td><td>10</td></tr><tr><td>1006</td><td>Bob</td><td>11</td></tr><tr><td>1006</td><td>Ian</td><td>12</td></tr><tr><td>1006</td><td>David</td><td>13</td></tr><tr><td>1007</td><td>Charlie</td><td>14</td></tr><tr><td>1007</td><td>Bob</td><td>15</td></tr><tr><td>1008</td><td>Hannah</td><td>16</td></tr><tr><td>1008</td><td>Alice</td><td>17</td></tr><tr><td>1009</td><td>Grace</td><td>18</td></tr><tr><td>1009</td><td>Alice</td><td>19</td></tr><tr><td>1010</td><td>Grace</td><td>20</td></tr><tr><td>1011</td><td>Emma</td><td>21</td></tr><tr><td>1011</td><td>Hannah</td><td>22</td></tr><tr><td>1013</td><td>Grace</td><td>23</td></tr><tr><td>1013</td><td>Ian</td><td>24</td></tr><tr><td>1014</td><td>Alice</td><td>25</td></tr><tr><td>1014</td><td>Frank</td><td>26</td></tr><tr><td>1015</td><td>Frank</td><td>27</td></tr><tr><td>1015</td><td>Hannah</td><td>28</td></tr><tr><td>1015</td><td>Alice</td><td>29</td></tr><tr><td>1016</td><td>Ian</td><td>30</td></tr><tr><td>1016</td><td>Frank</td><td>31</td></tr><tr><td>1016</td><td>Alice</td><td>32</td></tr><tr><td>1017</td><td>Emma</td><td>33</td></tr><tr><td>1017</td><td>Julia</td><td>34</td></tr><tr><td>1018</td><td>Charlie</td><td>35</td></tr><tr><td>1019</td><td>Grace</td><td>36</td></tr><tr><td>1019</td><td>Hannah</td><td>37</td></tr><tr><td>1020</td><td>Julia</td><td>38</td></tr><tr><td>1020</td><td>David</td><td>39</td></tr><tr><td>1020</td><td>Frank</td><td>40</td></tr><tr><td>1021</td><td>Emma</td><td>41</td></tr><tr><td>1022</td><td>Bob</td><td>42</td></tr><tr><td>1024</td><td>Julia</td><td>43</td></tr><tr><td>1024</td><td>David</td><td>44</td></tr><tr><td>1024</td><td>Alice</td><td>45</td></tr><tr><td>1025</td><td>Charlie</td><td>46</td></tr><tr><td>1026</td><td>Charlie</td><td>47</td></tr><tr><td>1027</td><td>Alice</td><td>48</td></tr><tr><td>1027</td><td>Julia</td><td>49</td></tr><tr><td>1028</td><td>Hannah</td><td>50</td></tr><tr><td>1028</td><td>Frank</td><td>51</td></tr><tr><td>1028</td><td>Ian</td><td>52</td></tr><tr><td>1029</td><td>Alice</td><td>53</td></tr><tr><td>1029</td><td>Emma</td><td>54</td></tr><tr><td>1029</td><td>Frank</td><td>55</td></tr><tr><td>1030</td><td>Charlie</td><td>56</td></tr><tr><td>1031</td><td>Julia</td><td>57</td></tr><tr><td>1031</td><td>Charlie</td><td>58</td></tr><tr><td>1032</td><td>Frank</td><td>59</td></tr><tr><td>1032</td><td>Ian</td><td>60</td></tr><tr><td>1033</td><td>Ian</td><td>61</td></tr><tr><td>1033</td><td>Charlie</td><td>62</td></tr><tr><td>1034</td><td>Alice</td><td>63</td></tr><tr><td>1034</td><td>Julia</td><td>64</td></tr><tr><td>1035</td><td>Grace</td><td>65</td></tr><tr><td>1035</td><td>Charlie</td><td>66</td></tr><tr><td>1035</td><td>Bob</td><td>67</td></tr><tr><td>1037</td><td>Emma</td><td>68</td></tr><tr><td>1037</td><td>Ian</td><td>69</td></tr><tr><td>1037</td><td>Alice</td><td>70</td></tr><tr><td>1039</td><td>Grace</td><td>71</td></tr><tr><td>1040</td><td>David</td><td>72</td></tr><tr><td>1040</td><td>Bob</td><td>73</td></tr><tr><td>1040</td><td>Charlie</td><td>74</td></tr><tr><td>1040</td><td>Ian</td><td>75</td></tr><tr><td>1041</td><td>Grace</td><td>76</td></tr><tr><td>1042</td><td>Bob</td><td>77</td></tr><tr><td>1042</td><td>Hannah</td><td>78</td></tr><tr><td>1042</td><td>Frank</td><td>79</td></tr><tr><td>1044</td><td>Charlie</td><td>80</td></tr><tr><td>1045</td><td>Charlie</td><td>81</td></tr><tr><td>1045</td><td>Ian</td><td>82</td></tr><tr><td>1046</td><td>Emma</td><td>83</td></tr><tr><td>1046</td><td>David</td><td>84</td></tr><tr><td>1046</td><td>Alice</td><td>85</td></tr><tr><td>1047</td><td>Emma</td><td>86</td></tr><tr><td>1048</td><td>David</td><td>87</td></tr><tr><td>1048</td><td>Frank</td><td>88</td></tr><tr><td>1048</td><td>Bob</td><td>89</td></tr><tr><td>1049</td><td>Bob</td><td>90</td></tr><tr><td>1049</td><td>Ian</td><td>91</td></tr><tr><td>1050</td><td>Emma</td><td>92</td></tr><tr><td>1050</td><td>Ian</td><td>93</td></tr><tr><td>1051</td><td>Frank</td><td>94</td></tr><tr><td>1051</td><td>Emma</td><td>95</td></tr><tr><td>1052</td><td>Charlie</td><td>96</td></tr><tr><td>1052</td><td>Hannah</td><td>97</td></tr><tr><td>1052</td><td>David</td><td>98</td></tr><tr><td>1053</td><td>Emma</td><td>99</td></tr><tr><td>1053</td><td>Frank</td><td>100</td></tr><tr><td>1053</td><td>David</td><td>101</td></tr><tr><td>1053</td><td>Ian</td><td>102</td></tr><tr><td>1054</td><td>Ian</td><td>103</td></tr><tr><td>1057</td><td>David</td><td>104</td></tr><tr><td>1057</td><td>Frank</td><td>105</td></tr><tr><td>1057</td><td>Ian</td><td>106</td></tr><tr><td>1057</td><td>Alice</td><td>107</td></tr><tr><td>1057</td><td>Julia</td><td>108</td></tr><tr><td>1058</td><td>Bob</td><td>109</td></tr><tr><td>1058</td><td>Ian</td><td>110</td></tr><tr><td>1058</td><td>Emma</td><td>111</td></tr><tr><td>1059</td><td>Ian</td><td>112</td></tr><tr><td>1059</td><td>Charlie</td><td>113</td></tr><tr><td>1060</td><td>Grace</td><td>114</td></tr><tr><td>1060</td><td>Frank</td><td>115</td></tr><tr><td>1062</td><td>Ian</td><td>116</td></tr><tr><td>1062</td><td>Julia</td><td>117</td></tr><tr><td>1063</td><td>Alice</td><td>118</td></tr><tr><td>1063</td><td>Ian</td><td>119</td></tr><tr><td>1064</td><td>David</td><td>120</td></tr><tr><td>1064</td><td>Charlie</td><td>121</td></tr><tr><td>1065</td><td>Julia</td><td>122</td></tr><tr><td>1067</td><td>Bob</td><td>123</td></tr><tr><td>1068</td><td>Julia</td><td>124</td></tr><tr><td>1069</td><td>Alice</td><td>125</td></tr><tr><td>1070</td><td>Bob</td><td>126</td></tr><tr><td>1071</td><td>Hannah</td><td>127</td></tr><tr><td>1071</td><td>Julia</td><td>128</td></tr><tr><td>1072</td><td>Ian</td><td>129</td></tr><tr><td>1072</td><td>Bob</td><td>130</td></tr><tr><td>1072</td><td>Julia</td><td>131</td></tr><tr><td>1072</td><td>David</td><td>132</td></tr><tr><td>1073</td><td>Frank</td><td>133</td></tr><tr><td>1075</td><td>Charlie</td><td>134</td></tr><tr><td>1075</td><td>Frank</td><td>135</td></tr><tr><td>1077</td><td>Frank</td><td>136</td></tr><tr><td>1078</td><td>Alice</td><td>137</td></tr><tr><td>1078</td><td>Ian</td><td>138</td></tr><tr><td>1080</td><td>Emma</td><td>139</td></tr><tr><td>1080</td><td>Julia</td><td>140</td></tr><tr><td>1081</td><td>Julia</td><td>141</td></tr><tr><td>1082</td><td>Alice</td><td>142</td></tr><tr><td>1082</td><td>Grace</td><td>143</td></tr><tr><td>1082</td><td>Frank</td><td>144</td></tr><tr><td>1083</td><td>Ian</td><td>145</td></tr><tr><td>1083</td><td>David</td><td>146</td></tr><tr><td>1084</td><td>Hannah</td><td>147</td></tr><tr><td>1085</td><td>Alice</td><td>148</td></tr><tr><td>1086</td><td>Emma</td><td>149</td></tr><tr><td>1087</td><td>David</td><td>150</td></tr><tr><td>1087</td><td>Emma</td><td>151</td></tr><tr><td>1088</td><td>David</td><td>152</td></tr><tr><td>1088</td><td>Ian</td><td>153</td></tr><tr><td>1090</td><td>Frank</td><td>154</td></tr><tr><td>1090</td><td>David</td><td>155</td></tr><tr><td>1091</td><td>Ian</td><td>156</td></tr><tr><td>1091</td><td>Emma</td><td>157</td></tr><tr><td>1091</td><td>Frank</td><td>158</td></tr><tr><td>1092</td><td>Grace</td><td>159</td></tr><tr><td>1093</td><td>Julia</td><td>160</td></tr><tr><td>1093</td><td>David</td><td>161</td></tr><tr><td>1093</td><td>Frank</td><td>162</td></tr><tr><td>1094</td><td>Alice</td><td>163</td></tr><tr><td>1095</td><td>Bob</td><td>164</td></tr><tr><td>1095</td><td>Grace</td><td>165</td></tr><tr><td>1096</td><td>Emma</td><td>166</td></tr><tr><td>1096</td><td>Frank</td><td>167</td></tr><tr><td>1097</td><td>Ian</td><td>168</td></tr><tr><td>1097</td><td>Julia</td><td>169</td></tr><tr><td>1097</td><td>Grace</td><td>170</td></tr><tr><td>1098</td><td>Frank</td><td>171</td></tr><tr><td>1098</td><td>Charlie</td><td>172</td></tr><tr><td>1098</td><td>Bob</td><td>173</td></tr><tr><td>1099</td><td>Charlie</td><td>174</td></tr><tr><td>1100</td><td>Julia</td><td>175</td></tr></tbody></table></div>"
      ]
     },
     "metadata": {
      "application/vnd.databricks.v1+output": {
       "addedWidgets": {},
       "aggData": [],
       "aggError": "",
       "aggOverflow": false,
       "aggSchema": [],
       "aggSeriesLimitReached": false,
       "aggType": "",
       "arguments": {},
       "columnCustomDisplayInfos": {},
       "data": [
        [
         1001,
         "Emma",
         1
        ],
        [
         1001,
         "Alice",
         2
        ],
        [
         1002,
         "Emma",
         3
        ],
        [
         1003,
         "Hannah",
         4
        ],
        [
         1003,
         "Julia",
         5
        ],
        [
         1003,
         "Charlie",
         6
        ],
        [
         1003,
         "Bob",
         7
        ],
        [
         1005,
         "Julia",
         8
        ],
        [
         1005,
         "David",
         9
        ],
        [
         1005,
         "Charlie",
         10
        ],
        [
         1006,
         "Bob",
         11
        ],
        [
         1006,
         "Ian",
         12
        ],
        [
         1006,
         "David",
         13
        ],
        [
         1007,
         "Charlie",
         14
        ],
        [
         1007,
         "Bob",
         15
        ],
        [
         1008,
         "Hannah",
         16
        ],
        [
         1008,
         "Alice",
         17
        ],
        [
         1009,
         "Grace",
         18
        ],
        [
         1009,
         "Alice",
         19
        ],
        [
         1010,
         "Grace",
         20
        ],
        [
         1011,
         "Emma",
         21
        ],
        [
         1011,
         "Hannah",
         22
        ],
        [
         1013,
         "Grace",
         23
        ],
        [
         1013,
         "Ian",
         24
        ],
        [
         1014,
         "Alice",
         25
        ],
        [
         1014,
         "Frank",
         26
        ],
        [
         1015,
         "Frank",
         27
        ],
        [
         1015,
         "Hannah",
         28
        ],
        [
         1015,
         "Alice",
         29
        ],
        [
         1016,
         "Ian",
         30
        ],
        [
         1016,
         "Frank",
         31
        ],
        [
         1016,
         "Alice",
         32
        ],
        [
         1017,
         "Emma",
         33
        ],
        [
         1017,
         "Julia",
         34
        ],
        [
         1018,
         "Charlie",
         35
        ],
        [
         1019,
         "Grace",
         36
        ],
        [
         1019,
         "Hannah",
         37
        ],
        [
         1020,
         "Julia",
         38
        ],
        [
         1020,
         "David",
         39
        ],
        [
         1020,
         "Frank",
         40
        ],
        [
         1021,
         "Emma",
         41
        ],
        [
         1022,
         "Bob",
         42
        ],
        [
         1024,
         "Julia",
         43
        ],
        [
         1024,
         "David",
         44
        ],
        [
         1024,
         "Alice",
         45
        ],
        [
         1025,
         "Charlie",
         46
        ],
        [
         1026,
         "Charlie",
         47
        ],
        [
         1027,
         "Alice",
         48
        ],
        [
         1027,
         "Julia",
         49
        ],
        [
         1028,
         "Hannah",
         50
        ],
        [
         1028,
         "Frank",
         51
        ],
        [
         1028,
         "Ian",
         52
        ],
        [
         1029,
         "Alice",
         53
        ],
        [
         1029,
         "Emma",
         54
        ],
        [
         1029,
         "Frank",
         55
        ],
        [
         1030,
         "Charlie",
         56
        ],
        [
         1031,
         "Julia",
         57
        ],
        [
         1031,
         "Charlie",
         58
        ],
        [
         1032,
         "Frank",
         59
        ],
        [
         1032,
         "Ian",
         60
        ],
        [
         1033,
         "Ian",
         61
        ],
        [
         1033,
         "Charlie",
         62
        ],
        [
         1034,
         "Alice",
         63
        ],
        [
         1034,
         "Julia",
         64
        ],
        [
         1035,
         "Grace",
         65
        ],
        [
         1035,
         "Charlie",
         66
        ],
        [
         1035,
         "Bob",
         67
        ],
        [
         1037,
         "Emma",
         68
        ],
        [
         1037,
         "Ian",
         69
        ],
        [
         1037,
         "Alice",
         70
        ],
        [
         1039,
         "Grace",
         71
        ],
        [
         1040,
         "David",
         72
        ],
        [
         1040,
         "Bob",
         73
        ],
        [
         1040,
         "Charlie",
         74
        ],
        [
         1040,
         "Ian",
         75
        ],
        [
         1041,
         "Grace",
         76
        ],
        [
         1042,
         "Bob",
         77
        ],
        [
         1042,
         "Hannah",
         78
        ],
        [
         1042,
         "Frank",
         79
        ],
        [
         1044,
         "Charlie",
         80
        ],
        [
         1045,
         "Charlie",
         81
        ],
        [
         1045,
         "Ian",
         82
        ],
        [
         1046,
         "Emma",
         83
        ],
        [
         1046,
         "David",
         84
        ],
        [
         1046,
         "Alice",
         85
        ],
        [
         1047,
         "Emma",
         86
        ],
        [
         1048,
         "David",
         87
        ],
        [
         1048,
         "Frank",
         88
        ],
        [
         1048,
         "Bob",
         89
        ],
        [
         1049,
         "Bob",
         90
        ],
        [
         1049,
         "Ian",
         91
        ],
        [
         1050,
         "Emma",
         92
        ],
        [
         1050,
         "Ian",
         93
        ],
        [
         1051,
         "Frank",
         94
        ],
        [
         1051,
         "Emma",
         95
        ],
        [
         1052,
         "Charlie",
         96
        ],
        [
         1052,
         "Hannah",
         97
        ],
        [
         1052,
         "David",
         98
        ],
        [
         1053,
         "Emma",
         99
        ],
        [
         1053,
         "Frank",
         100
        ],
        [
         1053,
         "David",
         101
        ],
        [
         1053,
         "Ian",
         102
        ],
        [
         1054,
         "Ian",
         103
        ],
        [
         1057,
         "David",
         104
        ],
        [
         1057,
         "Frank",
         105
        ],
        [
         1057,
         "Ian",
         106
        ],
        [
         1057,
         "Alice",
         107
        ],
        [
         1057,
         "Julia",
         108
        ],
        [
         1058,
         "Bob",
         109
        ],
        [
         1058,
         "Ian",
         110
        ],
        [
         1058,
         "Emma",
         111
        ],
        [
         1059,
         "Ian",
         112
        ],
        [
         1059,
         "Charlie",
         113
        ],
        [
         1060,
         "Grace",
         114
        ],
        [
         1060,
         "Frank",
         115
        ],
        [
         1062,
         "Ian",
         116
        ],
        [
         1062,
         "Julia",
         117
        ],
        [
         1063,
         "Alice",
         118
        ],
        [
         1063,
         "Ian",
         119
        ],
        [
         1064,
         "David",
         120
        ],
        [
         1064,
         "Charlie",
         121
        ],
        [
         1065,
         "Julia",
         122
        ],
        [
         1067,
         "Bob",
         123
        ],
        [
         1068,
         "Julia",
         124
        ],
        [
         1069,
         "Alice",
         125
        ],
        [
         1070,
         "Bob",
         126
        ],
        [
         1071,
         "Hannah",
         127
        ],
        [
         1071,
         "Julia",
         128
        ],
        [
         1072,
         "Ian",
         129
        ],
        [
         1072,
         "Bob",
         130
        ],
        [
         1072,
         "Julia",
         131
        ],
        [
         1072,
         "David",
         132
        ],
        [
         1073,
         "Frank",
         133
        ],
        [
         1075,
         "Charlie",
         134
        ],
        [
         1075,
         "Frank",
         135
        ],
        [
         1077,
         "Frank",
         136
        ],
        [
         1078,
         "Alice",
         137
        ],
        [
         1078,
         "Ian",
         138
        ],
        [
         1080,
         "Emma",
         139
        ],
        [
         1080,
         "Julia",
         140
        ],
        [
         1081,
         "Julia",
         141
        ],
        [
         1082,
         "Alice",
         142
        ],
        [
         1082,
         "Grace",
         143
        ],
        [
         1082,
         "Frank",
         144
        ],
        [
         1083,
         "Ian",
         145
        ],
        [
         1083,
         "David",
         146
        ],
        [
         1084,
         "Hannah",
         147
        ],
        [
         1085,
         "Alice",
         148
        ],
        [
         1086,
         "Emma",
         149
        ],
        [
         1087,
         "David",
         150
        ],
        [
         1087,
         "Emma",
         151
        ],
        [
         1088,
         "David",
         152
        ],
        [
         1088,
         "Ian",
         153
        ],
        [
         1090,
         "Frank",
         154
        ],
        [
         1090,
         "David",
         155
        ],
        [
         1091,
         "Ian",
         156
        ],
        [
         1091,
         "Emma",
         157
        ],
        [
         1091,
         "Frank",
         158
        ],
        [
         1092,
         "Grace",
         159
        ],
        [
         1093,
         "Julia",
         160
        ],
        [
         1093,
         "David",
         161
        ],
        [
         1093,
         "Frank",
         162
        ],
        [
         1094,
         "Alice",
         163
        ],
        [
         1095,
         "Bob",
         164
        ],
        [
         1095,
         "Grace",
         165
        ],
        [
         1096,
         "Emma",
         166
        ],
        [
         1096,
         "Frank",
         167
        ],
        [
         1097,
         "Ian",
         168
        ],
        [
         1097,
         "Julia",
         169
        ],
        [
         1097,
         "Grace",
         170
        ],
        [
         1098,
         "Frank",
         171
        ],
        [
         1098,
         "Charlie",
         172
        ],
        [
         1098,
         "Bob",
         173
        ],
        [
         1099,
         "Charlie",
         174
        ],
        [
         1100,
         "Julia",
         175
        ]
       ],
       "datasetInfos": [
        {
         "name": "_sqldf",
         "schema": {
          "fields": [
           {
            "metadata": {},
            "name": "customer_id",
            "nullable": true,
            "type": "integer"
           },
           {
            "metadata": {},
            "name": "customer_name",
            "nullable": true,
            "type": "string"
           },
           {
            "metadata": {},
            "name": "DimCustomerKey",
            "nullable": true,
            "type": "integer"
           }
          ],
          "type": "struct"
         },
         "tableIdentifier": null,
         "typeStr": "pyspark.sql.dataframe.DataFrame"
        }
       ],
       "dbfsResultPath": null,
       "isJsonSchema": true,
       "metadata": {
        "createTempViewForImplicitDf": true,
        "dataframeName": "_sqldf",
        "executionCount": 45
       },
       "overflow": false,
       "plotOptions": {
        "customPlotOptions": {},
        "displayType": "table",
        "pivotAggregation": null,
        "pivotColumns": null,
        "xColumns": null,
        "yColumns": null
       },
       "removedWidgets": [],
       "schema": [
        {
         "metadata": "{}",
         "name": "customer_id",
         "type": "\"integer\""
        },
        {
         "metadata": "{}",
         "name": "customer_name",
         "type": "\"string\""
        },
        {
         "metadata": "{}",
         "name": "DimCustomerKey",
         "type": "\"integer\""
        }
       ],
       "type": "table"
      }
     },
     "output_type": "display_data"
    }
   ],
   "source": [
    "%sql\n",
    "select * from salesmodeling.customer_dim"
   ]
  },
  {
   "cell_type": "code",
   "execution_count": 0,
   "metadata": {
    "application/vnd.databricks.v1+cell": {
     "cellMetadata": {
      "byteLimit": 2048000,
      "implicitDf": true,
      "rowLimit": 10000
     },
     "inputWidgets": {},
     "nuid": "09e55acf-d75c-4294-a380-c1b84e355121",
     "showTitle": false,
     "tableResultSettingsMap": {},
     "title": ""
    }
   },
   "outputs": [],
   "source": [
    "%sql\n",
    "create or replace view salesdwh.dim_product_view\n",
    "as\n",
    "select \n",
    "*,\n",
    "row_number() over(order by product_id) as DimProductKey \n",
    "from  (select\n",
    "distinct(product_id) as product_id,\n",
    "product_name\n",
    "from tras_sales order by product_id)subquery"
   ]
  },
  {
   "cell_type": "code",
   "execution_count": 0,
   "metadata": {
    "application/vnd.databricks.v1+cell": {
     "cellMetadata": {
      "byteLimit": 2048000,
      "implicitDf": true,
      "rowLimit": 10000
     },
     "inputWidgets": {},
     "nuid": "81741d1b-0e83-4813-af90-7937535d3a6e",
     "showTitle": false,
     "tableResultSettingsMap": {},
     "title": ""
    }
   },
   "outputs": [
    {
     "data": {
      "text/html": [
       "<style scoped>\n",
       "  .table-result-container {\n",
       "    max-height: 300px;\n",
       "    overflow: auto;\n",
       "  }\n",
       "  table, th, td {\n",
       "    border: 1px solid black;\n",
       "    border-collapse: collapse;\n",
       "  }\n",
       "  th, td {\n",
       "    padding: 5px;\n",
       "  }\n",
       "  th {\n",
       "    text-align: left;\n",
       "  }\n",
       "</style><div class='table-result-container'><table class='table-result'><thead style='background-color: white'><tr><th>product_id</th><th>product_name</th><th>DimProductKey</th></tr></thead><tbody><tr><td>200</td><td>Laptop</td><td>1</td></tr><tr><td>200</td><td>Tablet</td><td>2</td></tr><tr><td>200</td><td>Printer</td><td>3</td></tr><tr><td>200</td><td>Camera</td><td>4</td></tr><tr><td>200</td><td>Mouse</td><td>5</td></tr><tr><td>200</td><td>Phone</td><td>6</td></tr><tr><td>200</td><td>Monitor</td><td>7</td></tr><tr><td>200</td><td>Keyboard</td><td>8</td></tr><tr><td>201</td><td>Printer</td><td>9</td></tr><tr><td>201</td><td>Speaker</td><td>10</td></tr><tr><td>201</td><td>Headphones</td><td>11</td></tr><tr><td>201</td><td>Tablet</td><td>12</td></tr><tr><td>201</td><td>Laptop</td><td>13</td></tr><tr><td>201</td><td>Camera</td><td>14</td></tr><tr><td>201</td><td>Phone</td><td>15</td></tr><tr><td>201</td><td>Monitor</td><td>16</td></tr><tr><td>202</td><td>Keyboard</td><td>17</td></tr><tr><td>202</td><td>Mouse</td><td>18</td></tr><tr><td>202</td><td>Phone</td><td>19</td></tr><tr><td>202</td><td>Camera</td><td>20</td></tr><tr><td>202</td><td>Headphones</td><td>21</td></tr><tr><td>202</td><td>Printer</td><td>22</td></tr><tr><td>202</td><td>Monitor</td><td>23</td></tr><tr><td>203</td><td>Phone</td><td>24</td></tr><tr><td>203</td><td>Speaker</td><td>25</td></tr><tr><td>203</td><td>Mouse</td><td>26</td></tr><tr><td>203</td><td>Headphones</td><td>27</td></tr><tr><td>203</td><td>Printer</td><td>28</td></tr><tr><td>203</td><td>Tablet</td><td>29</td></tr><tr><td>203</td><td>Camera</td><td>30</td></tr><tr><td>203</td><td>Laptop</td><td>31</td></tr><tr><td>204</td><td>Mouse</td><td>32</td></tr><tr><td>204</td><td>Headphones</td><td>33</td></tr><tr><td>204</td><td>Keyboard</td><td>34</td></tr><tr><td>204</td><td>Laptop</td><td>35</td></tr><tr><td>204</td><td>Monitor</td><td>36</td></tr><tr><td>204</td><td>Printer</td><td>37</td></tr><tr><td>204</td><td>Tablet</td><td>38</td></tr><tr><td>204</td><td>Speaker</td><td>39</td></tr><tr><td>204</td><td>Camera</td><td>40</td></tr><tr><td>204</td><td>Phone</td><td>41</td></tr><tr><td>205</td><td>Printer</td><td>42</td></tr><tr><td>205</td><td>Keyboard</td><td>43</td></tr><tr><td>205</td><td>Tablet</td><td>44</td></tr><tr><td>205</td><td>Laptop</td><td>45</td></tr><tr><td>205</td><td>Mouse</td><td>46</td></tr><tr><td>205</td><td>Headphones</td><td>47</td></tr><tr><td>206</td><td>Keyboard</td><td>48</td></tr><tr><td>206</td><td>Headphones</td><td>49</td></tr><tr><td>206</td><td>Tablet</td><td>50</td></tr><tr><td>206</td><td>Laptop</td><td>51</td></tr><tr><td>206</td><td>Phone</td><td>52</td></tr><tr><td>206</td><td>Printer</td><td>53</td></tr><tr><td>206</td><td>Camera</td><td>54</td></tr><tr><td>206</td><td>Mouse</td><td>55</td></tr><tr><td>206</td><td>Speaker</td><td>56</td></tr><tr><td>207</td><td>Camera</td><td>57</td></tr><tr><td>207</td><td>Speaker</td><td>58</td></tr><tr><td>207</td><td>Mouse</td><td>59</td></tr><tr><td>207</td><td>Monitor</td><td>60</td></tr><tr><td>207</td><td>Headphones</td><td>61</td></tr><tr><td>207</td><td>Keyboard</td><td>62</td></tr><tr><td>207</td><td>Phone</td><td>63</td></tr><tr><td>208</td><td>Headphones</td><td>64</td></tr><tr><td>208</td><td>Speaker</td><td>65</td></tr><tr><td>208</td><td>Printer</td><td>66</td></tr><tr><td>208</td><td>Mouse</td><td>67</td></tr><tr><td>208</td><td>Camera</td><td>68</td></tr><tr><td>208</td><td>Phone</td><td>69</td></tr><tr><td>208</td><td>Laptop</td><td>70</td></tr><tr><td>208</td><td>Tablet</td><td>71</td></tr><tr><td>209</td><td>Phone</td><td>72</td></tr><tr><td>209</td><td>Camera</td><td>73</td></tr><tr><td>209</td><td>Laptop</td><td>74</td></tr><tr><td>209</td><td>Monitor</td><td>75</td></tr><tr><td>209</td><td>Printer</td><td>76</td></tr><tr><td>209</td><td>Tablet</td><td>77</td></tr><tr><td>209</td><td>Keyboard</td><td>78</td></tr><tr><td>209</td><td>Mouse</td><td>79</td></tr><tr><td>209</td><td>Headphones</td><td>80</td></tr><tr><td>210</td><td>Mouse</td><td>81</td></tr><tr><td>210</td><td>Keyboard</td><td>82</td></tr><tr><td>210</td><td>Speaker</td><td>83</td></tr><tr><td>210</td><td>Phone</td><td>84</td></tr><tr><td>210</td><td>Printer</td><td>85</td></tr><tr><td>210</td><td>Tablet</td><td>86</td></tr><tr><td>210</td><td>Headphones</td><td>87</td></tr></tbody></table></div>"
      ]
     },
     "metadata": {
      "application/vnd.databricks.v1+output": {
       "addedWidgets": {},
       "aggData": [],
       "aggError": "",
       "aggOverflow": false,
       "aggSchema": [],
       "aggSeriesLimitReached": false,
       "aggType": "",
       "arguments": {},
       "columnCustomDisplayInfos": {},
       "data": [
        [
         200,
         "Laptop",
         1
        ],
        [
         200,
         "Tablet",
         2
        ],
        [
         200,
         "Printer",
         3
        ],
        [
         200,
         "Camera",
         4
        ],
        [
         200,
         "Mouse",
         5
        ],
        [
         200,
         "Phone",
         6
        ],
        [
         200,
         "Monitor",
         7
        ],
        [
         200,
         "Keyboard",
         8
        ],
        [
         201,
         "Printer",
         9
        ],
        [
         201,
         "Speaker",
         10
        ],
        [
         201,
         "Headphones",
         11
        ],
        [
         201,
         "Tablet",
         12
        ],
        [
         201,
         "Laptop",
         13
        ],
        [
         201,
         "Camera",
         14
        ],
        [
         201,
         "Phone",
         15
        ],
        [
         201,
         "Monitor",
         16
        ],
        [
         202,
         "Keyboard",
         17
        ],
        [
         202,
         "Mouse",
         18
        ],
        [
         202,
         "Phone",
         19
        ],
        [
         202,
         "Camera",
         20
        ],
        [
         202,
         "Headphones",
         21
        ],
        [
         202,
         "Printer",
         22
        ],
        [
         202,
         "Monitor",
         23
        ],
        [
         203,
         "Phone",
         24
        ],
        [
         203,
         "Speaker",
         25
        ],
        [
         203,
         "Mouse",
         26
        ],
        [
         203,
         "Headphones",
         27
        ],
        [
         203,
         "Printer",
         28
        ],
        [
         203,
         "Tablet",
         29
        ],
        [
         203,
         "Camera",
         30
        ],
        [
         203,
         "Laptop",
         31
        ],
        [
         204,
         "Mouse",
         32
        ],
        [
         204,
         "Headphones",
         33
        ],
        [
         204,
         "Keyboard",
         34
        ],
        [
         204,
         "Laptop",
         35
        ],
        [
         204,
         "Monitor",
         36
        ],
        [
         204,
         "Printer",
         37
        ],
        [
         204,
         "Tablet",
         38
        ],
        [
         204,
         "Speaker",
         39
        ],
        [
         204,
         "Camera",
         40
        ],
        [
         204,
         "Phone",
         41
        ],
        [
         205,
         "Printer",
         42
        ],
        [
         205,
         "Keyboard",
         43
        ],
        [
         205,
         "Tablet",
         44
        ],
        [
         205,
         "Laptop",
         45
        ],
        [
         205,
         "Mouse",
         46
        ],
        [
         205,
         "Headphones",
         47
        ],
        [
         206,
         "Keyboard",
         48
        ],
        [
         206,
         "Headphones",
         49
        ],
        [
         206,
         "Tablet",
         50
        ],
        [
         206,
         "Laptop",
         51
        ],
        [
         206,
         "Phone",
         52
        ],
        [
         206,
         "Printer",
         53
        ],
        [
         206,
         "Camera",
         54
        ],
        [
         206,
         "Mouse",
         55
        ],
        [
         206,
         "Speaker",
         56
        ],
        [
         207,
         "Camera",
         57
        ],
        [
         207,
         "Speaker",
         58
        ],
        [
         207,
         "Mouse",
         59
        ],
        [
         207,
         "Monitor",
         60
        ],
        [
         207,
         "Headphones",
         61
        ],
        [
         207,
         "Keyboard",
         62
        ],
        [
         207,
         "Phone",
         63
        ],
        [
         208,
         "Headphones",
         64
        ],
        [
         208,
         "Speaker",
         65
        ],
        [
         208,
         "Printer",
         66
        ],
        [
         208,
         "Mouse",
         67
        ],
        [
         208,
         "Camera",
         68
        ],
        [
         208,
         "Phone",
         69
        ],
        [
         208,
         "Laptop",
         70
        ],
        [
         208,
         "Tablet",
         71
        ],
        [
         209,
         "Phone",
         72
        ],
        [
         209,
         "Camera",
         73
        ],
        [
         209,
         "Laptop",
         74
        ],
        [
         209,
         "Monitor",
         75
        ],
        [
         209,
         "Printer",
         76
        ],
        [
         209,
         "Tablet",
         77
        ],
        [
         209,
         "Keyboard",
         78
        ],
        [
         209,
         "Mouse",
         79
        ],
        [
         209,
         "Headphones",
         80
        ],
        [
         210,
         "Mouse",
         81
        ],
        [
         210,
         "Keyboard",
         82
        ],
        [
         210,
         "Speaker",
         83
        ],
        [
         210,
         "Phone",
         84
        ],
        [
         210,
         "Printer",
         85
        ],
        [
         210,
         "Tablet",
         86
        ],
        [
         210,
         "Headphones",
         87
        ]
       ],
       "datasetInfos": [
        {
         "name": "_sqldf",
         "schema": {
          "fields": [
           {
            "metadata": {},
            "name": "product_id",
            "nullable": true,
            "type": "integer"
           },
           {
            "metadata": {},
            "name": "product_name",
            "nullable": true,
            "type": "string"
           },
           {
            "metadata": {},
            "name": "DimProductKey",
            "nullable": false,
            "type": "integer"
           }
          ],
          "type": "struct"
         },
         "tableIdentifier": null,
         "typeStr": "pyspark.sql.dataframe.DataFrame"
        }
       ],
       "dbfsResultPath": null,
       "isJsonSchema": true,
       "metadata": {
        "createTempViewForImplicitDf": true,
        "dataframeName": "_sqldf",
        "executionCount": 48
       },
       "overflow": false,
       "plotOptions": {
        "customPlotOptions": {},
        "displayType": "table",
        "pivotAggregation": null,
        "pivotColumns": null,
        "xColumns": null,
        "yColumns": null
       },
       "removedWidgets": [],
       "schema": [
        {
         "metadata": "{}",
         "name": "product_id",
         "type": "\"integer\""
        },
        {
         "metadata": "{}",
         "name": "product_name",
         "type": "\"string\""
        },
        {
         "metadata": "{}",
         "name": "DimProductKey",
         "type": "\"integer\""
        }
       ],
       "type": "table"
      }
     },
     "output_type": "display_data"
    }
   ],
   "source": [
    "%sql\n",
    "select * from salesdwh.dim_product_view"
   ]
  },
  {
   "cell_type": "code",
   "execution_count": 0,
   "metadata": {
    "application/vnd.databricks.v1+cell": {
     "cellMetadata": {
      "byteLimit": 2048000,
      "implicitDf": true,
      "rowLimit": 10000
     },
     "inputWidgets": {},
     "nuid": "7e80dba5-65d7-40df-8e0d-4c9fc742c5a0",
     "showTitle": false,
     "tableResultSettingsMap": {},
     "title": ""
    }
   },
   "outputs": [],
   "source": [
    "%sql\n",
    "create or replace table salesmodeling.product_dim\n",
    "(\n",
    "    product_id int,\n",
    "    product_name string,\n",
    "    DimProductKey int\n",
    ")"
   ]
  },
  {
   "cell_type": "code",
   "execution_count": 0,
   "metadata": {
    "application/vnd.databricks.v1+cell": {
     "cellMetadata": {
      "byteLimit": 2048000,
      "implicitDf": true,
      "rowLimit": 10000
     },
     "inputWidgets": {},
     "nuid": "58d11136-7e28-478a-af90-17ec63efa24a",
     "showTitle": false,
     "tableResultSettingsMap": {},
     "title": ""
    }
   },
   "outputs": [
    {
     "data": {
      "text/html": [
       "<style scoped>\n",
       "  .table-result-container {\n",
       "    max-height: 300px;\n",
       "    overflow: auto;\n",
       "  }\n",
       "  table, th, td {\n",
       "    border: 1px solid black;\n",
       "    border-collapse: collapse;\n",
       "  }\n",
       "  th, td {\n",
       "    padding: 5px;\n",
       "  }\n",
       "  th {\n",
       "    text-align: left;\n",
       "  }\n",
       "</style><div class='table-result-container'><table class='table-result'><thead style='background-color: white'><tr><th>num_affected_rows</th><th>num_inserted_rows</th></tr></thead><tbody><tr><td>87</td><td>87</td></tr></tbody></table></div>"
      ]
     },
     "metadata": {
      "application/vnd.databricks.v1+output": {
       "addedWidgets": {},
       "aggData": [],
       "aggError": "",
       "aggOverflow": false,
       "aggSchema": [],
       "aggSeriesLimitReached": false,
       "aggType": "",
       "arguments": {},
       "columnCustomDisplayInfos": {},
       "data": [
        [
         87,
         87
        ]
       ],
       "datasetInfos": [
        {
         "name": "_sqldf",
         "schema": {
          "fields": [
           {
            "metadata": {},
            "name": "num_affected_rows",
            "nullable": true,
            "type": "long"
           },
           {
            "metadata": {},
            "name": "num_inserted_rows",
            "nullable": true,
            "type": "long"
           }
          ],
          "type": "struct"
         },
         "tableIdentifier": null,
         "typeStr": "pyspark.sql.dataframe.DataFrame"
        }
       ],
       "dbfsResultPath": null,
       "isJsonSchema": true,
       "metadata": {
        "createTempViewForImplicitDf": true,
        "dataframeName": "_sqldf",
        "executionCount": 40
       },
       "overflow": false,
       "plotOptions": {
        "customPlotOptions": {},
        "displayType": "table",
        "pivotAggregation": null,
        "pivotColumns": null,
        "xColumns": null,
        "yColumns": null
       },
       "removedWidgets": [],
       "schema": [
        {
         "metadata": "{}",
         "name": "num_affected_rows",
         "type": "\"long\""
        },
        {
         "metadata": "{}",
         "name": "num_inserted_rows",
         "type": "\"long\""
        }
       ],
       "type": "table"
      }
     },
     "output_type": "display_data"
    }
   ],
   "source": [
    "%sql\n",
    "insert into salesmodeling.product_dim\n",
    "select * from salesdwh.dim_product_view"
   ]
  },
  {
   "cell_type": "markdown",
   "metadata": {
    "application/vnd.databricks.v1+cell": {
     "cellMetadata": {},
     "inputWidgets": {},
     "nuid": "c29a7e17-7700-45b9-a489-36b3dbd4b3b1",
     "showTitle": false,
     "tableResultSettingsMap": {},
     "title": ""
    }
   },
   "source": [
    "Creating Fact table"
   ]
  },
  {
   "cell_type": "code",
   "execution_count": 0,
   "metadata": {
    "application/vnd.databricks.v1+cell": {
     "cellMetadata": {
      "byteLimit": 2048000,
      "implicitDf": true,
      "rowLimit": 10000
     },
     "inputWidgets": {},
     "nuid": "a822c060-0827-4a5b-8815-2fad72520063",
     "showTitle": false,
     "tableResultSettingsMap": {
      "0": {
       "dataGridStateBlob": "{\"version\":1,\"tableState\":{\"columnPinning\":{\"left\":[\"#row_number#\"],\"right\":[]},\"columnSizing\":{\"product_id\":129},\"columnVisibility\":{}},\"settings\":{\"columns\":{}},\"syncTimestamp\":1757835154427}",
       "filterBlob": null,
       "queryPlanFiltersBlob": null,
       "tableResultIndex": 0
      }
     },
     "title": ""
    }
   },
   "outputs": [
    {
     "data": {
      "text/html": [
       "<style scoped>\n",
       "  .table-result-container {\n",
       "    max-height: 300px;\n",
       "    overflow: auto;\n",
       "  }\n",
       "  table, th, td {\n",
       "    border: 1px solid black;\n",
       "    border-collapse: collapse;\n",
       "  }\n",
       "  th, td {\n",
       "    padding: 5px;\n",
       "  }\n",
       "  th {\n",
       "    text-align: left;\n",
       "  }\n",
       "</style><div class='table-result-container'><table class='table-result'><thead style='background-color: white'><tr><th>order_id</th><th>order_date</th><th>order_customer_id</th><th>customer_name</th><th>product_id</th><th>product_name</th><th>order_status</th><th>order_total</th><th>quantity</th><th>price</th></tr></thead><tbody><tr><td>1</td><td>2024-02-08</td><td>1005</td><td>David</td><td>206</td><td>Mouse</td><td>Pending</td><td>784.7</td><td>1</td><td>784.7</td></tr><tr><td>2</td><td>2023-02-07</td><td>1053</td><td>Frank</td><td>205</td><td>Laptop</td><td>Cancelled</td><td>4110.3</td><td>3</td><td>1370.1</td></tr><tr><td>3</td><td>2023-01-04</td><td>1071</td><td>Julia</td><td>203</td><td>Speaker</td><td>Delivered</td><td>1417.8</td><td>3</td><td>472.6</td></tr><tr><td>4</td><td>2023-11-16</td><td>1072</td><td>Bob</td><td>209</td><td>Laptop</td><td>Cancelled</td><td>4598.5</td><td>3</td><td>1532.8</td></tr><tr><td>5</td><td>2024-12-04</td><td>1017</td><td>Julia</td><td>208</td><td>Printer</td><td>Shipped</td><td>1130.3</td><td>5</td><td>226.1</td></tr><tr><td>6</td><td>2025-01-13</td><td>1042</td><td>Frank</td><td>210</td><td>Mouse</td><td>Pending</td><td>694.6</td><td>3</td><td>231.6</td></tr><tr><td>7</td><td>2023-09-04</td><td>1069</td><td>Alice</td><td>202</td><td>Keyboard</td><td>Delivered</td><td>1064.2</td><td>4</td><td>266.1</td></tr><tr><td>8</td><td>2024-05-10</td><td>1048</td><td>Frank</td><td>210</td><td>Printer</td><td>Pending</td><td>4643.8</td><td>4</td><td>1161.0</td></tr><tr><td>9</td><td>2023-06-03</td><td>1020</td><td>David</td><td>209</td><td>Phone</td><td>Delivered</td><td>2621.4</td><td>4</td><td>655.4</td></tr><tr><td>10</td><td>2025-04-14</td><td>1064</td><td>Charlie</td><td>204</td><td>Headphones</td><td>Pending</td><td>2493.8</td><td>2</td><td>1246.9</td></tr><tr><td>11</td><td>2023-11-14</td><td>1084</td><td>Hannah</td><td>206</td><td>Keyboard</td><td>Shipped</td><td>2876.9</td><td>2</td><td>1438.5</td></tr><tr><td>12</td><td>2023-07-13</td><td>1019</td><td>Grace</td><td>203</td><td>Laptop</td><td>Delivered</td><td>1309.8</td><td>4</td><td>327.5</td></tr><tr><td>13</td><td>2024-06-06</td><td>1034</td><td>Julia</td><td>210</td><td>Tablet</td><td>Delivered</td><td>3401.3</td><td>4</td><td>850.3</td></tr><tr><td>14</td><td>2023-07-11</td><td>1057</td><td>Alice</td><td>206</td><td>Speaker</td><td>Shipped</td><td>1619.4</td><td>4</td><td>404.9</td></tr><tr><td>15</td><td>2024-07-03</td><td>1040</td><td>David</td><td>210</td><td>Keyboard</td><td>Delivered</td><td>1603.1</td><td>1</td><td>1603.2</td></tr><tr><td>16</td><td>2023-12-31</td><td>1097</td><td>Grace</td><td>206</td><td>Phone</td><td>Cancelled</td><td>5475.6</td><td>3</td><td>1825.2</td></tr><tr><td>17</td><td>2024-04-16</td><td>1001</td><td>Emma</td><td>201</td><td>Phone</td><td>Shipped</td><td>2371.0</td><td>2</td><td>1185.5</td></tr><tr><td>18</td><td>2024-08-21</td><td>1098</td><td>Frank</td><td>201</td><td>Headphones</td><td>Shipped</td><td>1188.1</td><td>5</td><td>237.6</td></tr><tr><td>19</td><td>2023-01-28</td><td>1095</td><td>Grace</td><td>210</td><td>Phone</td><td>Shipped</td><td>2202.1</td><td>3</td><td>734.0</td></tr><tr><td>20</td><td>2025-06-05</td><td>1037</td><td>Ian</td><td>206</td><td>Tablet</td><td>Pending</td><td>8951.1</td><td>5</td><td>1790.2</td></tr><tr><td>21</td><td>2024-09-21</td><td>1029</td><td>Frank</td><td>209</td><td>Keyboard</td><td>Shipped</td><td>156.4</td><td>2</td><td>78.2</td></tr><tr><td>22</td><td>2025-02-19</td><td>1099</td><td>Charlie</td><td>210</td><td>Speaker</td><td>Pending</td><td>597.0</td><td>3</td><td>199.0</td></tr><tr><td>23</td><td>2024-09-16</td><td>1033</td><td>Ian</td><td>203</td><td>Mouse</td><td>Delivered</td><td>4186.2</td><td>4</td><td>1046.6</td></tr><tr><td>24</td><td>2025-08-24</td><td>1005</td><td>Charlie</td><td>209</td><td>Camera</td><td>Pending</td><td>2475.7</td><td>2</td><td>1237.9</td></tr><tr><td>25</td><td>2023-05-27</td><td>1096</td><td>Emma</td><td>208</td><td>Headphones</td><td>Delivered</td><td>6953.2</td><td>4</td><td>1738.3</td></tr><tr><td>26</td><td>2024-11-20</td><td>1041</td><td>Grace</td><td>202</td><td>Phone</td><td>Cancelled</td><td>3309.1</td><td>4</td><td>827.3</td></tr><tr><td>27</td><td>2025-05-10</td><td>1051</td><td>Emma</td><td>203</td><td>Tablet</td><td>Pending</td><td>3456.7</td><td>2</td><td>1728.4</td></tr><tr><td>28</td><td>2023-12-22</td><td>1060</td><td>Grace</td><td>209</td><td>Camera</td><td>Pending</td><td>1647.4</td><td>1</td><td>1647.5</td></tr><tr><td>29</td><td>2024-05-19</td><td>1057</td><td>Julia</td><td>203</td><td>Headphones</td><td>Cancelled</td><td>5647.1</td><td>5</td><td>1129.4</td></tr><tr><td>30</td><td>2023-03-04</td><td>1057</td><td>Frank</td><td>206</td><td>Mouse</td><td>Cancelled</td><td>4205.6</td><td>4</td><td>1051.4</td></tr><tr><td>31</td><td>2024-05-23</td><td>1008</td><td>Hannah</td><td>208</td><td>Mouse</td><td>Delivered</td><td>571.1</td><td>1</td><td>571.1</td></tr><tr><td>32</td><td>2023-04-13</td><td>1057</td><td>Ian</td><td>206</td><td>Mouse</td><td>Pending</td><td>564.3</td><td>3</td><td>188.1</td></tr><tr><td>33</td><td>2023-05-03</td><td>1010</td><td>Grace</td><td>202</td><td>Printer</td><td>Shipped</td><td>1975.3</td><td>1</td><td>1975.3</td></tr><tr><td>34</td><td>2024-10-19</td><td>1001</td><td>Alice</td><td>203</td><td>Headphones</td><td>Pending</td><td>1038.7</td><td>4</td><td>259.7</td></tr><tr><td>35</td><td>2023-08-11</td><td>1090</td><td>David</td><td>204</td><td>Monitor</td><td>Pending</td><td>3968.0</td><td>2</td><td>1984.0</td></tr><tr><td>36</td><td>2023-07-17</td><td>1024</td><td>Julia</td><td>201</td><td>Tablet</td><td>Pending</td><td>1642.8</td><td>5</td><td>328.6</td></tr><tr><td>37</td><td>2025-03-28</td><td>1082</td><td>Frank</td><td>200</td><td>Mouse</td><td>Delivered</td><td>4367.0</td><td>4</td><td>1091.8</td></tr><tr><td>38</td><td>2023-09-07</td><td>1051</td><td>Frank</td><td>200</td><td>Keyboard</td><td>Shipped</td><td>5083.3</td><td>4</td><td>1270.8</td></tr><tr><td>39</td><td>2025-08-16</td><td>1100</td><td>Julia</td><td>201</td><td>Speaker</td><td>Pending</td><td>140.2</td><td>2</td><td>70.1</td></tr><tr><td>40</td><td>2025-09-01</td><td>1078</td><td>Ian</td><td>206</td><td>Keyboard</td><td>Shipped</td><td>4646.0</td><td>4</td><td>1161.5</td></tr><tr><td>41</td><td>2024-04-28</td><td>1015</td><td>Hannah</td><td>208</td><td>Camera</td><td>Cancelled</td><td>1294.7</td><td>2</td><td>647.4</td></tr><tr><td>42</td><td>2025-01-11</td><td>1088</td><td>David</td><td>201</td><td>Headphones</td><td>Shipped</td><td>2270.0</td><td>2</td><td>1135.0</td></tr><tr><td>43</td><td>2024-03-23</td><td>1017</td><td>Emma</td><td>209</td><td>Headphones</td><td>Cancelled</td><td>1220.8</td><td>5</td><td>244.2</td></tr><tr><td>44</td><td>2025-02-19</td><td>1062</td><td>Ian</td><td>210</td><td>Keyboard</td><td>Pending</td><td>3927.6</td><td>4</td><td>981.9</td></tr><tr><td>45</td><td>2025-03-15</td><td>1064</td><td>David</td><td>200</td><td>Tablet</td><td>Delivered</td><td>1282.6</td><td>2</td><td>641.3</td></tr><tr><td>46</td><td>2024-11-08</td><td>1019</td><td>Hannah</td><td>209</td><td>Camera</td><td>Shipped</td><td>2389.9</td><td>2</td><td>1195.0</td></tr><tr><td>47</td><td>2025-02-03</td><td>1046</td><td>Alice</td><td>205</td><td>Headphones</td><td>Cancelled</td><td>3762.3</td><td>5</td><td>752.5</td></tr><tr><td>48</td><td>2024-01-06</td><td>1082</td><td>Grace</td><td>207</td><td>Keyboard</td><td>Shipped</td><td>2053.7</td><td>2</td><td>1026.9</td></tr><tr><td>49</td><td>2025-05-22</td><td>1027</td><td>Julia</td><td>205</td><td>Tablet</td><td>Pending</td><td>1929.3</td><td>3</td><td>643.1</td></tr><tr><td>50</td><td>2023-04-22</td><td>1003</td><td>Hannah</td><td>208</td><td>Laptop</td><td>Pending</td><td>283.1</td><td>3</td><td>94.4</td></tr><tr><td>51</td><td>2023-03-30</td><td>1029</td><td>Emma</td><td>203</td><td>Printer</td><td>Shipped</td><td>1423.9</td><td>1</td><td>1423.9</td></tr><tr><td>52</td><td>2024-07-11</td><td>1049</td><td>Bob</td><td>209</td><td>Phone</td><td>Shipped</td><td>6331.7</td><td>5</td><td>1266.3</td></tr><tr><td>53</td><td>2023-12-08</td><td>1048</td><td>Bob</td><td>203</td><td>Camera</td><td>Delivered</td><td>3664.5</td><td>5</td><td>732.9</td></tr><tr><td>54</td><td>2023-07-05</td><td>1040</td><td>Bob</td><td>205</td><td>Laptop</td><td>Delivered</td><td>532.2</td><td>1</td><td>532.2</td></tr><tr><td>55</td><td>2023-07-01</td><td>1024</td><td>David</td><td>204</td><td>Printer</td><td>Cancelled</td><td>5673.1</td><td>3</td><td>1891.1</td></tr><tr><td>56</td><td>2025-03-28</td><td>1091</td><td>Ian</td><td>209</td><td>Laptop</td><td>Shipped</td><td>3500.3</td><td>2</td><td>1750.2</td></tr><tr><td>57</td><td>2023-04-11</td><td>1075</td><td>Frank</td><td>209</td><td>Tablet</td><td>Pending</td><td>3723.5</td><td>3</td><td>1241.2</td></tr><tr><td>58</td><td>2025-08-18</td><td>1035</td><td>Grace</td><td>200</td><td>Tablet</td><td>Shipped</td><td>5619.5</td><td>4</td><td>1404.9</td></tr><tr><td>59</td><td>2023-01-24</td><td>1086</td><td>Emma</td><td>202</td><td>Monitor</td><td>Cancelled</td><td>2898.9</td><td>3</td><td>966.3</td></tr><tr><td>60</td><td>2024-09-04</td><td>1080</td><td>Julia</td><td>201</td><td>Camera</td><td>Delivered</td><td>1808.0</td><td>1</td><td>1808.1</td></tr><tr><td>61</td><td>2025-07-24</td><td>1028</td><td>Frank</td><td>208</td><td>Laptop</td><td>Delivered</td><td>779.0</td><td>3</td><td>259.7</td></tr><tr><td>62</td><td>2024-11-19</td><td>1057</td><td>David</td><td>206</td><td>Tablet</td><td>Pending</td><td>3116.9</td><td>3</td><td>1039.0</td></tr><tr><td>63</td><td>2025-01-15</td><td>1077</td><td>Frank</td><td>203</td><td>Speaker</td><td>Shipped</td><td>850.7</td><td>5</td><td>170.1</td></tr><tr><td>64</td><td>2023-11-12</td><td>1062</td><td>Julia</td><td>209</td><td>Keyboard</td><td>Shipped</td><td>3883.1</td><td>4</td><td>970.8</td></tr><tr><td>65</td><td>2024-08-08</td><td>1014</td><td>Frank</td><td>202</td><td>Keyboard</td><td>Shipped</td><td>438.5</td><td>1</td><td>438.5</td></tr><tr><td>66</td><td>2023-01-15</td><td>1051</td><td>Frank</td><td>206</td><td>Mouse</td><td>Pending</td><td>5550.1</td><td>5</td><td>1110.0</td></tr><tr><td>67</td><td>2023-08-23</td><td>1005</td><td>Julia</td><td>204</td><td>Camera</td><td>Delivered</td><td>1162.3</td><td>3</td><td>387.4</td></tr><tr><td>68</td><td>2024-10-20</td><td>1072</td><td>Julia</td><td>209</td><td>Printer</td><td>Cancelled</td><td>4186.4</td><td>3</td><td>1395.5</td></tr><tr><td>69</td><td>2023-10-23</td><td>1052</td><td>Charlie</td><td>209</td><td>Camera</td><td>Cancelled</td><td>1581.3</td><td>1</td><td>1581.3</td></tr><tr><td>70</td><td>2024-07-29</td><td>1020</td><td>Julia</td><td>206</td><td>Laptop</td><td>Delivered</td><td>7480.7</td><td>4</td><td>1870.2</td></tr><tr><td>71</td><td>2024-08-23</td><td>1022</td><td>Bob</td><td>210</td><td>Mouse</td><td>Delivered</td><td>6939.8</td><td>5</td><td>1388.0</td></tr><tr><td>72</td><td>2024-10-29</td><td>1078</td><td>Alice</td><td>207</td><td>Mouse</td><td>Cancelled</td><td>496.3</td><td>3</td><td>165.5</td></tr><tr><td>73</td><td>2023-01-21</td><td>1060</td><td>Frank</td><td>205</td><td>Mouse</td><td>Cancelled</td><td>6855.7</td><td>4</td><td>1713.9</td></tr><tr><td>74</td><td>2024-11-24</td><td>1018</td><td>Charlie</td><td>206</td><td>Speaker</td><td>Cancelled</td><td>1173.8</td><td>1</td><td>1173.8</td></tr><tr><td>75</td><td>2023-06-14</td><td>1024</td><td>Alice</td><td>200</td><td>Tablet</td><td>Pending</td><td>1631.6</td><td>1</td><td>1631.7</td></tr><tr><td>76</td><td>2024-11-20</td><td>1015</td><td>Alice</td><td>209</td><td>Laptop</td><td>Cancelled</td><td>1682.2</td><td>3</td><td>560.7</td></tr><tr><td>77</td><td>2025-01-23</td><td>1067</td><td>Bob</td><td>203</td><td>Tablet</td><td>Pending</td><td>608.5</td><td>4</td><td>152.1</td></tr><tr><td>78</td><td>2023-02-25</td><td>1050</td><td>Emma</td><td>206</td><td>Phone</td><td>Delivered</td><td>1244.9</td><td>1</td><td>1244.9</td></tr><tr><td>79</td><td>2024-04-15</td><td>1075</td><td>Frank</td><td>206</td><td>Printer</td><td>Shipped</td><td>1604.2</td><td>1</td><td>1604.2</td></tr><tr><td>80</td><td>2023-12-15</td><td>1006</td><td>Ian</td><td>200</td><td>Laptop</td><td>Cancelled</td><td>3468.4</td><td>2</td><td>1734.2</td></tr><tr><td>81</td><td>2024-05-09</td><td>1042</td><td>Bob</td><td>206</td><td>Headphones</td><td>Cancelled</td><td>3632.9</td><td>5</td><td>726.6</td></tr><tr><td>82</td><td>2025-05-05</td><td>1005</td><td>Julia</td><td>203</td><td>Headphones</td><td>Pending</td><td>6766.5</td><td>5</td><td>1353.3</td></tr><tr><td>83</td><td>2025-01-05</td><td>1046</td><td>Emma</td><td>207</td><td>Keyboard</td><td>Shipped</td><td>100.4</td><td>1</td><td>100.5</td></tr><tr><td>84</td><td>2024-02-29</td><td>1025</td><td>Charlie</td><td>204</td><td>Mouse</td><td>Cancelled</td><td>1690.3</td><td>1</td><td>1690.3</td></tr><tr><td>85</td><td>2025-01-07</td><td>1053</td><td>Ian</td><td>206</td><td>Printer</td><td>Cancelled</td><td>4824.1</td><td>4</td><td>1206.0</td></tr><tr><td>86</td><td>2025-01-20</td><td>1006</td><td>David</td><td>206</td><td>Headphones</td><td>Shipped</td><td>665.5</td><td>1</td><td>665.5</td></tr><tr><td>87</td><td>2025-06-06</td><td>1035</td><td>Bob</td><td>202</td><td>Keyboard</td><td>Delivered</td><td>5516.3</td><td>3</td><td>1838.8</td></tr><tr><td>88</td><td>2025-08-13</td><td>1032</td><td>Ian</td><td>208</td><td>Phone</td><td>Shipped</td><td>8959.0</td><td>5</td><td>1791.8</td></tr><tr><td>89</td><td>2024-06-21</td><td>1093</td><td>Frank</td><td>209</td><td>Monitor</td><td>Shipped</td><td>3896.6</td><td>2</td><td>1948.3</td></tr><tr><td>90</td><td>2024-09-05</td><td>1032</td><td>Frank</td><td>210</td><td>Mouse</td><td>Shipped</td><td>312.5</td><td>2</td><td>156.3</td></tr><tr><td>91</td><td>2024-08-26</td><td>1059</td><td>Charlie</td><td>207</td><td>Speaker</td><td>Cancelled</td><td>7534.3</td><td>4</td><td>1883.6</td></tr><tr><td>92</td><td>2024-03-27</td><td>1028</td><td>Hannah</td><td>203</td><td>Camera</td><td>Delivered</td><td>1747.6</td><td>4</td><td>436.9</td></tr><tr><td>93</td><td>2025-03-01</td><td>1003</td><td>Julia</td><td>206</td><td>Camera</td><td>Pending</td><td>7972.7</td><td>5</td><td>1594.6</td></tr><tr><td>94</td><td>2023-02-27</td><td>1050</td><td>Ian</td><td>200</td><td>Phone</td><td>Shipped</td><td>902.9</td><td>2</td><td>451.5</td></tr><tr><td>95</td><td>2023-06-09</td><td>1026</td><td>Charlie</td><td>209</td><td>Mouse</td><td>Cancelled</td><td>2913.6</td><td>3</td><td>971.2</td></tr><tr><td>96</td><td>2025-03-25</td><td>1042</td><td>Hannah</td><td>207</td><td>Speaker</td><td>Shipped</td><td>7005.3</td><td>5</td><td>1401.1</td></tr><tr><td>97</td><td>2023-01-22</td><td>1097</td><td>Julia</td><td>208</td><td>Tablet</td><td>Cancelled</td><td>3607.0</td><td>2</td><td>1803.5</td></tr><tr><td>98</td><td>2024-04-04</td><td>1035</td><td>Charlie</td><td>201</td><td>Monitor</td><td>Cancelled</td><td>1694.8</td><td>5</td><td>339.0</td></tr><tr><td>99</td><td>2023-07-26</td><td>1046</td><td>Emma</td><td>208</td><td>Headphones</td><td>Shipped</td><td>2246.0</td><td>4</td><td>561.5</td></tr><tr><td>100</td><td>2025-07-04</td><td>1059</td><td>Ian</td><td>207</td><td>Keyboard</td><td>Cancelled</td><td>580.5</td><td>3</td><td>193.5</td></tr><tr><td>101</td><td>2023-02-19</td><td>1028</td><td>Hannah</td><td>204</td><td>Keyboard</td><td>Cancelled</td><td>3656.2</td><td>3</td><td>1218.7</td></tr><tr><td>102</td><td>2023-09-09</td><td>1087</td><td>Emma</td><td>207</td><td>Speaker</td><td>Shipped</td><td>1666.4</td><td>1</td><td>1666.4</td></tr><tr><td>103</td><td>2023-02-26</td><td>1071</td><td>Hannah</td><td>204</td><td>Headphones</td><td>Delivered</td><td>5112.1</td><td>5</td><td>1022.4</td></tr><tr><td>104</td><td>2023-06-17</td><td>1005</td><td>Charlie</td><td>201</td><td>Tablet</td><td>Shipped</td><td>1641.0</td><td>3</td><td>547.0</td></tr><tr><td>105</td><td>2024-06-29</td><td>1087</td><td>David</td><td>205</td><td>Keyboard</td><td>Cancelled</td><td>2390.6</td><td>5</td><td>478.1</td></tr><tr><td>106</td><td>2024-08-25</td><td>1045</td><td>Charlie</td><td>205</td><td>Tablet</td><td>Shipped</td><td>6086.5</td><td>5</td><td>1217.3</td></tr><tr><td>107</td><td>2023-08-17</td><td>1093</td><td>Julia</td><td>204</td><td>Tablet</td><td>Cancelled</td><td>3708.8</td><td>2</td><td>1854.4</td></tr><tr><td>108</td><td>2024-04-11</td><td>1040</td><td>Ian</td><td>208</td><td>Mouse</td><td>Shipped</td><td>1396.4</td><td>2</td><td>698.2</td></tr><tr><td>109</td><td>2025-04-09</td><td>1092</td><td>Grace</td><td>209</td><td>Camera</td><td>Cancelled</td><td>8648.5</td><td>5</td><td>1729.7</td></tr><tr><td>110</td><td>2025-05-21</td><td>1094</td><td>Alice</td><td>209</td><td>Camera</td><td>Pending</td><td>4210.3</td><td>5</td><td>842.1</td></tr><tr><td>111</td><td>2023-07-21</td><td>1083</td><td>Ian</td><td>205</td><td>Keyboard</td><td>Delivered</td><td>9094.4</td><td>5</td><td>1818.9</td></tr><tr><td>112</td><td>2023-06-15</td><td>1037</td><td>Alice</td><td>206</td><td>Headphones</td><td>Delivered</td><td>2611.5</td><td>2</td><td>1305.8</td></tr><tr><td>113</td><td>2025-08-27</td><td>1095</td><td>Bob</td><td>204</td><td>Speaker</td><td>Shipped</td><td>921.6</td><td>3</td><td>307.2</td></tr><tr><td>114</td><td>2023-07-03</td><td>1081</td><td>Julia</td><td>208</td><td>Camera</td><td>Shipped</td><td>5577.3</td><td>3</td><td>1859.1</td></tr><tr><td>115</td><td>2025-03-15</td><td>1080</td><td>Emma</td><td>206</td><td>Phone</td><td>Pending</td><td>1871.4</td><td>3</td><td>623.8</td></tr><tr><td>116</td><td>2023-01-15</td><td>1098</td><td>Charlie</td><td>201</td><td>Phone</td><td>Delivered</td><td>1540.8</td><td>2</td><td>770.4</td></tr><tr><td>117</td><td>2024-10-27</td><td>1052</td><td>Hannah</td><td>202</td><td>Monitor</td><td>Pending</td><td>126.9</td><td>1</td><td>126.9</td></tr><tr><td>118</td><td>2025-01-24</td><td>1096</td><td>Frank</td><td>202</td><td>Printer</td><td>Shipped</td><td>617.1</td><td>2</td><td>308.6</td></tr><tr><td>119</td><td>2024-12-17</td><td>1091</td><td>Emma</td><td>205</td><td>Headphones</td><td>Delivered</td><td>2859.7</td><td>3</td><td>953.3</td></tr><tr><td>120</td><td>2025-03-23</td><td>1093</td><td>David</td><td>210</td><td>Keyboard</td><td>Pending</td><td>1409.1</td><td>4</td><td>352.3</td></tr><tr><td>121</td><td>2024-06-19</td><td>1029</td><td>Alice</td><td>206</td><td>Tablet</td><td>Shipped</td><td>4659.9</td><td>5</td><td>932.0</td></tr><tr><td>122</td><td>2024-10-21</td><td>1005</td><td>Charlie</td><td>203</td><td>Phone</td><td>Pending</td><td>1202.9</td><td>1</td><td>1202.9</td></tr><tr><td>123</td><td>2023-11-15</td><td>1085</td><td>Alice</td><td>203</td><td>Phone</td><td>Delivered</td><td>659.1</td><td>3</td><td>219.7</td></tr><tr><td>124</td><td>2024-07-01</td><td>1007</td><td>Bob</td><td>203</td><td>Mouse</td><td>Shipped</td><td>3043.6</td><td>2</td><td>1521.8</td></tr><tr><td>125</td><td>2024-03-13</td><td>1016</td><td>Ian</td><td>205</td><td>Headphones</td><td>Pending</td><td>1545.4</td><td>5</td><td>309.1</td></tr><tr><td>126</td><td>2024-06-01</td><td>1048</td><td>David</td><td>202</td><td>Camera</td><td>Shipped</td><td>1992.9</td><td>3</td><td>664.3</td></tr><tr><td>127</td><td>2023-04-24</td><td>1016</td><td>Frank</td><td>210</td><td>Mouse</td><td>Cancelled</td><td>1048.4</td><td>2</td><td>524.2</td></tr><tr><td>128</td><td>2024-07-20</td><td>1073</td><td>Frank</td><td>207</td><td>Camera</td><td>Cancelled</td><td>1171.1</td><td>1</td><td>1171.1</td></tr><tr><td>129</td><td>2024-08-28</td><td>1062</td><td>Ian</td><td>208</td><td>Laptop</td><td>Pending</td><td>2916.8</td><td>5</td><td>583.4</td></tr><tr><td>130</td><td>2024-09-11</td><td>1011</td><td>Hannah</td><td>204</td><td>Monitor</td><td>Cancelled</td><td>7178.5</td><td>4</td><td>1794.6</td></tr><tr><td>131</td><td>2023-06-17</td><td>1040</td><td>Charlie</td><td>200</td><td>Printer</td><td>Cancelled</td><td>2219.8</td><td>2</td><td>1109.9</td></tr><tr><td>132</td><td>2024-03-06</td><td>1028</td><td>Ian</td><td>204</td><td>Camera</td><td>Cancelled</td><td>2892.9</td><td>3</td><td>964.3</td></tr><tr><td>133</td><td>2024-08-06</td><td>1083</td><td>Ian</td><td>209</td><td>Keyboard</td><td>Pending</td><td>1133.7</td><td>1</td><td>1133.8</td></tr><tr><td>134</td><td>2023-11-18</td><td>1016</td><td>Frank</td><td>209</td><td>Headphones</td><td>Delivered</td><td>486.9</td><td>4</td><td>121.7</td></tr><tr><td>135</td><td>2023-12-26</td><td>1030</td><td>Charlie</td><td>200</td><td>Printer</td><td>Pending</td><td>949.4</td><td>5</td><td>189.9</td></tr><tr><td>136</td><td>2025-05-12</td><td>1003</td><td>Bob</td><td>204</td><td>Laptop</td><td>Delivered</td><td>3672.2</td><td>4</td><td>918.1</td></tr><tr><td>137</td><td>2023-08-30</td><td>1009</td><td>Grace</td><td>200</td><td>Mouse</td><td>Pending</td><td>3469.4</td><td>5</td><td>693.9</td></tr><tr><td>138</td><td>2025-07-23</td><td>1054</td><td>Ian</td><td>207</td><td>Phone</td><td>Pending</td><td>671.9</td><td>1</td><td>671.9</td></tr><tr><td>139</td><td>2025-01-19</td><td>1098</td><td>Bob</td><td>205</td><td>Printer</td><td>Shipped</td><td>7556.8</td><td>5</td><td>1511.4</td></tr><tr><td>140</td><td>2024-01-28</td><td>1026</td><td>Charlie</td><td>202</td><td>Camera</td><td>Shipped</td><td>3123.1</td><td>2</td><td>1561.6</td></tr><tr><td>141</td><td>2024-05-30</td><td>1049</td><td>Ian</td><td>205</td><td>Mouse</td><td>Delivered</td><td>1385.5</td><td>2</td><td>692.8</td></tr><tr><td>142</td><td>2024-11-16</td><td>1008</td><td>Alice</td><td>200</td><td>Camera</td><td>Cancelled</td><td>4634.1</td><td>5</td><td>926.8</td></tr><tr><td>143</td><td>2023-09-02</td><td>1072</td><td>David</td><td>203</td><td>Laptop</td><td>Delivered</td><td>3027.0</td><td>5</td><td>605.4</td></tr><tr><td>144</td><td>2025-01-19</td><td>1013</td><td>Ian</td><td>210</td><td>Tablet</td><td>Cancelled</td><td>386.9</td><td>1</td><td>387.0</td></tr><tr><td>145</td><td>2024-07-18</td><td>1075</td><td>Charlie</td><td>204</td><td>Phone</td><td>Cancelled</td><td>6336.3</td><td>5</td><td>1267.3</td></tr><tr><td>146</td><td>2024-12-20</td><td>1058</td><td>Ian</td><td>207</td><td>Speaker</td><td>Delivered</td><td>416.5</td><td>1</td><td>416.5</td></tr><tr><td>147</td><td>2023-02-05</td><td>1096</td><td>Frank</td><td>204</td><td>Speaker</td><td>Shipped</td><td>1729.8</td><td>2</td><td>864.9</td></tr><tr><td>148</td><td>2023-11-23</td><td>1020</td><td>Frank</td><td>204</td><td>Monitor</td><td>Shipped</td><td>2065.0</td><td>2</td><td>1032.5</td></tr><tr><td>149</td><td>2023-08-26</td><td>1015</td><td>Frank</td><td>206</td><td>Tablet</td><td>Cancelled</td><td>777.8</td><td>1</td><td>777.8</td></tr><tr><td>150</td><td>2024-03-08</td><td>1064</td><td>Charlie</td><td>206</td><td>Printer</td><td>Cancelled</td><td>6189.3</td><td>4</td><td>1547.3</td></tr><tr><td>151</td><td>2024-12-24</td><td>1045</td><td>Ian</td><td>203</td><td>Laptop</td><td>Pending</td><td>3726.1</td><td>3</td><td>1242.0</td></tr><tr><td>152</td><td>2023-01-30</td><td>1065</td><td>Julia</td><td>208</td><td>Laptop</td><td>Cancelled</td><td>7864.2</td><td>5</td><td>1572.9</td></tr><tr><td>153</td><td>2023-01-20</td><td>1068</td><td>Julia</td><td>208</td><td>Headphones</td><td>Delivered</td><td>4797.6</td><td>4</td><td>1199.4</td></tr><tr><td>154</td><td>2025-08-05</td><td>1016</td><td>Alice</td><td>209</td><td>Headphones</td><td>Shipped</td><td>2544.0</td><td>2</td><td>1272.0</td></tr><tr><td>155</td><td>2024-07-20</td><td>1040</td><td>David</td><td>209</td><td>Mouse</td><td>Pending</td><td>5971.8</td><td>3</td><td>1990.6</td></tr><tr><td>156</td><td>2023-11-08</td><td>1088</td><td>Ian</td><td>202</td><td>Headphones</td><td>Pending</td><td>6045.0</td><td>4</td><td>1511.3</td></tr><tr><td>157</td><td>2024-06-24</td><td>1070</td><td>Bob</td><td>204</td><td>Tablet</td><td>Shipped</td><td>4275.5</td><td>4</td><td>1068.9</td></tr><tr><td>158</td><td>2024-06-16</td><td>1037</td><td>Emma</td><td>208</td><td>Headphones</td><td>Delivered</td><td>3672.2</td><td>2</td><td>1836.1</td></tr><tr><td>159</td><td>2023-01-28</td><td>1014</td><td>Alice</td><td>201</td><td>Printer</td><td>Delivered</td><td>1673.3</td><td>2</td><td>836.7</td></tr><tr><td>160</td><td>2023-02-20</td><td>1033</td><td>Charlie</td><td>207</td><td>Phone</td><td>Shipped</td><td>2073.6</td><td>2</td><td>1036.8</td></tr><tr><td>161</td><td>2023-10-24</td><td>1053</td><td>Emma</td><td>208</td><td>Laptop</td><td>Delivered</td><td>843.3</td><td>4</td><td>210.8</td></tr><tr><td>162</td><td>2024-11-04</td><td>1096</td><td>Emma</td><td>203</td><td>Mouse</td><td>Delivered</td><td>5340.7</td><td>5</td><td>1068.2</td></tr><tr><td>163</td><td>2023-12-29</td><td>1007</td><td>Charlie</td><td>208</td><td>Printer</td><td>Delivered</td><td>5695.2</td><td>3</td><td>1898.4</td></tr><tr><td>164</td><td>2025-02-04</td><td>1027</td><td>Alice</td><td>207</td><td>Headphones</td><td>Cancelled</td><td>2764.9</td><td>3</td><td>921.7</td></tr><tr><td>165</td><td>2023-05-19</td><td>1097</td><td>Ian</td><td>208</td><td>Speaker</td><td>Cancelled</td><td>2692.1</td><td>2</td><td>1346.1</td></tr><tr><td>166</td><td>2024-03-30</td><td>1015</td><td>Hannah</td><td>201</td><td>Laptop</td><td>Shipped</td><td>1238.1</td><td>4</td><td>309.5</td></tr><tr><td>167</td><td>2025-03-20</td><td>1039</td><td>Grace</td><td>201</td><td>Printer</td><td>Shipped</td><td>949.5</td><td>2</td><td>474.8</td></tr><tr><td>168</td><td>2024-06-03</td><td>1021</td><td>Emma</td><td>210</td><td>Tablet</td><td>Cancelled</td><td>4289.3</td><td>3</td><td>1429.8</td></tr><tr><td>169</td><td>2025-05-01</td><td>1091</td><td>Frank</td><td>202</td><td>Mouse</td><td>Shipped</td><td>2677.6</td><td>2</td><td>1338.8</td></tr><tr><td>170</td><td>2023-11-18</td><td>1013</td><td>Grace</td><td>206</td><td>Mouse</td><td>Delivered</td><td>3139.6</td><td>2</td><td>1569.8</td></tr><tr><td>171</td><td>2023-07-31</td><td>1053</td><td>David</td><td>203</td><td>Camera</td><td>Cancelled</td><td>1384.6</td><td>5</td><td>276.9</td></tr><tr><td>172</td><td>2024-10-22</td><td>1098</td><td>Charlie</td><td>210</td><td>Headphones</td><td>Delivered</td><td>2747.3</td><td>3</td><td>915.8</td></tr><tr><td>173</td><td>2024-07-30</td><td>1041</td><td>Grace</td><td>201</td><td>Headphones</td><td>Cancelled</td><td>2974.8</td><td>3</td><td>991.6</td></tr><tr><td>174</td><td>2023-02-12</td><td>1072</td><td>David</td><td>200</td><td>Phone</td><td>Shipped</td><td>1264.2</td><td>2</td><td>632.1</td></tr><tr><td>175</td><td>2024-09-17</td><td>1063</td><td>Alice</td><td>202</td><td>Mouse</td><td>Delivered</td><td>1073.7</td><td>2</td><td>536.9</td></tr><tr><td>176</td><td>2023-06-25</td><td>1031</td><td>Julia</td><td>205</td><td>Printer</td><td>Shipped</td><td>728.4</td><td>1</td><td>728.5</td></tr><tr><td>177</td><td>2024-04-19</td><td>1047</td><td>Emma</td><td>201</td><td>Printer</td><td>Delivered</td><td>5170.4</td><td>3</td><td>1723.5</td></tr><tr><td>178</td><td>2025-04-09</td><td>1034</td><td>Alice</td><td>201</td><td>Printer</td><td>Delivered</td><td>9353.2</td><td>5</td><td>1870.7</td></tr><tr><td>179</td><td>2023-03-07</td><td>1024</td><td>Alice</td><td>206</td><td>Phone</td><td>Pending</td><td>3865.1</td><td>2</td><td>1932.6</td></tr><tr><td>180</td><td>2024-09-09</td><td>1058</td><td>Bob</td><td>206</td><td>Laptop</td><td>Delivered</td><td>4136.1</td><td>3</td><td>1378.7</td></tr><tr><td>181</td><td>2024-01-19</td><td>1052</td><td>Hannah</td><td>200</td><td>Monitor</td><td>Shipped</td><td>3405.3</td><td>4</td><td>851.3</td></tr><tr><td>182</td><td>2024-12-20</td><td>1044</td><td>Charlie</td><td>208</td><td>Phone</td><td>Delivered</td><td>817.0</td><td>1</td><td>817.1</td></tr><tr><td>183</td><td>2024-12-29</td><td>1090</td><td>Frank</td><td>200</td><td>Tablet</td><td>Delivered</td><td>658.6</td><td>2</td><td>329.3</td></tr><tr><td>184</td><td>2024-03-06</td><td>1031</td><td>Julia</td><td>202</td><td>Headphones</td><td>Cancelled</td><td>958.6</td><td>4</td><td>239.7</td></tr><tr><td>185</td><td>2024-05-02</td><td>1006</td><td>Bob</td><td>200</td><td>Keyboard</td><td>Pending</td><td>4838.6</td><td>4</td><td>1209.7</td></tr><tr><td>186</td><td>2024-01-13</td><td>1058</td><td>Emma</td><td>201</td><td>Printer</td><td>Cancelled</td><td>865.8</td><td>4</td><td>216.5</td></tr><tr><td>187</td><td>2024-11-06</td><td>1083</td><td>David</td><td>204</td><td>Monitor</td><td>Pending</td><td>8838.5</td><td>5</td><td>1767.7</td></tr><tr><td>188</td><td>2025-04-13</td><td>1020</td><td>Julia</td><td>210</td><td>Speaker</td><td>Cancelled</td><td>9663.4</td><td>5</td><td>1932.7</td></tr><tr><td>189</td><td>2024-11-19</td><td>1011</td><td>Emma</td><td>203</td><td>Camera</td><td>Cancelled</td><td>7854.8</td><td>4</td><td>1963.7</td></tr><tr><td>190</td><td>2025-01-08</td><td>1072</td><td>Ian</td><td>205</td><td>Headphones</td><td>Pending</td><td>1716.5</td><td>1</td><td>1716.6</td></tr><tr><td>191</td><td>2023-12-21</td><td>1001</td><td>Emma</td><td>201</td><td>Headphones</td><td>Cancelled</td><td>255.9</td><td>3</td><td>85.3</td></tr><tr><td>192</td><td>2025-02-28</td><td>1082</td><td>Alice</td><td>204</td><td>Phone</td><td>Delivered</td><td>3970.3</td><td>5</td><td>794.1</td></tr><tr><td>193</td><td>2024-01-25</td><td>1091</td><td>Emma</td><td>206</td><td>Printer</td><td>Cancelled</td><td>3038.6</td><td>3</td><td>1012.9</td></tr><tr><td>194</td><td>2025-01-03</td><td>1046</td><td>David</td><td>205</td><td>Tablet</td><td>Pending</td><td>2185.8</td><td>3</td><td>728.6</td></tr><tr><td>195</td><td>2024-06-19</td><td>1003</td><td>Charlie</td><td>206</td><td>Mouse</td><td>Delivered</td><td>2282.3</td><td>2</td><td>1141.2</td></tr><tr><td>196</td><td>2023-01-18</td><td>1031</td><td>Charlie</td><td>210</td><td>Keyboard</td><td>Cancelled</td><td>4734.7</td><td>3</td><td>1578.3</td></tr><tr><td>197</td><td>2023-09-10</td><td>1063</td><td>Ian</td><td>207</td><td>Monitor</td><td>Delivered</td><td>1019.4</td><td>3</td><td>339.8</td></tr><tr><td>198</td><td>2023-11-12</td><td>1052</td><td>David</td><td>209</td><td>Phone</td><td>Shipped</td><td>3758.6</td><td>3</td><td>1252.9</td></tr><tr><td>199</td><td>2023-06-05</td><td>1002</td><td>Emma</td><td>209</td><td>Keyboard</td><td>Pending</td><td>2705.2</td><td>5</td><td>541.0</td></tr><tr><td>200</td><td>2025-06-19</td><td>1009</td><td>Alice</td><td>206</td><td>Speaker</td><td>Shipped</td><td>2148.7</td><td>2</td><td>1074.4</td></tr></tbody></table></div>"
      ]
     },
     "metadata": {
      "application/vnd.databricks.v1+output": {
       "addedWidgets": {},
       "aggData": [],
       "aggError": "",
       "aggOverflow": false,
       "aggSchema": [],
       "aggSeriesLimitReached": false,
       "aggType": "",
       "arguments": {},
       "columnCustomDisplayInfos": {},
       "data": [
        [
         1,
         "2024-02-08",
         1005,
         "David",
         206,
         "Mouse",
         "Pending",
         "784.7",
         1,
         "784.7"
        ],
        [
         2,
         "2023-02-07",
         1053,
         "Frank",
         205,
         "Laptop",
         "Cancelled",
         "4110.3",
         3,
         "1370.1"
        ],
        [
         3,
         "2023-01-04",
         1071,
         "Julia",
         203,
         "Speaker",
         "Delivered",
         "1417.8",
         3,
         "472.6"
        ],
        [
         4,
         "2023-11-16",
         1072,
         "Bob",
         209,
         "Laptop",
         "Cancelled",
         "4598.5",
         3,
         "1532.8"
        ],
        [
         5,
         "2024-12-04",
         1017,
         "Julia",
         208,
         "Printer",
         "Shipped",
         "1130.3",
         5,
         "226.1"
        ],
        [
         6,
         "2025-01-13",
         1042,
         "Frank",
         210,
         "Mouse",
         "Pending",
         "694.6",
         3,
         "231.6"
        ],
        [
         7,
         "2023-09-04",
         1069,
         "Alice",
         202,
         "Keyboard",
         "Delivered",
         "1064.2",
         4,
         "266.1"
        ],
        [
         8,
         "2024-05-10",
         1048,
         "Frank",
         210,
         "Printer",
         "Pending",
         "4643.8",
         4,
         "1161.0"
        ],
        [
         9,
         "2023-06-03",
         1020,
         "David",
         209,
         "Phone",
         "Delivered",
         "2621.4",
         4,
         "655.4"
        ],
        [
         10,
         "2025-04-14",
         1064,
         "Charlie",
         204,
         "Headphones",
         "Pending",
         "2493.8",
         2,
         "1246.9"
        ],
        [
         11,
         "2023-11-14",
         1084,
         "Hannah",
         206,
         "Keyboard",
         "Shipped",
         "2876.9",
         2,
         "1438.5"
        ],
        [
         12,
         "2023-07-13",
         1019,
         "Grace",
         203,
         "Laptop",
         "Delivered",
         "1309.8",
         4,
         "327.5"
        ],
        [
         13,
         "2024-06-06",
         1034,
         "Julia",
         210,
         "Tablet",
         "Delivered",
         "3401.3",
         4,
         "850.3"
        ],
        [
         14,
         "2023-07-11",
         1057,
         "Alice",
         206,
         "Speaker",
         "Shipped",
         "1619.4",
         4,
         "404.9"
        ],
        [
         15,
         "2024-07-03",
         1040,
         "David",
         210,
         "Keyboard",
         "Delivered",
         "1603.1",
         1,
         "1603.2"
        ],
        [
         16,
         "2023-12-31",
         1097,
         "Grace",
         206,
         "Phone",
         "Cancelled",
         "5475.6",
         3,
         "1825.2"
        ],
        [
         17,
         "2024-04-16",
         1001,
         "Emma",
         201,
         "Phone",
         "Shipped",
         "2371.0",
         2,
         "1185.5"
        ],
        [
         18,
         "2024-08-21",
         1098,
         "Frank",
         201,
         "Headphones",
         "Shipped",
         "1188.1",
         5,
         "237.6"
        ],
        [
         19,
         "2023-01-28",
         1095,
         "Grace",
         210,
         "Phone",
         "Shipped",
         "2202.1",
         3,
         "734.0"
        ],
        [
         20,
         "2025-06-05",
         1037,
         "Ian",
         206,
         "Tablet",
         "Pending",
         "8951.1",
         5,
         "1790.2"
        ],
        [
         21,
         "2024-09-21",
         1029,
         "Frank",
         209,
         "Keyboard",
         "Shipped",
         "156.4",
         2,
         "78.2"
        ],
        [
         22,
         "2025-02-19",
         1099,
         "Charlie",
         210,
         "Speaker",
         "Pending",
         "597.0",
         3,
         "199.0"
        ],
        [
         23,
         "2024-09-16",
         1033,
         "Ian",
         203,
         "Mouse",
         "Delivered",
         "4186.2",
         4,
         "1046.6"
        ],
        [
         24,
         "2025-08-24",
         1005,
         "Charlie",
         209,
         "Camera",
         "Pending",
         "2475.7",
         2,
         "1237.9"
        ],
        [
         25,
         "2023-05-27",
         1096,
         "Emma",
         208,
         "Headphones",
         "Delivered",
         "6953.2",
         4,
         "1738.3"
        ],
        [
         26,
         "2024-11-20",
         1041,
         "Grace",
         202,
         "Phone",
         "Cancelled",
         "3309.1",
         4,
         "827.3"
        ],
        [
         27,
         "2025-05-10",
         1051,
         "Emma",
         203,
         "Tablet",
         "Pending",
         "3456.7",
         2,
         "1728.4"
        ],
        [
         28,
         "2023-12-22",
         1060,
         "Grace",
         209,
         "Camera",
         "Pending",
         "1647.4",
         1,
         "1647.5"
        ],
        [
         29,
         "2024-05-19",
         1057,
         "Julia",
         203,
         "Headphones",
         "Cancelled",
         "5647.1",
         5,
         "1129.4"
        ],
        [
         30,
         "2023-03-04",
         1057,
         "Frank",
         206,
         "Mouse",
         "Cancelled",
         "4205.6",
         4,
         "1051.4"
        ],
        [
         31,
         "2024-05-23",
         1008,
         "Hannah",
         208,
         "Mouse",
         "Delivered",
         "571.1",
         1,
         "571.1"
        ],
        [
         32,
         "2023-04-13",
         1057,
         "Ian",
         206,
         "Mouse",
         "Pending",
         "564.3",
         3,
         "188.1"
        ],
        [
         33,
         "2023-05-03",
         1010,
         "Grace",
         202,
         "Printer",
         "Shipped",
         "1975.3",
         1,
         "1975.3"
        ],
        [
         34,
         "2024-10-19",
         1001,
         "Alice",
         203,
         "Headphones",
         "Pending",
         "1038.7",
         4,
         "259.7"
        ],
        [
         35,
         "2023-08-11",
         1090,
         "David",
         204,
         "Monitor",
         "Pending",
         "3968.0",
         2,
         "1984.0"
        ],
        [
         36,
         "2023-07-17",
         1024,
         "Julia",
         201,
         "Tablet",
         "Pending",
         "1642.8",
         5,
         "328.6"
        ],
        [
         37,
         "2025-03-28",
         1082,
         "Frank",
         200,
         "Mouse",
         "Delivered",
         "4367.0",
         4,
         "1091.8"
        ],
        [
         38,
         "2023-09-07",
         1051,
         "Frank",
         200,
         "Keyboard",
         "Shipped",
         "5083.3",
         4,
         "1270.8"
        ],
        [
         39,
         "2025-08-16",
         1100,
         "Julia",
         201,
         "Speaker",
         "Pending",
         "140.2",
         2,
         "70.1"
        ],
        [
         40,
         "2025-09-01",
         1078,
         "Ian",
         206,
         "Keyboard",
         "Shipped",
         "4646.0",
         4,
         "1161.5"
        ],
        [
         41,
         "2024-04-28",
         1015,
         "Hannah",
         208,
         "Camera",
         "Cancelled",
         "1294.7",
         2,
         "647.4"
        ],
        [
         42,
         "2025-01-11",
         1088,
         "David",
         201,
         "Headphones",
         "Shipped",
         "2270.0",
         2,
         "1135.0"
        ],
        [
         43,
         "2024-03-23",
         1017,
         "Emma",
         209,
         "Headphones",
         "Cancelled",
         "1220.8",
         5,
         "244.2"
        ],
        [
         44,
         "2025-02-19",
         1062,
         "Ian",
         210,
         "Keyboard",
         "Pending",
         "3927.6",
         4,
         "981.9"
        ],
        [
         45,
         "2025-03-15",
         1064,
         "David",
         200,
         "Tablet",
         "Delivered",
         "1282.6",
         2,
         "641.3"
        ],
        [
         46,
         "2024-11-08",
         1019,
         "Hannah",
         209,
         "Camera",
         "Shipped",
         "2389.9",
         2,
         "1195.0"
        ],
        [
         47,
         "2025-02-03",
         1046,
         "Alice",
         205,
         "Headphones",
         "Cancelled",
         "3762.3",
         5,
         "752.5"
        ],
        [
         48,
         "2024-01-06",
         1082,
         "Grace",
         207,
         "Keyboard",
         "Shipped",
         "2053.7",
         2,
         "1026.9"
        ],
        [
         49,
         "2025-05-22",
         1027,
         "Julia",
         205,
         "Tablet",
         "Pending",
         "1929.3",
         3,
         "643.1"
        ],
        [
         50,
         "2023-04-22",
         1003,
         "Hannah",
         208,
         "Laptop",
         "Pending",
         "283.1",
         3,
         "94.4"
        ],
        [
         51,
         "2023-03-30",
         1029,
         "Emma",
         203,
         "Printer",
         "Shipped",
         "1423.9",
         1,
         "1423.9"
        ],
        [
         52,
         "2024-07-11",
         1049,
         "Bob",
         209,
         "Phone",
         "Shipped",
         "6331.7",
         5,
         "1266.3"
        ],
        [
         53,
         "2023-12-08",
         1048,
         "Bob",
         203,
         "Camera",
         "Delivered",
         "3664.5",
         5,
         "732.9"
        ],
        [
         54,
         "2023-07-05",
         1040,
         "Bob",
         205,
         "Laptop",
         "Delivered",
         "532.2",
         1,
         "532.2"
        ],
        [
         55,
         "2023-07-01",
         1024,
         "David",
         204,
         "Printer",
         "Cancelled",
         "5673.1",
         3,
         "1891.1"
        ],
        [
         56,
         "2025-03-28",
         1091,
         "Ian",
         209,
         "Laptop",
         "Shipped",
         "3500.3",
         2,
         "1750.2"
        ],
        [
         57,
         "2023-04-11",
         1075,
         "Frank",
         209,
         "Tablet",
         "Pending",
         "3723.5",
         3,
         "1241.2"
        ],
        [
         58,
         "2025-08-18",
         1035,
         "Grace",
         200,
         "Tablet",
         "Shipped",
         "5619.5",
         4,
         "1404.9"
        ],
        [
         59,
         "2023-01-24",
         1086,
         "Emma",
         202,
         "Monitor",
         "Cancelled",
         "2898.9",
         3,
         "966.3"
        ],
        [
         60,
         "2024-09-04",
         1080,
         "Julia",
         201,
         "Camera",
         "Delivered",
         "1808.0",
         1,
         "1808.1"
        ],
        [
         61,
         "2025-07-24",
         1028,
         "Frank",
         208,
         "Laptop",
         "Delivered",
         "779.0",
         3,
         "259.7"
        ],
        [
         62,
         "2024-11-19",
         1057,
         "David",
         206,
         "Tablet",
         "Pending",
         "3116.9",
         3,
         "1039.0"
        ],
        [
         63,
         "2025-01-15",
         1077,
         "Frank",
         203,
         "Speaker",
         "Shipped",
         "850.7",
         5,
         "170.1"
        ],
        [
         64,
         "2023-11-12",
         1062,
         "Julia",
         209,
         "Keyboard",
         "Shipped",
         "3883.1",
         4,
         "970.8"
        ],
        [
         65,
         "2024-08-08",
         1014,
         "Frank",
         202,
         "Keyboard",
         "Shipped",
         "438.5",
         1,
         "438.5"
        ],
        [
         66,
         "2023-01-15",
         1051,
         "Frank",
         206,
         "Mouse",
         "Pending",
         "5550.1",
         5,
         "1110.0"
        ],
        [
         67,
         "2023-08-23",
         1005,
         "Julia",
         204,
         "Camera",
         "Delivered",
         "1162.3",
         3,
         "387.4"
        ],
        [
         68,
         "2024-10-20",
         1072,
         "Julia",
         209,
         "Printer",
         "Cancelled",
         "4186.4",
         3,
         "1395.5"
        ],
        [
         69,
         "2023-10-23",
         1052,
         "Charlie",
         209,
         "Camera",
         "Cancelled",
         "1581.3",
         1,
         "1581.3"
        ],
        [
         70,
         "2024-07-29",
         1020,
         "Julia",
         206,
         "Laptop",
         "Delivered",
         "7480.7",
         4,
         "1870.2"
        ],
        [
         71,
         "2024-08-23",
         1022,
         "Bob",
         210,
         "Mouse",
         "Delivered",
         "6939.8",
         5,
         "1388.0"
        ],
        [
         72,
         "2024-10-29",
         1078,
         "Alice",
         207,
         "Mouse",
         "Cancelled",
         "496.3",
         3,
         "165.5"
        ],
        [
         73,
         "2023-01-21",
         1060,
         "Frank",
         205,
         "Mouse",
         "Cancelled",
         "6855.7",
         4,
         "1713.9"
        ],
        [
         74,
         "2024-11-24",
         1018,
         "Charlie",
         206,
         "Speaker",
         "Cancelled",
         "1173.8",
         1,
         "1173.8"
        ],
        [
         75,
         "2023-06-14",
         1024,
         "Alice",
         200,
         "Tablet",
         "Pending",
         "1631.6",
         1,
         "1631.7"
        ],
        [
         76,
         "2024-11-20",
         1015,
         "Alice",
         209,
         "Laptop",
         "Cancelled",
         "1682.2",
         3,
         "560.7"
        ],
        [
         77,
         "2025-01-23",
         1067,
         "Bob",
         203,
         "Tablet",
         "Pending",
         "608.5",
         4,
         "152.1"
        ],
        [
         78,
         "2023-02-25",
         1050,
         "Emma",
         206,
         "Phone",
         "Delivered",
         "1244.9",
         1,
         "1244.9"
        ],
        [
         79,
         "2024-04-15",
         1075,
         "Frank",
         206,
         "Printer",
         "Shipped",
         "1604.2",
         1,
         "1604.2"
        ],
        [
         80,
         "2023-12-15",
         1006,
         "Ian",
         200,
         "Laptop",
         "Cancelled",
         "3468.4",
         2,
         "1734.2"
        ],
        [
         81,
         "2024-05-09",
         1042,
         "Bob",
         206,
         "Headphones",
         "Cancelled",
         "3632.9",
         5,
         "726.6"
        ],
        [
         82,
         "2025-05-05",
         1005,
         "Julia",
         203,
         "Headphones",
         "Pending",
         "6766.5",
         5,
         "1353.3"
        ],
        [
         83,
         "2025-01-05",
         1046,
         "Emma",
         207,
         "Keyboard",
         "Shipped",
         "100.4",
         1,
         "100.5"
        ],
        [
         84,
         "2024-02-29",
         1025,
         "Charlie",
         204,
         "Mouse",
         "Cancelled",
         "1690.3",
         1,
         "1690.3"
        ],
        [
         85,
         "2025-01-07",
         1053,
         "Ian",
         206,
         "Printer",
         "Cancelled",
         "4824.1",
         4,
         "1206.0"
        ],
        [
         86,
         "2025-01-20",
         1006,
         "David",
         206,
         "Headphones",
         "Shipped",
         "665.5",
         1,
         "665.5"
        ],
        [
         87,
         "2025-06-06",
         1035,
         "Bob",
         202,
         "Keyboard",
         "Delivered",
         "5516.3",
         3,
         "1838.8"
        ],
        [
         88,
         "2025-08-13",
         1032,
         "Ian",
         208,
         "Phone",
         "Shipped",
         "8959.0",
         5,
         "1791.8"
        ],
        [
         89,
         "2024-06-21",
         1093,
         "Frank",
         209,
         "Monitor",
         "Shipped",
         "3896.6",
         2,
         "1948.3"
        ],
        [
         90,
         "2024-09-05",
         1032,
         "Frank",
         210,
         "Mouse",
         "Shipped",
         "312.5",
         2,
         "156.3"
        ],
        [
         91,
         "2024-08-26",
         1059,
         "Charlie",
         207,
         "Speaker",
         "Cancelled",
         "7534.3",
         4,
         "1883.6"
        ],
        [
         92,
         "2024-03-27",
         1028,
         "Hannah",
         203,
         "Camera",
         "Delivered",
         "1747.6",
         4,
         "436.9"
        ],
        [
         93,
         "2025-03-01",
         1003,
         "Julia",
         206,
         "Camera",
         "Pending",
         "7972.7",
         5,
         "1594.6"
        ],
        [
         94,
         "2023-02-27",
         1050,
         "Ian",
         200,
         "Phone",
         "Shipped",
         "902.9",
         2,
         "451.5"
        ],
        [
         95,
         "2023-06-09",
         1026,
         "Charlie",
         209,
         "Mouse",
         "Cancelled",
         "2913.6",
         3,
         "971.2"
        ],
        [
         96,
         "2025-03-25",
         1042,
         "Hannah",
         207,
         "Speaker",
         "Shipped",
         "7005.3",
         5,
         "1401.1"
        ],
        [
         97,
         "2023-01-22",
         1097,
         "Julia",
         208,
         "Tablet",
         "Cancelled",
         "3607.0",
         2,
         "1803.5"
        ],
        [
         98,
         "2024-04-04",
         1035,
         "Charlie",
         201,
         "Monitor",
         "Cancelled",
         "1694.8",
         5,
         "339.0"
        ],
        [
         99,
         "2023-07-26",
         1046,
         "Emma",
         208,
         "Headphones",
         "Shipped",
         "2246.0",
         4,
         "561.5"
        ],
        [
         100,
         "2025-07-04",
         1059,
         "Ian",
         207,
         "Keyboard",
         "Cancelled",
         "580.5",
         3,
         "193.5"
        ],
        [
         101,
         "2023-02-19",
         1028,
         "Hannah",
         204,
         "Keyboard",
         "Cancelled",
         "3656.2",
         3,
         "1218.7"
        ],
        [
         102,
         "2023-09-09",
         1087,
         "Emma",
         207,
         "Speaker",
         "Shipped",
         "1666.4",
         1,
         "1666.4"
        ],
        [
         103,
         "2023-02-26",
         1071,
         "Hannah",
         204,
         "Headphones",
         "Delivered",
         "5112.1",
         5,
         "1022.4"
        ],
        [
         104,
         "2023-06-17",
         1005,
         "Charlie",
         201,
         "Tablet",
         "Shipped",
         "1641.0",
         3,
         "547.0"
        ],
        [
         105,
         "2024-06-29",
         1087,
         "David",
         205,
         "Keyboard",
         "Cancelled",
         "2390.6",
         5,
         "478.1"
        ],
        [
         106,
         "2024-08-25",
         1045,
         "Charlie",
         205,
         "Tablet",
         "Shipped",
         "6086.5",
         5,
         "1217.3"
        ],
        [
         107,
         "2023-08-17",
         1093,
         "Julia",
         204,
         "Tablet",
         "Cancelled",
         "3708.8",
         2,
         "1854.4"
        ],
        [
         108,
         "2024-04-11",
         1040,
         "Ian",
         208,
         "Mouse",
         "Shipped",
         "1396.4",
         2,
         "698.2"
        ],
        [
         109,
         "2025-04-09",
         1092,
         "Grace",
         209,
         "Camera",
         "Cancelled",
         "8648.5",
         5,
         "1729.7"
        ],
        [
         110,
         "2025-05-21",
         1094,
         "Alice",
         209,
         "Camera",
         "Pending",
         "4210.3",
         5,
         "842.1"
        ],
        [
         111,
         "2023-07-21",
         1083,
         "Ian",
         205,
         "Keyboard",
         "Delivered",
         "9094.4",
         5,
         "1818.9"
        ],
        [
         112,
         "2023-06-15",
         1037,
         "Alice",
         206,
         "Headphones",
         "Delivered",
         "2611.5",
         2,
         "1305.8"
        ],
        [
         113,
         "2025-08-27",
         1095,
         "Bob",
         204,
         "Speaker",
         "Shipped",
         "921.6",
         3,
         "307.2"
        ],
        [
         114,
         "2023-07-03",
         1081,
         "Julia",
         208,
         "Camera",
         "Shipped",
         "5577.3",
         3,
         "1859.1"
        ],
        [
         115,
         "2025-03-15",
         1080,
         "Emma",
         206,
         "Phone",
         "Pending",
         "1871.4",
         3,
         "623.8"
        ],
        [
         116,
         "2023-01-15",
         1098,
         "Charlie",
         201,
         "Phone",
         "Delivered",
         "1540.8",
         2,
         "770.4"
        ],
        [
         117,
         "2024-10-27",
         1052,
         "Hannah",
         202,
         "Monitor",
         "Pending",
         "126.9",
         1,
         "126.9"
        ],
        [
         118,
         "2025-01-24",
         1096,
         "Frank",
         202,
         "Printer",
         "Shipped",
         "617.1",
         2,
         "308.6"
        ],
        [
         119,
         "2024-12-17",
         1091,
         "Emma",
         205,
         "Headphones",
         "Delivered",
         "2859.7",
         3,
         "953.3"
        ],
        [
         120,
         "2025-03-23",
         1093,
         "David",
         210,
         "Keyboard",
         "Pending",
         "1409.1",
         4,
         "352.3"
        ],
        [
         121,
         "2024-06-19",
         1029,
         "Alice",
         206,
         "Tablet",
         "Shipped",
         "4659.9",
         5,
         "932.0"
        ],
        [
         122,
         "2024-10-21",
         1005,
         "Charlie",
         203,
         "Phone",
         "Pending",
         "1202.9",
         1,
         "1202.9"
        ],
        [
         123,
         "2023-11-15",
         1085,
         "Alice",
         203,
         "Phone",
         "Delivered",
         "659.1",
         3,
         "219.7"
        ],
        [
         124,
         "2024-07-01",
         1007,
         "Bob",
         203,
         "Mouse",
         "Shipped",
         "3043.6",
         2,
         "1521.8"
        ],
        [
         125,
         "2024-03-13",
         1016,
         "Ian",
         205,
         "Headphones",
         "Pending",
         "1545.4",
         5,
         "309.1"
        ],
        [
         126,
         "2024-06-01",
         1048,
         "David",
         202,
         "Camera",
         "Shipped",
         "1992.9",
         3,
         "664.3"
        ],
        [
         127,
         "2023-04-24",
         1016,
         "Frank",
         210,
         "Mouse",
         "Cancelled",
         "1048.4",
         2,
         "524.2"
        ],
        [
         128,
         "2024-07-20",
         1073,
         "Frank",
         207,
         "Camera",
         "Cancelled",
         "1171.1",
         1,
         "1171.1"
        ],
        [
         129,
         "2024-08-28",
         1062,
         "Ian",
         208,
         "Laptop",
         "Pending",
         "2916.8",
         5,
         "583.4"
        ],
        [
         130,
         "2024-09-11",
         1011,
         "Hannah",
         204,
         "Monitor",
         "Cancelled",
         "7178.5",
         4,
         "1794.6"
        ],
        [
         131,
         "2023-06-17",
         1040,
         "Charlie",
         200,
         "Printer",
         "Cancelled",
         "2219.8",
         2,
         "1109.9"
        ],
        [
         132,
         "2024-03-06",
         1028,
         "Ian",
         204,
         "Camera",
         "Cancelled",
         "2892.9",
         3,
         "964.3"
        ],
        [
         133,
         "2024-08-06",
         1083,
         "Ian",
         209,
         "Keyboard",
         "Pending",
         "1133.7",
         1,
         "1133.8"
        ],
        [
         134,
         "2023-11-18",
         1016,
         "Frank",
         209,
         "Headphones",
         "Delivered",
         "486.9",
         4,
         "121.7"
        ],
        [
         135,
         "2023-12-26",
         1030,
         "Charlie",
         200,
         "Printer",
         "Pending",
         "949.4",
         5,
         "189.9"
        ],
        [
         136,
         "2025-05-12",
         1003,
         "Bob",
         204,
         "Laptop",
         "Delivered",
         "3672.2",
         4,
         "918.1"
        ],
        [
         137,
         "2023-08-30",
         1009,
         "Grace",
         200,
         "Mouse",
         "Pending",
         "3469.4",
         5,
         "693.9"
        ],
        [
         138,
         "2025-07-23",
         1054,
         "Ian",
         207,
         "Phone",
         "Pending",
         "671.9",
         1,
         "671.9"
        ],
        [
         139,
         "2025-01-19",
         1098,
         "Bob",
         205,
         "Printer",
         "Shipped",
         "7556.8",
         5,
         "1511.4"
        ],
        [
         140,
         "2024-01-28",
         1026,
         "Charlie",
         202,
         "Camera",
         "Shipped",
         "3123.1",
         2,
         "1561.6"
        ],
        [
         141,
         "2024-05-30",
         1049,
         "Ian",
         205,
         "Mouse",
         "Delivered",
         "1385.5",
         2,
         "692.8"
        ],
        [
         142,
         "2024-11-16",
         1008,
         "Alice",
         200,
         "Camera",
         "Cancelled",
         "4634.1",
         5,
         "926.8"
        ],
        [
         143,
         "2023-09-02",
         1072,
         "David",
         203,
         "Laptop",
         "Delivered",
         "3027.0",
         5,
         "605.4"
        ],
        [
         144,
         "2025-01-19",
         1013,
         "Ian",
         210,
         "Tablet",
         "Cancelled",
         "386.9",
         1,
         "387.0"
        ],
        [
         145,
         "2024-07-18",
         1075,
         "Charlie",
         204,
         "Phone",
         "Cancelled",
         "6336.3",
         5,
         "1267.3"
        ],
        [
         146,
         "2024-12-20",
         1058,
         "Ian",
         207,
         "Speaker",
         "Delivered",
         "416.5",
         1,
         "416.5"
        ],
        [
         147,
         "2023-02-05",
         1096,
         "Frank",
         204,
         "Speaker",
         "Shipped",
         "1729.8",
         2,
         "864.9"
        ],
        [
         148,
         "2023-11-23",
         1020,
         "Frank",
         204,
         "Monitor",
         "Shipped",
         "2065.0",
         2,
         "1032.5"
        ],
        [
         149,
         "2023-08-26",
         1015,
         "Frank",
         206,
         "Tablet",
         "Cancelled",
         "777.8",
         1,
         "777.8"
        ],
        [
         150,
         "2024-03-08",
         1064,
         "Charlie",
         206,
         "Printer",
         "Cancelled",
         "6189.3",
         4,
         "1547.3"
        ],
        [
         151,
         "2024-12-24",
         1045,
         "Ian",
         203,
         "Laptop",
         "Pending",
         "3726.1",
         3,
         "1242.0"
        ],
        [
         152,
         "2023-01-30",
         1065,
         "Julia",
         208,
         "Laptop",
         "Cancelled",
         "7864.2",
         5,
         "1572.9"
        ],
        [
         153,
         "2023-01-20",
         1068,
         "Julia",
         208,
         "Headphones",
         "Delivered",
         "4797.6",
         4,
         "1199.4"
        ],
        [
         154,
         "2025-08-05",
         1016,
         "Alice",
         209,
         "Headphones",
         "Shipped",
         "2544.0",
         2,
         "1272.0"
        ],
        [
         155,
         "2024-07-20",
         1040,
         "David",
         209,
         "Mouse",
         "Pending",
         "5971.8",
         3,
         "1990.6"
        ],
        [
         156,
         "2023-11-08",
         1088,
         "Ian",
         202,
         "Headphones",
         "Pending",
         "6045.0",
         4,
         "1511.3"
        ],
        [
         157,
         "2024-06-24",
         1070,
         "Bob",
         204,
         "Tablet",
         "Shipped",
         "4275.5",
         4,
         "1068.9"
        ],
        [
         158,
         "2024-06-16",
         1037,
         "Emma",
         208,
         "Headphones",
         "Delivered",
         "3672.2",
         2,
         "1836.1"
        ],
        [
         159,
         "2023-01-28",
         1014,
         "Alice",
         201,
         "Printer",
         "Delivered",
         "1673.3",
         2,
         "836.7"
        ],
        [
         160,
         "2023-02-20",
         1033,
         "Charlie",
         207,
         "Phone",
         "Shipped",
         "2073.6",
         2,
         "1036.8"
        ],
        [
         161,
         "2023-10-24",
         1053,
         "Emma",
         208,
         "Laptop",
         "Delivered",
         "843.3",
         4,
         "210.8"
        ],
        [
         162,
         "2024-11-04",
         1096,
         "Emma",
         203,
         "Mouse",
         "Delivered",
         "5340.7",
         5,
         "1068.2"
        ],
        [
         163,
         "2023-12-29",
         1007,
         "Charlie",
         208,
         "Printer",
         "Delivered",
         "5695.2",
         3,
         "1898.4"
        ],
        [
         164,
         "2025-02-04",
         1027,
         "Alice",
         207,
         "Headphones",
         "Cancelled",
         "2764.9",
         3,
         "921.7"
        ],
        [
         165,
         "2023-05-19",
         1097,
         "Ian",
         208,
         "Speaker",
         "Cancelled",
         "2692.1",
         2,
         "1346.1"
        ],
        [
         166,
         "2024-03-30",
         1015,
         "Hannah",
         201,
         "Laptop",
         "Shipped",
         "1238.1",
         4,
         "309.5"
        ],
        [
         167,
         "2025-03-20",
         1039,
         "Grace",
         201,
         "Printer",
         "Shipped",
         "949.5",
         2,
         "474.8"
        ],
        [
         168,
         "2024-06-03",
         1021,
         "Emma",
         210,
         "Tablet",
         "Cancelled",
         "4289.3",
         3,
         "1429.8"
        ],
        [
         169,
         "2025-05-01",
         1091,
         "Frank",
         202,
         "Mouse",
         "Shipped",
         "2677.6",
         2,
         "1338.8"
        ],
        [
         170,
         "2023-11-18",
         1013,
         "Grace",
         206,
         "Mouse",
         "Delivered",
         "3139.6",
         2,
         "1569.8"
        ],
        [
         171,
         "2023-07-31",
         1053,
         "David",
         203,
         "Camera",
         "Cancelled",
         "1384.6",
         5,
         "276.9"
        ],
        [
         172,
         "2024-10-22",
         1098,
         "Charlie",
         210,
         "Headphones",
         "Delivered",
         "2747.3",
         3,
         "915.8"
        ],
        [
         173,
         "2024-07-30",
         1041,
         "Grace",
         201,
         "Headphones",
         "Cancelled",
         "2974.8",
         3,
         "991.6"
        ],
        [
         174,
         "2023-02-12",
         1072,
         "David",
         200,
         "Phone",
         "Shipped",
         "1264.2",
         2,
         "632.1"
        ],
        [
         175,
         "2024-09-17",
         1063,
         "Alice",
         202,
         "Mouse",
         "Delivered",
         "1073.7",
         2,
         "536.9"
        ],
        [
         176,
         "2023-06-25",
         1031,
         "Julia",
         205,
         "Printer",
         "Shipped",
         "728.4",
         1,
         "728.5"
        ],
        [
         177,
         "2024-04-19",
         1047,
         "Emma",
         201,
         "Printer",
         "Delivered",
         "5170.4",
         3,
         "1723.5"
        ],
        [
         178,
         "2025-04-09",
         1034,
         "Alice",
         201,
         "Printer",
         "Delivered",
         "9353.2",
         5,
         "1870.7"
        ],
        [
         179,
         "2023-03-07",
         1024,
         "Alice",
         206,
         "Phone",
         "Pending",
         "3865.1",
         2,
         "1932.6"
        ],
        [
         180,
         "2024-09-09",
         1058,
         "Bob",
         206,
         "Laptop",
         "Delivered",
         "4136.1",
         3,
         "1378.7"
        ],
        [
         181,
         "2024-01-19",
         1052,
         "Hannah",
         200,
         "Monitor",
         "Shipped",
         "3405.3",
         4,
         "851.3"
        ],
        [
         182,
         "2024-12-20",
         1044,
         "Charlie",
         208,
         "Phone",
         "Delivered",
         "817.0",
         1,
         "817.1"
        ],
        [
         183,
         "2024-12-29",
         1090,
         "Frank",
         200,
         "Tablet",
         "Delivered",
         "658.6",
         2,
         "329.3"
        ],
        [
         184,
         "2024-03-06",
         1031,
         "Julia",
         202,
         "Headphones",
         "Cancelled",
         "958.6",
         4,
         "239.7"
        ],
        [
         185,
         "2024-05-02",
         1006,
         "Bob",
         200,
         "Keyboard",
         "Pending",
         "4838.6",
         4,
         "1209.7"
        ],
        [
         186,
         "2024-01-13",
         1058,
         "Emma",
         201,
         "Printer",
         "Cancelled",
         "865.8",
         4,
         "216.5"
        ],
        [
         187,
         "2024-11-06",
         1083,
         "David",
         204,
         "Monitor",
         "Pending",
         "8838.5",
         5,
         "1767.7"
        ],
        [
         188,
         "2025-04-13",
         1020,
         "Julia",
         210,
         "Speaker",
         "Cancelled",
         "9663.4",
         5,
         "1932.7"
        ],
        [
         189,
         "2024-11-19",
         1011,
         "Emma",
         203,
         "Camera",
         "Cancelled",
         "7854.8",
         4,
         "1963.7"
        ],
        [
         190,
         "2025-01-08",
         1072,
         "Ian",
         205,
         "Headphones",
         "Pending",
         "1716.5",
         1,
         "1716.6"
        ],
        [
         191,
         "2023-12-21",
         1001,
         "Emma",
         201,
         "Headphones",
         "Cancelled",
         "255.9",
         3,
         "85.3"
        ],
        [
         192,
         "2025-02-28",
         1082,
         "Alice",
         204,
         "Phone",
         "Delivered",
         "3970.3",
         5,
         "794.1"
        ],
        [
         193,
         "2024-01-25",
         1091,
         "Emma",
         206,
         "Printer",
         "Cancelled",
         "3038.6",
         3,
         "1012.9"
        ],
        [
         194,
         "2025-01-03",
         1046,
         "David",
         205,
         "Tablet",
         "Pending",
         "2185.8",
         3,
         "728.6"
        ],
        [
         195,
         "2024-06-19",
         1003,
         "Charlie",
         206,
         "Mouse",
         "Delivered",
         "2282.3",
         2,
         "1141.2"
        ],
        [
         196,
         "2023-01-18",
         1031,
         "Charlie",
         210,
         "Keyboard",
         "Cancelled",
         "4734.7",
         3,
         "1578.3"
        ],
        [
         197,
         "2023-09-10",
         1063,
         "Ian",
         207,
         "Monitor",
         "Delivered",
         "1019.4",
         3,
         "339.8"
        ],
        [
         198,
         "2023-11-12",
         1052,
         "David",
         209,
         "Phone",
         "Shipped",
         "3758.6",
         3,
         "1252.9"
        ],
        [
         199,
         "2023-06-05",
         1002,
         "Emma",
         209,
         "Keyboard",
         "Pending",
         "2705.2",
         5,
         "541.0"
        ],
        [
         200,
         "2025-06-19",
         1009,
         "Alice",
         206,
         "Speaker",
         "Shipped",
         "2148.7",
         2,
         "1074.4"
        ]
       ],
       "datasetInfos": [
        {
         "name": "_sqldf",
         "schema": {
          "fields": [
           {
            "metadata": {},
            "name": "order_id",
            "nullable": true,
            "type": "integer"
           },
           {
            "metadata": {},
            "name": "order_date",
            "nullable": true,
            "type": "date"
           },
           {
            "metadata": {},
            "name": "order_customer_id",
            "nullable": true,
            "type": "integer"
           },
           {
            "metadata": {},
            "name": "customer_name",
            "nullable": true,
            "type": "string"
           },
           {
            "metadata": {},
            "name": "product_id",
            "nullable": true,
            "type": "integer"
           },
           {
            "metadata": {},
            "name": "product_name",
            "nullable": true,
            "type": "string"
           },
           {
            "metadata": {},
            "name": "order_status",
            "nullable": true,
            "type": "string"
           },
           {
            "metadata": {},
            "name": "order_total",
            "nullable": true,
            "type": "decimal(11,1)"
           },
           {
            "metadata": {},
            "name": "quantity",
            "nullable": true,
            "type": "integer"
           },
           {
            "metadata": {},
            "name": "price",
            "nullable": true,
            "type": "decimal(10,1)"
           }
          ],
          "type": "struct"
         },
         "tableIdentifier": null,
         "typeStr": "pyspark.sql.dataframe.DataFrame"
        }
       ],
       "dbfsResultPath": null,
       "isJsonSchema": true,
       "metadata": {
        "createTempViewForImplicitDf": true,
        "dataframeName": "_sqldf",
        "executionCount": 41
       },
       "overflow": false,
       "plotOptions": {
        "customPlotOptions": {},
        "displayType": "table",
        "pivotAggregation": null,
        "pivotColumns": null,
        "xColumns": null,
        "yColumns": null
       },
       "removedWidgets": [],
       "schema": [
        {
         "metadata": "{}",
         "name": "order_id",
         "type": "\"integer\""
        },
        {
         "metadata": "{}",
         "name": "order_date",
         "type": "\"date\""
        },
        {
         "metadata": "{}",
         "name": "order_customer_id",
         "type": "\"integer\""
        },
        {
         "metadata": "{}",
         "name": "customer_name",
         "type": "\"string\""
        },
        {
         "metadata": "{}",
         "name": "product_id",
         "type": "\"integer\""
        },
        {
         "metadata": "{}",
         "name": "product_name",
         "type": "\"string\""
        },
        {
         "metadata": "{}",
         "name": "order_status",
         "type": "\"string\""
        },
        {
         "metadata": "{}",
         "name": "order_total",
         "type": "\"decimal(11,1)\""
        },
        {
         "metadata": "{}",
         "name": "quantity",
         "type": "\"integer\""
        },
        {
         "metadata": "{}",
         "name": "price",
         "type": "\"decimal(10,1)\""
        }
       ],
       "type": "table"
      }
     },
     "output_type": "display_data"
    }
   ],
   "source": [
    "%sql\n",
    "select * from salesdwh.core_sales"
   ]
  },
  {
   "cell_type": "code",
   "execution_count": 0,
   "metadata": {
    "application/vnd.databricks.v1+cell": {
     "cellMetadata": {
      "byteLimit": 2048000,
      "implicitDf": true,
      "rowLimit": 10000
     },
     "inputWidgets": {},
     "nuid": "f9b55428-8dc4-4405-b4c6-88812b9cc5f4",
     "showTitle": false,
     "tableResultSettingsMap": {},
     "title": ""
    }
   },
   "outputs": [
    {
     "data": {
      "text/plain": [
       "\u001b[0;31m---------------------------------------------------------------------------\u001b[0m\n",
       "\u001b[0;31mAnalysisException\u001b[0m                         Traceback (most recent call last)\n",
       "File \u001b[0;32m<command-9005717051283483>, line 1\u001b[0m\n",
       "\u001b[0;32m----> 1\u001b[0m get_ipython()\u001b[38;5;241m.\u001b[39mrun_cell_magic(\u001b[38;5;124m'\u001b[39m\u001b[38;5;124msql\u001b[39m\u001b[38;5;124m'\u001b[39m, \u001b[38;5;124m'\u001b[39m\u001b[38;5;124m'\u001b[39m, \u001b[38;5;124m'\u001b[39m\u001b[38;5;124mcreate table salesmodeling.order_fact\u001b[39m\u001b[38;5;130;01m\\n\u001b[39;00m\u001b[38;5;124m(\u001b[39m\u001b[38;5;130;01m\\n\u001b[39;00m\u001b[38;5;124m  order_id int,\u001b[39m\u001b[38;5;130;01m\\n\u001b[39;00m\u001b[38;5;124m  order_date date,\u001b[39m\u001b[38;5;130;01m\\n\u001b[39;00m\u001b[38;5;124m  DimCustomerKey int,\u001b[39m\u001b[38;5;130;01m\\n\u001b[39;00m\u001b[38;5;124m  DimProductKey int,\u001b[39m\u001b[38;5;130;01m\\n\u001b[39;00m\u001b[38;5;124m  quantity int,\u001b[39m\u001b[38;5;130;01m\\n\u001b[39;00m\u001b[38;5;124m  price double,\u001b[39m\u001b[38;5;130;01m\\n\u001b[39;00m\u001b[38;5;124m  order_total double\u001b[39m\u001b[38;5;130;01m\\n\u001b[39;00m\u001b[38;5;124m)\u001b[39m\u001b[38;5;130;01m\\n\u001b[39;00m\u001b[38;5;124m'\u001b[39m)\n",
       "\n",
       "File \u001b[0;32m/databricks/python/lib/python3.12/site-packages/IPython/core/interactiveshell.py:2541\u001b[0m, in \u001b[0;36mInteractiveShell.run_cell_magic\u001b[0;34m(self, magic_name, line, cell)\u001b[0m\n",
       "\u001b[1;32m   2539\u001b[0m \u001b[38;5;28;01mwith\u001b[39;00m \u001b[38;5;28mself\u001b[39m\u001b[38;5;241m.\u001b[39mbuiltin_trap:\n",
       "\u001b[1;32m   2540\u001b[0m     args \u001b[38;5;241m=\u001b[39m (magic_arg_s, cell)\n",
       "\u001b[0;32m-> 2541\u001b[0m     result \u001b[38;5;241m=\u001b[39m fn(\u001b[38;5;241m*\u001b[39margs, \u001b[38;5;241m*\u001b[39m\u001b[38;5;241m*\u001b[39mkwargs)\n",
       "\u001b[1;32m   2543\u001b[0m \u001b[38;5;66;03m# The code below prevents the output from being displayed\u001b[39;00m\n",
       "\u001b[1;32m   2544\u001b[0m \u001b[38;5;66;03m# when using magics with decorator @output_can_be_silenced\u001b[39;00m\n",
       "\u001b[1;32m   2545\u001b[0m \u001b[38;5;66;03m# when the last Python token in the expression is a ';'.\u001b[39;00m\n",
       "\u001b[1;32m   2546\u001b[0m \u001b[38;5;28;01mif\u001b[39;00m \u001b[38;5;28mgetattr\u001b[39m(fn, magic\u001b[38;5;241m.\u001b[39mMAGIC_OUTPUT_CAN_BE_SILENCED, \u001b[38;5;28;01mFalse\u001b[39;00m):\n",
       "\n",
       "File \u001b[0;32m/databricks/python_shell/lib/dbruntime/sql_magic/sql_magic.py:130\u001b[0m, in \u001b[0;36mSqlMagic.sql\u001b[0;34m(self, line, cell)\u001b[0m\n",
       "\u001b[1;32m    126\u001b[0m     \u001b[38;5;28;01mraise\u001b[39;00m \u001b[38;5;167;01mException\u001b[39;00m(\n",
       "\u001b[1;32m    127\u001b[0m         \u001b[38;5;124m\"\u001b[39m\u001b[38;5;124mCannot run \u001b[39m\u001b[38;5;132;01m%s\u001b[39;00m\u001b[38;5;124mql command because spark connect initialization failed and no stacktrace was available.\u001b[39m\u001b[38;5;124m\"\u001b[39m\n",
       "\u001b[1;32m    128\u001b[0m     )\n",
       "\u001b[1;32m    129\u001b[0m \u001b[38;5;28;01mif\u001b[39;00m \u001b[38;5;28mself\u001b[39m\u001b[38;5;241m.\u001b[39muse_py4j:\n",
       "\u001b[0;32m--> 130\u001b[0m     \u001b[38;5;28;01mreturn\u001b[39;00m \u001b[38;5;28mself\u001b[39m\u001b[38;5;241m.\u001b[39mexecute_via_py4j(cell)\n",
       "\u001b[1;32m    132\u001b[0m \u001b[38;5;28;01mreturn\u001b[39;00m \u001b[38;5;28mself\u001b[39m\u001b[38;5;241m.\u001b[39mexecute_via_sql_comm_handler(cell)\n",
       "\n",
       "File \u001b[0;32m/databricks/python_shell/lib/dbruntime/sql_magic/sql_magic.py:217\u001b[0m, in \u001b[0;36mSqlMagic.execute_via_py4j\u001b[0;34m(self, cell)\u001b[0m\n",
       "\u001b[1;32m    211\u001b[0m \u001b[38;5;28;01mexcept\u001b[39;00m \u001b[38;5;167;01mBaseException\u001b[39;00m \u001b[38;5;28;01mas\u001b[39;00m e:\n",
       "\u001b[1;32m    212\u001b[0m     \u001b[38;5;28mself\u001b[39m\u001b[38;5;241m.\u001b[39mdriver_activity_logger\u001b[38;5;241m.\u001b[39mlogExecuteCommandEvent(\n",
       "\u001b[1;32m    213\u001b[0m         \u001b[38;5;124m\"\u001b[39m\u001b[38;5;124mSQL_MAGIC_PY4J_FAILED\u001b[39m\u001b[38;5;124m\"\u001b[39m,\n",
       "\u001b[1;32m    214\u001b[0m         exceptionClassName\u001b[38;5;241m=\u001b[39me\u001b[38;5;241m.\u001b[39m\u001b[38;5;18m__class__\u001b[39m\u001b[38;5;241m.\u001b[39m\u001b[38;5;18m__name__\u001b[39m,\n",
       "\u001b[1;32m    215\u001b[0m         sqlState\u001b[38;5;241m=\u001b[39msafe_call(e, \u001b[38;5;124m\"\u001b[39m\u001b[38;5;124mgetSqlState\u001b[39m\u001b[38;5;124m\"\u001b[39m),\n",
       "\u001b[1;32m    216\u001b[0m         errorClass\u001b[38;5;241m=\u001b[39msafe_call(e, \u001b[38;5;124m\"\u001b[39m\u001b[38;5;124mgetErrorClass\u001b[39m\u001b[38;5;124m\"\u001b[39m))\n",
       "\u001b[0;32m--> 217\u001b[0m     \u001b[38;5;28;01mraise\u001b[39;00m e\n",
       "\u001b[1;32m    218\u001b[0m \u001b[38;5;28mself\u001b[39m\u001b[38;5;241m.\u001b[39mdriver_activity_logger\u001b[38;5;241m.\u001b[39mlogExecuteCommandEvent(\u001b[38;5;124m\"\u001b[39m\u001b[38;5;124mSQL_MAGIC_PY4J_SUCCEEDED\u001b[39m\u001b[38;5;124m\"\u001b[39m)\n",
       "\u001b[1;32m    219\u001b[0m \u001b[38;5;28;01mreturn\u001b[39;00m result\n",
       "\n",
       "File \u001b[0;32m/databricks/python_shell/lib/dbruntime/sql_magic/sql_magic.py:210\u001b[0m, in \u001b[0;36mSqlMagic.execute_via_py4j\u001b[0;34m(self, cell)\u001b[0m\n",
       "\u001b[1;32m    208\u001b[0m         query_text \u001b[38;5;241m=\u001b[39m sub_query\u001b[38;5;241m.\u001b[39mquery()\n",
       "\u001b[1;32m    209\u001b[0m         sql_directive \u001b[38;5;241m=\u001b[39m \u001b[38;5;28mself\u001b[39m\u001b[38;5;241m.\u001b[39mentry_point\u001b[38;5;241m.\u001b[39mgetSqlDirective(query_text)\n",
       "\u001b[0;32m--> 210\u001b[0m         result \u001b[38;5;241m=\u001b[39m \u001b[38;5;28mself\u001b[39m\u001b[38;5;241m.\u001b[39mhandle_sql_directive(sql_directive, i \u001b[38;5;241m==\u001b[39m number_of_sub_queries \u001b[38;5;241m-\u001b[39m \u001b[38;5;241m1\u001b[39m)\n",
       "\u001b[1;32m    211\u001b[0m \u001b[38;5;28;01mexcept\u001b[39;00m \u001b[38;5;167;01mBaseException\u001b[39;00m \u001b[38;5;28;01mas\u001b[39;00m e:\n",
       "\u001b[1;32m    212\u001b[0m     \u001b[38;5;28mself\u001b[39m\u001b[38;5;241m.\u001b[39mdriver_activity_logger\u001b[38;5;241m.\u001b[39mlogExecuteCommandEvent(\n",
       "\u001b[1;32m    213\u001b[0m         \u001b[38;5;124m\"\u001b[39m\u001b[38;5;124mSQL_MAGIC_PY4J_FAILED\u001b[39m\u001b[38;5;124m\"\u001b[39m,\n",
       "\u001b[1;32m    214\u001b[0m         exceptionClassName\u001b[38;5;241m=\u001b[39me\u001b[38;5;241m.\u001b[39m\u001b[38;5;18m__class__\u001b[39m\u001b[38;5;241m.\u001b[39m\u001b[38;5;18m__name__\u001b[39m,\n",
       "\u001b[1;32m    215\u001b[0m         sqlState\u001b[38;5;241m=\u001b[39msafe_call(e, \u001b[38;5;124m\"\u001b[39m\u001b[38;5;124mgetSqlState\u001b[39m\u001b[38;5;124m\"\u001b[39m),\n",
       "\u001b[1;32m    216\u001b[0m         errorClass\u001b[38;5;241m=\u001b[39msafe_call(e, \u001b[38;5;124m\"\u001b[39m\u001b[38;5;124mgetErrorClass\u001b[39m\u001b[38;5;124m\"\u001b[39m))\n",
       "\n",
       "File \u001b[0;32m/databricks/python_shell/lib/dbruntime/sql_magic/sql_magic.py:235\u001b[0m, in \u001b[0;36mSqlMagic.handle_sql_directive\u001b[0;34m(self, sql_directive, is_last_query)\u001b[0m\n",
       "\u001b[1;32m    233\u001b[0m     df \u001b[38;5;241m=\u001b[39m \u001b[38;5;28mself\u001b[39m\u001b[38;5;241m.\u001b[39mget_query_request_result(\u001b[38;5;124mf\u001b[39m\u001b[38;5;124m\"\u001b[39m\u001b[38;5;124mSELECT * FROM \u001b[39m\u001b[38;5;132;01m{\u001b[39;00mtable_name\u001b[38;5;132;01m}\u001b[39;00m\u001b[38;5;124m\"\u001b[39m)\n",
       "\u001b[1;32m    234\u001b[0m \u001b[38;5;28;01melif\u001b[39;00m directive_name \u001b[38;5;241m==\u001b[39m \u001b[38;5;124m\"\u001b[39m\u001b[38;5;124mNoDirective\u001b[39m\u001b[38;5;124m\"\u001b[39m:\n",
       "\u001b[0;32m--> 235\u001b[0m     df \u001b[38;5;241m=\u001b[39m \u001b[38;5;28mself\u001b[39m\u001b[38;5;241m.\u001b[39mget_query_request_result(sql_directive\u001b[38;5;241m.\u001b[39msql())\n",
       "\u001b[1;32m    236\u001b[0m     \u001b[38;5;28;01mif\u001b[39;00m df \u001b[38;5;129;01mis\u001b[39;00m \u001b[38;5;28;01mNone\u001b[39;00m \u001b[38;5;129;01mor\u001b[39;00m \u001b[38;5;28mlen\u001b[39m(df\u001b[38;5;241m.\u001b[39mschema) \u001b[38;5;241m==\u001b[39m \u001b[38;5;241m0\u001b[39m:\n",
       "\u001b[1;32m    237\u001b[0m         \u001b[38;5;66;03m# E.g. \"create or replace temp view abc as select 1\" gets us here and we should not return a result in this case.\u001b[39;00m\n",
       "\u001b[1;32m    238\u001b[0m         \u001b[38;5;28;01mreturn\u001b[39;00m \u001b[38;5;28;01mNone\u001b[39;00m\n",
       "\n",
       "File \u001b[0;32m/databricks/python_shell/lib/dbruntime/sql_magic/sql_magic.py:107\u001b[0m, in \u001b[0;36mSqlMagic.get_query_request_result\u001b[0;34m(self, query)\u001b[0m\n",
       "\u001b[1;32m    105\u001b[0m \u001b[38;5;28;01mif\u001b[39;00m \u001b[38;5;28mlen\u001b[39m(widget_bindings \u001b[38;5;241m:=\u001b[39m \u001b[38;5;28mself\u001b[39m\u001b[38;5;241m.\u001b[39mdbutils\u001b[38;5;241m.\u001b[39mwidgets\u001b[38;5;241m.\u001b[39mgetAll()) \u001b[38;5;241m>\u001b[39m \u001b[38;5;241m0\u001b[39m:\n",
       "\u001b[1;32m    106\u001b[0m     \u001b[38;5;28mself\u001b[39m\u001b[38;5;241m.\u001b[39mdriver_activity_logger\u001b[38;5;241m.\u001b[39mlogExecuteCommandEvent(\u001b[38;5;124m\"\u001b[39m\u001b[38;5;124mPARAM_SYNTAX_USAGE\u001b[39m\u001b[38;5;124m\"\u001b[39m)\n",
       "\u001b[0;32m--> 107\u001b[0m df \u001b[38;5;241m=\u001b[39m \u001b[38;5;28mself\u001b[39m\u001b[38;5;241m.\u001b[39mspark\u001b[38;5;241m.\u001b[39msql(query, widget_bindings)\n",
       "\u001b[1;32m    108\u001b[0m \u001b[38;5;28;01mreturn\u001b[39;00m df\n",
       "\n",
       "File \u001b[0;32m/databricks/spark/python/pyspark/instrumentation_utils.py:47\u001b[0m, in \u001b[0;36m_wrap_function.<locals>.wrapper\u001b[0;34m(*args, **kwargs)\u001b[0m\n",
       "\u001b[1;32m     45\u001b[0m start \u001b[38;5;241m=\u001b[39m time\u001b[38;5;241m.\u001b[39mperf_counter()\n",
       "\u001b[1;32m     46\u001b[0m \u001b[38;5;28;01mtry\u001b[39;00m:\n",
       "\u001b[0;32m---> 47\u001b[0m     res \u001b[38;5;241m=\u001b[39m func(\u001b[38;5;241m*\u001b[39margs, \u001b[38;5;241m*\u001b[39m\u001b[38;5;241m*\u001b[39mkwargs)\n",
       "\u001b[1;32m     48\u001b[0m     logger\u001b[38;5;241m.\u001b[39mlog_success(\n",
       "\u001b[1;32m     49\u001b[0m         module_name, class_name, function_name, time\u001b[38;5;241m.\u001b[39mperf_counter() \u001b[38;5;241m-\u001b[39m start, signature\n",
       "\u001b[1;32m     50\u001b[0m     )\n",
       "\u001b[1;32m     51\u001b[0m     \u001b[38;5;28;01mreturn\u001b[39;00m res\n",
       "\n",
       "File \u001b[0;32m/databricks/spark/python/pyspark/sql/session.py:1868\u001b[0m, in \u001b[0;36mSparkSession.sql\u001b[0;34m(self, sqlQuery, args, **kwargs)\u001b[0m\n",
       "\u001b[1;32m   1863\u001b[0m     \u001b[38;5;28;01melse\u001b[39;00m:\n",
       "\u001b[1;32m   1864\u001b[0m         \u001b[38;5;28;01mraise\u001b[39;00m PySparkTypeError(\n",
       "\u001b[1;32m   1865\u001b[0m             errorClass\u001b[38;5;241m=\u001b[39m\u001b[38;5;124m\"\u001b[39m\u001b[38;5;124mINVALID_TYPE\u001b[39m\u001b[38;5;124m\"\u001b[39m,\n",
       "\u001b[1;32m   1866\u001b[0m             messageParameters\u001b[38;5;241m=\u001b[39m{\u001b[38;5;124m\"\u001b[39m\u001b[38;5;124marg_name\u001b[39m\u001b[38;5;124m\"\u001b[39m: \u001b[38;5;124m\"\u001b[39m\u001b[38;5;124margs\u001b[39m\u001b[38;5;124m\"\u001b[39m, \u001b[38;5;124m\"\u001b[39m\u001b[38;5;124marg_type\u001b[39m\u001b[38;5;124m\"\u001b[39m: \u001b[38;5;28mtype\u001b[39m(args)\u001b[38;5;241m.\u001b[39m\u001b[38;5;18m__name__\u001b[39m},\n",
       "\u001b[1;32m   1867\u001b[0m         )\n",
       "\u001b[0;32m-> 1868\u001b[0m     \u001b[38;5;28;01mreturn\u001b[39;00m DataFrame(\u001b[38;5;28mself\u001b[39m\u001b[38;5;241m.\u001b[39m_jsparkSession\u001b[38;5;241m.\u001b[39msql(sqlQuery, litArgs), \u001b[38;5;28mself\u001b[39m)\n",
       "\u001b[1;32m   1869\u001b[0m \u001b[38;5;28;01mfinally\u001b[39;00m:\n",
       "\u001b[1;32m   1870\u001b[0m     \u001b[38;5;28;01mif\u001b[39;00m \u001b[38;5;28mlen\u001b[39m(kwargs) \u001b[38;5;241m>\u001b[39m \u001b[38;5;241m0\u001b[39m:\n",
       "\n",
       "File \u001b[0;32m/databricks/spark/python/lib/py4j-0.10.9.9-src.zip/py4j/java_gateway.py:1362\u001b[0m, in \u001b[0;36mJavaMember.__call__\u001b[0;34m(self, *args)\u001b[0m\n",
       "\u001b[1;32m   1356\u001b[0m command \u001b[38;5;241m=\u001b[39m proto\u001b[38;5;241m.\u001b[39mCALL_COMMAND_NAME \u001b[38;5;241m+\u001b[39m\\\n",
       "\u001b[1;32m   1357\u001b[0m     \u001b[38;5;28mself\u001b[39m\u001b[38;5;241m.\u001b[39mcommand_header \u001b[38;5;241m+\u001b[39m\\\n",
       "\u001b[1;32m   1358\u001b[0m     args_command \u001b[38;5;241m+\u001b[39m\\\n",
       "\u001b[1;32m   1359\u001b[0m     proto\u001b[38;5;241m.\u001b[39mEND_COMMAND_PART\n",
       "\u001b[1;32m   1361\u001b[0m answer \u001b[38;5;241m=\u001b[39m \u001b[38;5;28mself\u001b[39m\u001b[38;5;241m.\u001b[39mgateway_client\u001b[38;5;241m.\u001b[39msend_command(command)\n",
       "\u001b[0;32m-> 1362\u001b[0m return_value \u001b[38;5;241m=\u001b[39m get_return_value(\n",
       "\u001b[1;32m   1363\u001b[0m     answer, \u001b[38;5;28mself\u001b[39m\u001b[38;5;241m.\u001b[39mgateway_client, \u001b[38;5;28mself\u001b[39m\u001b[38;5;241m.\u001b[39mtarget_id, \u001b[38;5;28mself\u001b[39m\u001b[38;5;241m.\u001b[39mname)\n",
       "\u001b[1;32m   1365\u001b[0m \u001b[38;5;28;01mfor\u001b[39;00m temp_arg \u001b[38;5;129;01min\u001b[39;00m temp_args:\n",
       "\u001b[1;32m   1366\u001b[0m     \u001b[38;5;28;01mif\u001b[39;00m \u001b[38;5;28mhasattr\u001b[39m(temp_arg, \u001b[38;5;124m\"\u001b[39m\u001b[38;5;124m_detach\u001b[39m\u001b[38;5;124m\"\u001b[39m):\n",
       "\n",
       "File \u001b[0;32m/databricks/spark/python/pyspark/errors/exceptions/captured.py:275\u001b[0m, in \u001b[0;36mcapture_sql_exception.<locals>.deco\u001b[0;34m(*a, **kw)\u001b[0m\n",
       "\u001b[1;32m    271\u001b[0m converted \u001b[38;5;241m=\u001b[39m convert_exception(e\u001b[38;5;241m.\u001b[39mjava_exception)\n",
       "\u001b[1;32m    272\u001b[0m \u001b[38;5;28;01mif\u001b[39;00m \u001b[38;5;129;01mnot\u001b[39;00m \u001b[38;5;28misinstance\u001b[39m(converted, UnknownException):\n",
       "\u001b[1;32m    273\u001b[0m     \u001b[38;5;66;03m# Hide where the exception came from that shows a non-Pythonic\u001b[39;00m\n",
       "\u001b[1;32m    274\u001b[0m     \u001b[38;5;66;03m# JVM exception message.\u001b[39;00m\n",
       "\u001b[0;32m--> 275\u001b[0m     \u001b[38;5;28;01mraise\u001b[39;00m converted \u001b[38;5;28;01mfrom\u001b[39;00m \u001b[38;5;28;01mNone\u001b[39;00m\n",
       "\u001b[1;32m    276\u001b[0m \u001b[38;5;28;01melse\u001b[39;00m:\n",
       "\u001b[1;32m    277\u001b[0m     \u001b[38;5;28;01mraise\u001b[39;00m\n",
       "\n",
       "\u001b[0;31mAnalysisException\u001b[0m: [TABLE_OR_VIEW_ALREADY_EXISTS] Cannot create table or view `salesmodeling`.`order_fact` because it already exists.\n",
       "Choose a different name, drop the existing object, add the IF NOT EXISTS clause to tolerate pre-existing objects, add the OR REPLACE clause to replace the existing materialized view, or add the OR REFRESH clause to refresh the existing streaming table. SQLSTATE: 42P07"
      ]
     },
     "metadata": {
      "application/vnd.databricks.v1+output": {
       "addedWidgets": {},
       "arguments": {},
       "datasetInfos": [],
       "jupyterProps": {
        "ename": "AnalysisException",
        "evalue": "[TABLE_OR_VIEW_ALREADY_EXISTS] Cannot create table or view `salesmodeling`.`order_fact` because it already exists.\nChoose a different name, drop the existing object, add the IF NOT EXISTS clause to tolerate pre-existing objects, add the OR REPLACE clause to replace the existing materialized view, or add the OR REFRESH clause to refresh the existing streaming table. SQLSTATE: 42P07"
       },
       "metadata": {
        "errorSummary": "[TABLE_OR_VIEW_ALREADY_EXISTS] Cannot create table or view `salesmodeling`.`order_fact` because it already exists.\nChoose a different name, drop the existing object, add the IF NOT EXISTS clause to tolerate pre-existing objects, add the OR REPLACE clause to replace the existing materialized view, or add the OR REFRESH clause to refresh the existing streaming table. SQLSTATE: 42P07"
       },
       "removedWidgets": [],
       "sqlProps": {
        "breakingChangeInfo": null,
        "errorClass": "TABLE_OR_VIEW_ALREADY_EXISTS",
        "pysparkCallSite": "",
        "pysparkFragment": "",
        "pysparkSummary": null,
        "sqlState": "42P07",
        "stackTrace": null,
        "startIndex": null,
        "stopIndex": null
       },
       "stackFrames": [
        "\u001b[0;31m---------------------------------------------------------------------------\u001b[0m",
        "\u001b[0;31mAnalysisException\u001b[0m                         Traceback (most recent call last)",
        "File \u001b[0;32m<command-9005717051283483>, line 1\u001b[0m\n\u001b[0;32m----> 1\u001b[0m get_ipython()\u001b[38;5;241m.\u001b[39mrun_cell_magic(\u001b[38;5;124m'\u001b[39m\u001b[38;5;124msql\u001b[39m\u001b[38;5;124m'\u001b[39m, \u001b[38;5;124m'\u001b[39m\u001b[38;5;124m'\u001b[39m, \u001b[38;5;124m'\u001b[39m\u001b[38;5;124mcreate table salesmodeling.order_fact\u001b[39m\u001b[38;5;130;01m\\n\u001b[39;00m\u001b[38;5;124m(\u001b[39m\u001b[38;5;130;01m\\n\u001b[39;00m\u001b[38;5;124m  order_id int,\u001b[39m\u001b[38;5;130;01m\\n\u001b[39;00m\u001b[38;5;124m  order_date date,\u001b[39m\u001b[38;5;130;01m\\n\u001b[39;00m\u001b[38;5;124m  DimCustomerKey int,\u001b[39m\u001b[38;5;130;01m\\n\u001b[39;00m\u001b[38;5;124m  DimProductKey int,\u001b[39m\u001b[38;5;130;01m\\n\u001b[39;00m\u001b[38;5;124m  quantity int,\u001b[39m\u001b[38;5;130;01m\\n\u001b[39;00m\u001b[38;5;124m  price double,\u001b[39m\u001b[38;5;130;01m\\n\u001b[39;00m\u001b[38;5;124m  order_total double\u001b[39m\u001b[38;5;130;01m\\n\u001b[39;00m\u001b[38;5;124m)\u001b[39m\u001b[38;5;130;01m\\n\u001b[39;00m\u001b[38;5;124m'\u001b[39m)\n",
        "File \u001b[0;32m/databricks/python/lib/python3.12/site-packages/IPython/core/interactiveshell.py:2541\u001b[0m, in \u001b[0;36mInteractiveShell.run_cell_magic\u001b[0;34m(self, magic_name, line, cell)\u001b[0m\n\u001b[1;32m   2539\u001b[0m \u001b[38;5;28;01mwith\u001b[39;00m \u001b[38;5;28mself\u001b[39m\u001b[38;5;241m.\u001b[39mbuiltin_trap:\n\u001b[1;32m   2540\u001b[0m     args \u001b[38;5;241m=\u001b[39m (magic_arg_s, cell)\n\u001b[0;32m-> 2541\u001b[0m     result \u001b[38;5;241m=\u001b[39m fn(\u001b[38;5;241m*\u001b[39margs, \u001b[38;5;241m*\u001b[39m\u001b[38;5;241m*\u001b[39mkwargs)\n\u001b[1;32m   2543\u001b[0m \u001b[38;5;66;03m# The code below prevents the output from being displayed\u001b[39;00m\n\u001b[1;32m   2544\u001b[0m \u001b[38;5;66;03m# when using magics with decorator @output_can_be_silenced\u001b[39;00m\n\u001b[1;32m   2545\u001b[0m \u001b[38;5;66;03m# when the last Python token in the expression is a ';'.\u001b[39;00m\n\u001b[1;32m   2546\u001b[0m \u001b[38;5;28;01mif\u001b[39;00m \u001b[38;5;28mgetattr\u001b[39m(fn, magic\u001b[38;5;241m.\u001b[39mMAGIC_OUTPUT_CAN_BE_SILENCED, \u001b[38;5;28;01mFalse\u001b[39;00m):\n",
        "File \u001b[0;32m/databricks/python_shell/lib/dbruntime/sql_magic/sql_magic.py:130\u001b[0m, in \u001b[0;36mSqlMagic.sql\u001b[0;34m(self, line, cell)\u001b[0m\n\u001b[1;32m    126\u001b[0m     \u001b[38;5;28;01mraise\u001b[39;00m \u001b[38;5;167;01mException\u001b[39;00m(\n\u001b[1;32m    127\u001b[0m         \u001b[38;5;124m\"\u001b[39m\u001b[38;5;124mCannot run \u001b[39m\u001b[38;5;132;01m%s\u001b[39;00m\u001b[38;5;124mql command because spark connect initialization failed and no stacktrace was available.\u001b[39m\u001b[38;5;124m\"\u001b[39m\n\u001b[1;32m    128\u001b[0m     )\n\u001b[1;32m    129\u001b[0m \u001b[38;5;28;01mif\u001b[39;00m \u001b[38;5;28mself\u001b[39m\u001b[38;5;241m.\u001b[39muse_py4j:\n\u001b[0;32m--> 130\u001b[0m     \u001b[38;5;28;01mreturn\u001b[39;00m \u001b[38;5;28mself\u001b[39m\u001b[38;5;241m.\u001b[39mexecute_via_py4j(cell)\n\u001b[1;32m    132\u001b[0m \u001b[38;5;28;01mreturn\u001b[39;00m \u001b[38;5;28mself\u001b[39m\u001b[38;5;241m.\u001b[39mexecute_via_sql_comm_handler(cell)\n",
        "File \u001b[0;32m/databricks/python_shell/lib/dbruntime/sql_magic/sql_magic.py:217\u001b[0m, in \u001b[0;36mSqlMagic.execute_via_py4j\u001b[0;34m(self, cell)\u001b[0m\n\u001b[1;32m    211\u001b[0m \u001b[38;5;28;01mexcept\u001b[39;00m \u001b[38;5;167;01mBaseException\u001b[39;00m \u001b[38;5;28;01mas\u001b[39;00m e:\n\u001b[1;32m    212\u001b[0m     \u001b[38;5;28mself\u001b[39m\u001b[38;5;241m.\u001b[39mdriver_activity_logger\u001b[38;5;241m.\u001b[39mlogExecuteCommandEvent(\n\u001b[1;32m    213\u001b[0m         \u001b[38;5;124m\"\u001b[39m\u001b[38;5;124mSQL_MAGIC_PY4J_FAILED\u001b[39m\u001b[38;5;124m\"\u001b[39m,\n\u001b[1;32m    214\u001b[0m         exceptionClassName\u001b[38;5;241m=\u001b[39me\u001b[38;5;241m.\u001b[39m\u001b[38;5;18m__class__\u001b[39m\u001b[38;5;241m.\u001b[39m\u001b[38;5;18m__name__\u001b[39m,\n\u001b[1;32m    215\u001b[0m         sqlState\u001b[38;5;241m=\u001b[39msafe_call(e, \u001b[38;5;124m\"\u001b[39m\u001b[38;5;124mgetSqlState\u001b[39m\u001b[38;5;124m\"\u001b[39m),\n\u001b[1;32m    216\u001b[0m         errorClass\u001b[38;5;241m=\u001b[39msafe_call(e, \u001b[38;5;124m\"\u001b[39m\u001b[38;5;124mgetErrorClass\u001b[39m\u001b[38;5;124m\"\u001b[39m))\n\u001b[0;32m--> 217\u001b[0m     \u001b[38;5;28;01mraise\u001b[39;00m e\n\u001b[1;32m    218\u001b[0m \u001b[38;5;28mself\u001b[39m\u001b[38;5;241m.\u001b[39mdriver_activity_logger\u001b[38;5;241m.\u001b[39mlogExecuteCommandEvent(\u001b[38;5;124m\"\u001b[39m\u001b[38;5;124mSQL_MAGIC_PY4J_SUCCEEDED\u001b[39m\u001b[38;5;124m\"\u001b[39m)\n\u001b[1;32m    219\u001b[0m \u001b[38;5;28;01mreturn\u001b[39;00m result\n",
        "File \u001b[0;32m/databricks/python_shell/lib/dbruntime/sql_magic/sql_magic.py:210\u001b[0m, in \u001b[0;36mSqlMagic.execute_via_py4j\u001b[0;34m(self, cell)\u001b[0m\n\u001b[1;32m    208\u001b[0m         query_text \u001b[38;5;241m=\u001b[39m sub_query\u001b[38;5;241m.\u001b[39mquery()\n\u001b[1;32m    209\u001b[0m         sql_directive \u001b[38;5;241m=\u001b[39m \u001b[38;5;28mself\u001b[39m\u001b[38;5;241m.\u001b[39mentry_point\u001b[38;5;241m.\u001b[39mgetSqlDirective(query_text)\n\u001b[0;32m--> 210\u001b[0m         result \u001b[38;5;241m=\u001b[39m \u001b[38;5;28mself\u001b[39m\u001b[38;5;241m.\u001b[39mhandle_sql_directive(sql_directive, i \u001b[38;5;241m==\u001b[39m number_of_sub_queries \u001b[38;5;241m-\u001b[39m \u001b[38;5;241m1\u001b[39m)\n\u001b[1;32m    211\u001b[0m \u001b[38;5;28;01mexcept\u001b[39;00m \u001b[38;5;167;01mBaseException\u001b[39;00m \u001b[38;5;28;01mas\u001b[39;00m e:\n\u001b[1;32m    212\u001b[0m     \u001b[38;5;28mself\u001b[39m\u001b[38;5;241m.\u001b[39mdriver_activity_logger\u001b[38;5;241m.\u001b[39mlogExecuteCommandEvent(\n\u001b[1;32m    213\u001b[0m         \u001b[38;5;124m\"\u001b[39m\u001b[38;5;124mSQL_MAGIC_PY4J_FAILED\u001b[39m\u001b[38;5;124m\"\u001b[39m,\n\u001b[1;32m    214\u001b[0m         exceptionClassName\u001b[38;5;241m=\u001b[39me\u001b[38;5;241m.\u001b[39m\u001b[38;5;18m__class__\u001b[39m\u001b[38;5;241m.\u001b[39m\u001b[38;5;18m__name__\u001b[39m,\n\u001b[1;32m    215\u001b[0m         sqlState\u001b[38;5;241m=\u001b[39msafe_call(e, \u001b[38;5;124m\"\u001b[39m\u001b[38;5;124mgetSqlState\u001b[39m\u001b[38;5;124m\"\u001b[39m),\n\u001b[1;32m    216\u001b[0m         errorClass\u001b[38;5;241m=\u001b[39msafe_call(e, \u001b[38;5;124m\"\u001b[39m\u001b[38;5;124mgetErrorClass\u001b[39m\u001b[38;5;124m\"\u001b[39m))\n",
        "File \u001b[0;32m/databricks/python_shell/lib/dbruntime/sql_magic/sql_magic.py:235\u001b[0m, in \u001b[0;36mSqlMagic.handle_sql_directive\u001b[0;34m(self, sql_directive, is_last_query)\u001b[0m\n\u001b[1;32m    233\u001b[0m     df \u001b[38;5;241m=\u001b[39m \u001b[38;5;28mself\u001b[39m\u001b[38;5;241m.\u001b[39mget_query_request_result(\u001b[38;5;124mf\u001b[39m\u001b[38;5;124m\"\u001b[39m\u001b[38;5;124mSELECT * FROM \u001b[39m\u001b[38;5;132;01m{\u001b[39;00mtable_name\u001b[38;5;132;01m}\u001b[39;00m\u001b[38;5;124m\"\u001b[39m)\n\u001b[1;32m    234\u001b[0m \u001b[38;5;28;01melif\u001b[39;00m directive_name \u001b[38;5;241m==\u001b[39m \u001b[38;5;124m\"\u001b[39m\u001b[38;5;124mNoDirective\u001b[39m\u001b[38;5;124m\"\u001b[39m:\n\u001b[0;32m--> 235\u001b[0m     df \u001b[38;5;241m=\u001b[39m \u001b[38;5;28mself\u001b[39m\u001b[38;5;241m.\u001b[39mget_query_request_result(sql_directive\u001b[38;5;241m.\u001b[39msql())\n\u001b[1;32m    236\u001b[0m     \u001b[38;5;28;01mif\u001b[39;00m df \u001b[38;5;129;01mis\u001b[39;00m \u001b[38;5;28;01mNone\u001b[39;00m \u001b[38;5;129;01mor\u001b[39;00m \u001b[38;5;28mlen\u001b[39m(df\u001b[38;5;241m.\u001b[39mschema) \u001b[38;5;241m==\u001b[39m \u001b[38;5;241m0\u001b[39m:\n\u001b[1;32m    237\u001b[0m         \u001b[38;5;66;03m# E.g. \"create or replace temp view abc as select 1\" gets us here and we should not return a result in this case.\u001b[39;00m\n\u001b[1;32m    238\u001b[0m         \u001b[38;5;28;01mreturn\u001b[39;00m \u001b[38;5;28;01mNone\u001b[39;00m\n",
        "File \u001b[0;32m/databricks/python_shell/lib/dbruntime/sql_magic/sql_magic.py:107\u001b[0m, in \u001b[0;36mSqlMagic.get_query_request_result\u001b[0;34m(self, query)\u001b[0m\n\u001b[1;32m    105\u001b[0m \u001b[38;5;28;01mif\u001b[39;00m \u001b[38;5;28mlen\u001b[39m(widget_bindings \u001b[38;5;241m:=\u001b[39m \u001b[38;5;28mself\u001b[39m\u001b[38;5;241m.\u001b[39mdbutils\u001b[38;5;241m.\u001b[39mwidgets\u001b[38;5;241m.\u001b[39mgetAll()) \u001b[38;5;241m>\u001b[39m \u001b[38;5;241m0\u001b[39m:\n\u001b[1;32m    106\u001b[0m     \u001b[38;5;28mself\u001b[39m\u001b[38;5;241m.\u001b[39mdriver_activity_logger\u001b[38;5;241m.\u001b[39mlogExecuteCommandEvent(\u001b[38;5;124m\"\u001b[39m\u001b[38;5;124mPARAM_SYNTAX_USAGE\u001b[39m\u001b[38;5;124m\"\u001b[39m)\n\u001b[0;32m--> 107\u001b[0m df \u001b[38;5;241m=\u001b[39m \u001b[38;5;28mself\u001b[39m\u001b[38;5;241m.\u001b[39mspark\u001b[38;5;241m.\u001b[39msql(query, widget_bindings)\n\u001b[1;32m    108\u001b[0m \u001b[38;5;28;01mreturn\u001b[39;00m df\n",
        "File \u001b[0;32m/databricks/spark/python/pyspark/instrumentation_utils.py:47\u001b[0m, in \u001b[0;36m_wrap_function.<locals>.wrapper\u001b[0;34m(*args, **kwargs)\u001b[0m\n\u001b[1;32m     45\u001b[0m start \u001b[38;5;241m=\u001b[39m time\u001b[38;5;241m.\u001b[39mperf_counter()\n\u001b[1;32m     46\u001b[0m \u001b[38;5;28;01mtry\u001b[39;00m:\n\u001b[0;32m---> 47\u001b[0m     res \u001b[38;5;241m=\u001b[39m func(\u001b[38;5;241m*\u001b[39margs, \u001b[38;5;241m*\u001b[39m\u001b[38;5;241m*\u001b[39mkwargs)\n\u001b[1;32m     48\u001b[0m     logger\u001b[38;5;241m.\u001b[39mlog_success(\n\u001b[1;32m     49\u001b[0m         module_name, class_name, function_name, time\u001b[38;5;241m.\u001b[39mperf_counter() \u001b[38;5;241m-\u001b[39m start, signature\n\u001b[1;32m     50\u001b[0m     )\n\u001b[1;32m     51\u001b[0m     \u001b[38;5;28;01mreturn\u001b[39;00m res\n",
        "File \u001b[0;32m/databricks/spark/python/pyspark/sql/session.py:1868\u001b[0m, in \u001b[0;36mSparkSession.sql\u001b[0;34m(self, sqlQuery, args, **kwargs)\u001b[0m\n\u001b[1;32m   1863\u001b[0m     \u001b[38;5;28;01melse\u001b[39;00m:\n\u001b[1;32m   1864\u001b[0m         \u001b[38;5;28;01mraise\u001b[39;00m PySparkTypeError(\n\u001b[1;32m   1865\u001b[0m             errorClass\u001b[38;5;241m=\u001b[39m\u001b[38;5;124m\"\u001b[39m\u001b[38;5;124mINVALID_TYPE\u001b[39m\u001b[38;5;124m\"\u001b[39m,\n\u001b[1;32m   1866\u001b[0m             messageParameters\u001b[38;5;241m=\u001b[39m{\u001b[38;5;124m\"\u001b[39m\u001b[38;5;124marg_name\u001b[39m\u001b[38;5;124m\"\u001b[39m: \u001b[38;5;124m\"\u001b[39m\u001b[38;5;124margs\u001b[39m\u001b[38;5;124m\"\u001b[39m, \u001b[38;5;124m\"\u001b[39m\u001b[38;5;124marg_type\u001b[39m\u001b[38;5;124m\"\u001b[39m: \u001b[38;5;28mtype\u001b[39m(args)\u001b[38;5;241m.\u001b[39m\u001b[38;5;18m__name__\u001b[39m},\n\u001b[1;32m   1867\u001b[0m         )\n\u001b[0;32m-> 1868\u001b[0m     \u001b[38;5;28;01mreturn\u001b[39;00m DataFrame(\u001b[38;5;28mself\u001b[39m\u001b[38;5;241m.\u001b[39m_jsparkSession\u001b[38;5;241m.\u001b[39msql(sqlQuery, litArgs), \u001b[38;5;28mself\u001b[39m)\n\u001b[1;32m   1869\u001b[0m \u001b[38;5;28;01mfinally\u001b[39;00m:\n\u001b[1;32m   1870\u001b[0m     \u001b[38;5;28;01mif\u001b[39;00m \u001b[38;5;28mlen\u001b[39m(kwargs) \u001b[38;5;241m>\u001b[39m \u001b[38;5;241m0\u001b[39m:\n",
        "File \u001b[0;32m/databricks/spark/python/lib/py4j-0.10.9.9-src.zip/py4j/java_gateway.py:1362\u001b[0m, in \u001b[0;36mJavaMember.__call__\u001b[0;34m(self, *args)\u001b[0m\n\u001b[1;32m   1356\u001b[0m command \u001b[38;5;241m=\u001b[39m proto\u001b[38;5;241m.\u001b[39mCALL_COMMAND_NAME \u001b[38;5;241m+\u001b[39m\\\n\u001b[1;32m   1357\u001b[0m     \u001b[38;5;28mself\u001b[39m\u001b[38;5;241m.\u001b[39mcommand_header \u001b[38;5;241m+\u001b[39m\\\n\u001b[1;32m   1358\u001b[0m     args_command \u001b[38;5;241m+\u001b[39m\\\n\u001b[1;32m   1359\u001b[0m     proto\u001b[38;5;241m.\u001b[39mEND_COMMAND_PART\n\u001b[1;32m   1361\u001b[0m answer \u001b[38;5;241m=\u001b[39m \u001b[38;5;28mself\u001b[39m\u001b[38;5;241m.\u001b[39mgateway_client\u001b[38;5;241m.\u001b[39msend_command(command)\n\u001b[0;32m-> 1362\u001b[0m return_value \u001b[38;5;241m=\u001b[39m get_return_value(\n\u001b[1;32m   1363\u001b[0m     answer, \u001b[38;5;28mself\u001b[39m\u001b[38;5;241m.\u001b[39mgateway_client, \u001b[38;5;28mself\u001b[39m\u001b[38;5;241m.\u001b[39mtarget_id, \u001b[38;5;28mself\u001b[39m\u001b[38;5;241m.\u001b[39mname)\n\u001b[1;32m   1365\u001b[0m \u001b[38;5;28;01mfor\u001b[39;00m temp_arg \u001b[38;5;129;01min\u001b[39;00m temp_args:\n\u001b[1;32m   1366\u001b[0m     \u001b[38;5;28;01mif\u001b[39;00m \u001b[38;5;28mhasattr\u001b[39m(temp_arg, \u001b[38;5;124m\"\u001b[39m\u001b[38;5;124m_detach\u001b[39m\u001b[38;5;124m\"\u001b[39m):\n",
        "File \u001b[0;32m/databricks/spark/python/pyspark/errors/exceptions/captured.py:275\u001b[0m, in \u001b[0;36mcapture_sql_exception.<locals>.deco\u001b[0;34m(*a, **kw)\u001b[0m\n\u001b[1;32m    271\u001b[0m converted \u001b[38;5;241m=\u001b[39m convert_exception(e\u001b[38;5;241m.\u001b[39mjava_exception)\n\u001b[1;32m    272\u001b[0m \u001b[38;5;28;01mif\u001b[39;00m \u001b[38;5;129;01mnot\u001b[39;00m \u001b[38;5;28misinstance\u001b[39m(converted, UnknownException):\n\u001b[1;32m    273\u001b[0m     \u001b[38;5;66;03m# Hide where the exception came from that shows a non-Pythonic\u001b[39;00m\n\u001b[1;32m    274\u001b[0m     \u001b[38;5;66;03m# JVM exception message.\u001b[39;00m\n\u001b[0;32m--> 275\u001b[0m     \u001b[38;5;28;01mraise\u001b[39;00m converted \u001b[38;5;28;01mfrom\u001b[39;00m \u001b[38;5;28;01mNone\u001b[39;00m\n\u001b[1;32m    276\u001b[0m \u001b[38;5;28;01melse\u001b[39;00m:\n\u001b[1;32m    277\u001b[0m     \u001b[38;5;28;01mraise\u001b[39;00m\n",
        "\u001b[0;31mAnalysisException\u001b[0m: [TABLE_OR_VIEW_ALREADY_EXISTS] Cannot create table or view `salesmodeling`.`order_fact` because it already exists.\nChoose a different name, drop the existing object, add the IF NOT EXISTS clause to tolerate pre-existing objects, add the OR REPLACE clause to replace the existing materialized view, or add the OR REFRESH clause to refresh the existing streaming table. SQLSTATE: 42P07"
       ],
       "type": "baseError"
      }
     },
     "output_type": "display_data"
    }
   ],
   "source": [
    "%sql\n",
    "create table salesmodeling.order_fact\n",
    "(\n",
    "  order_id int,\n",
    "  order_date date,\n",
    "  DimCustomerKey int,\n",
    "  DimProductKey int,\n",
    "  quantity int,\n",
    "  price double,\n",
    "  order_total double\n",
    ")"
   ]
  },
  {
   "cell_type": "code",
   "execution_count": 0,
   "metadata": {
    "application/vnd.databricks.v1+cell": {
     "cellMetadata": {
      "byteLimit": 2048000,
      "implicitDf": true,
      "rowLimit": 10000
     },
     "inputWidgets": {},
     "nuid": "df08d22d-b16d-41fe-9c3f-84ac29d62faa",
     "showTitle": false,
     "tableResultSettingsMap": {
      "0": {
       "dataGridStateBlob": "{\"version\":1,\"tableState\":{\"columnPinning\":{\"left\":[\"#row_number#\"],\"right\":[]},\"columnSizing\":{},\"columnVisibility\":{}},\"settings\":{\"columns\":{}},\"syncTimestamp\":1757834874444}",
       "filterBlob": null,
       "queryPlanFiltersBlob": null,
       "tableResultIndex": 0
      }
     },
     "title": ""
    }
   },
   "outputs": [
    {
     "data": {
      "text/html": [
       "<style scoped>\n",
       "  .table-result-container {\n",
       "    max-height: 300px;\n",
       "    overflow: auto;\n",
       "  }\n",
       "  table, th, td {\n",
       "    border: 1px solid black;\n",
       "    border-collapse: collapse;\n",
       "  }\n",
       "  th, td {\n",
       "    padding: 5px;\n",
       "  }\n",
       "  th {\n",
       "    text-align: left;\n",
       "  }\n",
       "</style><div class='table-result-container'><table class='table-result'><thead style='background-color: white'><tr><th>order_id</th><th>order_date</th><th>DimCustomerKey</th><th>quantity</th><th>price</th><th>order_total</th></tr></thead><tbody><tr><td>1</td><td>2024-02-08</td><td>9</td><td>1</td><td>784.7</td><td>784.7</td></tr><tr><td>2</td><td>2023-02-07</td><td>100</td><td>3</td><td>1370.1</td><td>4110.3</td></tr><tr><td>3</td><td>2023-01-04</td><td>128</td><td>3</td><td>472.6</td><td>1417.8</td></tr><tr><td>4</td><td>2023-11-16</td><td>130</td><td>3</td><td>1532.8</td><td>4598.5</td></tr><tr><td>5</td><td>2024-12-04</td><td>34</td><td>5</td><td>226.1</td><td>1130.3</td></tr><tr><td>6</td><td>2025-01-13</td><td>79</td><td>3</td><td>231.6</td><td>694.6</td></tr><tr><td>7</td><td>2023-09-04</td><td>125</td><td>4</td><td>266.1</td><td>1064.2</td></tr><tr><td>8</td><td>2024-05-10</td><td>88</td><td>4</td><td>1161.0</td><td>4643.8</td></tr><tr><td>9</td><td>2023-06-03</td><td>39</td><td>4</td><td>655.4</td><td>2621.4</td></tr><tr><td>10</td><td>2025-04-14</td><td>121</td><td>2</td><td>1246.9</td><td>2493.8</td></tr><tr><td>11</td><td>2023-11-14</td><td>147</td><td>2</td><td>1438.5</td><td>2876.9</td></tr><tr><td>12</td><td>2023-07-13</td><td>36</td><td>4</td><td>327.5</td><td>1309.8</td></tr><tr><td>13</td><td>2024-06-06</td><td>64</td><td>4</td><td>850.3</td><td>3401.3</td></tr><tr><td>14</td><td>2023-07-11</td><td>107</td><td>4</td><td>404.9</td><td>1619.4</td></tr><tr><td>15</td><td>2024-07-03</td><td>72</td><td>1</td><td>1603.2</td><td>1603.1</td></tr><tr><td>16</td><td>2023-12-31</td><td>170</td><td>3</td><td>1825.2</td><td>5475.6</td></tr><tr><td>17</td><td>2024-04-16</td><td>1</td><td>2</td><td>1185.5</td><td>2371.0</td></tr><tr><td>18</td><td>2024-08-21</td><td>171</td><td>5</td><td>237.6</td><td>1188.1</td></tr><tr><td>19</td><td>2023-01-28</td><td>165</td><td>3</td><td>734.0</td><td>2202.1</td></tr><tr><td>20</td><td>2025-06-05</td><td>69</td><td>5</td><td>1790.2</td><td>8951.1</td></tr><tr><td>21</td><td>2024-09-21</td><td>55</td><td>2</td><td>78.2</td><td>156.4</td></tr><tr><td>22</td><td>2025-02-19</td><td>174</td><td>3</td><td>199.0</td><td>597.0</td></tr><tr><td>23</td><td>2024-09-16</td><td>61</td><td>4</td><td>1046.6</td><td>4186.2</td></tr><tr><td>24</td><td>2025-08-24</td><td>10</td><td>2</td><td>1237.9</td><td>2475.7</td></tr><tr><td>25</td><td>2023-05-27</td><td>166</td><td>4</td><td>1738.3</td><td>6953.2</td></tr><tr><td>26</td><td>2024-11-20</td><td>76</td><td>4</td><td>827.3</td><td>3309.1</td></tr><tr><td>27</td><td>2025-05-10</td><td>95</td><td>2</td><td>1728.4</td><td>3456.7</td></tr><tr><td>28</td><td>2023-12-22</td><td>114</td><td>1</td><td>1647.5</td><td>1647.4</td></tr><tr><td>29</td><td>2024-05-19</td><td>108</td><td>5</td><td>1129.4</td><td>5647.1</td></tr><tr><td>30</td><td>2023-03-04</td><td>105</td><td>4</td><td>1051.4</td><td>4205.6</td></tr><tr><td>31</td><td>2024-05-23</td><td>16</td><td>1</td><td>571.1</td><td>571.1</td></tr><tr><td>32</td><td>2023-04-13</td><td>106</td><td>3</td><td>188.1</td><td>564.3</td></tr><tr><td>33</td><td>2023-05-03</td><td>20</td><td>1</td><td>1975.3</td><td>1975.3</td></tr><tr><td>34</td><td>2024-10-19</td><td>2</td><td>4</td><td>259.7</td><td>1038.7</td></tr><tr><td>35</td><td>2023-08-11</td><td>155</td><td>2</td><td>1984.0</td><td>3968.0</td></tr><tr><td>36</td><td>2023-07-17</td><td>43</td><td>5</td><td>328.6</td><td>1642.8</td></tr><tr><td>37</td><td>2025-03-28</td><td>144</td><td>4</td><td>1091.8</td><td>4367.0</td></tr><tr><td>38</td><td>2023-09-07</td><td>94</td><td>4</td><td>1270.8</td><td>5083.3</td></tr><tr><td>39</td><td>2025-08-16</td><td>175</td><td>2</td><td>70.1</td><td>140.2</td></tr><tr><td>40</td><td>2025-09-01</td><td>138</td><td>4</td><td>1161.5</td><td>4646.0</td></tr><tr><td>41</td><td>2024-04-28</td><td>28</td><td>2</td><td>647.4</td><td>1294.7</td></tr><tr><td>42</td><td>2025-01-11</td><td>152</td><td>2</td><td>1135.0</td><td>2270.0</td></tr><tr><td>43</td><td>2024-03-23</td><td>33</td><td>5</td><td>244.2</td><td>1220.8</td></tr><tr><td>44</td><td>2025-02-19</td><td>116</td><td>4</td><td>981.9</td><td>3927.6</td></tr><tr><td>45</td><td>2025-03-15</td><td>120</td><td>2</td><td>641.3</td><td>1282.6</td></tr><tr><td>46</td><td>2024-11-08</td><td>37</td><td>2</td><td>1195.0</td><td>2389.9</td></tr><tr><td>47</td><td>2025-02-03</td><td>85</td><td>5</td><td>752.5</td><td>3762.3</td></tr><tr><td>48</td><td>2024-01-06</td><td>143</td><td>2</td><td>1026.9</td><td>2053.7</td></tr><tr><td>49</td><td>2025-05-22</td><td>49</td><td>3</td><td>643.1</td><td>1929.3</td></tr><tr><td>50</td><td>2023-04-22</td><td>4</td><td>3</td><td>94.4</td><td>283.1</td></tr><tr><td>51</td><td>2023-03-30</td><td>54</td><td>1</td><td>1423.9</td><td>1423.9</td></tr><tr><td>52</td><td>2024-07-11</td><td>90</td><td>5</td><td>1266.3</td><td>6331.7</td></tr><tr><td>53</td><td>2023-12-08</td><td>89</td><td>5</td><td>732.9</td><td>3664.5</td></tr><tr><td>54</td><td>2023-07-05</td><td>73</td><td>1</td><td>532.2</td><td>532.2</td></tr><tr><td>55</td><td>2023-07-01</td><td>44</td><td>3</td><td>1891.1</td><td>5673.1</td></tr><tr><td>56</td><td>2025-03-28</td><td>156</td><td>2</td><td>1750.2</td><td>3500.3</td></tr><tr><td>57</td><td>2023-04-11</td><td>135</td><td>3</td><td>1241.2</td><td>3723.5</td></tr><tr><td>58</td><td>2025-08-18</td><td>65</td><td>4</td><td>1404.9</td><td>5619.5</td></tr><tr><td>59</td><td>2023-01-24</td><td>149</td><td>3</td><td>966.3</td><td>2898.9</td></tr><tr><td>60</td><td>2024-09-04</td><td>140</td><td>1</td><td>1808.1</td><td>1808.0</td></tr><tr><td>61</td><td>2025-07-24</td><td>51</td><td>3</td><td>259.7</td><td>779.0</td></tr><tr><td>62</td><td>2024-11-19</td><td>104</td><td>3</td><td>1039.0</td><td>3116.9</td></tr><tr><td>63</td><td>2025-01-15</td><td>136</td><td>5</td><td>170.1</td><td>850.7</td></tr><tr><td>64</td><td>2023-11-12</td><td>117</td><td>4</td><td>970.8</td><td>3883.1</td></tr><tr><td>65</td><td>2024-08-08</td><td>26</td><td>1</td><td>438.5</td><td>438.5</td></tr><tr><td>66</td><td>2023-01-15</td><td>94</td><td>5</td><td>1110.0</td><td>5550.1</td></tr><tr><td>67</td><td>2023-08-23</td><td>8</td><td>3</td><td>387.4</td><td>1162.3</td></tr><tr><td>68</td><td>2024-10-20</td><td>131</td><td>3</td><td>1395.5</td><td>4186.4</td></tr><tr><td>69</td><td>2023-10-23</td><td>96</td><td>1</td><td>1581.3</td><td>1581.3</td></tr><tr><td>70</td><td>2024-07-29</td><td>38</td><td>4</td><td>1870.2</td><td>7480.7</td></tr><tr><td>71</td><td>2024-08-23</td><td>42</td><td>5</td><td>1388.0</td><td>6939.8</td></tr><tr><td>72</td><td>2024-10-29</td><td>137</td><td>3</td><td>165.5</td><td>496.3</td></tr><tr><td>73</td><td>2023-01-21</td><td>115</td><td>4</td><td>1713.9</td><td>6855.7</td></tr><tr><td>74</td><td>2024-11-24</td><td>35</td><td>1</td><td>1173.8</td><td>1173.8</td></tr><tr><td>75</td><td>2023-06-14</td><td>45</td><td>1</td><td>1631.7</td><td>1631.6</td></tr><tr><td>76</td><td>2024-11-20</td><td>29</td><td>3</td><td>560.7</td><td>1682.2</td></tr><tr><td>77</td><td>2025-01-23</td><td>123</td><td>4</td><td>152.1</td><td>608.5</td></tr><tr><td>78</td><td>2023-02-25</td><td>92</td><td>1</td><td>1244.9</td><td>1244.9</td></tr><tr><td>79</td><td>2024-04-15</td><td>135</td><td>1</td><td>1604.2</td><td>1604.2</td></tr><tr><td>80</td><td>2023-12-15</td><td>12</td><td>2</td><td>1734.2</td><td>3468.4</td></tr><tr><td>81</td><td>2024-05-09</td><td>77</td><td>5</td><td>726.6</td><td>3632.9</td></tr><tr><td>82</td><td>2025-05-05</td><td>8</td><td>5</td><td>1353.3</td><td>6766.5</td></tr><tr><td>83</td><td>2025-01-05</td><td>83</td><td>1</td><td>100.5</td><td>100.4</td></tr><tr><td>84</td><td>2024-02-29</td><td>46</td><td>1</td><td>1690.3</td><td>1690.3</td></tr><tr><td>85</td><td>2025-01-07</td><td>102</td><td>4</td><td>1206.0</td><td>4824.1</td></tr><tr><td>86</td><td>2025-01-20</td><td>13</td><td>1</td><td>665.5</td><td>665.5</td></tr><tr><td>87</td><td>2025-06-06</td><td>67</td><td>3</td><td>1838.8</td><td>5516.3</td></tr><tr><td>88</td><td>2025-08-13</td><td>60</td><td>5</td><td>1791.8</td><td>8959.0</td></tr><tr><td>89</td><td>2024-06-21</td><td>162</td><td>2</td><td>1948.3</td><td>3896.6</td></tr><tr><td>90</td><td>2024-09-05</td><td>59</td><td>2</td><td>156.3</td><td>312.5</td></tr><tr><td>91</td><td>2024-08-26</td><td>113</td><td>4</td><td>1883.6</td><td>7534.3</td></tr><tr><td>92</td><td>2024-03-27</td><td>50</td><td>4</td><td>436.9</td><td>1747.6</td></tr><tr><td>93</td><td>2025-03-01</td><td>5</td><td>5</td><td>1594.6</td><td>7972.7</td></tr><tr><td>94</td><td>2023-02-27</td><td>93</td><td>2</td><td>451.5</td><td>902.9</td></tr><tr><td>95</td><td>2023-06-09</td><td>47</td><td>3</td><td>971.2</td><td>2913.6</td></tr><tr><td>96</td><td>2025-03-25</td><td>78</td><td>5</td><td>1401.1</td><td>7005.3</td></tr><tr><td>97</td><td>2023-01-22</td><td>169</td><td>2</td><td>1803.5</td><td>3607.0</td></tr><tr><td>98</td><td>2024-04-04</td><td>66</td><td>5</td><td>339.0</td><td>1694.8</td></tr><tr><td>99</td><td>2023-07-26</td><td>83</td><td>4</td><td>561.5</td><td>2246.0</td></tr><tr><td>100</td><td>2025-07-04</td><td>112</td><td>3</td><td>193.5</td><td>580.5</td></tr><tr><td>101</td><td>2023-02-19</td><td>50</td><td>3</td><td>1218.7</td><td>3656.2</td></tr><tr><td>102</td><td>2023-09-09</td><td>151</td><td>1</td><td>1666.4</td><td>1666.4</td></tr><tr><td>103</td><td>2023-02-26</td><td>127</td><td>5</td><td>1022.4</td><td>5112.1</td></tr><tr><td>104</td><td>2023-06-17</td><td>10</td><td>3</td><td>547.0</td><td>1641.0</td></tr><tr><td>105</td><td>2024-06-29</td><td>150</td><td>5</td><td>478.1</td><td>2390.6</td></tr><tr><td>106</td><td>2024-08-25</td><td>81</td><td>5</td><td>1217.3</td><td>6086.5</td></tr><tr><td>107</td><td>2023-08-17</td><td>160</td><td>2</td><td>1854.4</td><td>3708.8</td></tr><tr><td>108</td><td>2024-04-11</td><td>75</td><td>2</td><td>698.2</td><td>1396.4</td></tr><tr><td>109</td><td>2025-04-09</td><td>159</td><td>5</td><td>1729.7</td><td>8648.5</td></tr><tr><td>110</td><td>2025-05-21</td><td>163</td><td>5</td><td>842.1</td><td>4210.3</td></tr><tr><td>111</td><td>2023-07-21</td><td>145</td><td>5</td><td>1818.9</td><td>9094.4</td></tr><tr><td>112</td><td>2023-06-15</td><td>70</td><td>2</td><td>1305.8</td><td>2611.5</td></tr><tr><td>113</td><td>2025-08-27</td><td>164</td><td>3</td><td>307.2</td><td>921.6</td></tr><tr><td>114</td><td>2023-07-03</td><td>141</td><td>3</td><td>1859.1</td><td>5577.3</td></tr><tr><td>115</td><td>2025-03-15</td><td>139</td><td>3</td><td>623.8</td><td>1871.4</td></tr><tr><td>116</td><td>2023-01-15</td><td>172</td><td>2</td><td>770.4</td><td>1540.8</td></tr><tr><td>117</td><td>2024-10-27</td><td>97</td><td>1</td><td>126.9</td><td>126.9</td></tr><tr><td>118</td><td>2025-01-24</td><td>167</td><td>2</td><td>308.6</td><td>617.1</td></tr><tr><td>119</td><td>2024-12-17</td><td>157</td><td>3</td><td>953.3</td><td>2859.7</td></tr><tr><td>120</td><td>2025-03-23</td><td>161</td><td>4</td><td>352.3</td><td>1409.1</td></tr><tr><td>121</td><td>2024-06-19</td><td>53</td><td>5</td><td>932.0</td><td>4659.9</td></tr><tr><td>122</td><td>2024-10-21</td><td>10</td><td>1</td><td>1202.9</td><td>1202.9</td></tr><tr><td>123</td><td>2023-11-15</td><td>148</td><td>3</td><td>219.7</td><td>659.1</td></tr><tr><td>124</td><td>2024-07-01</td><td>15</td><td>2</td><td>1521.8</td><td>3043.6</td></tr><tr><td>125</td><td>2024-03-13</td><td>30</td><td>5</td><td>309.1</td><td>1545.4</td></tr><tr><td>126</td><td>2024-06-01</td><td>87</td><td>3</td><td>664.3</td><td>1992.9</td></tr><tr><td>127</td><td>2023-04-24</td><td>31</td><td>2</td><td>524.2</td><td>1048.4</td></tr><tr><td>128</td><td>2024-07-20</td><td>133</td><td>1</td><td>1171.1</td><td>1171.1</td></tr><tr><td>129</td><td>2024-08-28</td><td>116</td><td>5</td><td>583.4</td><td>2916.8</td></tr><tr><td>130</td><td>2024-09-11</td><td>22</td><td>4</td><td>1794.6</td><td>7178.5</td></tr><tr><td>131</td><td>2023-06-17</td><td>74</td><td>2</td><td>1109.9</td><td>2219.8</td></tr><tr><td>132</td><td>2024-03-06</td><td>52</td><td>3</td><td>964.3</td><td>2892.9</td></tr><tr><td>133</td><td>2024-08-06</td><td>145</td><td>1</td><td>1133.8</td><td>1133.7</td></tr><tr><td>134</td><td>2023-11-18</td><td>31</td><td>4</td><td>121.7</td><td>486.9</td></tr><tr><td>135</td><td>2023-12-26</td><td>56</td><td>5</td><td>189.9</td><td>949.4</td></tr><tr><td>136</td><td>2025-05-12</td><td>7</td><td>4</td><td>918.1</td><td>3672.2</td></tr><tr><td>137</td><td>2023-08-30</td><td>18</td><td>5</td><td>693.9</td><td>3469.4</td></tr><tr><td>138</td><td>2025-07-23</td><td>103</td><td>1</td><td>671.9</td><td>671.9</td></tr><tr><td>139</td><td>2025-01-19</td><td>173</td><td>5</td><td>1511.4</td><td>7556.8</td></tr><tr><td>140</td><td>2024-01-28</td><td>47</td><td>2</td><td>1561.6</td><td>3123.1</td></tr><tr><td>141</td><td>2024-05-30</td><td>91</td><td>2</td><td>692.8</td><td>1385.5</td></tr><tr><td>142</td><td>2024-11-16</td><td>17</td><td>5</td><td>926.8</td><td>4634.1</td></tr><tr><td>143</td><td>2023-09-02</td><td>132</td><td>5</td><td>605.4</td><td>3027.0</td></tr><tr><td>144</td><td>2025-01-19</td><td>24</td><td>1</td><td>387.0</td><td>386.9</td></tr><tr><td>145</td><td>2024-07-18</td><td>134</td><td>5</td><td>1267.3</td><td>6336.3</td></tr><tr><td>146</td><td>2024-12-20</td><td>110</td><td>1</td><td>416.5</td><td>416.5</td></tr><tr><td>147</td><td>2023-02-05</td><td>167</td><td>2</td><td>864.9</td><td>1729.8</td></tr><tr><td>148</td><td>2023-11-23</td><td>40</td><td>2</td><td>1032.5</td><td>2065.0</td></tr><tr><td>149</td><td>2023-08-26</td><td>27</td><td>1</td><td>777.8</td><td>777.8</td></tr><tr><td>150</td><td>2024-03-08</td><td>121</td><td>4</td><td>1547.3</td><td>6189.3</td></tr><tr><td>151</td><td>2024-12-24</td><td>82</td><td>3</td><td>1242.0</td><td>3726.1</td></tr><tr><td>152</td><td>2023-01-30</td><td>122</td><td>5</td><td>1572.9</td><td>7864.2</td></tr><tr><td>153</td><td>2023-01-20</td><td>124</td><td>4</td><td>1199.4</td><td>4797.6</td></tr><tr><td>154</td><td>2025-08-05</td><td>32</td><td>2</td><td>1272.0</td><td>2544.0</td></tr><tr><td>155</td><td>2024-07-20</td><td>72</td><td>3</td><td>1990.6</td><td>5971.8</td></tr><tr><td>156</td><td>2023-11-08</td><td>153</td><td>4</td><td>1511.3</td><td>6045.0</td></tr><tr><td>157</td><td>2024-06-24</td><td>126</td><td>4</td><td>1068.9</td><td>4275.5</td></tr><tr><td>158</td><td>2024-06-16</td><td>68</td><td>2</td><td>1836.1</td><td>3672.2</td></tr><tr><td>159</td><td>2023-01-28</td><td>25</td><td>2</td><td>836.7</td><td>1673.3</td></tr><tr><td>160</td><td>2023-02-20</td><td>62</td><td>2</td><td>1036.8</td><td>2073.6</td></tr><tr><td>161</td><td>2023-10-24</td><td>99</td><td>4</td><td>210.8</td><td>843.3</td></tr><tr><td>162</td><td>2024-11-04</td><td>166</td><td>5</td><td>1068.2</td><td>5340.7</td></tr><tr><td>163</td><td>2023-12-29</td><td>14</td><td>3</td><td>1898.4</td><td>5695.2</td></tr><tr><td>164</td><td>2025-02-04</td><td>48</td><td>3</td><td>921.7</td><td>2764.9</td></tr><tr><td>165</td><td>2023-05-19</td><td>168</td><td>2</td><td>1346.1</td><td>2692.1</td></tr><tr><td>166</td><td>2024-03-30</td><td>28</td><td>4</td><td>309.5</td><td>1238.1</td></tr><tr><td>167</td><td>2025-03-20</td><td>71</td><td>2</td><td>474.8</td><td>949.5</td></tr><tr><td>168</td><td>2024-06-03</td><td>41</td><td>3</td><td>1429.8</td><td>4289.3</td></tr><tr><td>169</td><td>2025-05-01</td><td>158</td><td>2</td><td>1338.8</td><td>2677.6</td></tr><tr><td>170</td><td>2023-11-18</td><td>23</td><td>2</td><td>1569.8</td><td>3139.6</td></tr><tr><td>171</td><td>2023-07-31</td><td>101</td><td>5</td><td>276.9</td><td>1384.6</td></tr><tr><td>172</td><td>2024-10-22</td><td>172</td><td>3</td><td>915.8</td><td>2747.3</td></tr><tr><td>173</td><td>2024-07-30</td><td>76</td><td>3</td><td>991.6</td><td>2974.8</td></tr><tr><td>174</td><td>2023-02-12</td><td>132</td><td>2</td><td>632.1</td><td>1264.2</td></tr><tr><td>175</td><td>2024-09-17</td><td>118</td><td>2</td><td>536.9</td><td>1073.7</td></tr><tr><td>176</td><td>2023-06-25</td><td>57</td><td>1</td><td>728.5</td><td>728.4</td></tr><tr><td>177</td><td>2024-04-19</td><td>86</td><td>3</td><td>1723.5</td><td>5170.4</td></tr><tr><td>178</td><td>2025-04-09</td><td>63</td><td>5</td><td>1870.7</td><td>9353.2</td></tr><tr><td>179</td><td>2023-03-07</td><td>45</td><td>2</td><td>1932.6</td><td>3865.1</td></tr><tr><td>180</td><td>2024-09-09</td><td>109</td><td>3</td><td>1378.7</td><td>4136.1</td></tr><tr><td>181</td><td>2024-01-19</td><td>97</td><td>4</td><td>851.3</td><td>3405.3</td></tr><tr><td>182</td><td>2024-12-20</td><td>80</td><td>1</td><td>817.1</td><td>817.0</td></tr><tr><td>183</td><td>2024-12-29</td><td>154</td><td>2</td><td>329.3</td><td>658.6</td></tr><tr><td>184</td><td>2024-03-06</td><td>57</td><td>4</td><td>239.7</td><td>958.6</td></tr><tr><td>185</td><td>2024-05-02</td><td>11</td><td>4</td><td>1209.7</td><td>4838.6</td></tr><tr><td>186</td><td>2024-01-13</td><td>111</td><td>4</td><td>216.5</td><td>865.8</td></tr><tr><td>187</td><td>2024-11-06</td><td>146</td><td>5</td><td>1767.7</td><td>8838.5</td></tr><tr><td>188</td><td>2025-04-13</td><td>38</td><td>5</td><td>1932.7</td><td>9663.4</td></tr><tr><td>189</td><td>2024-11-19</td><td>21</td><td>4</td><td>1963.7</td><td>7854.8</td></tr><tr><td>190</td><td>2025-01-08</td><td>129</td><td>1</td><td>1716.6</td><td>1716.5</td></tr><tr><td>191</td><td>2023-12-21</td><td>1</td><td>3</td><td>85.3</td><td>255.9</td></tr><tr><td>192</td><td>2025-02-28</td><td>142</td><td>5</td><td>794.1</td><td>3970.3</td></tr><tr><td>193</td><td>2024-01-25</td><td>157</td><td>3</td><td>1012.9</td><td>3038.6</td></tr><tr><td>194</td><td>2025-01-03</td><td>84</td><td>3</td><td>728.6</td><td>2185.8</td></tr><tr><td>195</td><td>2024-06-19</td><td>6</td><td>2</td><td>1141.2</td><td>2282.3</td></tr><tr><td>196</td><td>2023-01-18</td><td>58</td><td>3</td><td>1578.3</td><td>4734.7</td></tr><tr><td>197</td><td>2023-09-10</td><td>119</td><td>3</td><td>339.8</td><td>1019.4</td></tr><tr><td>198</td><td>2023-11-12</td><td>98</td><td>3</td><td>1252.9</td><td>3758.6</td></tr><tr><td>199</td><td>2023-06-05</td><td>3</td><td>5</td><td>541.0</td><td>2705.2</td></tr><tr><td>200</td><td>2025-06-19</td><td>19</td><td>2</td><td>1074.4</td><td>2148.7</td></tr></tbody></table></div>"
      ]
     },
     "metadata": {
      "application/vnd.databricks.v1+output": {
       "addedWidgets": {},
       "aggData": [],
       "aggError": "",
       "aggOverflow": false,
       "aggSchema": [],
       "aggSeriesLimitReached": false,
       "aggType": "",
       "arguments": {},
       "columnCustomDisplayInfos": {},
       "data": [
        [
         1,
         "2024-02-08",
         9,
         1,
         "784.7",
         "784.7"
        ],
        [
         2,
         "2023-02-07",
         100,
         3,
         "1370.1",
         "4110.3"
        ],
        [
         3,
         "2023-01-04",
         128,
         3,
         "472.6",
         "1417.8"
        ],
        [
         4,
         "2023-11-16",
         130,
         3,
         "1532.8",
         "4598.5"
        ],
        [
         5,
         "2024-12-04",
         34,
         5,
         "226.1",
         "1130.3"
        ],
        [
         6,
         "2025-01-13",
         79,
         3,
         "231.6",
         "694.6"
        ],
        [
         7,
         "2023-09-04",
         125,
         4,
         "266.1",
         "1064.2"
        ],
        [
         8,
         "2024-05-10",
         88,
         4,
         "1161.0",
         "4643.8"
        ],
        [
         9,
         "2023-06-03",
         39,
         4,
         "655.4",
         "2621.4"
        ],
        [
         10,
         "2025-04-14",
         121,
         2,
         "1246.9",
         "2493.8"
        ],
        [
         11,
         "2023-11-14",
         147,
         2,
         "1438.5",
         "2876.9"
        ],
        [
         12,
         "2023-07-13",
         36,
         4,
         "327.5",
         "1309.8"
        ],
        [
         13,
         "2024-06-06",
         64,
         4,
         "850.3",
         "3401.3"
        ],
        [
         14,
         "2023-07-11",
         107,
         4,
         "404.9",
         "1619.4"
        ],
        [
         15,
         "2024-07-03",
         72,
         1,
         "1603.2",
         "1603.1"
        ],
        [
         16,
         "2023-12-31",
         170,
         3,
         "1825.2",
         "5475.6"
        ],
        [
         17,
         "2024-04-16",
         1,
         2,
         "1185.5",
         "2371.0"
        ],
        [
         18,
         "2024-08-21",
         171,
         5,
         "237.6",
         "1188.1"
        ],
        [
         19,
         "2023-01-28",
         165,
         3,
         "734.0",
         "2202.1"
        ],
        [
         20,
         "2025-06-05",
         69,
         5,
         "1790.2",
         "8951.1"
        ],
        [
         21,
         "2024-09-21",
         55,
         2,
         "78.2",
         "156.4"
        ],
        [
         22,
         "2025-02-19",
         174,
         3,
         "199.0",
         "597.0"
        ],
        [
         23,
         "2024-09-16",
         61,
         4,
         "1046.6",
         "4186.2"
        ],
        [
         24,
         "2025-08-24",
         10,
         2,
         "1237.9",
         "2475.7"
        ],
        [
         25,
         "2023-05-27",
         166,
         4,
         "1738.3",
         "6953.2"
        ],
        [
         26,
         "2024-11-20",
         76,
         4,
         "827.3",
         "3309.1"
        ],
        [
         27,
         "2025-05-10",
         95,
         2,
         "1728.4",
         "3456.7"
        ],
        [
         28,
         "2023-12-22",
         114,
         1,
         "1647.5",
         "1647.4"
        ],
        [
         29,
         "2024-05-19",
         108,
         5,
         "1129.4",
         "5647.1"
        ],
        [
         30,
         "2023-03-04",
         105,
         4,
         "1051.4",
         "4205.6"
        ],
        [
         31,
         "2024-05-23",
         16,
         1,
         "571.1",
         "571.1"
        ],
        [
         32,
         "2023-04-13",
         106,
         3,
         "188.1",
         "564.3"
        ],
        [
         33,
         "2023-05-03",
         20,
         1,
         "1975.3",
         "1975.3"
        ],
        [
         34,
         "2024-10-19",
         2,
         4,
         "259.7",
         "1038.7"
        ],
        [
         35,
         "2023-08-11",
         155,
         2,
         "1984.0",
         "3968.0"
        ],
        [
         36,
         "2023-07-17",
         43,
         5,
         "328.6",
         "1642.8"
        ],
        [
         37,
         "2025-03-28",
         144,
         4,
         "1091.8",
         "4367.0"
        ],
        [
         38,
         "2023-09-07",
         94,
         4,
         "1270.8",
         "5083.3"
        ],
        [
         39,
         "2025-08-16",
         175,
         2,
         "70.1",
         "140.2"
        ],
        [
         40,
         "2025-09-01",
         138,
         4,
         "1161.5",
         "4646.0"
        ],
        [
         41,
         "2024-04-28",
         28,
         2,
         "647.4",
         "1294.7"
        ],
        [
         42,
         "2025-01-11",
         152,
         2,
         "1135.0",
         "2270.0"
        ],
        [
         43,
         "2024-03-23",
         33,
         5,
         "244.2",
         "1220.8"
        ],
        [
         44,
         "2025-02-19",
         116,
         4,
         "981.9",
         "3927.6"
        ],
        [
         45,
         "2025-03-15",
         120,
         2,
         "641.3",
         "1282.6"
        ],
        [
         46,
         "2024-11-08",
         37,
         2,
         "1195.0",
         "2389.9"
        ],
        [
         47,
         "2025-02-03",
         85,
         5,
         "752.5",
         "3762.3"
        ],
        [
         48,
         "2024-01-06",
         143,
         2,
         "1026.9",
         "2053.7"
        ],
        [
         49,
         "2025-05-22",
         49,
         3,
         "643.1",
         "1929.3"
        ],
        [
         50,
         "2023-04-22",
         4,
         3,
         "94.4",
         "283.1"
        ],
        [
         51,
         "2023-03-30",
         54,
         1,
         "1423.9",
         "1423.9"
        ],
        [
         52,
         "2024-07-11",
         90,
         5,
         "1266.3",
         "6331.7"
        ],
        [
         53,
         "2023-12-08",
         89,
         5,
         "732.9",
         "3664.5"
        ],
        [
         54,
         "2023-07-05",
         73,
         1,
         "532.2",
         "532.2"
        ],
        [
         55,
         "2023-07-01",
         44,
         3,
         "1891.1",
         "5673.1"
        ],
        [
         56,
         "2025-03-28",
         156,
         2,
         "1750.2",
         "3500.3"
        ],
        [
         57,
         "2023-04-11",
         135,
         3,
         "1241.2",
         "3723.5"
        ],
        [
         58,
         "2025-08-18",
         65,
         4,
         "1404.9",
         "5619.5"
        ],
        [
         59,
         "2023-01-24",
         149,
         3,
         "966.3",
         "2898.9"
        ],
        [
         60,
         "2024-09-04",
         140,
         1,
         "1808.1",
         "1808.0"
        ],
        [
         61,
         "2025-07-24",
         51,
         3,
         "259.7",
         "779.0"
        ],
        [
         62,
         "2024-11-19",
         104,
         3,
         "1039.0",
         "3116.9"
        ],
        [
         63,
         "2025-01-15",
         136,
         5,
         "170.1",
         "850.7"
        ],
        [
         64,
         "2023-11-12",
         117,
         4,
         "970.8",
         "3883.1"
        ],
        [
         65,
         "2024-08-08",
         26,
         1,
         "438.5",
         "438.5"
        ],
        [
         66,
         "2023-01-15",
         94,
         5,
         "1110.0",
         "5550.1"
        ],
        [
         67,
         "2023-08-23",
         8,
         3,
         "387.4",
         "1162.3"
        ],
        [
         68,
         "2024-10-20",
         131,
         3,
         "1395.5",
         "4186.4"
        ],
        [
         69,
         "2023-10-23",
         96,
         1,
         "1581.3",
         "1581.3"
        ],
        [
         70,
         "2024-07-29",
         38,
         4,
         "1870.2",
         "7480.7"
        ],
        [
         71,
         "2024-08-23",
         42,
         5,
         "1388.0",
         "6939.8"
        ],
        [
         72,
         "2024-10-29",
         137,
         3,
         "165.5",
         "496.3"
        ],
        [
         73,
         "2023-01-21",
         115,
         4,
         "1713.9",
         "6855.7"
        ],
        [
         74,
         "2024-11-24",
         35,
         1,
         "1173.8",
         "1173.8"
        ],
        [
         75,
         "2023-06-14",
         45,
         1,
         "1631.7",
         "1631.6"
        ],
        [
         76,
         "2024-11-20",
         29,
         3,
         "560.7",
         "1682.2"
        ],
        [
         77,
         "2025-01-23",
         123,
         4,
         "152.1",
         "608.5"
        ],
        [
         78,
         "2023-02-25",
         92,
         1,
         "1244.9",
         "1244.9"
        ],
        [
         79,
         "2024-04-15",
         135,
         1,
         "1604.2",
         "1604.2"
        ],
        [
         80,
         "2023-12-15",
         12,
         2,
         "1734.2",
         "3468.4"
        ],
        [
         81,
         "2024-05-09",
         77,
         5,
         "726.6",
         "3632.9"
        ],
        [
         82,
         "2025-05-05",
         8,
         5,
         "1353.3",
         "6766.5"
        ],
        [
         83,
         "2025-01-05",
         83,
         1,
         "100.5",
         "100.4"
        ],
        [
         84,
         "2024-02-29",
         46,
         1,
         "1690.3",
         "1690.3"
        ],
        [
         85,
         "2025-01-07",
         102,
         4,
         "1206.0",
         "4824.1"
        ],
        [
         86,
         "2025-01-20",
         13,
         1,
         "665.5",
         "665.5"
        ],
        [
         87,
         "2025-06-06",
         67,
         3,
         "1838.8",
         "5516.3"
        ],
        [
         88,
         "2025-08-13",
         60,
         5,
         "1791.8",
         "8959.0"
        ],
        [
         89,
         "2024-06-21",
         162,
         2,
         "1948.3",
         "3896.6"
        ],
        [
         90,
         "2024-09-05",
         59,
         2,
         "156.3",
         "312.5"
        ],
        [
         91,
         "2024-08-26",
         113,
         4,
         "1883.6",
         "7534.3"
        ],
        [
         92,
         "2024-03-27",
         50,
         4,
         "436.9",
         "1747.6"
        ],
        [
         93,
         "2025-03-01",
         5,
         5,
         "1594.6",
         "7972.7"
        ],
        [
         94,
         "2023-02-27",
         93,
         2,
         "451.5",
         "902.9"
        ],
        [
         95,
         "2023-06-09",
         47,
         3,
         "971.2",
         "2913.6"
        ],
        [
         96,
         "2025-03-25",
         78,
         5,
         "1401.1",
         "7005.3"
        ],
        [
         97,
         "2023-01-22",
         169,
         2,
         "1803.5",
         "3607.0"
        ],
        [
         98,
         "2024-04-04",
         66,
         5,
         "339.0",
         "1694.8"
        ],
        [
         99,
         "2023-07-26",
         83,
         4,
         "561.5",
         "2246.0"
        ],
        [
         100,
         "2025-07-04",
         112,
         3,
         "193.5",
         "580.5"
        ],
        [
         101,
         "2023-02-19",
         50,
         3,
         "1218.7",
         "3656.2"
        ],
        [
         102,
         "2023-09-09",
         151,
         1,
         "1666.4",
         "1666.4"
        ],
        [
         103,
         "2023-02-26",
         127,
         5,
         "1022.4",
         "5112.1"
        ],
        [
         104,
         "2023-06-17",
         10,
         3,
         "547.0",
         "1641.0"
        ],
        [
         105,
         "2024-06-29",
         150,
         5,
         "478.1",
         "2390.6"
        ],
        [
         106,
         "2024-08-25",
         81,
         5,
         "1217.3",
         "6086.5"
        ],
        [
         107,
         "2023-08-17",
         160,
         2,
         "1854.4",
         "3708.8"
        ],
        [
         108,
         "2024-04-11",
         75,
         2,
         "698.2",
         "1396.4"
        ],
        [
         109,
         "2025-04-09",
         159,
         5,
         "1729.7",
         "8648.5"
        ],
        [
         110,
         "2025-05-21",
         163,
         5,
         "842.1",
         "4210.3"
        ],
        [
         111,
         "2023-07-21",
         145,
         5,
         "1818.9",
         "9094.4"
        ],
        [
         112,
         "2023-06-15",
         70,
         2,
         "1305.8",
         "2611.5"
        ],
        [
         113,
         "2025-08-27",
         164,
         3,
         "307.2",
         "921.6"
        ],
        [
         114,
         "2023-07-03",
         141,
         3,
         "1859.1",
         "5577.3"
        ],
        [
         115,
         "2025-03-15",
         139,
         3,
         "623.8",
         "1871.4"
        ],
        [
         116,
         "2023-01-15",
         172,
         2,
         "770.4",
         "1540.8"
        ],
        [
         117,
         "2024-10-27",
         97,
         1,
         "126.9",
         "126.9"
        ],
        [
         118,
         "2025-01-24",
         167,
         2,
         "308.6",
         "617.1"
        ],
        [
         119,
         "2024-12-17",
         157,
         3,
         "953.3",
         "2859.7"
        ],
        [
         120,
         "2025-03-23",
         161,
         4,
         "352.3",
         "1409.1"
        ],
        [
         121,
         "2024-06-19",
         53,
         5,
         "932.0",
         "4659.9"
        ],
        [
         122,
         "2024-10-21",
         10,
         1,
         "1202.9",
         "1202.9"
        ],
        [
         123,
         "2023-11-15",
         148,
         3,
         "219.7",
         "659.1"
        ],
        [
         124,
         "2024-07-01",
         15,
         2,
         "1521.8",
         "3043.6"
        ],
        [
         125,
         "2024-03-13",
         30,
         5,
         "309.1",
         "1545.4"
        ],
        [
         126,
         "2024-06-01",
         87,
         3,
         "664.3",
         "1992.9"
        ],
        [
         127,
         "2023-04-24",
         31,
         2,
         "524.2",
         "1048.4"
        ],
        [
         128,
         "2024-07-20",
         133,
         1,
         "1171.1",
         "1171.1"
        ],
        [
         129,
         "2024-08-28",
         116,
         5,
         "583.4",
         "2916.8"
        ],
        [
         130,
         "2024-09-11",
         22,
         4,
         "1794.6",
         "7178.5"
        ],
        [
         131,
         "2023-06-17",
         74,
         2,
         "1109.9",
         "2219.8"
        ],
        [
         132,
         "2024-03-06",
         52,
         3,
         "964.3",
         "2892.9"
        ],
        [
         133,
         "2024-08-06",
         145,
         1,
         "1133.8",
         "1133.7"
        ],
        [
         134,
         "2023-11-18",
         31,
         4,
         "121.7",
         "486.9"
        ],
        [
         135,
         "2023-12-26",
         56,
         5,
         "189.9",
         "949.4"
        ],
        [
         136,
         "2025-05-12",
         7,
         4,
         "918.1",
         "3672.2"
        ],
        [
         137,
         "2023-08-30",
         18,
         5,
         "693.9",
         "3469.4"
        ],
        [
         138,
         "2025-07-23",
         103,
         1,
         "671.9",
         "671.9"
        ],
        [
         139,
         "2025-01-19",
         173,
         5,
         "1511.4",
         "7556.8"
        ],
        [
         140,
         "2024-01-28",
         47,
         2,
         "1561.6",
         "3123.1"
        ],
        [
         141,
         "2024-05-30",
         91,
         2,
         "692.8",
         "1385.5"
        ],
        [
         142,
         "2024-11-16",
         17,
         5,
         "926.8",
         "4634.1"
        ],
        [
         143,
         "2023-09-02",
         132,
         5,
         "605.4",
         "3027.0"
        ],
        [
         144,
         "2025-01-19",
         24,
         1,
         "387.0",
         "386.9"
        ],
        [
         145,
         "2024-07-18",
         134,
         5,
         "1267.3",
         "6336.3"
        ],
        [
         146,
         "2024-12-20",
         110,
         1,
         "416.5",
         "416.5"
        ],
        [
         147,
         "2023-02-05",
         167,
         2,
         "864.9",
         "1729.8"
        ],
        [
         148,
         "2023-11-23",
         40,
         2,
         "1032.5",
         "2065.0"
        ],
        [
         149,
         "2023-08-26",
         27,
         1,
         "777.8",
         "777.8"
        ],
        [
         150,
         "2024-03-08",
         121,
         4,
         "1547.3",
         "6189.3"
        ],
        [
         151,
         "2024-12-24",
         82,
         3,
         "1242.0",
         "3726.1"
        ],
        [
         152,
         "2023-01-30",
         122,
         5,
         "1572.9",
         "7864.2"
        ],
        [
         153,
         "2023-01-20",
         124,
         4,
         "1199.4",
         "4797.6"
        ],
        [
         154,
         "2025-08-05",
         32,
         2,
         "1272.0",
         "2544.0"
        ],
        [
         155,
         "2024-07-20",
         72,
         3,
         "1990.6",
         "5971.8"
        ],
        [
         156,
         "2023-11-08",
         153,
         4,
         "1511.3",
         "6045.0"
        ],
        [
         157,
         "2024-06-24",
         126,
         4,
         "1068.9",
         "4275.5"
        ],
        [
         158,
         "2024-06-16",
         68,
         2,
         "1836.1",
         "3672.2"
        ],
        [
         159,
         "2023-01-28",
         25,
         2,
         "836.7",
         "1673.3"
        ],
        [
         160,
         "2023-02-20",
         62,
         2,
         "1036.8",
         "2073.6"
        ],
        [
         161,
         "2023-10-24",
         99,
         4,
         "210.8",
         "843.3"
        ],
        [
         162,
         "2024-11-04",
         166,
         5,
         "1068.2",
         "5340.7"
        ],
        [
         163,
         "2023-12-29",
         14,
         3,
         "1898.4",
         "5695.2"
        ],
        [
         164,
         "2025-02-04",
         48,
         3,
         "921.7",
         "2764.9"
        ],
        [
         165,
         "2023-05-19",
         168,
         2,
         "1346.1",
         "2692.1"
        ],
        [
         166,
         "2024-03-30",
         28,
         4,
         "309.5",
         "1238.1"
        ],
        [
         167,
         "2025-03-20",
         71,
         2,
         "474.8",
         "949.5"
        ],
        [
         168,
         "2024-06-03",
         41,
         3,
         "1429.8",
         "4289.3"
        ],
        [
         169,
         "2025-05-01",
         158,
         2,
         "1338.8",
         "2677.6"
        ],
        [
         170,
         "2023-11-18",
         23,
         2,
         "1569.8",
         "3139.6"
        ],
        [
         171,
         "2023-07-31",
         101,
         5,
         "276.9",
         "1384.6"
        ],
        [
         172,
         "2024-10-22",
         172,
         3,
         "915.8",
         "2747.3"
        ],
        [
         173,
         "2024-07-30",
         76,
         3,
         "991.6",
         "2974.8"
        ],
        [
         174,
         "2023-02-12",
         132,
         2,
         "632.1",
         "1264.2"
        ],
        [
         175,
         "2024-09-17",
         118,
         2,
         "536.9",
         "1073.7"
        ],
        [
         176,
         "2023-06-25",
         57,
         1,
         "728.5",
         "728.4"
        ],
        [
         177,
         "2024-04-19",
         86,
         3,
         "1723.5",
         "5170.4"
        ],
        [
         178,
         "2025-04-09",
         63,
         5,
         "1870.7",
         "9353.2"
        ],
        [
         179,
         "2023-03-07",
         45,
         2,
         "1932.6",
         "3865.1"
        ],
        [
         180,
         "2024-09-09",
         109,
         3,
         "1378.7",
         "4136.1"
        ],
        [
         181,
         "2024-01-19",
         97,
         4,
         "851.3",
         "3405.3"
        ],
        [
         182,
         "2024-12-20",
         80,
         1,
         "817.1",
         "817.0"
        ],
        [
         183,
         "2024-12-29",
         154,
         2,
         "329.3",
         "658.6"
        ],
        [
         184,
         "2024-03-06",
         57,
         4,
         "239.7",
         "958.6"
        ],
        [
         185,
         "2024-05-02",
         11,
         4,
         "1209.7",
         "4838.6"
        ],
        [
         186,
         "2024-01-13",
         111,
         4,
         "216.5",
         "865.8"
        ],
        [
         187,
         "2024-11-06",
         146,
         5,
         "1767.7",
         "8838.5"
        ],
        [
         188,
         "2025-04-13",
         38,
         5,
         "1932.7",
         "9663.4"
        ],
        [
         189,
         "2024-11-19",
         21,
         4,
         "1963.7",
         "7854.8"
        ],
        [
         190,
         "2025-01-08",
         129,
         1,
         "1716.6",
         "1716.5"
        ],
        [
         191,
         "2023-12-21",
         1,
         3,
         "85.3",
         "255.9"
        ],
        [
         192,
         "2025-02-28",
         142,
         5,
         "794.1",
         "3970.3"
        ],
        [
         193,
         "2024-01-25",
         157,
         3,
         "1012.9",
         "3038.6"
        ],
        [
         194,
         "2025-01-03",
         84,
         3,
         "728.6",
         "2185.8"
        ],
        [
         195,
         "2024-06-19",
         6,
         2,
         "1141.2",
         "2282.3"
        ],
        [
         196,
         "2023-01-18",
         58,
         3,
         "1578.3",
         "4734.7"
        ],
        [
         197,
         "2023-09-10",
         119,
         3,
         "339.8",
         "1019.4"
        ],
        [
         198,
         "2023-11-12",
         98,
         3,
         "1252.9",
         "3758.6"
        ],
        [
         199,
         "2023-06-05",
         3,
         5,
         "541.0",
         "2705.2"
        ],
        [
         200,
         "2025-06-19",
         19,
         2,
         "1074.4",
         "2148.7"
        ]
       ],
       "datasetInfos": [
        {
         "name": "_sqldf",
         "schema": {
          "fields": [
           {
            "metadata": {},
            "name": "order_id",
            "nullable": true,
            "type": "integer"
           },
           {
            "metadata": {},
            "name": "order_date",
            "nullable": true,
            "type": "date"
           },
           {
            "metadata": {},
            "name": "DimCustomerKey",
            "nullable": true,
            "type": "integer"
           },
           {
            "metadata": {},
            "name": "quantity",
            "nullable": true,
            "type": "integer"
           },
           {
            "metadata": {},
            "name": "price",
            "nullable": true,
            "type": "decimal(10,1)"
           },
           {
            "metadata": {},
            "name": "order_total",
            "nullable": true,
            "type": "decimal(11,1)"
           }
          ],
          "type": "struct"
         },
         "tableIdentifier": null,
         "typeStr": "pyspark.sql.dataframe.DataFrame"
        }
       ],
       "dbfsResultPath": null,
       "isJsonSchema": true,
       "metadata": {
        "createTempViewForImplicitDf": true,
        "dataframeName": "_sqldf",
        "executionCount": 50
       },
       "overflow": false,
       "plotOptions": {
        "customPlotOptions": {},
        "displayType": "table",
        "pivotAggregation": null,
        "pivotColumns": null,
        "xColumns": null,
        "yColumns": null
       },
       "removedWidgets": [],
       "schema": [
        {
         "metadata": "{}",
         "name": "order_id",
         "type": "\"integer\""
        },
        {
         "metadata": "{}",
         "name": "order_date",
         "type": "\"date\""
        },
        {
         "metadata": "{}",
         "name": "DimCustomerKey",
         "type": "\"integer\""
        },
        {
         "metadata": "{}",
         "name": "quantity",
         "type": "\"integer\""
        },
        {
         "metadata": "{}",
         "name": "price",
         "type": "\"decimal(10,1)\""
        },
        {
         "metadata": "{}",
         "name": "order_total",
         "type": "\"decimal(11,1)\""
        }
       ],
       "type": "table"
      }
     },
     "output_type": "display_data"
    }
   ],
   "source": [
    "%sql\n",
    "select T.order_id,T.order_date,C.DimCustomerKey,T.quantity,T.price,T.order_total \n",
    "from salesdwh.core_sales T\n",
    "left join salesmodeling.customer_dim C\n",
    "on T.order_customer_id=C.customer_id and T.customer_name=C.customer_name\n",
    "left join salesmodeling.product_dim P\n",
    "on T.product_id=P.product_id and T.product_name=P.product_name\n"
   ]
  }
 ],
 "metadata": {
  "application/vnd.databricks.v1+notebook": {
   "computePreferences": null,
   "dashboards": [],
   "environmentMetadata": {
    "base_environment": "",
    "environment_version": "3"
   },
   "inputWidgetPreferences": null,
   "language": "python",
   "notebookMetadata": {
    "mostRecentlyExecutedCommandWithImplicitDF": {
     "commandId": 9005717051283484,
     "dataframes": [
      "_sqldf"
     ]
    },
    "pythonIndentUnit": 4
   },
   "notebookName": "Data warhosuing",
   "widgets": {}
  },
  "language_info": {
   "name": "python"
  }
 },
 "nbformat": 4,
 "nbformat_minor": 0
}
